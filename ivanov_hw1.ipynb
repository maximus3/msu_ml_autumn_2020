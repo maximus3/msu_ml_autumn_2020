{
  "nbformat": 4,
  "nbformat_minor": 0,
  "metadata": {
    "kernelspec": {
      "name": "python3",
      "display_name": "Python 3"
    },
    "colab": {
      "name": "ivanov_hw1.ipynb",
      "provenance": [],
      "collapsed_sections": []
    }
  },
  "cells": [
    {
      "cell_type": "markdown",
      "metadata": {
        "id": "wIMhq6x4W_Vj"
      },
      "source": [
        "**Общая информация**\n",
        "\n",
        "**Срок сдачи:** 21 октября 2020, 08:30 \n",
        "\n",
        "**Штраф за опоздание:** по 1 баллу за 24 часа задержки. Через 5 дней домашнее задание сгорает.\n",
        "\n",
        "При отправлении ДЗ указывайте фамилию в названии файла\n",
        "Присылать ДЗ необходимо в виде ссылки на свой github репозиторий на почту ml1.sphere@mail.ru с указанием темы в следующем формате:\n",
        "\n",
        "[ML0920, Задание 1] Фамилия Имя.\n",
        "\n",
        "Используйте данный Ipython Notebook при оформлении домашнего задания."
      ]
    },
    {
      "cell_type": "markdown",
      "metadata": {
        "id": "iw7TIq8MW_Vk"
      },
      "source": [
        "\n",
        "**Штрафные баллы:**\n",
        "\n",
        "1. Отсутствие фамилии в имени скрипта (скрипт должен называться по аналогии со stroykova_hw1.ipynb) -0.5 баллов\n",
        "2. Все строчки должны быть выполнены. Нужно, чтобы output команды можно было увидеть уже в git'е. В противном случае -0.5 баллов\n"
      ]
    },
    {
      "cell_type": "code",
      "metadata": {
        "id": "_3u8qKvfW_Vl"
      },
      "source": [
        "import numpy as np\n",
        "import matplotlib.pyplot as plt\n",
        "\n",
        "import seaborn as sns\n",
        "from sklearn import datasets\n",
        "from sklearn.base import BaseEstimator\n",
        "from sklearn.datasets import fetch_20newsgroups\n",
        "\n",
        "from sklearn.model_selection import KFold\n",
        "from sklearn.model_selection import train_test_split\n",
        "from sklearn.neighbors import KNeighborsClassifier\n",
        "from sklearn.metrics import accuracy_score, pairwise_distances\n",
        "from sklearn.feature_extraction.text import CountVectorizer, TfidfVectorizer\n",
        "\n",
        "from scipy.spatial import distance\n",
        "from sklearn.neighbors import KDTree"
      ],
      "execution_count": 1,
      "outputs": []
    },
    {
      "cell_type": "markdown",
      "metadata": {
        "id": "pQ-vHCivz7Vn"
      },
      "source": [
        "#####**Мой класс и функции**\n"
      ]
    },
    {
      "cell_type": "code",
      "metadata": {
        "id": "PR7MpmgLW_Vq"
      },
      "source": [
        "class MyKNeighborsClassifier(BaseEstimator):\n",
        "    \n",
        "    def __init__(self, n_neighbors, algorithm='brute', metric='euclidean', standartisation=False):\n",
        "        self.n_neighbors = n_neighbors\n",
        "        self.algorithm = algorithm\n",
        "        self.metric = metric\n",
        "        self.standartisation = standartisation\n",
        "\n",
        "    def make_distance_matrix(self, X):\n",
        "        return pairwise_distances(X, self.X_train, self.metric)\n",
        "\n",
        "    def make_standartisation(self, X):\n",
        "        return (X - X.mean()) / X.std()\n",
        "\n",
        "    def brute(self, X):\n",
        "        distance_matrix = self.make_distance_matrix(X)\n",
        "        indices = np.argpartition(distance_matrix, self.n_neighbors)[:,:self.n_neighbors]\n",
        "        k_smallest_indices = np.take_along_axis(indices, np.argsort(np.take_along_axis(distance_matrix, indices, axis=1), axis=1), axis=1)[:, ::-1]\n",
        "        return k_smallest_indices\n",
        "    \n",
        "    def fit(self, X, y):\n",
        "        self.X_train = X.copy()\n",
        "        self.y_train = y.copy()\n",
        "        if self.standartisation:\n",
        "            self.X_train = self.make_standartisation(self.X_train)\n",
        "\n",
        "        if self.algorithm == 'kd_tree':\n",
        "            if self.metric not in KDTree.valid_metrics:\n",
        "                self.metric = 'euclidean'\n",
        "            self.kd_tree = KDTree(self.X_train, metric=self.metric)           \n",
        "    \n",
        "    def predict(self, X):\n",
        "        if self.standartisation:\n",
        "            X = self.make_standartisation(X)\n",
        "        if self.algorithm == 'brute':\n",
        "            indices = self.brute(X)\n",
        "        elif self.algorithm == 'kd_tree':\n",
        "            _, indices = self.kd_tree.query(X, k=self.n_neighbors)\n",
        "\n",
        "        return np.apply_along_axis(lambda x: np.bincount(x).argmax(), axis=1, arr=self.y_train[indices])"
      ],
      "execution_count": 2,
      "outputs": []
    },
    {
      "cell_type": "code",
      "metadata": {
        "id": "nVtIuchmW_YH"
      },
      "source": [
        "def get_score(X, y, k, algorithm='brute', metric='cosine', n_splits=3, standartisation=True, print_all=True):\n",
        "    \"\"\"\n",
        "    Кросс-валидация\n",
        "    \"\"\"\n",
        "    cv = KFold(n_splits=n_splits, shuffle=True, random_state=42)\n",
        "    scores = []\n",
        "    count = 1\n",
        "    if print_all:\n",
        "        print(f'k = {k}, algorithm = {algorithm}, metric = {metric}, standartisation = {standartisation}, shape = {X.shape}')\n",
        "    for train_index, test_index in cv.split(X):\n",
        "        try:\n",
        "            X_train, X_test = X[train_index].toarray(), X[test_index].toarray()\n",
        "        except AttributeError:\n",
        "            X_train, X_test = X[train_index], X[test_index]\n",
        "        y_train, y_test = y[train_index], y[test_index]\n",
        "        my_clf = MyKNeighborsClassifier(n_neighbors=k, algorithm=algorithm, metric=metric, standartisation=standartisation)\n",
        "        my_clf.fit(X_train, y_train)\n",
        "        my_clf_pred = my_clf.predict(X_test)\n",
        "        score = accuracy_score(y_test, my_clf_pred)\n",
        "        scores.append(score)\n",
        "        if print_all:\n",
        "            print(f'{count}/{n_splits}: {score}')\n",
        "        count += 1\n",
        "    scores = np.asarray(scores)\n",
        "    if print_all:\n",
        "        print(f'MEAN: {scores.mean()}')\n",
        "        print()\n",
        "        print()\n",
        "    return scores.mean()"
      ],
      "execution_count": 3,
      "outputs": []
    },
    {
      "cell_type": "code",
      "metadata": {
        "id": "LPIvw7NzTJH2"
      },
      "source": [
        "def plot_acc(array_of_k, array_of_acc, title=None):\n",
        "    \"\"\"\n",
        "    Построение графиков k/accuracy\n",
        "    \"\"\"\n",
        "    fig = plt.figure()\n",
        "    fig.set_figheight(8)\n",
        "    fig.set_figwidth(15)\n",
        "\n",
        "    ax = fig.add_subplot()\n",
        "\n",
        "    ax.plot(array_of_k, array_of_acc)\n",
        "\n",
        "    ax.set_xlabel('k')\n",
        "    ax.set_ylabel('Accuracy')\n",
        "\n",
        "    if title:\n",
        "        ax.set_title(title)\n",
        "\n",
        "    plt.show()"
      ],
      "execution_count": 4,
      "outputs": []
    },
    {
      "cell_type": "code",
      "metadata": {
        "id": "dh3AlZnmI-X-"
      },
      "source": [
        "def plot_acc_1(array_of_k, score_data, title=None):\n",
        "    \"\"\"\n",
        "    Построение нескольких графиков k/accuracy, вложенность 1\n",
        "    \"\"\"\n",
        "    fig = plt.figure()\n",
        "    fig.set_figheight(8)\n",
        "    fig.set_figwidth(15)\n",
        "\n",
        "    ax = fig.add_subplot()\n",
        "    ax.set_xlabel('k')\n",
        "    ax.set_ylabel('Accuracy')\n",
        "\n",
        "    for p1 in score_data:\n",
        "        array_of_acc = score_data[p1]\n",
        "\n",
        "        param = str((p1))\n",
        "        ax.plot(array_of_k, array_of_acc, label=param)\n",
        "\n",
        "    if title:\n",
        "        ax.set_title(title)\n",
        "    ax.legend()\n",
        "\n",
        "    plt.show()"
      ],
      "execution_count": 5,
      "outputs": []
    },
    {
      "cell_type": "code",
      "metadata": {
        "id": "XhkTVr4HLhRX"
      },
      "source": [
        "def literal_ind(vectorizer):\n",
        "    \"\"\"\n",
        "    Удаление из словаря слов, состоящих не из символов a-z\n",
        "    \"\"\"\n",
        "    ind_to_del = []\n",
        "    ind = []\n",
        "    for i, word in enumerate(vectorizer.get_feature_names()):\n",
        "        for c in word.lower():\n",
        "            if c < 'a' or c > 'z':\n",
        "                ind_to_del.append(i)\n",
        "                break\n",
        "        if i != ind_to_del[-1]:\n",
        "            ind.append(i)\n",
        "    return ind"
      ],
      "execution_count": 6,
      "outputs": []
    },
    {
      "cell_type": "code",
      "metadata": {
        "id": "e_st-GBrFLyV"
      },
      "source": [
        "def get_score_vectorizer(array_k, sublinear_tf=True, max_df=0.1, min_df=0.01, max_features=2000, literal=False, standartisation=True, make_plot=True, print_all=True, print_best=True):\n",
        "    vectorizer = TfidfVectorizer(sublinear_tf=sublinear_tf, max_df=max_df, min_df=min_df, max_features=max_features)\n",
        "\n",
        "    X_data = vectorizer.fit_transform(data)\n",
        "\n",
        "    if literal:\n",
        "        ind_literal = literal_ind(vectorizer)\n",
        "        X_data = X_data[:, ind_literal]\n",
        "\n",
        "    scores = []\n",
        "\n",
        "    best = 0\n",
        "    best_score = 0\n",
        "\n",
        "    for k in array_k:\n",
        "        score = get_score(X_data, target, k, standartisation=standartisation, print_all=print_all)\n",
        "        if score > best_score:\n",
        "            best_score = score\n",
        "            best = k\n",
        "        scores.append(score)\n",
        "    \n",
        "    if print_all or print_best:\n",
        "        print(f'Best score is {best_score}\\nk = {best}')\n",
        "        print()\n",
        "        print()\n",
        "    if make_plot:\n",
        "        plot_acc(array_k, scores, f'{X_data.shape[1]} features')\n",
        "    \n",
        "    return scores"
      ],
      "execution_count": 7,
      "outputs": []
    },
    {
      "cell_type": "markdown",
      "metadata": {
        "id": "_izXRvNKW_Vp"
      },
      "source": [
        "##### **Задание 1 (1 балл)**\n",
        "Реализовать KNN в классе MyKNeighborsClassifier (обязательное условие: точность не ниже sklearn реализации)\n",
        "Разберитесь самостоятельно, какая мера расстояния используется в KNeighborsClassifier дефолтно и реализуйте свой алгоритм именно с этой мерой. \n",
        "Для подсчета расстояний можно использовать функции [отсюда](https://docs.scipy.org/doc/scipy/reference/spatial.distance.html)"
      ]
    },
    {
      "cell_type": "markdown",
      "metadata": {
        "id": "OXFbtefGW_Vt"
      },
      "source": [
        "**IRIS**\n",
        "\n",
        "В библиотеке scikit-learn есть несколько датасетов из коробки. Один из них [Ирисы Фишера](https://ru.wikipedia.org/wiki/%D0%98%D1%80%D0%B8%D1%81%D1%8B_%D0%A4%D0%B8%D1%88%D0%B5%D1%80%D0%B0)"
      ]
    },
    {
      "cell_type": "code",
      "metadata": {
        "id": "UUq6CFmuW_Vt"
      },
      "source": [
        "iris = datasets.load_iris()"
      ],
      "execution_count": 32,
      "outputs": []
    },
    {
      "cell_type": "code",
      "metadata": {
        "id": "0MpgW4bxW_Vx"
      },
      "source": [
        "X_train, X_test, y_train, y_test = train_test_split(iris.data, iris.target, test_size=0.1, stratify=iris.target)"
      ],
      "execution_count": 33,
      "outputs": []
    },
    {
      "cell_type": "code",
      "metadata": {
        "id": "-lTMtKyvW_V2"
      },
      "source": [
        "clf = KNeighborsClassifier(n_neighbors=2, algorithm='brute')\n",
        "my_clf = MyKNeighborsClassifier(n_neighbors=2, algorithm='brute')"
      ],
      "execution_count": 34,
      "outputs": []
    },
    {
      "cell_type": "code",
      "metadata": {
        "id": "sU-z2l6sW_WB"
      },
      "source": [
        "clf.fit(X_train, y_train)\n",
        "my_clf.fit(X_train, y_train)"
      ],
      "execution_count": 35,
      "outputs": []
    },
    {
      "cell_type": "code",
      "metadata": {
        "id": "sb_dIn0CW_WJ"
      },
      "source": [
        "sklearn_pred = clf.predict(X_test)\n",
        "my_clf_pred = my_clf.predict(X_test)\n",
        "sklearn_score = accuracy_score(y_test, sklearn_pred)\n",
        "my_score = accuracy_score(y_test, my_clf_pred)\n",
        "assert abs( accuracy_score(y_test, my_clf_pred) - accuracy_score(y_test, sklearn_pred) ) < 0.005, f\"Score must be simillar, {my_score} != {sklearn_score}\""
      ],
      "execution_count": 36,
      "outputs": []
    },
    {
      "cell_type": "markdown",
      "metadata": {
        "id": "kzpPtH9CW_WO"
      },
      "source": [
        "#####**Задание 2 (0.5 балла)**\n",
        "\n",
        "Давайте попробуем добиться скорости работы на fit, predict сравнимой со sklearn для iris. Допускается замедление не более чем в 2 раза. \n",
        "Для этого используем numpy. "
      ]
    },
    {
      "cell_type": "code",
      "metadata": {
        "id": "35x53A2QW_WQ",
        "outputId": "494a3d44-1bb7-4c11-9f42-da6d376b8a55",
        "colab": {
          "base_uri": "https://localhost:8080/",
          "height": 101
        }
      },
      "source": [
        "%time clf.fit(X_train, y_train)"
      ],
      "execution_count": 37,
      "outputs": [
        {
          "output_type": "stream",
          "text": [
            "CPU times: user 1.4 ms, sys: 0 ns, total: 1.4 ms\n",
            "Wall time: 1.2 ms\n"
          ],
          "name": "stdout"
        },
        {
          "output_type": "execute_result",
          "data": {
            "text/plain": [
              "KNeighborsClassifier(algorithm='brute', leaf_size=30, metric='minkowski',\n",
              "                     metric_params=None, n_jobs=None, n_neighbors=2, p=2,\n",
              "                     weights='uniform')"
            ]
          },
          "metadata": {
            "tags": []
          },
          "execution_count": 37
        }
      ]
    },
    {
      "cell_type": "code",
      "metadata": {
        "id": "OEusA7sxW_WZ",
        "outputId": "ac0346e6-c394-4979-b612-532994e8dcae",
        "colab": {
          "base_uri": "https://localhost:8080/",
          "height": 50
        }
      },
      "source": [
        "%time my_clf.fit(X_train, y_train)"
      ],
      "execution_count": 38,
      "outputs": [
        {
          "output_type": "stream",
          "text": [
            "CPU times: user 64 µs, sys: 14 µs, total: 78 µs\n",
            "Wall time: 55.1 µs\n"
          ],
          "name": "stdout"
        }
      ]
    },
    {
      "cell_type": "code",
      "metadata": {
        "id": "qxTWnFWPW_Wg",
        "outputId": "7bd6b65b-3194-4ed0-a1b0-d137cac141fc",
        "colab": {
          "base_uri": "https://localhost:8080/",
          "height": 67
        }
      },
      "source": [
        "%time clf.predict(X_test)"
      ],
      "execution_count": 39,
      "outputs": [
        {
          "output_type": "stream",
          "text": [
            "CPU times: user 2.35 ms, sys: 69 µs, total: 2.42 ms\n",
            "Wall time: 2.2 ms\n"
          ],
          "name": "stdout"
        },
        {
          "output_type": "execute_result",
          "data": {
            "text/plain": [
              "array([2, 0, 1, 2, 1, 2, 0, 0, 1, 2, 1, 0, 2, 0, 1])"
            ]
          },
          "metadata": {
            "tags": []
          },
          "execution_count": 39
        }
      ]
    },
    {
      "cell_type": "code",
      "metadata": {
        "id": "8e8tK8cRW_Wm",
        "outputId": "666a3cc5-0f18-4797-bedc-6a9033b193e9",
        "colab": {
          "base_uri": "https://localhost:8080/",
          "height": 67
        }
      },
      "source": [
        "%time my_clf.predict(X_test)"
      ],
      "execution_count": 40,
      "outputs": [
        {
          "output_type": "stream",
          "text": [
            "CPU times: user 951 µs, sys: 1 ms, total: 1.95 ms\n",
            "Wall time: 1.95 ms\n"
          ],
          "name": "stdout"
        },
        {
          "output_type": "execute_result",
          "data": {
            "text/plain": [
              "array([2, 0, 1, 2, 1, 2, 0, 0, 1, 2, 1, 0, 2, 0, 1])"
            ]
          },
          "metadata": {
            "tags": []
          },
          "execution_count": 40
        }
      ]
    },
    {
      "cell_type": "markdown",
      "metadata": {
        "id": "_M60YrdlW_Ws"
      },
      "source": [
        "##### **Задание 3 (1 балл)**\n",
        "Добавьте algorithm='kd_tree' в реализацию KNN (использовать KDTree из sklearn.neighbors). Необходимо добиться скорости работы на fit,  predict сравнимой со sklearn для iris. Допускается замедление не более чем в 2 раза. \n",
        "Для этого используем numpy. Точность не должна уступать значению KNN из sklearn. "
      ]
    },
    {
      "cell_type": "code",
      "metadata": {
        "id": "_u4nCkkoW_Wt"
      },
      "source": [
        "clf = KNeighborsClassifier(n_neighbors=2, algorithm='kd_tree')\n",
        "my_clf = MyKNeighborsClassifier(n_neighbors=2, algorithm='kd_tree', metric='cosine')"
      ],
      "execution_count": 41,
      "outputs": []
    },
    {
      "cell_type": "code",
      "metadata": {
        "id": "q_Q7nBHEW_W0"
      },
      "source": [
        "X_train, X_test, y_train, y_test = train_test_split(iris.data, iris.target, test_size=0.1, stratify=iris.target)"
      ],
      "execution_count": 42,
      "outputs": []
    },
    {
      "cell_type": "code",
      "metadata": {
        "id": "OANUiTa8W_XS",
        "outputId": "67e4ec69-0fd3-43a4-85f1-551ca83b8d3e",
        "colab": {
          "base_uri": "https://localhost:8080/",
          "height": 101
        }
      },
      "source": [
        "%time clf.fit(X_train, y_train)"
      ],
      "execution_count": 43,
      "outputs": [
        {
          "output_type": "stream",
          "text": [
            "CPU times: user 1.55 ms, sys: 0 ns, total: 1.55 ms\n",
            "Wall time: 2.45 ms\n"
          ],
          "name": "stdout"
        },
        {
          "output_type": "execute_result",
          "data": {
            "text/plain": [
              "KNeighborsClassifier(algorithm='kd_tree', leaf_size=30, metric='minkowski',\n",
              "                     metric_params=None, n_jobs=None, n_neighbors=2, p=2,\n",
              "                     weights='uniform')"
            ]
          },
          "metadata": {
            "tags": []
          },
          "execution_count": 43
        }
      ]
    },
    {
      "cell_type": "code",
      "metadata": {
        "id": "Nr6FyX8jW_XV",
        "outputId": "5bdb3542-f410-4bd7-acff-1fa7ddf7f6b1",
        "colab": {
          "base_uri": "https://localhost:8080/",
          "height": 50
        }
      },
      "source": [
        "%time my_clf.fit(X_train, y_train)"
      ],
      "execution_count": 44,
      "outputs": [
        {
          "output_type": "stream",
          "text": [
            "CPU times: user 202 µs, sys: 44 µs, total: 246 µs\n",
            "Wall time: 252 µs\n"
          ],
          "name": "stdout"
        }
      ]
    },
    {
      "cell_type": "code",
      "metadata": {
        "id": "VKYjihcKW_Xa",
        "outputId": "617b66b2-b5e1-4895-9d59-29d9e7457c17",
        "colab": {
          "base_uri": "https://localhost:8080/",
          "height": 67
        }
      },
      "source": [
        "%time clf.predict(X_test)"
      ],
      "execution_count": 45,
      "outputs": [
        {
          "output_type": "stream",
          "text": [
            "CPU times: user 4.2 ms, sys: 0 ns, total: 4.2 ms\n",
            "Wall time: 7.57 ms\n"
          ],
          "name": "stdout"
        },
        {
          "output_type": "execute_result",
          "data": {
            "text/plain": [
              "array([2, 1, 1, 0, 2, 1, 2, 1, 0, 0, 2, 0, 0, 2, 1])"
            ]
          },
          "metadata": {
            "tags": []
          },
          "execution_count": 45
        }
      ]
    },
    {
      "cell_type": "code",
      "metadata": {
        "id": "RUhiIzXmW_Xh",
        "outputId": "861b26e5-4a2c-4143-db0e-4f97d1c27ee5",
        "colab": {
          "base_uri": "https://localhost:8080/",
          "height": 67
        }
      },
      "source": [
        "%time my_clf.predict(X_test)"
      ],
      "execution_count": 46,
      "outputs": [
        {
          "output_type": "stream",
          "text": [
            "CPU times: user 1.11 ms, sys: 20 µs, total: 1.13 ms\n",
            "Wall time: 869 µs\n"
          ],
          "name": "stdout"
        },
        {
          "output_type": "execute_result",
          "data": {
            "text/plain": [
              "array([2, 1, 1, 0, 2, 1, 2, 1, 0, 0, 2, 0, 0, 2, 1])"
            ]
          },
          "metadata": {
            "tags": []
          },
          "execution_count": 46
        }
      ]
    },
    {
      "cell_type": "code",
      "metadata": {
        "id": "wsAWcp2AW_Xl"
      },
      "source": [
        "sklearn_pred = clf.predict(X_test)\n",
        "my_clf_pred = my_clf.predict(X_test)\n",
        "assert abs( accuracy_score(y_test, my_clf_pred) -  accuracy_score(y_test, sklearn_pred) ) < 0.005, \"Score must be simillar\""
      ],
      "execution_count": 47,
      "outputs": []
    },
    {
      "cell_type": "markdown",
      "metadata": {
        "id": "soGGXsCHW_Xp"
      },
      "source": [
        "#####**Задание 4 (2.5 балла)**\n",
        "\n",
        "Рассмотрим новый датасет 20 newsgroups"
      ]
    },
    {
      "cell_type": "code",
      "metadata": {
        "id": "bFgKzdZJW_Xq"
      },
      "source": [
        "newsgroups = fetch_20newsgroups(subset='train',remove=['headers','footers', 'quotes'])"
      ],
      "execution_count": null,
      "outputs": []
    },
    {
      "cell_type": "code",
      "metadata": {
        "id": "3KfuV7gwW_Xt"
      },
      "source": [
        "data = newsgroups['data']\n",
        "target = newsgroups['target']"
      ],
      "execution_count": null,
      "outputs": []
    },
    {
      "cell_type": "markdown",
      "metadata": {
        "id": "4awXJzbDW_Xy"
      },
      "source": [
        "Преобразуйте текстовые данные из data с помощью [CountVectorizer](https://scikit-learn.org/stable/modules/generated/sklearn.feature_extraction.text.CountVectorizer.html). Словарь можно ограничить по частотности."
      ]
    },
    {
      "cell_type": "code",
      "metadata": {
        "id": "VAfTw_PmW_Xz",
        "outputId": "74fb606b-ec87-4b02-e8ec-5a2dd20c4c78",
        "colab": {
          "base_uri": "https://localhost:8080/",
          "height": 34
        }
      },
      "source": [
        "max_features = 1000\n",
        "vectorizer = CountVectorizer(max_features=max_features)\n",
        "tfidf_vectorizer = TfidfVectorizer(max_features=max_features)\n",
        "\n",
        "X_data = vectorizer.fit_transform(data)\n",
        "X_data_tfidf = tfidf_vectorizer.fit_transform(data)\n",
        "\n",
        "X_data.shape, X_data_tfidf.shape"
      ],
      "execution_count": null,
      "outputs": [
        {
          "output_type": "execute_result",
          "data": {
            "text/plain": [
              "((11314, 1000), (11314, 1000))"
            ]
          },
          "metadata": {
            "tags": []
          },
          "execution_count": 12
        }
      ]
    },
    {
      "cell_type": "markdown",
      "metadata": {
        "id": "L0v55T_EW_X4"
      },
      "source": [
        "*Так мы получили векторное представление наших текстов. Значит можно приступать к задаче обучения модели*"
      ]
    },
    {
      "cell_type": "markdown",
      "metadata": {
        "id": "y7aXultZW_X5"
      },
      "source": [
        "Реализуйте разбиение выборки для кросс-валидации на 3 фолдах. Разрешено использовать sklearn.cross_validation"
      ]
    },
    {
      "cell_type": "code",
      "metadata": {
        "id": "gQC9tD6Z0gmq"
      },
      "source": [
        "# Реализовано в функции get_score"
      ],
      "execution_count": null,
      "outputs": []
    },
    {
      "cell_type": "markdown",
      "metadata": {
        "id": "WZ7QuYfRW_YG"
      },
      "source": [
        "Напишите метод, позволяющий найти оптимальное количество ближайших соседей(дающее максимальную точность в среднем на валидации на 3 фолдах).\n",
        "Постройте график зависимости средней точности от количества соседей. Можно рассмотреть число соседей от 1 до 10."
      ]
    },
    {
      "cell_type": "markdown",
      "metadata": {
        "id": "Gj-XailZW_YL"
      },
      "source": [
        "Как изменится качество на валидации, если:\n",
        "\n",
        "1. Используется косинусная метрика вместо евклидовой.\n",
        "2. К текстам применяется TfIdf векторизацию( sklearn.feature_extraction.text.TfidfVectorizer)\n",
        "\n",
        "Сравните модели, выберите лучшую."
      ]
    },
    {
      "cell_type": "code",
      "metadata": {
        "id": "FmOLvUnfBhpt"
      },
      "source": [
        "%%time\n",
        "array_k = np.arange(1, 11)\n",
        "array_algorithm = ['brute', 'kd_tree']\n",
        "array_metric = ['euclidean', 'cosine']\n",
        "\n",
        "scores = []\n",
        "scores_param = []\n",
        "\n",
        "best = (0, '', '')\n",
        "best_score = 0\n",
        "\n",
        "for k in array_k:\n",
        "    for algorithm in array_algorithm:\n",
        "        for metric in array_metric:\n",
        "            if metric == 'cosine' and algorithm == 'kd_tree':\n",
        "                continue\n",
        "\n",
        "            print('CountVectorizer:')\n",
        "            param = (k, algorithm, metric, 'CountVectorizer')\n",
        "            score = get_score(X_data, target, k, algorithm, metric)\n",
        "            if score > best_score:\n",
        "                best_score = score\n",
        "                best = param\n",
        "            scores.append(score)\n",
        "            scores_param.append(param)\n",
        "\n",
        "            print('TfidfVectorizer:')\n",
        "            param = (k, algorithm, metric, 'TfidfVectorizer')\n",
        "            score = get_score(X_data_tfidf, target, k, algorithm, metric)\n",
        "            if score > best_score:\n",
        "                best_score = score\n",
        "                best = param\n",
        "            scores.append(score)\n",
        "            scores_param.append(param)\n",
        "            print()\n",
        "\n",
        "print(f'Best score is {best_score}\\nk = {best[0]}, algorithm = {best[1]}, metric = {best[2]}, vectorizer = {best[3]}')"
      ],
      "execution_count": 45,
      "outputs": []
    },
    {
      "cell_type": "code",
      "metadata": {
        "id": "u54OIWYcq6zk"
      },
      "source": [
        "score_data = {}\n",
        "for i in range (len(scores)):\n",
        "    k, algorithm, metric, vectorizer = scores_param[i]\n",
        "    if vectorizer not in score_data:\n",
        "        score_data[vectorizer] = {}\n",
        "    if algorithm not in score_data[vectorizer]:\n",
        "        score_data[vectorizer][algorithm] = {}\n",
        "    if metric not in score_data[vectorizer][algorithm]:\n",
        "        score_data[vectorizer][algorithm][metric] = []\n",
        "    score_data[vectorizer][algorithm][metric].append(scores[i])"
      ],
      "execution_count": null,
      "outputs": []
    },
    {
      "cell_type": "code",
      "metadata": {
        "id": "u93j97pInd-e",
        "outputId": "3163ac3e-a078-41ec-b1c2-1d0cd45b12e2",
        "colab": {
          "base_uri": "https://localhost:8080/",
          "height": 497
        }
      },
      "source": [
        "fig = plt.figure()\n",
        "fig.set_figheight(8)\n",
        "fig.set_figwidth(15)\n",
        "\n",
        "ax = fig.add_subplot()\n",
        "\n",
        "ax.plot(array_k, score_data['TfidfVectorizer']['brute']['euclidean'], color='orange', label='Brute Euclidean Tfidf')\n",
        "ax.plot(array_k, score_data['TfidfVectorizer']['brute']['cosine'], color='red', label='Brute Cosine Tfidf')\n",
        "ax.plot(array_k, score_data['TfidfVectorizer']['kd_tree']['euclidean'], color='green', label='KDTree Tfidf')\n",
        "ax.plot(array_k, score_data['CountVectorizer']['brute']['euclidean'], color='yellow', label='Brute Euclidean')\n",
        "ax.plot(array_k, score_data['CountVectorizer']['brute']['cosine'], color='black', label='Brute Cosine')\n",
        "ax.plot(array_k, score_data['CountVectorizer']['kd_tree']['euclidean'], color='y', label='KDTree')\n",
        "\n",
        "ax.set_xlabel('k')\n",
        "ax.set_ylabel('Accuracy')\n",
        "ax.legend()\n",
        "\n",
        "plt.show()"
      ],
      "execution_count": null,
      "outputs": [
        {
          "output_type": "display_data",
          "data": {
            "image/png": "[encoded data removed]",
            "text/plain": [
              "<Figure size 1080x576 with 1 Axes>"
            ]
          },
          "metadata": {
            "tags": [],
            "needs_background": "light"
          }
        }
      ]
    },
    {
      "cell_type": "markdown",
      "metadata": {
        "id": "4gK8AFVnDf-L"
      },
      "source": [
        "###### Поиск параметров"
      ]
    },
    {
      "cell_type": "code",
      "metadata": {
        "id": "cLsgGQWND5WD"
      },
      "source": [
        "newsgroups = fetch_20newsgroups(subset='train',remove=['headers','footers', 'quotes'])\n",
        "data = newsgroups['data']\n",
        "target = newsgroups['target']"
      ],
      "execution_count": 152,
      "outputs": []
    },
    {
      "cell_type": "markdown",
      "metadata": {
        "id": "nyNfcnRNKwgf"
      },
      "source": [
        "Найдем оптимальные значения k"
      ]
    },
    {
      "cell_type": "code",
      "metadata": {
        "id": "CabdWOOKpotQ",
        "outputId": "430fcc8e-ff90-403e-cec0-d8a2c32c57b0",
        "colab": {
          "base_uri": "https://localhost:8080/",
          "height": 1000
        }
      },
      "source": [
        "# без стандартизации\n",
        "%%time\n",
        "array_k = np.arange(5, 1001, 5)\n",
        "scores = get_score_vectorizer(array_k)"
      ],
      "execution_count": 105,
      "outputs": [
        {
          "output_type": "stream",
          "text": [
            "k = 5, algorithm = brute, metric = cosine\n",
            "1/3: 0.4517497348886532\n",
            "2/3: 0.4478918058870326\n",
            "3/3: 0.4478918058870326\n",
            "MEAN: 0.44917778222090615\n",
            "\n",
            "\n",
            "\n",
            "k = 10, algorithm = brute, metric = cosine\n",
            "1/3: 0.49045599151643693\n",
            "2/3: 0.4847520551577831\n",
            "3/3: 0.48899496154866084\n",
            "MEAN: 0.48806766940762697\n",
            "\n",
            "\n",
            "\n",
            "k = 15, algorithm = brute, metric = cosine\n",
            "1/3: 0.5053022269353128\n",
            "2/3: 0.5104746751524795\n",
            "3/3: 0.4972155926809865\n",
            "MEAN: 0.5043308315895929\n",
            "\n",
            "\n",
            "\n",
            "k = 20, algorithm = brute, metric = cosine\n",
            "1/3: 0.5198833510074231\n",
            "2/3: 0.514982763192787\n",
            "3/3: 0.5099443118536198\n",
            "MEAN: 0.51493680868461\n",
            "\n",
            "\n",
            "\n",
            "k = 25, algorithm = brute, metric = cosine\n",
            "1/3: 0.524390243902439\n",
            "2/3: 0.5202863961813843\n",
            "3/3: 0.5125961283479183\n",
            "MEAN: 0.5190909228105806\n",
            "\n",
            "\n",
            "\n",
            "k = 30, algorithm = brute, metric = cosine\n",
            "1/3: 0.5259809119830329\n",
            "2/3: 0.5176345796870857\n",
            "3/3: 0.5205515778308141\n",
            "MEAN: 0.5213890231669775\n",
            "\n",
            "\n",
            "\n",
            "k = 35, algorithm = brute, metric = cosine\n",
            "1/3: 0.5349946977730647\n",
            "2/3: 0.5202863961813843\n",
            "3/3: 0.5242641209228321\n",
            "MEAN: 0.5265150716257604\n",
            "\n",
            "\n",
            "\n",
            "k = 40, algorithm = brute, metric = cosine\n",
            "1/3: 0.5379109225874867\n",
            "2/3: 0.5213471227791037\n",
            "3/3: 0.5218774860779634\n",
            "MEAN: 0.5270451771481846\n",
            "\n",
            "\n",
            "\n",
            "k = 45, algorithm = brute, metric = cosine\n",
            "1/3: 0.5349946977730647\n",
            "2/3: 0.518960487934235\n",
            "3/3: 0.5261203924688411\n",
            "MEAN: 0.526691859392047\n",
            "\n",
            "\n",
            "\n",
            "k = 50, algorithm = brute, metric = cosine\n",
            "1/3: 0.5371155885471898\n",
            "2/3: 0.5197560328825245\n",
            "3/3: 0.5216123044285336\n",
            "MEAN: 0.5261613086194159\n",
            "\n",
            "\n",
            "\n",
            "k = 55, algorithm = brute, metric = cosine\n",
            "1/3: 0.5368504772004242\n",
            "2/3: 0.5210819411296739\n",
            "3/3: 0.5210819411296739\n",
            "MEAN: 0.5263381198199241\n",
            "\n",
            "\n",
            "\n",
            "k = 60, algorithm = brute, metric = cosine\n",
            "1/3: 0.5424178154825027\n",
            "2/3: 0.5221426677273933\n",
            "3/3: 0.5266507557677009\n",
            "MEAN: 0.5304037463258656\n",
            "\n",
            "\n",
            "\n",
            "k = 65, algorithm = brute, metric = cosine\n",
            "1/3: 0.5402969247083775\n",
            "2/3: 0.5200212145319544\n",
            "3/3: 0.5285070273137099\n",
            "MEAN: 0.5296083888513472\n",
            "\n",
            "\n",
            "\n",
            "k = 70, algorithm = brute, metric = cosine\n",
            "1/3: 0.5400318133616119\n",
            "2/3: 0.5277114823654203\n",
            "3/3: 0.5290373906125696\n",
            "MEAN: 0.5322602287798673\n",
            "\n",
            "\n",
            "\n",
            "k = 75, algorithm = brute, metric = cosine\n",
            "1/3: 0.5408271474019088\n",
            "2/3: 0.5308936621585786\n",
            "3/3: 0.5316892071068682\n",
            "MEAN: 0.5344700055557853\n",
            "\n",
            "\n",
            "\n",
            "k = 80, algorithm = brute, metric = cosine\n",
            "1/3: 0.5410922587486744\n",
            "2/3: 0.5316892071068682\n",
            "3/3: 0.5335454786528773\n",
            "MEAN: 0.5354423148361399\n",
            "\n",
            "\n",
            "\n",
            "k = 85, algorithm = brute, metric = cosine\n",
            "1/3: 0.5400318133616119\n",
            "2/3: 0.5271811190665606\n",
            "3/3: 0.5319543887562981\n",
            "MEAN: 0.5330557737281568\n",
            "\n",
            "\n",
            "\n",
            "k = 90, algorithm = brute, metric = cosine\n",
            "1/3: 0.5381760339342524\n",
            "2/3: 0.5295677539114293\n",
            "3/3: 0.5311588438080085\n",
            "MEAN: 0.5329675438845634\n",
            "\n",
            "\n",
            "\n",
            "k = 95, algorithm = brute, metric = cosine\n",
            "1/3: 0.5379109225874867\n",
            "2/3: 0.5314240254574384\n",
            "3/3: 0.5327499337045877\n",
            "MEAN: 0.5340282939165043\n",
            "\n",
            "\n",
            "\n",
            "k = 100, algorithm = brute, metric = cosine\n",
            "1/3: 0.5410922587486744\n",
            "2/3: 0.5258552108194113\n",
            "3/3: 0.5343410236011668\n",
            "MEAN: 0.5337628310564174\n",
            "\n",
            "\n",
            "\n",
            "k = 105, algorithm = brute, metric = cosine\n",
            "1/3: 0.5395015906680806\n",
            "2/3: 0.5290373906125696\n",
            "3/3: 0.5346062052505967\n",
            "MEAN: 0.534381728843749\n",
            "\n",
            "\n",
            "\n",
            "k = 110, algorithm = brute, metric = cosine\n",
            "1/3: 0.5360551431601273\n",
            "2/3: 0.5274463007159904\n",
            "3/3: 0.5330151153540175\n",
            "MEAN: 0.532172186410045\n",
            "\n",
            "\n",
            "\n",
            "k = 115, algorithm = brute, metric = cosine\n",
            "1/3: 0.5395015906680806\n",
            "2/3: 0.5274463007159904\n",
            "3/3: 0.5327499337045877\n",
            "MEAN: 0.5332326083628862\n",
            "\n",
            "\n",
            "\n",
            "k = 120, algorithm = brute, metric = cosine\n",
            "1/3: 0.5371155885471898\n",
            "2/3: 0.5295677539114293\n",
            "3/3: 0.5308936621585786\n",
            "MEAN: 0.5325256682057325\n",
            "\n",
            "\n",
            "\n",
            "k = 125, algorithm = brute, metric = cosine\n",
            "1/3: 0.5392364793213149\n",
            "2/3: 0.5234685759745425\n",
            "3/3: 0.5330151153540175\n",
            "MEAN: 0.5319067235499583\n",
            "\n",
            "\n",
            "\n",
            "k = 130, algorithm = brute, metric = cosine\n",
            "1/3: 0.5397667020148462\n",
            "2/3: 0.5239989392734022\n",
            "3/3: 0.5293025722619995\n",
            "MEAN: 0.5310227378500826\n",
            "\n",
            "\n",
            "\n",
            "k = 135, algorithm = brute, metric = cosine\n",
            "1/3: 0.5363202545068929\n",
            "2/3: 0.5247944842216918\n",
            "3/3: 0.5285070273137099\n",
            "MEAN: 0.5298739220140982\n",
            "\n",
            "\n",
            "\n",
            "k = 140, algorithm = brute, metric = cosine\n",
            "1/3: 0.5347295864262991\n",
            "2/3: 0.5224078493768232\n",
            "3/3: 0.5308936621585786\n",
            "MEAN: 0.529343699320567\n",
            "\n",
            "\n",
            "\n",
            "k = 145, algorithm = brute, metric = cosine\n",
            "1/3: 0.5392364793213149\n",
            "2/3: 0.524529302572262\n",
            "3/3: 0.5293025722619995\n",
            "MEAN: 0.5310227847185255\n",
            "\n",
            "\n",
            "\n",
            "k = 150, algorithm = brute, metric = cosine\n",
            "1/3: 0.5410922587486744\n",
            "2/3: 0.5237337576239725\n",
            "3/3: 0.5258552108194113\n",
            "MEAN: 0.5302270757306861\n",
            "\n",
            "\n",
            "\n",
            "k = 155, algorithm = brute, metric = cosine\n",
            "1/3: 0.5402969247083775\n",
            "2/3: 0.524529302572262\n",
            "3/3: 0.5287722089631397\n",
            "MEAN: 0.5311994787479265\n",
            "\n",
            "\n",
            "\n",
            "k = 160, algorithm = brute, metric = cosine\n",
            "1/3: 0.5416224814422057\n",
            "2/3: 0.5239989392734022\n",
            "3/3: 0.5266507557677009\n",
            "MEAN: 0.530757392161103\n",
            "\n",
            "\n",
            "\n",
            "k = 165, algorithm = brute, metric = cosine\n",
            "1/3: 0.5418875927889714\n",
            "2/3: 0.5224078493768232\n",
            "3/3: 0.5274463007159904\n",
            "MEAN: 0.530580580960595\n",
            "\n",
            "\n",
            "\n",
            "k = 170, algorithm = brute, metric = cosine\n",
            "1/3: 0.5387062566277837\n",
            "2/3: 0.5247944842216918\n",
            "3/3: 0.5255900291699814\n",
            "MEAN: 0.5296969233398189\n",
            "\n",
            "\n",
            "\n",
            "k = 175, algorithm = brute, metric = cosine\n",
            "1/3: 0.5395015906680806\n",
            "2/3: 0.5229382126756829\n",
            "3/3: 0.5261203924688411\n",
            "MEAN: 0.5295200652708681\n",
            "\n",
            "\n",
            "\n",
            "k = 180, algorithm = brute, metric = cosine\n",
            "1/3: 0.5392364793213149\n",
            "2/3: 0.5279766640148502\n",
            "3/3: 0.5271811190665606\n",
            "MEAN: 0.5314647541342419\n",
            "\n",
            "\n",
            "\n",
            "k = 185, algorithm = brute, metric = cosine\n",
            "1/3: 0.5341993637327678\n",
            "2/3: 0.5271811190665606\n",
            "3/3: 0.5277114823654203\n",
            "MEAN: 0.5296973217215829\n",
            "\n",
            "\n",
            "\n",
            "k = 190, algorithm = brute, metric = cosine\n",
            "1/3: 0.5349946977730647\n",
            "2/3: 0.5258552108194113\n",
            "3/3: 0.5261203924688411\n",
            "MEAN: 0.5289901003537724\n",
            "\n",
            "\n",
            "\n",
            "k = 195, algorithm = brute, metric = cosine\n",
            "1/3: 0.5395015906680806\n",
            "2/3: 0.5266507557677009\n",
            "3/3: 0.5261203924688411\n",
            "MEAN: 0.5307575796348742\n",
            "\n",
            "\n",
            "\n",
            "k = 200, algorithm = brute, metric = cosine\n",
            "1/3: 0.5352598091198303\n",
            "2/3: 0.5258552108194113\n",
            "3/3: 0.5258552108194113\n",
            "MEAN: 0.528990076919551\n",
            "\n",
            "\n",
            "\n",
            "k = 205, algorithm = brute, metric = cosine\n",
            "1/3: 0.5336691410392365\n",
            "2/3: 0.5255900291699814\n",
            "3/3: 0.5224078493768232\n",
            "MEAN: 0.5272223398620136\n",
            "\n",
            "\n",
            "\n",
            "k = 210, algorithm = brute, metric = cosine\n",
            "1/3: 0.5373806998939554\n",
            "2/3: 0.5213471227791037\n",
            "3/3: 0.5250596658711217\n",
            "MEAN: 0.5279291628480604\n",
            "\n",
            "\n",
            "\n",
            "k = 215, algorithm = brute, metric = cosine\n",
            "1/3: 0.5363202545068929\n",
            "2/3: 0.5232033943251126\n",
            "3/3: 0.5224078493768232\n",
            "MEAN: 0.5273104994029428\n",
            "\n",
            "\n",
            "\n",
            "k = 220, algorithm = brute, metric = cosine\n",
            "1/3: 0.5365853658536586\n",
            "2/3: 0.5258552108194113\n",
            "3/3: 0.5239989392734022\n",
            "MEAN: 0.5288131719821574\n",
            "\n",
            "\n",
            "\n",
            "k = 225, algorithm = brute, metric = cosine\n",
            "1/3: 0.5357900318133616\n",
            "2/3: 0.5247944842216918\n",
            "3/3: 0.5232033943251126\n",
            "MEAN: 0.5279293034533886\n",
            "\n",
            "\n",
            "\n",
            "k = 230, algorithm = brute, metric = cosine\n",
            "1/3: 0.5347295864262991\n",
            "2/3: 0.5237337576239725\n",
            "3/3: 0.5213471227791037\n",
            "MEAN: 0.5266034889431251\n",
            "\n",
            "\n",
            "\n",
            "k = 235, algorithm = brute, metric = cosine\n",
            "1/3: 0.5341993637327678\n",
            "2/3: 0.5242641209228321\n",
            "3/3: 0.5186953062848051\n",
            "MEAN: 0.525719596980135\n",
            "\n",
            "\n",
            "\n",
            "k = 240, algorithm = brute, metric = cosine\n",
            "1/3: 0.5323435843054083\n",
            "2/3: 0.5218774860779634\n",
            "3/3: 0.5192256695836648\n",
            "MEAN: 0.5244822466556788\n",
            "\n",
            "\n",
            "\n",
            "k = 245, algorithm = brute, metric = cosine\n",
            "1/3: 0.5275715800636267\n",
            "2/3: 0.5205515778308141\n",
            "3/3: 0.5200212145319544\n",
            "MEAN: 0.5227147908087985\n",
            "\n",
            "\n",
            "\n",
            "k = 250, algorithm = brute, metric = cosine\n",
            "1/3: 0.5286320254506893\n",
            "2/3: 0.5200212145319544\n",
            "3/3: 0.5184301246353752\n",
            "MEAN: 0.5223611215393397\n",
            "\n",
            "\n",
            "\n",
            "k = 255, algorithm = brute, metric = cosine\n",
            "1/3: 0.5265111346765642\n",
            "2/3: 0.518960487934235\n",
            "3/3: 0.5210819411296739\n",
            "MEAN: 0.5221845212468244\n",
            "\n",
            "\n",
            "\n",
            "k = 260, algorithm = brute, metric = cosine\n",
            "1/3: 0.5259809119830329\n",
            "2/3: 0.5171042163882259\n",
            "3/3: 0.5210819411296739\n",
            "MEAN: 0.5213890231669775\n",
            "\n",
            "\n",
            "\n",
            "k = 265, algorithm = brute, metric = cosine\n",
            "1/3: 0.5254506892895016\n",
            "2/3: 0.5176345796870857\n",
            "3/3: 0.5178997613365155\n",
            "MEAN: 0.520328343437701\n",
            "\n",
            "\n",
            "\n",
            "k = 270, algorithm = brute, metric = cosine\n",
            "1/3: 0.5262460233297985\n",
            "2/3: 0.5163086714399363\n",
            "3/3: 0.5202863961813843\n",
            "MEAN: 0.5209470303170397\n",
            "\n",
            "\n",
            "\n",
            "k = 275, algorithm = brute, metric = cosine\n",
            "1/3: 0.5286320254506893\n",
            "2/3: 0.5155131264916468\n",
            "3/3: 0.5200212145319544\n",
            "MEAN: 0.5213887888247636\n",
            "\n",
            "\n",
            "\n",
            "k = 280, algorithm = brute, metric = cosine\n",
            "1/3: 0.5291622481442205\n",
            "2/3: 0.5139220365950676\n",
            "3/3: 0.5168390347387961\n",
            "MEAN: 0.5199744398260281\n",
            "\n",
            "\n",
            "\n",
            "k = 285, algorithm = brute, metric = cosine\n",
            "1/3: 0.5265111346765642\n",
            "2/3: 0.5136568549456377\n",
            "3/3: 0.5168390347387961\n",
            "MEAN: 0.519002341453666\n",
            "\n",
            "\n",
            "\n",
            "k = 290, algorithm = brute, metric = cosine\n",
            "1/3: 0.5304878048780488\n",
            "2/3: 0.5155131264916468\n",
            "3/3: 0.5168390347387961\n",
            "MEAN: 0.5209466553694972\n",
            "\n",
            "\n",
            "\n",
            "k = 295, algorithm = brute, metric = cosine\n",
            "1/3: 0.5278366914103924\n",
            "2/3: 0.5133916732962079\n",
            "3/3: 0.5176345796870857\n",
            "MEAN: 0.5196209814645619\n",
            "\n",
            "\n",
            "\n",
            "k = 300, algorithm = brute, metric = cosine\n",
            "1/3: 0.5291622481442205\n",
            "2/3: 0.5141872182444975\n",
            "3/3: 0.5160434897905065\n",
            "MEAN: 0.5197976520597415\n",
            "\n",
            "\n",
            "\n",
            "k = 305, algorithm = brute, metric = cosine\n",
            "1/3: 0.5286320254506893\n",
            "2/3: 0.5136568549456377\n",
            "3/3: 0.5168390347387961\n",
            "MEAN: 0.5197093050450411\n",
            "\n",
            "\n",
            "\n",
            "k = 310, algorithm = brute, metric = cosine\n",
            "1/3: 0.5251855779427359\n",
            "2/3: 0.514982763192787\n",
            "3/3: 0.5144523998939273\n",
            "MEAN: 0.5182069136764834\n",
            "\n",
            "\n",
            "\n",
            "k = 315, algorithm = brute, metric = cosine\n",
            "1/3: 0.5241251325556734\n",
            "2/3: 0.5115354017501988\n",
            "3/3: 0.5171042163882259\n",
            "MEAN: 0.5175882502313661\n",
            "\n",
            "\n",
            "\n",
            "k = 320, algorithm = brute, metric = cosine\n",
            "1/3: 0.524390243902439\n",
            "2/3: 0.5112702201007691\n",
            "3/3: 0.5171042163882259\n",
            "MEAN: 0.5175882267971447\n",
            "\n",
            "\n",
            "\n",
            "k = 325, algorithm = brute, metric = cosine\n",
            "1/3: 0.5254506892895016\n",
            "2/3: 0.5125961283479183\n",
            "3/3: 0.5163086714399363\n",
            "MEAN: 0.5181184963591188\n",
            "\n",
            "\n",
            "\n",
            "k = 330, algorithm = brute, metric = cosine\n",
            "1/3: 0.5270413573700954\n",
            "2/3: 0.513126491646778\n",
            "3/3: 0.5147175815433572\n",
            "MEAN: 0.5182951435200769\n",
            "\n",
            "\n",
            "\n",
            "k = 335, algorithm = brute, metric = cosine\n",
            "1/3: 0.5241251325556734\n",
            "2/3: 0.5125961283479183\n",
            "3/3: 0.5157783081410766\n",
            "MEAN: 0.5174998563482228\n",
            "\n",
            "\n",
            "\n",
            "k = 340, algorithm = brute, metric = cosine\n",
            "1/3: 0.5225344644750796\n",
            "2/3: 0.5136568549456377\n",
            "3/3: 0.5160434897905065\n",
            "MEAN: 0.5174116030704079\n",
            "\n",
            "\n",
            "\n",
            "k = 345, algorithm = brute, metric = cosine\n",
            "1/3: 0.5217391304347826\n",
            "2/3: 0.5107398568019093\n",
            "3/3: 0.5168390347387961\n",
            "MEAN: 0.516439340658496\n",
            "\n",
            "\n",
            "\n",
            "k = 350, algorithm = brute, metric = cosine\n",
            "1/3: 0.5206786850477201\n",
            "2/3: 0.5115354017501988\n",
            "3/3: 0.5176345796870857\n",
            "MEAN: 0.5166162221616681\n",
            "\n",
            "\n",
            "\n",
            "k = 355, algorithm = brute, metric = cosine\n",
            "1/3: 0.517762460233298\n",
            "2/3: 0.5112702201007691\n",
            "3/3: 0.5192256695836648\n",
            "MEAN: 0.516086116639244\n",
            "\n",
            "\n",
            "\n",
            "k = 360, algorithm = brute, metric = cosine\n",
            "1/3: 0.5190880169671261\n",
            "2/3: 0.5118005833996288\n",
            "3/3: 0.5171042163882259\n",
            "MEAN: 0.5159976055849936\n",
            "\n",
            "\n",
            "\n",
            "k = 365, algorithm = brute, metric = cosine\n",
            "1/3: 0.5193531283138918\n",
            "2/3: 0.5086184036064705\n",
            "3/3: 0.5160434897905065\n",
            "MEAN: 0.514671673903623\n",
            "\n",
            "\n",
            "\n",
            "k = 370, algorithm = brute, metric = cosine\n",
            "1/3: 0.5204135737009544\n",
            "2/3: 0.5078228586581809\n",
            "3/3: 0.5152479448422169\n",
            "MEAN: 0.5144947924004507\n",
            "\n",
            "\n",
            "\n",
            "k = 375, algorithm = brute, metric = cosine\n",
            "1/3: 0.5222693531283139\n",
            "2/3: 0.5086184036064705\n",
            "3/3: 0.513126491646778\n",
            "MEAN: 0.5146714161271876\n",
            "\n",
            "\n",
            "\n",
            "k = 380, algorithm = brute, metric = cosine\n",
            "1/3: 0.5196182396606575\n",
            "2/3: 0.5078228586581809\n",
            "3/3: 0.5136568549456377\n",
            "MEAN: 0.5136993177548254\n",
            "\n",
            "\n",
            "\n",
            "k = 385, algorithm = brute, metric = cosine\n",
            "1/3: 0.5230646871686108\n",
            "2/3: 0.5080880403076107\n",
            "3/3: 0.513126491646778\n",
            "MEAN: 0.5147597397076665\n",
            "\n",
            "\n",
            "\n",
            "k = 390, algorithm = brute, metric = cosine\n",
            "1/3: 0.5235949098621421\n",
            "2/3: 0.5096791302041899\n",
            "3/3: 0.5160434897905065\n",
            "MEAN: 0.5164391766189462\n",
            "\n",
            "\n",
            "\n",
            "k = 395, algorithm = brute, metric = cosine\n",
            "1/3: 0.5238600212089077\n",
            "2/3: 0.5088835852559003\n",
            "3/3: 0.5139220365950676\n",
            "MEAN: 0.5155552143532919\n",
            "\n",
            "\n",
            "\n",
            "k = 400, algorithm = brute, metric = cosine\n",
            "1/3: 0.5209437963944857\n",
            "2/3: 0.5096791302041899\n",
            "3/3: 0.5107398568019093\n",
            "MEAN: 0.5137875944668616\n",
            "\n",
            "\n",
            "\n",
            "k = 405, algorithm = brute, metric = cosine\n",
            "1/3: 0.5209437963944857\n",
            "2/3: 0.505701405462742\n",
            "3/3: 0.5120657650490587\n",
            "MEAN: 0.5129036556354287\n",
            "\n",
            "\n",
            "\n",
            "k = 410, algorithm = brute, metric = cosine\n",
            "1/3: 0.5220042417815483\n",
            "2/3: 0.5062317687616017\n",
            "3/3: 0.5125961283479183\n",
            "MEAN: 0.5136107129636894\n",
            "\n",
            "\n",
            "\n",
            "k = 415, algorithm = brute, metric = cosine\n",
            "1/3: 0.5217391304347826\n",
            "2/3: 0.5064969504110316\n",
            "3/3: 0.5125961283479183\n",
            "MEAN: 0.5136107363979109\n",
            "\n",
            "\n",
            "\n",
            "k = 420, algorithm = brute, metric = cosine\n",
            "1/3: 0.5225344644750796\n",
            "2/3: 0.505701405462742\n",
            "3/3: 0.5139220365950676\n",
            "MEAN: 0.514052635510963\n",
            "\n",
            "\n",
            "\n",
            "k = 425, algorithm = brute, metric = cosine\n",
            "1/3: 0.5201484623541888\n",
            "2/3: 0.5059665871121718\n",
            "3/3: 0.5139220365950676\n",
            "MEAN: 0.5133456953538095\n",
            "\n",
            "\n",
            "\n",
            "k = 430, algorithm = brute, metric = cosine\n",
            "1/3: 0.5212089077412513\n",
            "2/3: 0.5051710421638823\n",
            "3/3: 0.513126491646778\n",
            "MEAN: 0.5131688138506373\n",
            "\n",
            "\n",
            "\n",
            "k = 435, algorithm = brute, metric = cosine\n",
            "1/3: 0.5212089077412513\n",
            "2/3: 0.505701405462742\n",
            "3/3: 0.5125961283479183\n",
            "MEAN: 0.5131688138506373\n",
            "\n",
            "\n",
            "\n",
            "k = 440, algorithm = brute, metric = cosine\n",
            "1/3: 0.5217391304347826\n",
            "2/3: 0.5054362238133121\n",
            "3/3: 0.513126491646778\n",
            "MEAN: 0.5134339486316243\n",
            "\n",
            "\n",
            "\n",
            "k = 445, algorithm = brute, metric = cosine\n",
            "1/3: 0.517762460233298\n",
            "2/3: 0.5049058605144524\n",
            "3/3: 0.5091487669053302\n",
            "MEAN: 0.5106056958843602\n",
            "\n",
            "\n",
            "\n",
            "k = 450, algorithm = brute, metric = cosine\n",
            "1/3: 0.5174973488865323\n",
            "2/3: 0.5041103155661628\n",
            "3/3: 0.5099443118536198\n",
            "MEAN: 0.5105173254354383\n",
            "\n",
            "\n",
            "\n",
            "k = 455, algorithm = brute, metric = cosine\n",
            "1/3: 0.5190880169671261\n",
            "2/3: 0.5051710421638823\n",
            "3/3: 0.5099443118536198\n",
            "MEAN: 0.5114011236615427\n",
            "\n",
            "\n",
            "\n",
            "k = 460, algorithm = brute, metric = cosine\n",
            "1/3: 0.5190880169671261\n",
            "2/3: 0.5038451339167329\n",
            "3/3: 0.5110050384513392\n",
            "MEAN: 0.5113127297783994\n",
            "\n",
            "\n",
            "\n",
            "k = 465, algorithm = brute, metric = cosine\n",
            "1/3: 0.5204135737009544\n",
            "2/3: 0.505701405462742\n",
            "3/3: 0.5118005833996288\n",
            "MEAN: 0.5126385208544417\n",
            "\n",
            "\n",
            "\n",
            "k = 470, algorithm = brute, metric = cosine\n",
            "1/3: 0.5172322375397667\n",
            "2/3: 0.5051710421638823\n",
            "3/3: 0.5064969504110316\n",
            "MEAN: 0.5096334100382268\n",
            "\n",
            "\n",
            "\n",
            "k = 475, algorithm = brute, metric = cosine\n",
            "1/3: 0.5167020148462355\n",
            "2/3: 0.5043754972155927\n",
            "3/3: 0.5054362238133121\n",
            "MEAN: 0.50883791195838\n",
            "\n",
            "\n",
            "\n",
            "k = 480, algorithm = brute, metric = cosine\n",
            "1/3: 0.5161717921527041\n",
            "2/3: 0.5030495889684434\n",
            "3/3: 0.507557677008751\n",
            "MEAN: 0.5089263527099662\n",
            "\n",
            "\n",
            "\n",
            "k = 485, algorithm = brute, metric = cosine\n",
            "1/3: 0.514846235418876\n",
            "2/3: 0.5027844073190135\n",
            "3/3: 0.5078228586581809\n",
            "MEAN: 0.5084845004653569\n",
            "\n",
            "\n",
            "\n",
            "k = 490, algorithm = brute, metric = cosine\n",
            "1/3: 0.514846235418876\n",
            "2/3: 0.5030495889684434\n",
            "3/3: 0.507557677008751\n",
            "MEAN: 0.5084845004653569\n",
            "\n",
            "\n",
            "\n",
            "k = 495, algorithm = brute, metric = cosine\n",
            "1/3: 0.5124602332979852\n",
            "2/3: 0.5033147706178732\n",
            "3/3: 0.5070273137098913\n",
            "MEAN: 0.5076007725419166\n",
            "\n",
            "\n",
            "\n",
            "k = 500, algorithm = brute, metric = cosine\n",
            "1/3: 0.514846235418876\n",
            "2/3: 0.5038451339167329\n",
            "3/3: 0.5051710421638823\n",
            "MEAN: 0.5079541371664971\n",
            "\n",
            "\n",
            "\n",
            "k = 505, algorithm = brute, metric = cosine\n",
            "1/3: 0.514846235418876\n",
            "2/3: 0.5043754972155927\n",
            "3/3: 0.5046406788650225\n",
            "MEAN: 0.5079541371664971\n",
            "\n",
            "\n",
            "\n",
            "k = 510, algorithm = brute, metric = cosine\n",
            "1/3: 0.5137857900318133\n",
            "2/3: 0.5030495889684434\n",
            "3/3: 0.5027844073190135\n",
            "MEAN: 0.5065399287730902\n",
            "\n",
            "\n",
            "\n",
            "k = 515, algorithm = brute, metric = cosine\n",
            "1/3: 0.5129904559915165\n",
            "2/3: 0.5025192256695836\n",
            "3/3: 0.5049058605144524\n",
            "MEAN: 0.5068051807251842\n",
            "\n",
            "\n",
            "\n",
            "k = 520, algorithm = brute, metric = cosine\n",
            "1/3: 0.513255567338282\n",
            "2/3: 0.5006629541235746\n",
            "3/3: 0.5064969504110316\n",
            "MEAN: 0.5068051572909628\n",
            "\n",
            "\n",
            "\n",
            "k = 525, algorithm = brute, metric = cosine\n",
            "1/3: 0.5121951219512195\n",
            "2/3: 0.5027844073190135\n",
            "3/3: 0.5043754972155927\n",
            "MEAN: 0.5064516754952753\n",
            "\n",
            "\n",
            "\n",
            "k = 530, algorithm = brute, metric = cosine\n",
            "1/3: 0.5127253446447508\n",
            "2/3: 0.5027844073190135\n",
            "3/3: 0.5027844073190135\n",
            "MEAN: 0.5060980530942593\n",
            "\n",
            "\n",
            "\n",
            "k = 535, algorithm = brute, metric = cosine\n",
            "1/3: 0.513255567338282\n",
            "2/3: 0.5030495889684434\n",
            "3/3: 0.5033147706178732\n",
            "MEAN: 0.5065399756415329\n",
            "\n",
            "\n",
            "\n",
            "k = 540, algorithm = brute, metric = cosine\n",
            "1/3: 0.5106044538706257\n",
            "2/3: 0.5033147706178732\n",
            "3/3: 0.5035799522673031\n",
            "MEAN: 0.5058330589186006\n",
            "\n",
            "\n",
            "\n",
            "k = 545, algorithm = brute, metric = cosine\n",
            "1/3: 0.5119300106044539\n",
            "2/3: 0.5022540440201538\n",
            "3/3: 0.5030495889684434\n",
            "MEAN: 0.5057445478643504\n",
            "\n",
            "\n",
            "\n",
            "k = 550, algorithm = brute, metric = cosine\n",
            "1/3: 0.5124602332979852\n",
            "2/3: 0.5017236807212941\n",
            "3/3: 0.5006629541235746\n",
            "MEAN: 0.504948956047618\n",
            "\n",
            "\n",
            "\n",
            "k = 555, algorithm = brute, metric = cosine\n",
            "1/3: 0.5100742311770944\n",
            "2/3: 0.5006629541235746\n",
            "3/3: 0.5014584990718642\n",
            "MEAN: 0.5040652281241778\n",
            "\n",
            "\n",
            "\n",
            "k = 560, algorithm = brute, metric = cosine\n",
            "1/3: 0.5111346765641569\n",
            "2/3: 0.500132590824715\n",
            "3/3: 0.5014584990718642\n",
            "MEAN: 0.5042419221535787\n",
            "\n",
            "\n",
            "\n",
            "k = 565, algorithm = brute, metric = cosine\n",
            "1/3: 0.5113997879109226\n",
            "2/3: 0.49986740917528505\n",
            "3/3: 0.4988066825775656\n",
            "MEAN: 0.5033579598879244\n",
            "\n",
            "\n",
            "\n",
            "k = 570, algorithm = brute, metric = cosine\n",
            "1/3: 0.5111346765641569\n",
            "2/3: 0.5003977724741447\n",
            "3/3: 0.49933704587642536\n",
            "MEAN: 0.5036231649715757\n",
            "\n",
            "\n",
            "\n",
            "k = 575, algorithm = brute, metric = cosine\n",
            "1/3: 0.5095440084835631\n",
            "2/3: 0.49986740917528505\n",
            "3/3: 0.5011933174224343\n",
            "MEAN: 0.5035349116937607\n",
            "\n",
            "\n",
            "\n",
            "k = 580, algorithm = brute, metric = cosine\n",
            "1/3: 0.5090137857900318\n",
            "2/3: 0.5014584990718642\n",
            "3/3: 0.500132590824715\n",
            "MEAN: 0.5035349585622036\n",
            "\n",
            "\n",
            "\n",
            "k = 585, algorithm = brute, metric = cosine\n",
            "1/3: 0.5090137857900318\n",
            "2/3: 0.5035799522673031\n",
            "3/3: 0.5009281357730045\n",
            "MEAN: 0.5045072912767798\n",
            "\n",
            "\n",
            "\n",
            "k = 590, algorithm = brute, metric = cosine\n",
            "1/3: 0.5095440084835631\n",
            "2/3: 0.5022540440201538\n",
            "3/3: 0.5014584990718642\n",
            "MEAN: 0.5044188505251938\n",
            "\n",
            "\n",
            "\n",
            "k = 595, algorithm = brute, metric = cosine\n",
            "1/3: 0.5092788971367974\n",
            "2/3: 0.5027844073190135\n",
            "3/3: 0.5011933174224343\n",
            "MEAN: 0.5044188739594151\n",
            "\n",
            "\n",
            "\n",
            "k = 600, algorithm = brute, metric = cosine\n",
            "1/3: 0.5087486744432662\n",
            "2/3: 0.5025192256695836\n",
            "3/3: 0.5011933174224343\n",
            "MEAN: 0.504153739178428\n",
            "\n",
            "\n",
            "\n",
            "k = 605, algorithm = brute, metric = cosine\n",
            "1/3: 0.5092788971367974\n",
            "2/3: 0.5009281357730045\n",
            "3/3: 0.5006629541235746\n",
            "MEAN: 0.5036233290111255\n",
            "\n",
            "\n",
            "\n",
            "k = 610, algorithm = brute, metric = cosine\n",
            "1/3: 0.5074231177094379\n",
            "2/3: 0.5009281357730045\n",
            "3/3: 0.49986740917528505\n",
            "MEAN: 0.5027395542192424\n",
            "\n",
            "\n",
            "\n",
            "k = 615, algorithm = brute, metric = cosine\n",
            "1/3: 0.5060975609756098\n",
            "2/3: 0.49854150092813576\n",
            "3/3: 0.49986740917528505\n",
            "MEAN: 0.5015021570263435\n",
            "\n",
            "\n",
            "\n",
            "k = 620, algorithm = brute, metric = cosine\n",
            "1/3: 0.5066277836691411\n",
            "2/3: 0.49986740917528505\n",
            "3/3: 0.4996022275258552\n",
            "MEAN: 0.5020324734567604\n",
            "\n",
            "\n",
            "\n",
            "k = 625, algorithm = brute, metric = cosine\n",
            "1/3: 0.5066277836691411\n",
            "2/3: 0.49933704587642536\n",
            "3/3: 0.4964200477326969\n",
            "MEAN: 0.5007949590927545\n",
            "\n",
            "\n",
            "\n",
            "k = 630, algorithm = brute, metric = cosine\n",
            "1/3: 0.5053022269353128\n",
            "2/3: 0.4988066825775656\n",
            "3/3: 0.49615486608326703\n",
            "MEAN: 0.5000879251987151\n",
            "\n",
            "\n",
            "\n",
            "k = 635, algorithm = brute, metric = cosine\n",
            "1/3: 0.5063626723223754\n",
            "2/3: 0.49801113762927607\n",
            "3/3: 0.49801113762927607\n",
            "MEAN: 0.5007949825269759\n",
            "\n",
            "\n",
            "\n",
            "k = 640, algorithm = brute, metric = cosine\n",
            "1/3: 0.5066277836691411\n",
            "2/3: 0.4966852293821268\n",
            "3/3: 0.49801113762927607\n",
            "MEAN: 0.5004413835601813\n",
            "\n",
            "\n",
            "\n",
            "k = 645, algorithm = brute, metric = cosine\n",
            "1/3: 0.5039766702014846\n",
            "2/3: 0.49854150092813576\n",
            "3/3: 0.4996022275258552\n",
            "MEAN: 0.5007067995518252\n",
            "\n",
            "\n",
            "\n",
            "k = 650, algorithm = brute, metric = cosine\n",
            "1/3: 0.5050371155885471\n",
            "2/3: 0.4974807743304163\n",
            "3/3: 0.49801113762927607\n",
            "MEAN: 0.5001763425160798\n",
            "\n",
            "\n",
            "\n",
            "k = 655, algorithm = brute, metric = cosine\n",
            "1/3: 0.5031813361611877\n",
            "2/3: 0.49615486608326703\n",
            "3/3: 0.49854150092813576\n",
            "MEAN: 0.49929256772419683\n",
            "\n",
            "\n",
            "\n",
            "k = 660, algorithm = brute, metric = cosine\n",
            "1/3: 0.5029162248144221\n",
            "2/3: 0.49615486608326703\n",
            "3/3: 0.49933704587642536\n",
            "MEAN: 0.4994693789247049\n",
            "\n",
            "\n",
            "\n",
            "k = 665, algorithm = brute, metric = cosine\n",
            "1/3: 0.503711558854719\n",
            "2/3: 0.4945637761866879\n",
            "3/3: 0.4990718642269955\n",
            "MEAN: 0.4991157330894675\n",
            "\n",
            "\n",
            "\n",
            "k = 670, algorithm = brute, metric = cosine\n",
            "1/3: 0.5018557794273595\n",
            "2/3: 0.4937682312383983\n",
            "3/3: 0.49986740917528505\n",
            "MEAN: 0.4984971399470142\n",
            "\n",
            "\n",
            "\n",
            "k = 675, algorithm = brute, metric = cosine\n",
            "1/3: 0.5026511134676565\n",
            "2/3: 0.4950941394855476\n",
            "3/3: 0.4974807743304163\n",
            "MEAN: 0.4984086757612068\n",
            "\n",
            "\n",
            "\n",
            "k = 680, algorithm = brute, metric = cosine\n",
            "1/3: 0.5045068928950159\n",
            "2/3: 0.4945637761866879\n",
            "3/3: 0.49350304958896846\n",
            "MEAN: 0.49752457289022406\n",
            "\n",
            "\n",
            "\n",
            "k = 685, algorithm = brute, metric = cosine\n",
            "1/3: 0.5031813361611877\n",
            "2/3: 0.494298594537258\n",
            "3/3: 0.49482895783611774\n",
            "MEAN: 0.4974362961781878\n",
            "\n",
            "\n",
            "\n",
            "k = 690, algorithm = brute, metric = cosine\n",
            "1/3: 0.5029162248144221\n",
            "2/3: 0.4929726862901087\n",
            "3/3: 0.4966852293821268\n",
            "MEAN: 0.49752471349555255\n",
            "\n",
            "\n",
            "\n",
            "k = 695, algorithm = brute, metric = cosine\n",
            "1/3: 0.5029162248144221\n",
            "2/3: 0.4937682312383983\n",
            "3/3: 0.4964200477326969\n",
            "MEAN: 0.4977015012618391\n",
            "\n",
            "\n",
            "\n",
            "k = 700, algorithm = brute, metric = cosine\n",
            "1/3: 0.5034464475079533\n",
            "2/3: 0.4913815963935296\n",
            "3/3: 0.494298594537258\n",
            "MEAN: 0.49637554614624696\n",
            "\n",
            "\n",
            "\n",
            "k = 705, algorithm = brute, metric = cosine\n",
            "1/3: 0.5050371155885471\n",
            "2/3: 0.4932378679395386\n",
            "3/3: 0.49217714134181917\n",
            "MEAN: 0.49681737495663497\n",
            "\n",
            "\n",
            "\n",
            "k = 710, algorithm = brute, metric = cosine\n",
            "1/3: 0.5031813361611877\n",
            "2/3: 0.494298594537258\n",
            "3/3: 0.4900556881463803\n",
            "MEAN: 0.4958452062816086\n",
            "\n",
            "\n",
            "\n",
            "k = 715, algorithm = brute, metric = cosine\n",
            "1/3: 0.5018557794273595\n",
            "2/3: 0.4945637761866879\n",
            "3/3: 0.4908512330946698\n",
            "MEAN: 0.49575692956957235\n",
            "\n",
            "\n",
            "\n",
            "k = 720, algorithm = brute, metric = cosine\n",
            "1/3: 0.500795334040297\n",
            "2/3: 0.4945637761866879\n",
            "3/3: 0.49350304958896846\n",
            "MEAN: 0.49628738660531774\n",
            "\n",
            "\n",
            "\n",
            "k = 725, algorithm = brute, metric = cosine\n",
            "1/3: 0.5\n",
            "2/3: 0.4932378679395386\n",
            "3/3: 0.4929726862901087\n",
            "MEAN: 0.4954035180765491\n",
            "\n",
            "\n",
            "\n",
            "k = 730, algorithm = brute, metric = cosine\n",
            "1/3: 0.4986744432661718\n",
            "2/3: 0.49270750464067886\n",
            "3/3: 0.494298594537258\n",
            "MEAN: 0.4952268474813695\n",
            "\n",
            "\n",
            "\n",
            "k = 735, algorithm = brute, metric = cosine\n",
            "1/3: 0.4992046659597031\n",
            "2/3: 0.4929726862901087\n",
            "3/3: 0.49032086979581013\n",
            "MEAN: 0.49416607401520735\n",
            "\n",
            "\n",
            "\n",
            "k = 740, algorithm = brute, metric = cosine\n",
            "1/3: 0.5005302226935313\n",
            "2/3: 0.49217714134181917\n",
            "3/3: 0.4900556881463803\n",
            "MEAN: 0.4942543507272436\n",
            "\n",
            "\n",
            "\n",
            "k = 745, algorithm = brute, metric = cosine\n",
            "1/3: 0.5015906680805938\n",
            "2/3: 0.49058605144524\n",
            "3/3: 0.4913815963935296\n",
            "MEAN: 0.49451943863978776\n",
            "\n",
            "\n",
            "\n",
            "k = 750, algorithm = brute, metric = cosine\n",
            "1/3: 0.5010604453870625\n",
            "2/3: 0.48899496154866084\n",
            "3/3: 0.48952532484752054\n",
            "MEAN: 0.4931935772610813\n",
            "\n",
            "\n",
            "\n",
            "k = 755, algorithm = brute, metric = cosine\n",
            "1/3: 0.49946977730646874\n",
            "2/3: 0.4897905064969504\n",
            "3/3: 0.49032086979581013\n",
            "MEAN: 0.4931937178664098\n",
            "\n",
            "\n",
            "\n",
            "k = 760, algorithm = brute, metric = cosine\n",
            "1/3: 0.49973488865323434\n",
            "2/3: 0.4866083267037921\n",
            "3/3: 0.4911164147440997\n",
            "MEAN: 0.492486543367042\n",
            "\n",
            "\n",
            "\n",
            "k = 765, algorithm = brute, metric = cosine\n",
            "1/3: 0.49946977730646874\n",
            "2/3: 0.48740387165208165\n",
            "3/3: 0.492442322991249\n",
            "MEAN: 0.4931053239832665\n",
            "\n",
            "\n",
            "\n",
            "k = 770, algorithm = brute, metric = cosine\n",
            "1/3: 0.4986744432661718\n",
            "2/3: 0.48687350835322196\n",
            "3/3: 0.4908512330946698\n",
            "MEAN: 0.49213306157135445\n",
            "\n",
            "\n",
            "\n",
            "k = 775, algorithm = brute, metric = cosine\n",
            "1/3: 0.4992046659597031\n",
            "2/3: 0.4858127817555025\n",
            "3/3: 0.4908512330946698\n",
            "MEAN: 0.4919562269366251\n",
            "\n",
            "\n",
            "\n",
            "k = 780, algorithm = brute, metric = cosine\n",
            "1/3: 0.4976139978791092\n",
            "2/3: 0.4863431450543622\n",
            "3/3: 0.49058605144524\n",
            "MEAN: 0.49151439812623715\n",
            "\n",
            "\n",
            "\n",
            "k = 785, algorithm = brute, metric = cosine\n",
            "1/3: 0.4986744432661718\n",
            "2/3: 0.4858127817555025\n",
            "3/3: 0.4916467780429594\n",
            "MEAN: 0.49204466768821126\n",
            "\n",
            "\n",
            "\n",
            "k = 790, algorithm = brute, metric = cosine\n",
            "1/3: 0.4992046659597031\n",
            "2/3: 0.4839565102094935\n",
            "3/3: 0.49191195969238927\n",
            "MEAN: 0.49169104528719526\n",
            "\n",
            "\n",
            "\n",
            "k = 795, algorithm = brute, metric = cosine\n",
            "1/3: 0.4984093319194062\n",
            "2/3: 0.48740387165208165\n",
            "3/3: 0.4900556881463803\n",
            "MEAN: 0.4919562972392894\n",
            "\n",
            "\n",
            "\n",
            "k = 800, algorithm = brute, metric = cosine\n",
            "1/3: 0.4968186638388123\n",
            "2/3: 0.4858127817555025\n",
            "3/3: 0.49058605144524\n",
            "MEAN: 0.49107249901318495\n",
            "\n",
            "\n",
            "\n",
            "k = 805, algorithm = brute, metric = cosine\n",
            "1/3: 0.49708377518557795\n",
            "2/3: 0.4858127817555025\n",
            "3/3: 0.4897905064969504\n",
            "MEAN: 0.49089568781267695\n",
            "\n",
            "\n",
            "\n",
            "k = 810, algorithm = brute, metric = cosine\n",
            "1/3: 0.49708377518557795\n",
            "2/3: 0.48316096526120395\n",
            "3/3: 0.488729779899231\n",
            "MEAN: 0.48965817344867096\n",
            "\n",
            "\n",
            "\n",
            "k = 815, algorithm = brute, metric = cosine\n",
            "1/3: 0.49522799575821846\n",
            "2/3: 0.48289578361177404\n",
            "3/3: 0.48899496154866084\n",
            "MEAN: 0.48903958030621775\n",
            "\n",
            "\n",
            "\n",
            "k = 820, algorithm = brute, metric = cosine\n",
            "1/3: 0.49628844114528103\n",
            "2/3: 0.48236542031291435\n",
            "3/3: 0.4879342349509414\n",
            "MEAN: 0.4888626988030456\n",
            "\n",
            "\n",
            "\n",
            "k = 825, algorithm = brute, metric = cosine\n",
            "1/3: 0.49708377518557795\n",
            "2/3: 0.4834261469106338\n",
            "3/3: 0.4866083267037921\n",
            "MEAN: 0.48903941626666797\n",
            "\n",
            "\n",
            "\n",
            "k = 830, algorithm = brute, metric = cosine\n",
            "1/3: 0.4957582184517497\n",
            "2/3: 0.48369132856006364\n",
            "3/3: 0.48528241845664283\n",
            "MEAN: 0.4882439884894854\n",
            "\n",
            "\n",
            "\n",
            "k = 835, algorithm = brute, metric = cosine\n",
            "1/3: 0.4954931071049841\n",
            "2/3: 0.48369132856006364\n",
            "3/3: 0.4855476001060727\n",
            "MEAN: 0.4882440119237068\n",
            "\n",
            "\n",
            "\n",
            "k = 840, algorithm = brute, metric = cosine\n",
            "1/3: 0.49628844114528103\n",
            "2/3: 0.48369132856006364\n",
            "3/3: 0.48607796340493237\n",
            "MEAN: 0.488685911036759\n",
            "\n",
            "\n",
            "\n",
            "k = 845, algorithm = brute, metric = cosine\n",
            "1/3: 0.4957582184517497\n",
            "2/3: 0.4855476001060727\n",
            "3/3: 0.4863431450543622\n",
            "MEAN: 0.4892163212040615\n",
            "\n",
            "\n",
            "\n",
            "k = 850, algorithm = brute, metric = cosine\n",
            "1/3: 0.4949628844114528\n",
            "2/3: 0.4839565102094935\n",
            "3/3: 0.4858127817555025\n",
            "MEAN: 0.48824405879214955\n",
            "\n",
            "\n",
            "\n",
            "k = 855, algorithm = brute, metric = cosine\n",
            "1/3: 0.4949628844114528\n",
            "2/3: 0.4842216918589234\n",
            "3/3: 0.48528241845664283\n",
            "MEAN: 0.48815566490900636\n",
            "\n",
            "\n",
            "\n",
            "k = 860, algorithm = brute, metric = cosine\n",
            "1/3: 0.4949628844114528\n",
            "2/3: 0.4839565102094935\n",
            "3/3: 0.4842216918589234\n",
            "MEAN: 0.4877136954932899\n",
            "\n",
            "\n",
            "\n",
            "k = 865, algorithm = brute, metric = cosine\n",
            "1/3: 0.493372216330859\n",
            "2/3: 0.4839565102094935\n",
            "3/3: 0.4842216918589234\n",
            "MEAN: 0.48718347279975865\n",
            "\n",
            "\n",
            "\n",
            "k = 870, algorithm = brute, metric = cosine\n",
            "1/3: 0.49390243902439024\n",
            "2/3: 0.4855476001060727\n",
            "3/3: 0.4855476001060727\n",
            "MEAN: 0.48833254641217855\n",
            "\n",
            "\n",
            "\n",
            "k = 875, algorithm = brute, metric = cosine\n",
            "1/3: 0.4936373276776246\n",
            "2/3: 0.4855476001060727\n",
            "3/3: 0.48448687350835323\n",
            "MEAN: 0.4878906004306835\n",
            "\n",
            "\n",
            "\n",
            "k = 880, algorithm = brute, metric = cosine\n",
            "1/3: 0.492576882290562\n",
            "2/3: 0.4842216918589234\n",
            "3/3: 0.4858127817555025\n",
            "MEAN: 0.48753711863499594\n",
            "\n",
            "\n",
            "\n",
            "k = 885, algorithm = brute, metric = cosine\n",
            "1/3: 0.49284199363732767\n",
            "2/3: 0.4818350570140546\n",
            "3/3: 0.48369132856006364\n",
            "MEAN: 0.48612279307048195\n",
            "\n",
            "\n",
            "\n",
            "k = 890, algorithm = brute, metric = cosine\n",
            "1/3: 0.4917815482502651\n",
            "2/3: 0.48236542031291435\n",
            "3/3: 0.4839565102094935\n",
            "MEAN: 0.48603449292422435\n",
            "\n",
            "\n",
            "\n",
            "k = 895, algorithm = brute, metric = cosine\n",
            "1/3: 0.49072110286320253\n",
            "2/3: 0.48236542031291435\n",
            "3/3: 0.4842216918589234\n",
            "MEAN: 0.4857694050116801\n",
            "\n",
            "\n",
            "\n",
            "k = 900, algorithm = brute, metric = cosine\n",
            "1/3: 0.49204665959703076\n",
            "2/3: 0.4805091487669053\n",
            "3/3: 0.48369132856006364\n",
            "MEAN: 0.4854157123079999\n",
            "\n",
            "\n",
            "\n",
            "k = 905, algorithm = brute, metric = cosine\n",
            "1/3: 0.4917815482502651\n",
            "2/3: 0.48103951206576506\n",
            "3/3: 0.4839565102094935\n",
            "MEAN: 0.48559252350850785\n",
            "\n",
            "\n",
            "\n",
            "k = 910, algorithm = brute, metric = cosine\n",
            "1/3: 0.49125132555673384\n",
            "2/3: 0.4818350570140546\n",
            "3/3: 0.4821002386634845\n",
            "MEAN: 0.485062207078091\n",
            "\n",
            "\n",
            "\n",
            "k = 915, algorithm = brute, metric = cosine\n",
            "1/3: 0.49072110286320253\n",
            "2/3: 0.48103951206576506\n",
            "3/3: 0.4834261469106338\n",
            "MEAN: 0.48506225394653385\n",
            "\n",
            "\n",
            "\n",
            "k = 920, algorithm = brute, metric = cosine\n",
            "1/3: 0.4899257688229056\n",
            "2/3: 0.4813046937151949\n",
            "3/3: 0.4847520551577831\n",
            "MEAN: 0.4853275058986279\n",
            "\n",
            "\n",
            "\n",
            "k = 925, algorithm = brute, metric = cosine\n",
            "1/3: 0.48966065747613996\n",
            "2/3: 0.48103951206576506\n",
            "3/3: 0.48528241845664283\n",
            "MEAN: 0.48532752933284934\n",
            "\n",
            "\n",
            "\n",
            "k = 930, algorithm = brute, metric = cosine\n",
            "1/3: 0.4891304347826087\n",
            "2/3: 0.4807743304163352\n",
            "3/3: 0.4834261469106338\n",
            "MEAN: 0.48444363736985924\n",
            "\n",
            "\n",
            "\n",
            "k = 935, algorithm = brute, metric = cosine\n",
            "1/3: 0.48939554612937436\n",
            "2/3: 0.47865287722089633\n",
            "3/3: 0.48236542031291435\n",
            "MEAN: 0.4834712812210617\n",
            "\n",
            "\n",
            "\n",
            "k = 940, algorithm = brute, metric = cosine\n",
            "1/3: 0.48939554612937436\n",
            "2/3: 0.47838769557146643\n",
            "3/3: 0.4813046937151949\n",
            "MEAN: 0.48302931180534525\n",
            "\n",
            "\n",
            "\n",
            "k = 945, algorithm = brute, metric = cosine\n",
            "1/3: 0.49045599151643693\n",
            "2/3: 0.47838769557146643\n",
            "3/3: 0.4826306019623442\n",
            "MEAN: 0.48382476301674915\n",
            "\n",
            "\n",
            "\n",
            "k = 950, algorithm = brute, metric = cosine\n",
            "1/3: 0.48886532343584305\n",
            "2/3: 0.47865287722089633\n",
            "3/3: 0.48316096526120395\n",
            "MEAN: 0.48355972197264774\n",
            "\n",
            "\n",
            "\n",
            "k = 955, algorithm = brute, metric = cosine\n",
            "1/3: 0.48621420996818665\n",
            "2/3: 0.47785733227260674\n",
            "3/3: 0.48236542031291435\n",
            "MEAN: 0.48214565418456923\n",
            "\n",
            "\n",
            "\n",
            "k = 960, algorithm = brute, metric = cosine\n",
            "1/3: 0.4864793213149523\n",
            "2/3: 0.47785733227260674\n",
            "3/3: 0.48316096526120395\n",
            "MEAN: 0.482499206282921\n",
            "\n",
            "\n",
            "\n",
            "k = 965, algorithm = brute, metric = cosine\n",
            "1/3: 0.4878048780487805\n",
            "2/3: 0.4775921506231769\n",
            "3/3: 0.48236542031291435\n",
            "MEAN: 0.48258748299495724\n",
            "\n",
            "\n",
            "\n",
            "k = 970, algorithm = brute, metric = cosine\n",
            "1/3: 0.4886002120890774\n",
            "2/3: 0.47520551577830816\n",
            "3/3: 0.48289578361177404\n",
            "MEAN: 0.48223383715971985\n",
            "\n",
            "\n",
            "\n",
            "k = 975, algorithm = brute, metric = cosine\n",
            "1/3: 0.4872746553552492\n",
            "2/3: 0.47520551577830816\n",
            "3/3: 0.48236542031291435\n",
            "MEAN: 0.4816151971488239\n",
            "\n",
            "\n",
            "\n",
            "k = 980, algorithm = brute, metric = cosine\n",
            "1/3: 0.4840933191940615\n",
            "2/3: 0.47520551577830816\n",
            "3/3: 0.4805091487669053\n",
            "MEAN: 0.47993599457975833\n",
            "\n",
            "\n",
            "\n",
            "k = 985, algorithm = brute, metric = cosine\n",
            "1/3: 0.485949098621421\n",
            "2/3: 0.47440997083001857\n",
            "3/3: 0.4805091487669053\n",
            "MEAN: 0.4802894060727816\n",
            "\n",
            "\n",
            "\n",
            "k = 990, algorithm = brute, metric = cosine\n",
            "1/3: 0.4851537645811241\n",
            "2/3: 0.47494033412887826\n",
            "3/3: 0.479183240519756\n",
            "MEAN: 0.47975911307658614\n",
            "\n",
            "\n",
            "\n",
            "k = 995, algorithm = brute, metric = cosine\n",
            "1/3: 0.48541887592788974\n",
            "2/3: 0.4760010607265977\n",
            "3/3: 0.479183240519756\n",
            "MEAN: 0.4802010590580812\n",
            "\n",
            "\n",
            "\n",
            "k = 1000, algorithm = brute, metric = cosine\n",
            "1/3: 0.48541887592788974\n",
            "2/3: 0.4767966056748873\n",
            "3/3: 0.4789180588703262\n",
            "MEAN: 0.48037784682436774\n",
            "\n",
            "\n",
            "\n",
            "Best score is 0.5354423148361399\n",
            "k = 80\n",
            "(Last was 0.4977898248423182)\n"
          ],
          "name": "stdout"
        },
        {
          "output_type": "display_data",
          "data": {
            "image/png": "[encoded data removed]",
            "text/plain": [
              "<Figure size 1080x576 with 1 Axes>"
            ]
          },
          "metadata": {
            "tags": [],
            "needs_background": "light"
          }
        },
        {
          "output_type": "stream",
          "text": [
            "CPU times: user 49min 48s, sys: 1min 15s, total: 51min 4s\n",
            "Wall time: 29min 16s\n"
          ],
          "name": "stdout"
        }
      ]
    },
    {
      "cell_type": "code",
      "metadata": {
        "id": "QzK7-TPWhSEA",
        "outputId": "e2942b96-55a0-4a94-96d4-f5b29c842f36",
        "colab": {
          "base_uri": "https://localhost:8080/",
          "height": 1000
        }
      },
      "source": [
        "%%time\n",
        "array_k = np.arange(5, 300, 10)\n",
        "scores = get_score_vectorizer(array_k, literal=True)"
      ],
      "execution_count": 213,
      "outputs": [
        {
          "output_type": "stream",
          "text": [
            "k = 5, algorithm = brute, metric = cosine, standartisation = True, shape = (11314, 1216)\n",
            "1/3: 0.44538706256627786\n",
            "2/3: 0.43967117475470696\n",
            "3/3: 0.43595863166268894\n",
            "MEAN: 0.4403389563278912\n",
            "\n",
            "\n",
            "k = 15, algorithm = brute, metric = cosine, standartisation = True, shape = (11314, 1216)\n",
            "1/3: 0.5039766702014846\n",
            "2/3: 0.4958896844338372\n",
            "3/3: 0.500132590824715\n",
            "MEAN: 0.4999996484866789\n",
            "\n",
            "\n",
            "k = 25, algorithm = brute, metric = cosine, standartisation = True, shape = (11314, 1216)\n",
            "1/3: 0.5270413573700954\n",
            "2/3: 0.5088835852559003\n",
            "3/3: 0.5136568549456377\n",
            "MEAN: 0.5165272658572111\n",
            "\n",
            "\n",
            "k = 35, algorithm = brute, metric = cosine, standartisation = True, shape = (11314, 1216)\n",
            "1/3: 0.5373806998939554\n",
            "2/3: 0.5173693980376558\n",
            "3/3: 0.5213471227791037\n",
            "MEAN: 0.525365740236905\n",
            "\n",
            "\n",
            "k = 45, algorithm = brute, metric = cosine, standartisation = True, shape = (11314, 1216)\n",
            "1/3: 0.5416224814422057\n",
            "2/3: 0.5192256695836648\n",
            "3/3: 0.520816759480244\n",
            "MEAN: 0.5272216368353715\n",
            "\n",
            "\n",
            "k = 55, algorithm = brute, metric = cosine, standartisation = True, shape = (11314, 1216)\n",
            "1/3: 0.5410922587486744\n",
            "2/3: 0.5224078493768232\n",
            "3/3: 0.5266507557677009\n",
            "MEAN: 0.5300502879643995\n",
            "\n",
            "\n",
            "k = 65, algorithm = brute, metric = cosine, standartisation = True, shape = (11314, 1216)\n",
            "1/3: 0.5410922587486744\n",
            "2/3: 0.5300981172102891\n",
            "3/3: 0.5287722089631397\n",
            "MEAN: 0.5333208616407011\n",
            "\n",
            "\n",
            "k = 75, algorithm = brute, metric = cosine, standartisation = True, shape = (11314, 1216)\n",
            "1/3: 0.5408271474019088\n",
            "2/3: 0.5239989392734022\n",
            "3/3: 0.5308936621585786\n",
            "MEAN: 0.5319065829446298\n",
            "\n",
            "\n",
            "k = 85, algorithm = brute, metric = cosine, standartisation = True, shape = (11314, 1216)\n",
            "1/3: 0.5389713679745494\n",
            "2/3: 0.5271811190665606\n",
            "3/3: 0.535666931848316\n",
            "MEAN: 0.5339398062964753\n",
            "\n",
            "\n",
            "k = 95, algorithm = brute, metric = cosine, standartisation = True, shape = (11314, 1216)\n",
            "1/3: 0.5400318133616119\n",
            "2/3: 0.5234685759745425\n",
            "3/3: 0.5351365685494563\n",
            "MEAN: 0.5328789859618702\n",
            "\n",
            "\n",
            "k = 105, algorithm = brute, metric = cosine, standartisation = True, shape = (11314, 1216)\n",
            "1/3: 0.5448038176033935\n",
            "2/3: 0.5271811190665606\n",
            "3/3: 0.5367276584460355\n",
            "MEAN: 0.5362375317053298\n",
            "\n",
            "\n",
            "k = 115, algorithm = brute, metric = cosine, standartisation = True, shape = (11314, 1216)\n",
            "1/3: 0.5463944856839873\n",
            "2/3: 0.5298329355608592\n",
            "3/3: 0.535666931848316\n",
            "MEAN: 0.5372981176977208\n",
            "\n",
            "\n",
            "k = 125, algorithm = brute, metric = cosine, standartisation = True, shape = (11314, 1216)\n",
            "1/3: 0.5442735949098622\n",
            "2/3: 0.5293025722619995\n",
            "3/3: 0.5346062052505967\n",
            "MEAN: 0.5360607908074861\n",
            "\n",
            "\n",
            "k = 135, algorithm = brute, metric = cosine, standartisation = True, shape = (11314, 1216)\n",
            "1/3: 0.5437433722163308\n",
            "2/3: 0.5261203924688411\n",
            "3/3: 0.5316892071068682\n",
            "MEAN: 0.5338509905973466\n",
            "\n",
            "\n",
            "k = 145, algorithm = brute, metric = cosine, standartisation = True, shape = (11314, 1216)\n",
            "1/3: 0.5432131495227995\n",
            "2/3: 0.52824184566428\n",
            "3/3: 0.5348713869000266\n",
            "MEAN: 0.5354421273623687\n",
            "\n",
            "\n",
            "k = 155, algorithm = brute, metric = cosine, standartisation = True, shape = (11314, 1216)\n",
            "1/3: 0.5442735949098622\n",
            "2/3: 0.5242641209228321\n",
            "3/3: 0.5335454786528773\n",
            "MEAN: 0.5340277314951906\n",
            "\n",
            "\n",
            "k = 165, algorithm = brute, metric = cosine, standartisation = True, shape = (11314, 1216)\n",
            "1/3: 0.546659597030753\n",
            "2/3: 0.5269159374171307\n",
            "3/3: 0.534075841951737\n",
            "MEAN: 0.5358837921332068\n",
            "\n",
            "\n",
            "k = 175, algorithm = brute, metric = cosine, standartisation = True, shape = (11314, 1216)\n",
            "1/3: 0.5442735949098622\n",
            "2/3: 0.5250596658711217\n",
            "3/3: 0.5327499337045877\n",
            "MEAN: 0.5340277314951906\n",
            "\n",
            "\n",
            "k = 185, algorithm = brute, metric = cosine, standartisation = True, shape = (11314, 1216)\n",
            "1/3: 0.5426829268292683\n",
            "2/3: 0.5258552108194113\n",
            "3/3: 0.5298329355608592\n",
            "MEAN: 0.5327903577365131\n",
            "\n",
            "\n",
            "k = 195, algorithm = brute, metric = cosine, standartisation = True, shape = (11314, 1216)\n",
            "1/3: 0.5424178154825027\n",
            "2/3: 0.5247944842216918\n",
            "3/3: 0.5277114823654203\n",
            "MEAN: 0.5316412606898716\n",
            "\n",
            "\n",
            "k = 205, algorithm = brute, metric = cosine, standartisation = True, shape = (11314, 1216)\n",
            "1/3: 0.542152704135737\n",
            "2/3: 0.5234685759745425\n",
            "3/3: 0.5293025722619995\n",
            "MEAN: 0.5316412841240931\n",
            "\n",
            "\n",
            "k = 215, algorithm = brute, metric = cosine, standartisation = True, shape = (11314, 1216)\n",
            "1/3: 0.5397667020148462\n",
            "2/3: 0.5239989392734022\n",
            "3/3: 0.5285070273137099\n",
            "MEAN: 0.5307575562006527\n",
            "\n",
            "\n",
            "k = 225, algorithm = brute, metric = cosine, standartisation = True, shape = (11314, 1216)\n",
            "1/3: 0.5373806998939554\n",
            "2/3: 0.5269159374171307\n",
            "3/3: 0.5293025722619995\n",
            "MEAN: 0.5311997365243619\n",
            "\n",
            "\n",
            "k = 235, algorithm = brute, metric = cosine, standartisation = True, shape = (11314, 1216)\n",
            "1/3: 0.538441145281018\n",
            "2/3: 0.5232033943251126\n",
            "3/3: 0.5258552108194113\n",
            "MEAN: 0.5291665834751806\n",
            "\n",
            "\n",
            "k = 245, algorithm = brute, metric = cosine, standartisation = True, shape = (11314, 1216)\n",
            "1/3: 0.5371155885471898\n",
            "2/3: 0.5253248475205515\n",
            "3/3: 0.5253248475205515\n",
            "MEAN: 0.529255094529431\n",
            "\n",
            "\n",
            "k = 255, algorithm = brute, metric = cosine, standartisation = True, shape = (11314, 1216)\n",
            "1/3: 0.5363202545068929\n",
            "2/3: 0.5258552108194113\n",
            "3/3: 0.526385574118271\n",
            "MEAN: 0.5295203464815251\n",
            "\n",
            "\n",
            "k = 265, algorithm = brute, metric = cosine, standartisation = True, shape = (11314, 1216)\n",
            "1/3: 0.5355249204665959\n",
            "2/3: 0.5255900291699814\n",
            "3/3: 0.5274463007159904\n",
            "MEAN: 0.5295204167841893\n",
            "\n",
            "\n",
            "k = 275, algorithm = brute, metric = cosine, standartisation = True, shape = (11314, 1216)\n",
            "1/3: 0.5357900318133616\n",
            "2/3: 0.5239989392734022\n",
            "3/3: 0.5269159374171307\n",
            "MEAN: 0.5289016361679648\n",
            "\n",
            "\n",
            "k = 285, algorithm = brute, metric = cosine, standartisation = True, shape = (11314, 1216)\n",
            "1/3: 0.5373806998939554\n",
            "2/3: 0.5234685759745425\n",
            "3/3: 0.5229382126756829\n",
            "MEAN: 0.5279291628480602\n",
            "\n",
            "\n",
            "k = 295, algorithm = brute, metric = cosine, standartisation = True, shape = (11314, 1216)\n",
            "1/3: 0.5368504772004242\n",
            "2/3: 0.5210819411296739\n",
            "3/3: 0.5234685759745425\n",
            "MEAN: 0.5271336647682136\n",
            "\n",
            "\n",
            "Best score is 0.5372981176977208\n",
            "k = 115\n",
            "\n",
            "\n"
          ],
          "name": "stdout"
        },
        {
          "output_type": "display_data",
          "data": {
            "image/png": "[encoded data removed]",
            "text/plain": [
              "<Figure size 1080x576 with 1 Axes>"
            ]
          },
          "metadata": {
            "tags": [],
            "needs_background": "light"
          }
        },
        {
          "output_type": "stream",
          "text": [
            "CPU times: user 7min 14s, sys: 10.8 s, total: 7min 25s\n",
            "Wall time: 4min 18s\n"
          ],
          "name": "stdout"
        }
      ]
    },
    {
      "cell_type": "markdown",
      "metadata": {
        "id": "9jsVgdXRDyII"
      },
      "source": [
        "*sublinear_tf*"
      ]
    },
    {
      "cell_type": "code",
      "metadata": {
        "id": "LuybktKtHh9l",
        "outputId": "06bfa37b-9647-4460-f576-61b31f2d30bf",
        "colab": {
          "base_uri": "https://localhost:8080/",
          "height": 546
        }
      },
      "source": [
        "%%time\n",
        "array_k = np.arange(70, 171, 10)\n",
        "\n",
        "score_data = {}\n",
        "score_data['sublinear_tf=False'] = get_score_vectorizer(array_k, sublinear_tf=False, print_all=False, make_plot=False, print_best=False)\n",
        "score_data['sublinear_tf=True'] = get_score_vectorizer(array_k, sublinear_tf=True, print_all=False, make_plot=False, print_best=False)\n",
        "\n",
        "plot_acc_1(array_k, score_data, 'sublinear_tf')"
      ],
      "execution_count": 215,
      "outputs": [
        {
          "output_type": "display_data",
          "data": {
            "image/png": "[encoded data removed]",
            "text/plain": [
              "<Figure size 1080x576 with 1 Axes>"
            ]
          },
          "metadata": {
            "tags": [],
            "needs_background": "light"
          }
        },
        {
          "output_type": "stream",
          "text": [
            "CPU times: user 5min 24s, sys: 7.71 s, total: 5min 31s\n",
            "Wall time: 3min 11s\n"
          ],
          "name": "stdout"
        }
      ]
    },
    {
      "cell_type": "markdown",
      "metadata": {
        "id": "20bqQOwmIYDF"
      },
      "source": [
        "*Поэтому везде выставим sublinear_tf=True*"
      ]
    },
    {
      "cell_type": "code",
      "metadata": {
        "id": "iOcV7s3nkDvA",
        "outputId": "5081b011-d271-490f-b426-d175968fddc2",
        "colab": {
          "base_uri": "https://localhost:8080/",
          "height": 1000
        }
      },
      "source": [
        "%%time\n",
        "array_k = np.arange(75, 171, 5)\n",
        "get_score_vectorizer(array_k, min_df=0.001, max_features=100000)"
      ],
      "execution_count": 220,
      "outputs": [
        {
          "output_type": "stream",
          "text": [
            "k = 75, algorithm = brute, metric = cosine, standartisation = True, shape = (11314, 9236)\n",
            "1/3: 0.6874337221633086\n",
            "2/3: 0.6785998408910103\n",
            "3/3: 0.6820472023335985\n",
            "MEAN: 0.6826935884626392\n",
            "\n",
            "\n",
            "k = 80, algorithm = brute, metric = cosine, standartisation = True, shape = (11314, 9236)\n",
            "1/3: 0.6887592788971368\n",
            "2/3: 0.6785998408910103\n",
            "3/3: 0.6820472023335985\n",
            "MEAN: 0.6831354407072485\n",
            "\n",
            "\n",
            "k = 85, algorithm = brute, metric = cosine, standartisation = True, shape = (11314, 9236)\n",
            "1/3: 0.6861081654294804\n",
            "2/3: 0.6730310262529833\n",
            "3/3: 0.677539114293291\n",
            "MEAN: 0.6788927686585847\n",
            "\n",
            "\n",
            "k = 90, algorithm = brute, metric = cosine, standartisation = True, shape = (11314, 9236)\n",
            "1/3: 0.6874337221633086\n",
            "2/3: 0.6730310262529833\n",
            "3/3: 0.6732962079024132\n",
            "MEAN: 0.6779203187729017\n",
            "\n",
            "\n",
            "k = 95, algorithm = brute, metric = cosine, standartisation = True, shape = (11314, 9236)\n",
            "1/3: 0.6861081654294804\n",
            "2/3: 0.6743569345001326\n",
            "3/3: 0.6703792097586847\n",
            "MEAN: 0.6769481032294326\n",
            "\n",
            "\n",
            "k = 100, algorithm = brute, metric = cosine, standartisation = True, shape = (11314, 9236)\n",
            "1/3: 0.6869034994697774\n",
            "2/3: 0.6703792097586847\n",
            "3/3: 0.6690533015115354\n",
            "MEAN: 0.6754453369133325\n",
            "\n",
            "\n",
            "k = 105, algorithm = brute, metric = cosine, standartisation = True, shape = (11314, 9236)\n",
            "1/3: 0.6866383881230117\n",
            "2/3: 0.6711747547069743\n",
            "3/3: 0.6709095730575444\n",
            "MEAN: 0.6762409052958435\n",
            "\n",
            "\n",
            "k = 110, algorithm = brute, metric = cosine, standartisation = True, shape = (11314, 9236)\n",
            "1/3: 0.686373276776246\n",
            "2/3: 0.671705118005834\n",
            "3/3: 0.6714399363564041\n",
            "MEAN: 0.6765061103794947\n",
            "\n",
            "\n",
            "k = 115, algorithm = brute, metric = cosine, standartisation = True, shape = (11314, 9236)\n",
            "1/3: 0.6858430540827147\n",
            "2/3: 0.6706443914081146\n",
            "3/3: 0.6687881198621055\n",
            "MEAN: 0.6750918551176449\n",
            "\n",
            "\n",
            "k = 120, algorithm = brute, metric = cosine, standartisation = True, shape = (11314, 9236)\n",
            "1/3: 0.6845174973488866\n",
            "2/3: 0.669848846459825\n",
            "3/3: 0.6695836648103951\n",
            "MEAN: 0.6746500028730354\n",
            "\n",
            "\n",
            "k = 125, algorithm = brute, metric = cosine, standartisation = True, shape = (11314, 9236)\n",
            "1/3: 0.6861081654294804\n",
            "2/3: 0.6690533015115354\n",
            "3/3: 0.6703792097586847\n",
            "MEAN: 0.6751802255665669\n",
            "\n",
            "\n",
            "k = 130, algorithm = brute, metric = cosine, standartisation = True, shape = (11314, 9236)\n",
            "1/3: 0.6834570519618239\n",
            "2/3: 0.665871121718377\n",
            "3/3: 0.6709095730575444\n",
            "MEAN: 0.673412582245915\n",
            "\n",
            "\n",
            "k = 135, algorithm = brute, metric = cosine, standartisation = True, shape = (11314, 9236)\n",
            "1/3: 0.6818663838812301\n",
            "2/3: 0.6685229382126757\n",
            "3/3: 0.6677273932643861\n",
            "MEAN: 0.6727055717860972\n",
            "\n",
            "\n",
            "k = 140, algorithm = brute, metric = cosine, standartisation = True, shape = (11314, 9236)\n",
            "1/3: 0.679745493107105\n",
            "2/3: 0.6677273932643861\n",
            "3/3: 0.6687881198621055\n",
            "MEAN: 0.6720870020778656\n",
            "\n",
            "\n",
            "k = 145, algorithm = brute, metric = cosine, standartisation = True, shape = (11314, 9236)\n",
            "1/3: 0.6810710498409331\n",
            "2/3: 0.665871121718377\n",
            "3/3: 0.6685229382126757\n",
            "MEAN: 0.6718217032573287\n",
            "\n",
            "\n",
            "k = 150, algorithm = brute, metric = cosine, standartisation = True, shape = (11314, 9236)\n",
            "1/3: 0.6773594909862142\n",
            "2/3: 0.6664014850172368\n",
            "3/3: 0.6690533015115354\n",
            "MEAN: 0.6709380925049956\n",
            "\n",
            "\n",
            "k = 155, algorithm = brute, metric = cosine, standartisation = True, shape = (11314, 9236)\n",
            "1/3: 0.6805408271474019\n",
            "2/3: 0.6679925749138159\n",
            "3/3: 0.6711747547069743\n",
            "MEAN: 0.6732360522560641\n",
            "\n",
            "\n",
            "k = 160, algorithm = brute, metric = cosine, standartisation = True, shape = (11314, 9236)\n",
            "1/3: 0.6821314952279958\n",
            "2/3: 0.664014850172368\n",
            "3/3: 0.6725006629541236\n",
            "MEAN: 0.6728823361181625\n",
            "\n",
            "\n",
            "k = 165, algorithm = brute, metric = cosine, standartisation = True, shape = (11314, 9236)\n",
            "1/3: 0.6831919406150583\n",
            "2/3: 0.6618933969769292\n",
            "3/3: 0.671705118005834\n",
            "MEAN: 0.6722634851992737\n",
            "\n",
            "\n",
            "k = 170, algorithm = brute, metric = cosine, standartisation = True, shape = (11314, 9236)\n",
            "1/3: 0.6800106044538706\n",
            "2/3: 0.6605674887297799\n",
            "3/3: 0.6703792097586847\n",
            "MEAN: 0.6703191009807784\n",
            "\n",
            "\n",
            "Best score is 0.6831354407072485\n",
            "k = 80\n",
            "\n",
            "\n"
          ],
          "name": "stdout"
        },
        {
          "output_type": "display_data",
          "data": {
            "image/png": "[encoded data removed]",
            "text/plain": [
              "<Figure size 1080x576 with 1 Axes>"
            ]
          },
          "metadata": {
            "tags": [],
            "needs_background": "light"
          }
        },
        {
          "output_type": "stream",
          "text": [
            "CPU times: user 32min 48s, sys: 12.6 s, total: 33min 1s\n",
            "Wall time: 17min 52s\n"
          ],
          "name": "stdout"
        }
      ]
    },
    {
      "cell_type": "markdown",
      "metadata": {
        "id": "DrPNqL2upLWH"
      },
      "source": [
        "*Видимо, для такого количества признаков оптимальное k меньше*"
      ]
    },
    {
      "cell_type": "code",
      "metadata": {
        "id": "4pVIuQb3pTwU",
        "outputId": "9b637b63-873d-4be6-9c72-a16bc539af33",
        "colab": {
          "base_uri": "https://localhost:8080/",
          "height": 1000
        }
      },
      "source": [
        "%%time\n",
        "array_k = np.arange(5, 75, 5)\n",
        "get_score_vectorizer(array_k, min_df=0.001, max_features=100000)"
      ],
      "execution_count": 221,
      "outputs": [
        {
          "output_type": "stream",
          "text": [
            "k = 5, algorithm = brute, metric = cosine, standartisation = True, shape = (11314, 9236)\n",
            "1/3: 0.6306998939554613\n",
            "2/3: 0.6337841421373641\n",
            "3/3: 0.6327234155396446\n",
            "MEAN: 0.6324024838774901\n",
            "\n",
            "\n",
            "k = 10, algorithm = brute, metric = cosine, standartisation = True, shape = (11314, 9236)\n",
            "1/3: 0.6542948038176034\n",
            "2/3: 0.6608326703792098\n",
            "3/3: 0.6645452134712277\n",
            "MEAN: 0.659890895889347\n",
            "\n",
            "\n",
            "k = 15, algorithm = brute, metric = cosine, standartisation = True, shape = (11314, 9236)\n",
            "1/3: 0.6805408271474019\n",
            "2/3: 0.6711747547069743\n",
            "3/3: 0.6730310262529833\n",
            "MEAN: 0.6749155360357865\n",
            "\n",
            "\n",
            "k = 20, algorithm = brute, metric = cosine, standartisation = True, shape = (11314, 9236)\n",
            "1/3: 0.6810710498409331\n",
            "2/3: 0.67913020418987\n",
            "3/3: 0.6756828427472819\n",
            "MEAN: 0.6786280322593616\n",
            "\n",
            "\n",
            "k = 25, algorithm = brute, metric = cosine, standartisation = True, shape = (11314, 9236)\n",
            "1/3: 0.6845174973488866\n",
            "2/3: 0.6815168390347388\n",
            "3/3: 0.6754176610978521\n",
            "MEAN: 0.6804839991604924\n",
            "\n",
            "\n",
            "k = 30, algorithm = brute, metric = cosine, standartisation = True, shape = (11314, 9236)\n",
            "1/3: 0.6871686108165429\n",
            "2/3: 0.6873508353221957\n",
            "3/3: 0.6815168390347388\n",
            "MEAN: 0.6853454283911592\n",
            "\n",
            "\n",
            "k = 35, algorithm = brute, metric = cosine, standartisation = True, shape = (11314, 9236)\n",
            "1/3: 0.6850477200424178\n",
            "2/3: 0.6876160169716256\n",
            "3/3: 0.6804561124370193\n",
            "MEAN: 0.6843732831503542\n",
            "\n",
            "\n",
            "k = 40, algorithm = brute, metric = cosine, standartisation = True, shape = (11314, 9236)\n",
            "1/3: 0.6871686108165429\n",
            "2/3: 0.6865552903739062\n",
            "3/3: 0.6817820206841687\n",
            "MEAN: 0.6851686406248726\n",
            "\n",
            "\n",
            "k = 45, algorithm = brute, metric = cosine, standartisation = True, shape = (11314, 9236)\n",
            "1/3: 0.6871686108165429\n",
            "2/3: 0.6854945637761867\n",
            "3/3: 0.6799257491381596\n",
            "MEAN: 0.6841963079102964\n",
            "\n",
            "\n",
            "k = 50, algorithm = brute, metric = cosine, standartisation = True, shape = (11314, 9236)\n",
            "1/3: 0.689289501590668\n",
            "2/3: 0.6836382922301777\n",
            "3/3: 0.6793953858392999\n",
            "MEAN: 0.6841077265533819\n",
            "\n",
            "\n",
            "k = 55, algorithm = brute, metric = cosine, standartisation = True, shape = (11314, 9236)\n",
            "1/3: 0.6919406150583245\n",
            "2/3: 0.6823123839830284\n",
            "3/3: 0.6793953858392999\n",
            "MEAN: 0.6845494616268843\n",
            "\n",
            "\n",
            "k = 60, algorithm = brute, metric = cosine, standartisation = True, shape = (11314, 9236)\n",
            "1/3: 0.6932661717921527\n",
            "2/3: 0.6857597454256166\n",
            "3/3: 0.6796605674887298\n",
            "MEAN: 0.6862288282354997\n",
            "\n",
            "\n",
            "k = 65, algorithm = brute, metric = cosine, standartisation = True, shape = (11314, 9236)\n",
            "1/3: 0.693796394485684\n",
            "2/3: 0.6812516573853089\n",
            "3/3: 0.6836382922301777\n",
            "MEAN: 0.6862287813670568\n",
            "\n",
            "\n",
            "k = 70, algorithm = brute, metric = cosine, standartisation = True, shape = (11314, 9236)\n",
            "1/3: 0.6916755037115588\n",
            "2/3: 0.6820472023335985\n",
            "3/3: 0.6804561124370193\n",
            "MEAN: 0.6847262728273922\n",
            "\n",
            "\n",
            "Best score is 0.6862288282354997\n",
            "k = 60\n",
            "\n",
            "\n"
          ],
          "name": "stdout"
        },
        {
          "output_type": "display_data",
          "data": {
            "image/png": "[encoded data removed]",
            "text/plain": [
              "<Figure size 1080x576 with 1 Axes>"
            ]
          },
          "metadata": {
            "tags": [],
            "needs_background": "light"
          }
        },
        {
          "output_type": "stream",
          "text": [
            "CPU times: user 22min 48s, sys: 8.77 s, total: 22min 57s\n",
            "Wall time: 12min 23s\n"
          ],
          "name": "stdout"
        }
      ]
    },
    {
      "cell_type": "code",
      "metadata": {
        "id": "Pl9f-FzbsMXc",
        "outputId": "6aa2dadb-ed8e-422c-97a4-4cf1a18e4e8e",
        "colab": {
          "base_uri": "https://localhost:8080/",
          "height": 1000
        }
      },
      "source": [
        "%%time\n",
        "array_k = [28, 29, 30, 31, 32, 38, 39, 40, 41, 42, 55, 56, 57, 58, 59, 60, 61, 62, 63, 64, 65, 66, 67, 68, 69, 70, 71, 72]\n",
        "scores = get_score_vectorizer(array_k, min_df=0.001, max_features=100000)"
      ],
      "execution_count": 222,
      "outputs": [
        {
          "output_type": "stream",
          "text": [
            "k = 28, algorithm = brute, metric = cosine, standartisation = True, shape = (11314, 9236)\n",
            "1/3: 0.6850477200424178\n",
            "2/3: 0.6852293821267569\n",
            "3/3: 0.6764783876955714\n",
            "MEAN: 0.6822518299549154\n",
            "\n",
            "\n",
            "k = 29, algorithm = brute, metric = cosine, standartisation = True, shape = (11314, 9236)\n",
            "1/3: 0.6879639448568399\n",
            "2/3: 0.6870856536727659\n",
            "3/3: 0.67913020418987\n",
            "MEAN: 0.684726600906492\n",
            "\n",
            "\n",
            "k = 30, algorithm = brute, metric = cosine, standartisation = True, shape = (11314, 9236)\n",
            "1/3: 0.6871686108165429\n",
            "2/3: 0.6873508353221957\n",
            "3/3: 0.6815168390347388\n",
            "MEAN: 0.6853454283911592\n",
            "\n",
            "\n",
            "k = 31, algorithm = brute, metric = cosine, standartisation = True, shape = (11314, 9236)\n",
            "1/3: 0.6866383881230117\n",
            "2/3: 0.6902678334659241\n",
            "3/3: 0.6756828427472819\n",
            "MEAN: 0.6841963547787392\n",
            "\n",
            "\n",
            "k = 32, algorithm = brute, metric = cosine, standartisation = True, shape = (11314, 9236)\n",
            "1/3: 0.6876988335100742\n",
            "2/3: 0.6876160169716256\n",
            "3/3: 0.6764783876955714\n",
            "MEAN: 0.6839310793924237\n",
            "\n",
            "\n",
            "k = 38, algorithm = brute, metric = cosine, standartisation = True, shape = (11314, 9236)\n",
            "1/3: 0.6847826086956522\n",
            "2/3: 0.6889419252187748\n",
            "3/3: 0.6870856536727659\n",
            "MEAN: 0.686936729195731\n",
            "\n",
            "\n",
            "k = 39, algorithm = brute, metric = cosine, standartisation = True, shape = (11314, 9236)\n",
            "1/3: 0.6853128313891834\n",
            "2/3: 0.6876160169716256\n",
            "3/3: 0.6846990188278971\n",
            "MEAN: 0.6858759557295687\n",
            "\n",
            "\n",
            "k = 40, algorithm = brute, metric = cosine, standartisation = True, shape = (11314, 9236)\n",
            "1/3: 0.6871686108165429\n",
            "2/3: 0.6865552903739062\n",
            "3/3: 0.6817820206841687\n",
            "MEAN: 0.6851686406248726\n",
            "\n",
            "\n",
            "k = 41, algorithm = brute, metric = cosine, standartisation = True, shape = (11314, 9236)\n",
            "1/3: 0.6853128313891834\n",
            "2/3: 0.6862901087244763\n",
            "3/3: 0.6823123839830284\n",
            "MEAN: 0.6846384413655627\n",
            "\n",
            "\n",
            "k = 42, algorithm = brute, metric = cosine, standartisation = True, shape = (11314, 9236)\n",
            "1/3: 0.6850477200424178\n",
            "2/3: 0.6894722885176345\n",
            "3/3: 0.683107928931318\n",
            "MEAN: 0.68587597916379\n",
            "\n",
            "\n",
            "k = 55, algorithm = brute, metric = cosine, standartisation = True, shape = (11314, 9236)\n",
            "1/3: 0.6919406150583245\n",
            "2/3: 0.6823123839830284\n",
            "3/3: 0.6793953858392999\n",
            "MEAN: 0.6845494616268843\n",
            "\n",
            "\n",
            "k = 56, algorithm = brute, metric = cosine, standartisation = True, shape = (11314, 9236)\n",
            "1/3: 0.6935312831389183\n",
            "2/3: 0.6823123839830284\n",
            "3/3: 0.677273932643861\n",
            "MEAN: 0.6843725332552694\n",
            "\n",
            "\n",
            "k = 57, algorithm = brute, metric = cosine, standartisation = True, shape = (11314, 9236)\n",
            "1/3: 0.6898197242841994\n",
            "2/3: 0.6854945637761867\n",
            "3/3: 0.6785998408910103\n",
            "MEAN: 0.6846380429837988\n",
            "\n",
            "\n",
            "k = 58, algorithm = brute, metric = cosine, standartisation = True, shape = (11314, 9236)\n",
            "1/3: 0.6911452810180275\n",
            "2/3: 0.6852293821267569\n",
            "3/3: 0.6796605674887298\n",
            "MEAN: 0.6853450768778381\n",
            "\n",
            "\n",
            "k = 59, algorithm = brute, metric = cosine, standartisation = True, shape = (11314, 9236)\n",
            "1/3: 0.6914103923647932\n",
            "2/3: 0.6852293821267569\n",
            "3/3: 0.6825775656324582\n",
            "MEAN: 0.6864057800413361\n",
            "\n",
            "\n",
            "k = 60, algorithm = brute, metric = cosine, standartisation = True, shape = (11314, 9236)\n",
            "1/3: 0.6932661717921527\n",
            "2/3: 0.6857597454256166\n",
            "3/3: 0.6796605674887298\n",
            "MEAN: 0.6862288282354997\n",
            "\n",
            "\n",
            "k = 61, algorithm = brute, metric = cosine, standartisation = True, shape = (11314, 9236)\n",
            "1/3: 0.6935312831389183\n",
            "2/3: 0.684964200477327\n",
            "3/3: 0.6799257491381596\n",
            "MEAN: 0.686140410918135\n",
            "\n",
            "\n",
            "k = 62, algorithm = brute, metric = cosine, standartisation = True, shape = (11314, 9236)\n",
            "1/3: 0.6924708377518558\n",
            "2/3: 0.683107928931318\n",
            "3/3: 0.6823123839830284\n",
            "MEAN: 0.6859637168887341\n",
            "\n",
            "\n",
            "k = 63, algorithm = brute, metric = cosine, standartisation = True, shape = (11314, 9236)\n",
            "1/3: 0.6916755037115588\n",
            "2/3: 0.684964200477327\n",
            "3/3: 0.6865552903739062\n",
            "MEAN: 0.687731664854264\n",
            "\n",
            "\n",
            "k = 64, algorithm = brute, metric = cosine, standartisation = True, shape = (11314, 9236)\n",
            "1/3: 0.6919406150583245\n",
            "2/3: 0.6839034738796075\n",
            "3/3: 0.6852293821267569\n",
            "MEAN: 0.6870244903548963\n",
            "\n",
            "\n",
            "k = 65, algorithm = brute, metric = cosine, standartisation = True, shape = (11314, 9236)\n",
            "1/3: 0.693796394485684\n",
            "2/3: 0.6812516573853089\n",
            "3/3: 0.6836382922301777\n",
            "MEAN: 0.6862287813670568\n",
            "\n",
            "\n",
            "k = 66, algorithm = brute, metric = cosine, standartisation = True, shape = (11314, 9236)\n",
            "1/3: 0.6916755037115588\n",
            "2/3: 0.6828427472818881\n",
            "3/3: 0.6825775656324582\n",
            "MEAN: 0.6856986055419684\n",
            "\n",
            "\n",
            "k = 67, algorithm = brute, metric = cosine, standartisation = True, shape = (11314, 9236)\n",
            "1/3: 0.690084835630965\n",
            "2/3: 0.6807212940864492\n",
            "3/3: 0.6801909307875895\n",
            "MEAN: 0.6836656868350012\n",
            "\n",
            "\n",
            "k = 68, algorithm = brute, metric = cosine, standartisation = True, shape = (11314, 9236)\n",
            "1/3: 0.6879639448568399\n",
            "2/3: 0.6825775656324582\n",
            "3/3: 0.6815168390347388\n",
            "MEAN: 0.6840194498413457\n",
            "\n",
            "\n",
            "k = 69, algorithm = brute, metric = cosine, standartisation = True, shape = (11314, 9236)\n",
            "1/3: 0.6911452810180275\n",
            "2/3: 0.6804561124370193\n",
            "3/3: 0.6809864757358791\n",
            "MEAN: 0.6841959563969753\n",
            "\n",
            "\n",
            "k = 70, algorithm = brute, metric = cosine, standartisation = True, shape = (11314, 9236)\n",
            "1/3: 0.6916755037115588\n",
            "2/3: 0.6820472023335985\n",
            "3/3: 0.6804561124370193\n",
            "MEAN: 0.6847262728273922\n",
            "\n",
            "\n",
            "k = 71, algorithm = brute, metric = cosine, standartisation = True, shape = (11314, 9236)\n",
            "1/3: 0.6906150583244963\n",
            "2/3: 0.6801909307875895\n",
            "3/3: 0.6804561124370193\n",
            "MEAN: 0.6837540338497017\n",
            "\n",
            "\n",
            "k = 72, algorithm = brute, metric = cosine, standartisation = True, shape = (11314, 9236)\n",
            "1/3: 0.6911452810180275\n",
            "2/3: 0.6793953858392999\n",
            "3/3: 0.6812516573853089\n",
            "MEAN: 0.6839307747475454\n",
            "\n",
            "\n",
            "Best score is 0.687731664854264\n",
            "k = 63\n",
            "\n",
            "\n"
          ],
          "name": "stdout"
        },
        {
          "output_type": "display_data",
          "data": {
            "image/png": "[encoded data removed]",
            "text/plain": [
              "<Figure size 1080x576 with 1 Axes>"
            ]
          },
          "metadata": {
            "tags": [],
            "needs_background": "light"
          }
        },
        {
          "output_type": "stream",
          "text": [
            "CPU times: user 45min 30s, sys: 17.9 s, total: 45min 48s\n",
            "Wall time: 24min 45s\n"
          ],
          "name": "stdout"
        }
      ]
    },
    {
      "cell_type": "markdown",
      "metadata": {
        "id": "ipZ5k3jPyVIj"
      },
      "source": [
        "*Попробуем улучшить результат, оставив в словаре только обычные английские слова (из символов a-z)*"
      ]
    },
    {
      "cell_type": "code",
      "metadata": {
        "id": "xmhZYC52yiFc",
        "outputId": "e26e7cba-3425-4cf6-e23d-7a8525652329",
        "colab": {
          "base_uri": "https://localhost:8080/",
          "height": 1000
        }
      },
      "source": [
        "%%time\n",
        "array_k = [30, 38, 39, 40, 41, 42, 58, 59, 60, 61, 62, 63, 64, 65, 66]\n",
        "scores = get_score_vectorizer(array_k, min_df=0.001, max_features=100000, literal=True)"
      ],
      "execution_count": 224,
      "outputs": [
        {
          "output_type": "stream",
          "text": [
            "k = 30, algorithm = brute, metric = cosine, standartisation = True, shape = (11314, 8594)\n",
            "1/3: 0.6850477200424178\n",
            "2/3: 0.6804561124370193\n",
            "3/3: 0.6788650225404402\n",
            "MEAN: 0.6814562850066258\n",
            "\n",
            "\n",
            "k = 38, algorithm = brute, metric = cosine, standartisation = True, shape = (11314, 8594)\n",
            "1/3: 0.6914103923647932\n",
            "2/3: 0.6870856536727659\n",
            "3/3: 0.6825775656324582\n",
            "MEAN: 0.6870245372233391\n",
            "\n",
            "\n",
            "k = 39, algorithm = brute, metric = cosine, standartisation = True, shape = (11314, 8594)\n",
            "1/3: 0.6895546129374337\n",
            "2/3: 0.6878811986210555\n",
            "3/3: 0.6836382922301777\n",
            "MEAN: 0.6870247012628888\n",
            "\n",
            "\n",
            "k = 40, algorithm = brute, metric = cosine, standartisation = True, shape = (11314, 8594)\n",
            "1/3: 0.690880169671262\n",
            "2/3: 0.686820472023336\n",
            "3/3: 0.6820472023335985\n",
            "MEAN: 0.6865826146760655\n",
            "\n",
            "\n",
            "k = 41, algorithm = brute, metric = cosine, standartisation = True, shape = (11314, 8594)\n",
            "1/3: 0.690084835630965\n",
            "2/3: 0.6865552903739062\n",
            "3/3: 0.6823123839830284\n",
            "MEAN: 0.6863175033292999\n",
            "\n",
            "\n",
            "k = 42, algorithm = brute, metric = cosine, standartisation = True, shape = (11314, 8594)\n",
            "1/3: 0.6916755037115588\n",
            "2/3: 0.6841686555290374\n",
            "3/3: 0.6804561124370193\n",
            "MEAN: 0.6854334238925385\n",
            "\n",
            "\n",
            "k = 58, algorithm = brute, metric = cosine, standartisation = True, shape = (11314, 8594)\n",
            "1/3: 0.690880169671262\n",
            "2/3: 0.6820472023335985\n",
            "3/3: 0.6846990188278971\n",
            "MEAN: 0.6858754636109192\n",
            "\n",
            "\n",
            "k = 59, algorithm = brute, metric = cosine, standartisation = True, shape = (11314, 8594)\n",
            "1/3: 0.6911452810180275\n",
            "2/3: 0.6801909307875895\n",
            "3/3: 0.6823123839830284\n",
            "MEAN: 0.6845495319295485\n",
            "\n",
            "\n",
            "k = 60, algorithm = brute, metric = cosine, standartisation = True, shape = (11314, 8594)\n",
            "1/3: 0.690880169671262\n",
            "2/3: 0.6788650225404402\n",
            "3/3: 0.6817820206841687\n",
            "MEAN: 0.6838424042986236\n",
            "\n",
            "\n",
            "k = 61, algorithm = brute, metric = cosine, standartisation = True, shape = (11314, 8594)\n",
            "1/3: 0.6924708377518558\n",
            "2/3: 0.6809864757358791\n",
            "3/3: 0.6828427472818881\n",
            "MEAN: 0.6854333535898745\n",
            "\n",
            "\n",
            "k = 62, algorithm = brute, metric = cosine, standartisation = True, shape = (11314, 8594)\n",
            "1/3: 0.6919406150583245\n",
            "2/3: 0.6812516573853089\n",
            "3/3: 0.6854945637761867\n",
            "MEAN: 0.6862289454066067\n",
            "\n",
            "\n",
            "k = 63, algorithm = brute, metric = cosine, standartisation = True, shape = (11314, 8594)\n",
            "1/3: 0.6914103923647932\n",
            "2/3: 0.6828427472818881\n",
            "3/3: 0.6860249270750464\n",
            "MEAN: 0.6867593555739092\n",
            "\n",
            "\n",
            "k = 64, algorithm = brute, metric = cosine, standartisation = True, shape = (11314, 8594)\n",
            "1/3: 0.6898197242841994\n",
            "2/3: 0.683107928931318\n",
            "3/3: 0.6857597454256166\n",
            "MEAN: 0.6862291328803781\n",
            "\n",
            "\n",
            "k = 65, algorithm = brute, metric = cosine, standartisation = True, shape = (11314, 8594)\n",
            "1/3: 0.6924708377518558\n",
            "2/3: 0.6815168390347388\n",
            "3/3: 0.6860249270750464\n",
            "MEAN: 0.6866708679538803\n",
            "\n",
            "\n",
            "k = 66, algorithm = brute, metric = cosine, standartisation = True, shape = (11314, 8594)\n",
            "1/3: 0.6951219512195121\n",
            "2/3: 0.6809864757358791\n",
            "3/3: 0.684964200477327\n",
            "MEAN: 0.6870242091442395\n",
            "\n",
            "\n",
            "Best score is 0.6870247012628888\n",
            "k = 39\n",
            "\n",
            "\n"
          ],
          "name": "stdout"
        },
        {
          "output_type": "display_data",
          "data": {
            "image/png": "[encoded data removed]",
            "text/plain": [
              "<Figure size 1080x576 with 1 Axes>"
            ]
          },
          "metadata": {
            "tags": [],
            "needs_background": "light"
          }
        },
        {
          "output_type": "stream",
          "text": [
            "CPU times: user 22min 49s, sys: 9.56 s, total: 22min 59s\n",
            "Wall time: 12min 26s\n"
          ],
          "name": "stdout"
        }
      ]
    },
    {
      "cell_type": "code",
      "metadata": {
        "id": "liu4mg1k2eSB",
        "outputId": "f6dfbd4f-550e-49e6-be81-73068201f63a",
        "colab": {
          "base_uri": "https://localhost:8080/",
          "height": 1000
        }
      },
      "source": [
        "%%time\n",
        "array_k = np.arange(31, 39)\n",
        "scores = get_score_vectorizer(array_k, min_df=0.001, max_features=100000, literal=True)"
      ],
      "execution_count": 227,
      "outputs": [
        {
          "output_type": "stream",
          "text": [
            "k = 31, algorithm = brute, metric = cosine, standartisation = True, shape = (11314, 8594)\n",
            "1/3: 0.6876988335100742\n",
            "2/3: 0.6854945637761867\n",
            "3/3: 0.6807212940864492\n",
            "MEAN: 0.68463823045757\n",
            "\n",
            "\n",
            "k = 32, algorithm = brute, metric = cosine, standartisation = True, shape = (11314, 8594)\n",
            "1/3: 0.6887592788971368\n",
            "2/3: 0.6846990188278971\n",
            "3/3: 0.6815168390347388\n",
            "MEAN: 0.6849917122532575\n",
            "\n",
            "\n",
            "k = 33, algorithm = brute, metric = cosine, standartisation = True, shape = (11314, 8594)\n",
            "1/3: 0.6924708377518558\n",
            "2/3: 0.6839034738796075\n",
            "3/3: 0.6799257491381596\n",
            "MEAN: 0.6854333535898743\n",
            "\n",
            "\n",
            "k = 34, algorithm = brute, metric = cosine, standartisation = True, shape = (11314, 8594)\n",
            "1/3: 0.6924708377518558\n",
            "2/3: 0.6841686555290374\n",
            "3/3: 0.6807212940864492\n",
            "MEAN: 0.6857869291224475\n",
            "\n",
            "\n",
            "k = 35, algorithm = brute, metric = cosine, standartisation = True, shape = (11314, 8594)\n",
            "1/3: 0.6916755037115588\n",
            "2/3: 0.6846990188278971\n",
            "3/3: 0.6793953858392999\n",
            "MEAN: 0.685256636126252\n",
            "\n",
            "\n",
            "k = 36, algorithm = brute, metric = cosine, standartisation = True, shape = (11314, 8594)\n",
            "1/3: 0.6911452810180275\n",
            "2/3: 0.6846990188278971\n",
            "3/3: 0.6783346592415804\n",
            "MEAN: 0.684726319695835\n",
            "\n",
            "\n",
            "k = 37, algorithm = brute, metric = cosine, standartisation = True, shape = (11314, 8594)\n",
            "1/3: 0.690880169671262\n",
            "2/3: 0.6878811986210555\n",
            "3/3: 0.6809864757358791\n",
            "MEAN: 0.6865826146760655\n",
            "\n",
            "\n",
            "k = 38, algorithm = brute, metric = cosine, standartisation = True, shape = (11314, 8594)\n",
            "1/3: 0.6914103923647932\n",
            "2/3: 0.6870856536727659\n",
            "3/3: 0.6825775656324582\n",
            "MEAN: 0.6870245372233391\n",
            "\n",
            "\n",
            "Best score is 0.6870245372233391\n",
            "k = 38\n",
            "\n",
            "\n"
          ],
          "name": "stdout"
        },
        {
          "output_type": "display_data",
          "data": {
            "image/png": "[encoded data removed]",
            "text/plain": [
              "<Figure size 1080x576 with 1 Axes>"
            ]
          },
          "metadata": {
            "tags": [],
            "needs_background": "light"
          }
        },
        {
          "output_type": "stream",
          "text": [
            "CPU times: user 12min 11s, sys: 4.82 s, total: 12min 16s\n",
            "Wall time: 6min 39s\n"
          ],
          "name": "stdout"
        }
      ]
    },
    {
      "cell_type": "code",
      "metadata": {
        "id": "iAECiuBU29aG",
        "outputId": "7f4222a0-c47e-4f17-dafd-c11037504879",
        "colab": {
          "base_uri": "https://localhost:8080/",
          "height": 1000
        }
      },
      "source": [
        "%%time\n",
        "array_k = np.arange(66, 70)\n",
        "scores = get_score_vectorizer(array_k, min_df=0.001, max_features=100000, literal=True)"
      ],
      "execution_count": 226,
      "outputs": [
        {
          "output_type": "stream",
          "text": [
            "k = 66, algorithm = brute, metric = cosine, standartisation = True, shape = (11314, 8594)\n",
            "1/3: 0.6951219512195121\n",
            "2/3: 0.6809864757358791\n",
            "3/3: 0.684964200477327\n",
            "MEAN: 0.6870242091442395\n",
            "\n",
            "\n",
            "k = 67, algorithm = brute, metric = cosine, standartisation = True, shape = (11314, 8594)\n",
            "1/3: 0.6924708377518558\n",
            "2/3: 0.6804561124370193\n",
            "3/3: 0.6836382922301777\n",
            "MEAN: 0.6855217474730176\n",
            "\n",
            "\n",
            "k = 68, algorithm = brute, metric = cosine, standartisation = True, shape = (11314, 8594)\n",
            "1/3: 0.6895546129374337\n",
            "2/3: 0.6788650225404402\n",
            "3/3: 0.6839034738796075\n",
            "MEAN: 0.6841077031191606\n",
            "\n",
            "\n",
            "k = 69, algorithm = brute, metric = cosine, standartisation = True, shape = (11314, 8594)\n",
            "1/3: 0.6911452810180275\n",
            "2/3: 0.6764783876955714\n",
            "3/3: 0.6823123839830284\n",
            "MEAN: 0.6833120175655424\n",
            "\n",
            "\n",
            "Best score is 0.6870242091442395\n",
            "k = 66\n",
            "\n",
            "\n"
          ],
          "name": "stdout"
        },
        {
          "output_type": "display_data",
          "data": {
            "image/png": "[encoded data removed]",
            "text/plain": [
              "<Figure size 1080x576 with 1 Axes>"
            ]
          },
          "metadata": {
            "tags": [],
            "needs_background": "light"
          }
        },
        {
          "output_type": "stream",
          "text": [
            "CPU times: user 6min 7s, sys: 3.03 s, total: 6min 10s\n",
            "Wall time: 3min 21s\n"
          ],
          "name": "stdout"
        }
      ]
    },
    {
      "cell_type": "markdown",
      "metadata": {
        "id": "rFzSDzaH6aNv"
      },
      "source": [
        "*Результат стал немного хуже, видимо моя идея не работает*"
      ]
    },
    {
      "cell_type": "markdown",
      "metadata": {
        "id": "SZfIIpmCoo7l"
      },
      "source": [
        "*Я пробовал делать трейн на 40000 фичах (из ноутбука это случайно удалилось) и прирост был небольшим относительно затраченного времени, так что я принял решение остановиться на числе до 10000 фичей*"
      ]
    },
    {
      "cell_type": "markdown",
      "metadata": {
        "id": "BPKyWFBPW_YM"
      },
      "source": [
        "Загрузим  теперь test  часть нашей выборки и преобразуем её аналогично с train частью. Не забудьте, что наборы слов в train и test части могут отличаться."
      ]
    },
    {
      "cell_type": "markdown",
      "metadata": {
        "id": "lq_4lTyc6f9-"
      },
      "source": [
        "*Лучшей моделью была модель с количеством соседей 63*"
      ]
    },
    {
      "cell_type": "code",
      "metadata": {
        "id": "kYdScJqFt1uP",
        "outputId": "8abec629-32df-4762-88ba-aebe9471b769",
        "colab": {
          "base_uri": "https://localhost:8080/",
          "height": 34
        }
      },
      "source": [
        "newsgroups = fetch_20newsgroups(subset='train',remove=['headers','footers', 'quotes'])\n",
        "data = newsgroups['data']\n",
        "target = newsgroups['target']\n",
        "\n",
        "vectorizer = TfidfVectorizer(sublinear_tf=True, max_df=0.1, min_df=0.001, max_features=10000)\n",
        "\n",
        "X_data = vectorizer.fit_transform(data)\n",
        "X_data.shape\n",
        "\n",
        "#ind_literal = literal_ind(vectorizer)\n",
        "#X_data = X_data[:, ind_literal]"
      ],
      "execution_count": 8,
      "outputs": [
        {
          "output_type": "execute_result",
          "data": {
            "text/plain": [
              "(11314, 9236)"
            ]
          },
          "metadata": {
            "tags": []
          },
          "execution_count": 8
        }
      ]
    },
    {
      "cell_type": "code",
      "metadata": {
        "id": "baDIi2J_q4rL"
      },
      "source": [
        "best = 63"
      ],
      "execution_count": 9,
      "outputs": []
    },
    {
      "cell_type": "code",
      "metadata": {
        "id": "ZMVMixLq8izQ",
        "outputId": "26601d04-91e0-425a-a7a0-fdb43d0a1e70",
        "colab": {
          "base_uri": "https://localhost:8080/",
          "height": 34
        }
      },
      "source": [
        "model = MyKNeighborsClassifier(n_neighbors=best, algorithm='brute', metric='cosine', standartisation=True)\n",
        "model.fit(X_data.toarray(), target)\n",
        "best"
      ],
      "execution_count": 15,
      "outputs": [
        {
          "output_type": "execute_result",
          "data": {
            "text/plain": [
              "63"
            ]
          },
          "metadata": {
            "tags": []
          },
          "execution_count": 15
        }
      ]
    },
    {
      "cell_type": "code",
      "metadata": {
        "id": "8-0JS06vW_YN"
      },
      "source": [
        "newsgroups_test = fetch_20newsgroups(subset='test',remove=['headers','footers', 'quotes'])"
      ],
      "execution_count": 16,
      "outputs": []
    },
    {
      "cell_type": "code",
      "metadata": {
        "id": "AMKKfvNpoO7v",
        "outputId": "64b8176c-54ea-490f-ecd9-f6db41c22847",
        "colab": {
          "base_uri": "https://localhost:8080/",
          "height": 34
        }
      },
      "source": [
        "data_test = newsgroups_test['data']\n",
        "target_test = newsgroups_test['target']\n",
        "target_test = target_test.reshape(-1, 1)\n",
        "target_test.shape"
      ],
      "execution_count": 17,
      "outputs": [
        {
          "output_type": "execute_result",
          "data": {
            "text/plain": [
              "(7532, 1)"
            ]
          },
          "metadata": {
            "tags": []
          },
          "execution_count": 17
        }
      ]
    },
    {
      "cell_type": "markdown",
      "metadata": {
        "id": "Zbr-dSULW_YQ"
      },
      "source": [
        "Оценим точность вашей лучшей модели на test части датасета. Отличается ли оно от кросс-валидации? Попробуйте сделать выводы, почему отличается качество."
      ]
    },
    {
      "cell_type": "code",
      "metadata": {
        "id": "2G6WWFhkW_YR",
        "outputId": "41ca5fb4-677d-4647-9211-9d5f734a74eb",
        "colab": {
          "base_uri": "https://localhost:8080/",
          "height": 34
        }
      },
      "source": [
        "X_test_data = vectorizer.transform(data_test)\n",
        "\n",
        "X_test_data.toarray().shape\n",
        "\n",
        "#X_test_data = X_test_data[:, ind_literal]\n",
        "#X_test_data.shape"
      ],
      "execution_count": 18,
      "outputs": [
        {
          "output_type": "execute_result",
          "data": {
            "text/plain": [
              "(7532, 9236)"
            ]
          },
          "metadata": {
            "tags": []
          },
          "execution_count": 18
        }
      ]
    },
    {
      "cell_type": "code",
      "metadata": {
        "id": "vzjGyeIc3-6H",
        "outputId": "d9d2da4e-eaf7-4a3f-f2be-b2395148ce35",
        "colab": {
          "base_uri": "https://localhost:8080/",
          "height": 67
        }
      },
      "source": [
        "%%time\n",
        "test_pred = model.predict(X_test_data.toarray())\n",
        "score = accuracy_score(target_test, test_pred)\n",
        "print(score) "
      ],
      "execution_count": 19,
      "outputs": [
        {
          "output_type": "stream",
          "text": [
            "0.6501593202336696\n",
            "CPU times: user 1min 33s, sys: 662 ms, total: 1min 34s\n",
            "Wall time: 49.4 s\n"
          ],
          "name": "stdout"
        }
      ]
    },
    {
      "cell_type": "markdown",
      "metadata": {
        "id": "eOuEvmD46nwE"
      },
      "source": [
        "**Итоговый score = 0.6501593202336696**"
      ]
    },
    {
      "cell_type": "markdown",
      "metadata": {
        "id": "kxRjI0n7wwkJ"
      },
      "source": [
        "Качество может отличаться из-за отсутствия одних слов и присутствия других в тестовом датасете"
      ]
    },
    {
      "cell_type": "markdown",
      "metadata": {
        "id": "EqHXXnZHw550"
      },
      "source": [
        "Ниже примеры старых тестов, сохранил для истории"
      ]
    },
    {
      "cell_type": "code",
      "metadata": {
        "id": "fWUWqt4gpWhZ",
        "outputId": "769e972b-d2ad-4824-db4d-305bf7143b53",
        "colab": {
          "base_uri": "https://localhost:8080/",
          "height": 67
        }
      },
      "source": [
        "### max_df=0.1, min_df=0.01, 8594, k=40, literal\n",
        "#%%time\n",
        "#test_pred = model.predict(X_test_data.toarray())\n",
        "#score = accuracy_score(target_test, test_pred)\n",
        "#print(score) \n",
        "\n",
        "###0.6384758364312267\n",
        "###CPU times: user 16min 38s, sys: 877 ms, total: 16min 39s\n",
        "###Wall time: 16min 40s"
      ],
      "execution_count": null,
      "outputs": [
        {
          "output_type": "stream",
          "text": [
            "0.6384758364312267\n",
            "CPU times: user 16min 38s, sys: 877 ms, total: 16min 39s\n",
            "Wall time: 16min 40s\n"
          ],
          "name": "stdout"
        }
      ]
    },
    {
      "cell_type": "code",
      "metadata": {
        "id": "IYIVLuV0XhQU",
        "outputId": "ac360551-404d-4ab9-9161-856780d4995f",
        "colab": {
          "base_uri": "https://localhost:8080/",
          "height": 67
        }
      },
      "source": [
        "### max_df=0.1, min_df=0.001, 8594, k=50, literal\n",
        "#%%time\n",
        "#test_pred = model.predict(X_test_data.toarray())\n",
        "#score = accuracy_score(target_test, test_pred)\n",
        "#rint(score) \n",
        "\n",
        "###0.6471056824216675\n",
        "###CPU times: user 16min 2s, sys: 123 ms, total: 16min 2s\n",
        "###Wall time: 16min 3s"
      ],
      "execution_count": null,
      "outputs": [
        {
          "output_type": "stream",
          "text": [
            "0.6471056824216675\n",
            "CPU times: user 16min 2s, sys: 123 ms, total: 16min 2s\n",
            "Wall time: 16min 3s\n"
          ],
          "name": "stdout"
        }
      ]
    },
    {
      "cell_type": "code",
      "metadata": {
        "id": "0n8SUEeBoXB3",
        "outputId": "9536907a-f80c-42c8-acc3-c6c2015409d2",
        "colab": {
          "base_uri": "https://localhost:8080/",
          "height": 50
        }
      },
      "source": [
        "### max_df=0.1, min_df=0.0001, 39310, k=50\n",
        "#%%time\n",
        "#test_pred = model.predict(X_test_data.toarray())\n",
        "#score = accuracy_score(target_test, test_pred)\n",
        "#score \n",
        "\n",
        "###0.6702071163037706\n",
        "###CPU times: user 1h 10min 6s, sys: 688 ms, total: 1h 10min 6s\n",
        "###Wall time: 1h 10min 12s"
      ],
      "execution_count": null,
      "outputs": [
        {
          "output_type": "stream",
          "text": [
            "CPU times: user 1h 10min 6s, sys: 688 ms, total: 1h 10min 6s\n",
            "Wall time: 1h 10min 12s\n"
          ],
          "name": "stdout"
        }
      ]
    },
    {
      "cell_type": "code",
      "metadata": {
        "id": "Emmz4JtD3Zla",
        "outputId": "e6139bf9-20d4-44ec-f30f-b50c0d9711af",
        "colab": {
          "base_uri": "https://localhost:8080/",
          "height": 34
        }
      },
      "source": [
        "### max_df=0.1, min_df=0.001, 9236, k=50\n",
        "#score = accuracy_score(target_test, test_pred)\n",
        "#score \n",
        "\n",
        "### 0.6500265533722783"
      ],
      "execution_count": null,
      "outputs": [
        {
          "output_type": "execute_result",
          "data": {
            "text/plain": [
              "0.6500265533722783"
            ]
          },
          "metadata": {
            "tags": []
          },
          "execution_count": 185
        }
      ]
    }
  ]
}