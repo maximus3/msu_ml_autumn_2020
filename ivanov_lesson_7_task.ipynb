{
  "nbformat": 4,
  "nbformat_minor": 0,
  "metadata": {
    "anaconda-cloud": {},
    "kernelspec": {
      "display_name": "Python [anaconda]",
      "language": "python",
      "name": "Python [anaconda]"
    },
    "language_info": {
      "codemirror_mode": {
        "name": "ipython",
        "version": 3
      },
      "file_extension": ".py",
      "mimetype": "text/x-python",
      "name": "python",
      "nbconvert_exporter": "python",
      "pygments_lexer": "ipython3",
      "version": "3.5.4"
    },
    "colab": {
      "name": "seminar-advanced.ipynb",
      "provenance": [],
      "collapsed_sections": []
    }
  },
  "cells": [
    {
      "cell_type": "markdown",
      "metadata": {
        "id": "ERcHqAsuBgLP"
      },
      "source": [
        "# Быстро строим деревья"
      ]
    },
    {
      "cell_type": "markdown",
      "metadata": {
        "id": "FS46ETlIBgLP"
      },
      "source": [
        "\n",
        "Деревья глубины 1 обычно называют решающими пнями. \n",
        "Как Вы думаете, какая сложность построения решающего пня?\n"
      ]
    },
    {
      "cell_type": "markdown",
      "metadata": {
        "id": "idY1Bu3nBgLP"
      },
      "source": [
        "Представим, что мы решаем задачу регрессии, считаем для одного сплита. \n",
        "\n",
        "$$Q = F(R_m) - \\frac{N_l}{N_m} F(R_l) - \\frac{N_r}{N_m} F(R_r) $$\n",
        "\n",
        "$$F(R) = \\frac{1}{N} \\sum_{i=1}^{N}(mean(y) - y_i) ^ 2 $$\n",
        "\n",
        "$$Q = F(R_m) - \\frac{1}{N_m} [ \\sum_{i \\in R_l}(mean(y_l) - y_i) ^ 2  +  \\sum_{i \\in R_r}(mean(y_r) - y_i) ^ 2 ]  $$\n",
        "\n",
        "$F(R_m) и N_m$ от сплита не зависит, можно отбросить. Осталось научиться быстро считать такие выражения:\n",
        "$\\sum_{i \\in R_l}(mean(y_l) - y_i) ^ 2$ для всех порогов. \n",
        "\n",
        "Если делать в лоб, то получится $O(||R||^2)$, нам не нравится, очень долго. Каждый раз пересчитывать довольно глупо, потому что мы точно знаем, какой именно объект при изменении сплита перешел из левой части в правую!\n",
        "\n",
        "\n"
      ]
    },
    {
      "cell_type": "markdown",
      "metadata": {
        "id": "4RrbX36EBgLP"
      },
      "source": [
        "Воспользуемся формулой для дисперсии:\n",
        "$$D(R) = mean(y ^ 2) -  mean(y) ^ 2 =   \\frac{1}{N} \\sum_{i \\in R} y_i^2 -  \\frac{1}{N ^ 2} (\\sum_{i \\in R} y_i) ^2$$\n",
        "\n",
        "Но у нас не дисперсия, а дисперсия без деления на число объектов, то есть:\n",
        "$$\\sum_{i \\in R_l}(mean(y_l) - y_i) ^ 2 =   \\sum_{i \\in R_k} y_i^2 -  \\frac{1}{N_l} (\\sum_{i \\in R_l} y_i) ^2 $$\n",
        "Аналогично для правого сплита. "
      ]
    },
    {
      "cell_type": "markdown",
      "metadata": {
        "id": "2CgpSjR8BgLQ"
      },
      "source": [
        "Вот мы и получили более простой алгоритм подсчета сплита:\n",
        "\n",
        "1) Отсортировали фичу и таргет по фиче\n",
        "\n",
        "2) Сначала считаем, что порог это минимальное значение, то есть левый кусок пустой, правый все значения. Храним для каждой из частей\n",
        "а) Сумму\n",
        "б) Сумму квадратов\n",
        "в) Число объектов\n",
        "\n",
        "3) Взяли следующее значение в отсортированном списке, это значение ушло от правого куска в левое. Обновили а) б) в) в обоих кусках\n",
        "\n",
        "4) Посчитали  для каждого куска б) - а) ** 2 / в), сложили для обоих кусков. Если эта сумма маеньше лучшего значения, то это лучший сплит из текущих\n"
      ]
    },
    {
      "cell_type": "markdown",
      "metadata": {
        "id": "KycJ6JQlBgLQ"
      },
      "source": [
        "Реализуйте алгоритм, сравните качество со sklearn.\n",
        "\n",
        "Если получилось одинаково, Вы молодец!!!"
      ]
    },
    {
      "cell_type": "code",
      "metadata": {
        "id": "K-d7vgY9HGK2"
      },
      "source": [
        "import numpy as np"
      ],
      "execution_count": 13,
      "outputs": []
    },
    {
      "cell_type": "code",
      "metadata": {
        "id": "lYPC5y-HBgLQ"
      },
      "source": [
        "def get_threshold(feature, y):\n",
        "    sorted_indices = np.argsort(feature)\n",
        "    feature = feature[sorted_indices]\n",
        "    y = y[sorted_indices]\n",
        "\n",
        "    left_sum = 0\n",
        "    left_qu_sum = 0\n",
        "    left_count = 0\n",
        "\n",
        "    right_sum = y.sum()\n",
        "    right_qu_sum = (y ** 2).sum()\n",
        "    right_count = y.size\n",
        "\n",
        "    left_score = 0\n",
        "    right_score = right_qu_sum - right_sum ** 2 / right_count\n",
        "\n",
        "    best_score = left_score + right_score\n",
        "    best_thr = feature[0]\n",
        "    left_mean = 0\n",
        "    right_mean = y.mean()\n",
        "\n",
        "    for i in range(1, y.size):\n",
        "        thr = feature[i - 1]\n",
        "        r = y[i - 1]\n",
        "        left_sum += r\n",
        "        left_qu_sum += r ** 2\n",
        "        left_count += 1\n",
        "\n",
        "        right_sum -= r\n",
        "        right_qu_sum -= r ** 2\n",
        "        right_count -= 1\n",
        "\n",
        "        left_score = left_qu_sum - left_sum ** 2 / left_count\n",
        "        right_score = right_qu_sum - right_sum ** 2 / right_count\n",
        "\n",
        "        f_score = left_score + right_score\n",
        "        if f_score < best_score:\n",
        "            best_score = f_score\n",
        "            best_thr = thr\n",
        "            left_mean = y[:i].mean()\n",
        "            right_mean = y[i:].mean()\n",
        "\n",
        "    return best_score, best_thr, left_mean, right_mean\n",
        "\n",
        "\n",
        "def train_stump(X, y):\n",
        "    best_f = None\n",
        "    best_thr = None\n",
        "    best_error = float('inf')\n",
        "    left_mean, right_mean = None, None\n",
        "    for j in range(X.shape[1]):\n",
        "        f_score, f_thr, l_mean, r_mean = get_threshold(X[:, j], y)\n",
        "        if f_score < best_error:\n",
        "            best_error = f_score\n",
        "            best_f = j\n",
        "            best_thr = f_thr\n",
        "            left_mean = l_mean\n",
        "            right_mean = r_mean\n",
        "    return best_f, best_thr, left_mean, right_mean\n",
        "\n",
        "def predict_stump(X, f, thr, left_mean, right_mean):\n",
        "    X = X[:, f]\n",
        "    y = np.zeros(X.shape)\n",
        "    y[X > thr] = right_mean\n",
        "    y[X <= thr] = left_mean\n",
        "    return y\n"
      ],
      "execution_count": 51,
      "outputs": []
    },
    {
      "cell_type": "code",
      "metadata": {
        "id": "6uvpHWFJBgLQ"
      },
      "source": [
        "from sklearn.datasets import load_boston\n",
        "X, y = load_boston(return_X_y=True)"
      ],
      "execution_count": 52,
      "outputs": []
    },
    {
      "cell_type": "code",
      "metadata": {
        "colab": {
          "base_uri": "https://localhost:8080/"
        },
        "id": "u_8PcPvmBgLQ",
        "outputId": "e7dc3f91-8922-47c4-fcd2-12c40ca0cd51"
      },
      "source": [
        "from sklearn.tree import DecisionTreeRegressor\n",
        "from sklearn.metrics import mean_squared_error\n",
        "regressor = DecisionTreeRegressor(random_state=0).fit(X, y)\n",
        "print(mean_squared_error(y, regressor.predict(X)))\n",
        "regressor_stump = DecisionTreeRegressor(random_state=0, max_depth=1).fit(X, y)\n",
        "print(mean_squared_error(y, regressor_stump.predict(X)))"
      ],
      "execution_count": 53,
      "outputs": [
        {
          "output_type": "stream",
          "text": [
            "0.0\n",
            "46.19909167710848\n"
          ],
          "name": "stdout"
        }
      ]
    },
    {
      "cell_type": "code",
      "metadata": {
        "colab": {
          "base_uri": "https://localhost:8080/"
        },
        "id": "oEtlMuasGRYA",
        "outputId": "5ec9785d-e89a-4e37-b9c8-125c8929cdfe"
      },
      "source": [
        "best_f, best_thr, left_mean, right_mean = train_stump(X, y)\n",
        "print(mean_squared_error(y, predict_stump(X, best_f, best_thr, left_mean, right_mean)))"
      ],
      "execution_count": 54,
      "outputs": [
        {
          "output_type": "stream",
          "text": [
            "46.19909167710848\n"
          ],
          "name": "stdout"
        }
      ]
    },
    {
      "cell_type": "code",
      "metadata": {
        "id": "0eFMf3mANYgC"
      },
      "source": [
        ""
      ],
      "execution_count": null,
      "outputs": []
    }
  ]
}