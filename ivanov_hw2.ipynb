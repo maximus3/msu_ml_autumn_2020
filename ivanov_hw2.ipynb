{
  "nbformat": 4,
  "nbformat_minor": 0,
  "metadata": {
    "anaconda-cloud": {},
    "kernelspec": {
      "display_name": "Python [Root]",
      "language": "python",
      "name": "Python [Root]"
    },
    "language_info": {
      "codemirror_mode": {
        "name": "ipython",
        "version": 3
      },
      "file_extension": ".py",
      "mimetype": "text/x-python",
      "name": "python",
      "nbconvert_exporter": "python",
      "pygments_lexer": "ipython3",
      "version": "3.5.4"
    },
    "nav_menu": {},
    "toc": {
      "colors": {
        "hover_highlight": "#DAA520",
        "navigate_num": "#000000",
        "navigate_text": "#333333",
        "running_highlight": "#FF0000",
        "selected_highlight": "#FFD700",
        "sidebar_border": "#EEEEEE",
        "wrapper_background": "#FFFFFF"
      },
      "moveMenuLeft": true,
      "nav_menu": {
        "height": "402px",
        "width": "253px"
      },
      "navigate_menu": true,
      "number_sections": false,
      "sideBar": true,
      "threshold": 4,
      "toc_cell": false,
      "toc_section_display": "block",
      "toc_window_display": true,
      "widenNotebook": false
    },
    "colab": {
      "name": "ivanov_hw2.ipynb",
      "provenance": [],
      "collapsed_sections": [
        "GomgaOr9Lomu",
        "USt9XGOELomy",
        "zBGMgtzqLom5"
      ],
      "toc_visible": true
    }
  },
  "cells": [
    {
      "cell_type": "markdown",
      "metadata": {
        "id": "R77kHMf-Lomn"
      },
      "source": [
        "# Алгоритмы интеллектуальной обработки больших объемов данных\n",
        "## Домашнее задание №2: Линейные модели\n"
      ]
    },
    {
      "cell_type": "markdown",
      "metadata": {
        "id": "hcNIS87zLomo"
      },
      "source": [
        "###### <hr\\>\n",
        "**Общая информация**\n",
        "\n",
        "**Срок сдачи:** 09 ноября 18:00 Сдача **очная** на онлайн занятии. <br\\>\n",
        "\n",
        "\n",
        "Используйте данный Ipython Notebook при оформлении домашнего задания.\n",
        "\n",
        "Присылать ДЗ необходимо в виде ссылки на свой github репозиторий на почту ml1.sphere@mail.ru с указанием темы в следующем формате:\n",
        "\n",
        "[ML0920, Задание 2] Фамилия Имя.\n",
        "\n",
        "\n",
        "\n",
        "**Штрафные баллы:**\n",
        "\n",
        "1. Невыполнение PEP8 -1 балл\n",
        "2. Отсутствие фамилии в имени скрипта (скрипт должен называться по аналогии со stroykova_hw2.ipynb) -1 балл\n",
        "3. Все строчки должны быть выполнены. Нужно, чтобы output команды можно было увидеть уже в git'е. В противном случае -1 балл\n",
        "4. При оформлении ДЗ нужно пользоваться данным файлом в качестве шаблона. Не нужно удалять и видоизменять написанный код и текст, если явно не указана такая возможность. В противном случае -1 балл\n",
        "<hr\\>"
      ]
    },
    {
      "cell_type": "code",
      "metadata": {
        "id": "9xEWtKuPLomp"
      },
      "source": [
        "import pandas as pd\n",
        "import numpy as np\n",
        "import matplotlib.pyplot as plt\n",
        "\n",
        "%matplotlib inline\n",
        "\n",
        "plt.style.use('ggplot')\n",
        "plt.rcParams['figure.figsize'] = (12,5)"
      ],
      "execution_count": 78,
      "outputs": []
    },
    {
      "cell_type": "markdown",
      "metadata": {
        "id": "mUNIzShCLomt"
      },
      "source": [
        "Здравствуйте, уважаемые студенты! \n",
        "\n",
        "В этом задании мы будем реализовать линейные модели. Необходимо реализовать линейную и логистическую регрессии с L2 регуляризацией"
      ]
    },
    {
      "cell_type": "markdown",
      "metadata": {
        "id": "GomgaOr9Lomu"
      },
      "source": [
        "# Теоретическое введение\n",
        "\n"
      ]
    },
    {
      "cell_type": "markdown",
      "metadata": {
        "id": "B-owaXUZLomu"
      },
      "source": [
        "Линейная регрессия решает задачу регрессии и оптимизирует функцию потерь MSE \n",
        "\n",
        "$$L(w) =  \\frac{1}{N}\\left[\\sum_i (y_i - a_i) ^ 2 \\right], $$ где $y_i$ $-$ целевая функция,  $a_i = a(x_i) =  \\langle\\,x_i,w\\rangle ,$ $-$ предсказание алгоритма на объекте $x_i$, $w$ $-$ вектор весов (размерности $D$), $x_i$ $-$ вектор признаков (такой же размерности $D$).\n",
        "\n",
        "Не забываем, что здесь и далее  мы считаем, что в $x_i$ есть тождественный вектор единиц, ему соответствует вес $w_0$.\n"
      ]
    },
    {
      "cell_type": "markdown",
      "metadata": {
        "id": "YVGR1LH1Lomv"
      },
      "source": [
        "Логистическая регрессия является линейным классификатором, который оптимизирует так называемый функционал log loss:"
      ]
    },
    {
      "cell_type": "markdown",
      "metadata": {
        "id": "TOYtSWihLomv"
      },
      "source": [
        "$$L(w) = - \\frac{1}{N}\\left[\\sum_i y_i \\log a_i + ( 1 - y_i) \\log (1 - a_i) \\right],$$\n",
        "где  $y_i  \\in \\{0,1\\}$ $-$ метка класса, $a_i$ $-$ предсказание алгоритма на объекте $x_i$. Модель пытается предсказать апостериорую вероятность объекта принадлежать к классу \"1\":\n",
        "$$ p(y_i = 1 | x_i) = a(x_i) =  \\sigma( \\langle\\,x_i,w\\rangle ),$$\n",
        "$w$ $-$ вектор весов (размерности $D$), $x_i$ $-$ вектор признаков (такой же размерности $D$).\n",
        "\n",
        "Функция $\\sigma(x)$ $-$ нелинейная функция, пероводящее скалярное произведение объекта на веса в число $\\in (0,1)$ (мы же моделируем вероятность все-таки!)\n",
        "\n",
        "$$\\sigma(x) = \\frac{1}{1 + \\exp(-x)}$$\n",
        "\n",
        "Если внимательно посмотреть на функцию потерь, то можно заметить, что в зависимости от правильного ответа алгоритм штрафуется или функцией $-\\log a_i$, или функцией $-\\log (1 - a_i)$.\n",
        "\n"
      ]
    },
    {
      "cell_type": "markdown",
      "metadata": {
        "id": "GNcYh69MLomw"
      },
      "source": [
        "Часто для решения проблем, которые так или иначе связаны с проблемой переобучения, в функционал качества добавляют слагаемое, которое называют ***регуляризацией***. Итоговый функционал для линейной регрессии тогда принимает вид:\n",
        "\n",
        "$$L(w) =  \\frac{1}{N}\\left[\\sum_i (y_i - a_i) ^ 2 \\right] + \\frac{1}{C}R(w) $$\n",
        "\n",
        "Для логистической: \n",
        "$$L(w) = - \\frac{1}{N}\\left[\\sum_i y_i \\log a_i + ( 1 - y_i) \\log (1 - a_i) \\right] +  \\frac{1}{C}R(w)$$\n",
        "\n",
        "Самое понятие регуляризации введено основателем ВМК академиком Тихоновым https://ru.wikipedia.org/wiki/Метод_регуляризации_Тихонова\n",
        "\n",
        "Идейно методика регуляризации заключается в следующем $-$ мы рассматриваем некорректно поставленную задачу (что это такое можно найти в интернете), для того чтобы сузить набор различных вариантов (лучшие из которых будут являться переобучением ) мы вводим дополнительные ограничения на множество искомых решений. На лекции Вы уже рассмотрели два варианта регуляризации.\n",
        "\n",
        "$L1$ регуляризация:\n",
        "$$R(w) = \\sum_{j=1}^{D}|w_j|$$\n",
        "$L2$ регуляризация:\n",
        "$$R(w) =  \\sum_{j=1}^{D}w_j^2$$\n",
        "\n",
        "С их помощью мы ограничиваем модель в  возможности выбора каких угодно весов минимизирующих наш лосс, модель уже не сможет подстроиться под данные как ей угодно. \n",
        "\n",
        "Вам нужно добавить соотвествущую Вашему варианту $L2$ регуляризацию.\n",
        "\n",
        "И так, мы поняли, какую функцию ошибки будем минимизировать, разобрались, как получить предсказания по объекту и обученным весам. Осталось разобраться, как получить оптимальные веса. Для этого нужно выбрать какой-то метод оптимизации.\n",
        "\n"
      ]
    },
    {
      "cell_type": "markdown",
      "metadata": {
        "id": "eReoc9nALomx"
      },
      "source": [
        "Градиентный спуск является самым популярным алгоритмом обучения линейных моделей. В этом задании Вам предложат реализовать стохастический градиентный спуск или  мини-батч градиентный спуск (мини-батч на русский язык довольно сложно перевести, многие переводят это как \"пакетный\", но мне не кажется этот перевод удачным). Далее нам потребуется определение **эпохи**.\n",
        "Эпохой в SGD и MB-GD называется один проход по **всем** объектам в обучающей выборки.\n",
        "* В SGD градиент расчитывается по одному случайному объекту. Сам алгоритм выглядит примерно так:\n",
        "        1) Перемешать выборку\n",
        "        2) Посчитать градиент функции потерь на одном объекте (далее один объект тоже будем называть батчем)\n",
        "        3) Сделать шаг спуска\n",
        "        4) Повторять 2) и 3) пока не пройдет максимальное число эпох.\n",
        "* В Mini Batch SGD - по подвыборке объектов. Сам алгоритм выглядит примерно так::\n",
        "        1) Перемешать выборку, выбрать размер мини-батча (от 1 до размера выборки)\n",
        "        2) Почитать градиент функции потерь по мини-батчу (не забыть поделить на  число объектов в мини-батче)\n",
        "        3) Сделать шаг спуска\n",
        "        4) Повторять 2) и 3) пока не пройдет максимальное число эпох.\n",
        "* Для отладки алгоритма реализуйте возможность  вывода средней ошибки на обучении модели по объектам (мини-батчам). После шага градиентного спуска посчитайте значение ошибки на объекте (или мини-батче), а затем усредните, например, по ста шагам. Если обучение проходит корректно, то мы должны увидеть, что каждые 100 шагов функция потерь уменьшается. \n",
        "* Правило останова - максимальное количество эпох\n",
        "    \n"
      ]
    },
    {
      "cell_type": "markdown",
      "metadata": {
        "id": "USt9XGOELomy"
      },
      "source": [
        "# Теоретические вопросы (2 балла)\n",
        "В этой части Вам будут предложены теоретичские вопросы и задачи по теме. Вы, конечно, можете списать их у своего товарища или найти решение в интернете, но учтите, что они обязательно войдут в теоретический коллоквиум. Лучше разобраться в теме сейчас и успешно ответить на коллоквиуме, чем списать, не разобравшись в материале, и быть терзаемым совестью. \n",
        "\n",
        "\n",
        "Формулы надо оформлять в формате **LaTeX**."
      ]
    },
    {
      "cell_type": "markdown",
      "metadata": {
        "id": "ZGNWuvo7Lomy"
      },
      "source": [
        "Задача 1. Градиент для линейной регрессии.\n",
        "* Выпишите формулу обновления весов для линейной регрессии с L2 регуляризацией для мини-батч градиентого спуска размера $n$:\n",
        "\n",
        "$$ w_{new} = w_{old} - ... $$\n",
        "\n",
        " Отнеситесь к этому пункту максимально серьезно, это Вам нужно будет реализовать в задании.\n",
        " \n",
        "Проанализруйте итоговую формулу градиента - как  интуитивно можно  описать, чему равен градиент?"
      ]
    },
    {
      "cell_type": "markdown",
      "metadata": {
        "id": "-rfqb-phLomz"
      },
      "source": [
        "$$ w_{new} = w_{old} - \\alpha * \\frac{\\partial L(w_{old})}{\\partial w} $$\n",
        "\n",
        "$$ \\frac{\\partial L(w_{old})}{\\partial w} = \\frac{2}{n} * \\sum\\limits_{j=1}^n{ (x_jw_{old} - y_j)x_j } + \\frac{2w_{old}}{C} $$\n",
        "\n",
        "$$ w_{new} = (1 - \\frac{2\\alpha}{C})w_{old} - \\frac{2\\alpha}{n} * \\sum\\limits_{j=1}^n{ (x_jw_{old} - y_j)x_j } $$"
      ]
    },
    {
      "cell_type": "markdown",
      "metadata": {
        "id": "ZF030Wc_Lomz"
      },
      "source": [
        "Задача 2. Градиент для логистической регрессии.\n",
        "* Выпишите формулу обновления весов для логистической регрессии с L2 регуляризацией  для мини-батч градиентого спуска размера $n$:\n",
        "\n",
        "$$ w_{new} = w_{old} - ... $$\n",
        "\n",
        " Отнеситесь к этому пункту максимально серьезно, это Вам нужно будет реализовать в задании.\n",
        " \n",
        "Проанализруйте итоговую формулу градиента - как  интуитивно можно  описать, чему равен градиент? Как соотносится этот градиент с градиентом, возникающий в задаче линейной регрессии?\n",
        "\n",
        "Подсказка: Вам градиент, которой получается если “в лоб” продифференцировать,  надо немного преобразовать.\n",
        "Надо подставить, что $1 - \\sigma(w,x) $ это  $1 - a(x_i)$, а  $-\\sigma(w,x)$ это $0 - a(x_i)$.  Тогда получится свести к одной красивой формуле с линейной регрессией, которую программировать будет намного проще."
      ]
    },
    {
      "cell_type": "markdown",
      "metadata": {
        "id": "M2599bjtLom0"
      },
      "source": [
        "$$ w_{new} = w_{old} - \\alpha * \\frac{\\partial L(w_{old})}{\\partial w} $$\n",
        "\n",
        "$$ \\frac{\\partial L(w_{old})}{\\partial w} = - \\frac{1}{n} * \\sum\\limits_{j=1}^n{( \\frac{y_j \\sigma (1 - \\sigma) x_j}{\\sigma} - \\frac{(1 - y_j) \\sigma (1 - \\sigma) x_j}{1 - \\sigma} )} + \\frac{2w_{old}}{C} = - \\frac{1}{n} * \\sum\\limits_{j=1}^n{(y_j - \\sigma) x_j} + \\frac{2w_{old}}{C} $$\n",
        "\n",
        "$$ w_{new} = (1 - \\frac{2\\alpha}{C})w_{old} + \\frac{\\alpha}{n} * \\sum\\limits_{j=1}^n{(y_j - \\sigma) x_j} $$"
      ]
    },
    {
      "cell_type": "markdown",
      "metadata": {
        "id": "ROEGlId6Lom1"
      },
      "source": [
        "Задача 3. Точное решение линейной регрессии\n",
        "\n",
        "На лекции было показано, что точное решение линейной регрессии имеет вид $w = (X^TX)^{-1}X^TY $. \n",
        "* Покажите, что это действительно является точкой минимума в случае, если матрица X имеет строк не меньше, чем столбцов и имеет полный ранг. Подсказка: посчитайте Гессиан и покажите, что в этом случае он положительно определен. \n",
        "* Выпишите точное решение для модели с $L2$ регуляризацией. Как L2 регуляризация помогает с точным решением где матрица X имеет линейно зависимые признаки?"
      ]
    },
    {
      "cell_type": "markdown",
      "metadata": {
        "id": "iX0bKK14Lom1"
      },
      "source": [
        "$$ \\nabla_w^2 Q = 2X^TX - Гессиан$$\n",
        "\n",
        "По определению: $ \\forall z \\in R^n: z \\neq 0: z^TX^TXz = ||Xz|| > 0 $, так как матрица X имеет строк не меньше, чем столбцов и имеет полный ранг. Значит, Гессиан положительно определен в точке, градиент которой равен 0 $=>$ эта точка - локальный минимум.\n",
        "\n",
        "Если матрица $X$ имеет линейно зависимые строки $=> X^TX$ имеет линейно зависимые строки и не имеет обратной матрицы. С помощью $L2$ регуляризации мы можем сделать строки матрицы, которую будем обращать, линейно независимыми. \n",
        "\n",
        "$$ \\omega = (X^TX + \\lambda I)^{-1}X^TY $$"
      ]
    },
    {
      "cell_type": "markdown",
      "metadata": {
        "id": "A93DGXL7Lom2"
      },
      "source": [
        "Задача 4.  Предсказываем вероятности.\n",
        "\n",
        "Когда говорят о логистической регрессии, произносят фразу, что она \"предсказывает вероятности положительного класса\". Давайте разберемся, что же за этим стоит. Посчитаем математическое ожидание функции потерь и проверим, что предсказание алгоритма, оптимизирующее это мат. ожидание, будет являться вероятностью положительного класса. \n",
        "\n",
        "И так, функция потерь на объекте $x_i$, который имеет метку $y_i \\in \\{0,1\\}$  для предсказания $a(x_i)$ равна:\n",
        "$$L(y_i, b) =-[y_i == 1] \\log a(x_i)  - [y_i == 0] \\log(1 - a(x_i)) $$\n",
        "\n",
        "Где $[]$ означает индикатор $-$ он равен единице, если значение внутри него истинно, иначе он равен нулю. Тогда мат. ожидание при условии конкретного $x_i$  по определение мат. ожидания дискретной случайной величины:\n",
        "$$E(L | x_i) = -p(y_i = 1 |x_i ) \\log a(x_i)  - p(y_i = 0 | x_i) \\log( 1 - a(x_i))$$\n",
        "* Докажите, что значение $a(x_i)$, минимизирующее данное мат. ожидание, в точности равно $p(y_i = 1 |x_i)$, то есть равно вероятности положительного класса.\n",
        "\n",
        "Подсказка: возможно, придется воспользоваться, что  $p(y_i = 1 | x_i) + p(y_i = 0 | x_i) = 1$"
      ]
    },
    {
      "cell_type": "markdown",
      "metadata": {
        "id": "WctxYWK5Lom2"
      },
      "source": [
        "$$ \\frac{\\partial E(L|x_i)}{\\partial a(x_i)} = - \\frac{p(y_i=1|x_i)}{a(x_i)} + \\frac{p(y_i=0|x_i)}{1 - a(x_i)} = - \\frac{p(y_i=1|x_i)}{a(x_i)} + \\frac{1 - p(y_i=1|x_i)}{1 - a(x_i)} = \\frac{- p(y_i=1|x_i) + a(x_i)p(y_i=1|x_i) + a(x_i) - a(x_i)p(y_i=1|x_i)}{a(x_i)(1 - a(x_i))} = \\frac{a(x_i) - p(y_i=1|x_i)}{a(x_i)(1 - a(x_i))} = 0 => $$\n",
        "\n",
        "$$ a(x_i) = p(y_i=1|x_i) $$"
      ]
    },
    {
      "cell_type": "markdown",
      "metadata": {
        "id": "6-kp6NByLom3"
      },
      "source": [
        "Задача 5.  Смысл регуляризации.\n",
        "\n",
        "Нужно ли в L1/L2 регуляризации использовать свободный член $w_0$ (который не умножается ни на какой признак)?\n",
        "\n",
        "Подсказка: подумайте, для чего мы вводим $w_0$"
      ]
    },
    {
      "cell_type": "markdown",
      "metadata": {
        "id": "9TMePXD1Lom4"
      },
      "source": [
        "Ответ: нет\n",
        "\n",
        "Мы используем регуляризацию для того, чтобы наша модель не переобучалась и не \"подстраивалась\" под определенные признаки. Соответственно, наша модель не может \"подстроиться\" под константный признак и штрафовать за это не имеет смысла. К тому же, если мы будем штрафовать модель за большое значение переменной $w_0$, значит мы предполагаем близость целевой переменной к 0, что неверно в общем случае."
      ]
    },
    {
      "cell_type": "markdown",
      "metadata": {
        "id": "fSVqk91gLom4"
      },
      "source": [
        "#  Реализация линейной модели (4 балла)"
      ]
    },
    {
      "cell_type": "markdown",
      "metadata": {
        "id": "zBGMgtzqLom5"
      },
      "source": [
        "## Зачем нужны батчи?\n"
      ]
    },
    {
      "cell_type": "markdown",
      "metadata": {
        "id": "0dzfSwFhLom5"
      },
      "source": [
        "Как Вы могли заметить из теоретического введения, что в случае SGD, что в случа mini-batch GD,  на каждой итерации обновление весов  происходит только по небольшой части данных (1 пример в случае SGD, batch примеров в случае mini-batch). То есть для каждой итерации нам *** не нужна вся выборка***. Мы можем просто итерироваться по выборке, беря батч нужного размера (далее 1 объект тоже будем называть батчом).\n",
        "\n",
        "Легко заметить, что в этом случае нам не нужно загружать все данные в оперативную память, достаточно просто считать батч с диска, обновить веса, считать диска другой батч и так далее. В целях упрощения домашней работы, прямо с диска  мы считывать не будем, будем работать с обычными numpy array. \n",
        "\n",
        "\n",
        "\n"
      ]
    },
    {
      "cell_type": "markdown",
      "metadata": {
        "id": "8XWaByLELom6"
      },
      "source": [
        "## Немножко про генераторы в Python\n",
        "\n"
      ]
    },
    {
      "cell_type": "markdown",
      "metadata": {
        "id": "Vb9JZQv9Lom6"
      },
      "source": [
        "Идея считывания данных кусками удачно ложится на так называемые ***генераторы*** из языка Python. В данной работе Вам предлагается не только разобраться с логистической регрессией, но  и познакомиться с таким важным элементом языка.  При желании Вы можете убрать весь код, связанный с генераторами, и реализовать логистическую регрессию и без них, ***штрафоваться это никак не будет***. Главное, чтобы сама модель была реализована правильно, и все пункты были выполнены. \n",
        "\n",
        "Подробнее можно почитать вот тут https://anandology.com/python-practice-book/iterators.html\n"
      ]
    },
    {
      "cell_type": "markdown",
      "metadata": {
        "id": "K4UdXyq7Lom7"
      },
      "source": [
        "К генератору стоит относиться просто как к функции, которая порождает не один объект, а целую последовательность объектов. Новое значение из последовательности генерируется с помощью ключевого слова ***yield***. Ниже Вы можете насладиться  генератором чисел Фибоначчи."
      ]
    },
    {
      "cell_type": "code",
      "metadata": {
        "id": "4DrawJpELom8"
      },
      "source": [
        "def fib(max_iter=4):\n",
        "    a, b = 0, 1\n",
        "    iter_num = 0\n",
        "    while 1:\n",
        "        yield a\n",
        "        a, b = b, a + b\n",
        "        iter_num += 1\n",
        "        if iter_num == max_iter:\n",
        "            break"
      ],
      "execution_count": null,
      "outputs": []
    },
    {
      "cell_type": "markdown",
      "metadata": {
        "id": "fKMGfrnOLom_"
      },
      "source": [
        "Вот так можно сгенерировать последовательность Фибоначчи. \n",
        "\n",
        "Заметьте, что к генераторам можно применять некоторые стандартные функции из Python, например enumerate."
      ]
    },
    {
      "cell_type": "code",
      "metadata": {
        "id": "nKeMbtnxLonA",
        "outputId": "e4386ada-7384-4b04-d34e-620e041caa9f",
        "colab": {
          "base_uri": "https://localhost:8080/"
        }
      },
      "source": [
        "new_generator = fib()\n",
        "for j, fib_val in enumerate(new_generator):\n",
        "    print (\"Fib num: \" + str(j) + \" fib values: \" + str(fib_val))"
      ],
      "execution_count": null,
      "outputs": [
        {
          "output_type": "stream",
          "text": [
            "Fib num: 0 fib values: 0\n",
            "Fib num: 1 fib values: 1\n",
            "Fib num: 2 fib values: 1\n",
            "Fib num: 3 fib values: 2\n"
          ],
          "name": "stdout"
        }
      ]
    },
    {
      "cell_type": "markdown",
      "metadata": {
        "id": "ZxwirFjELonF"
      },
      "source": [
        "Пересоздавая объект, можно сколько угодно раз генерировать заново последовательность. "
      ]
    },
    {
      "cell_type": "code",
      "metadata": {
        "id": "bQ6HIMiXLonF",
        "outputId": "d4477837-cba3-4fe3-dad4-e27d7fb4cc1f",
        "colab": {
          "base_uri": "https://localhost:8080/"
        }
      },
      "source": [
        "for i in range(0, 3):\n",
        "    new_generator = fib()\n",
        "    for j, fib_val in enumerate(new_generator):\n",
        "        print (\"Fib num: \" + str(j) + \" fib values: \" + str(fib_val))"
      ],
      "execution_count": null,
      "outputs": [
        {
          "output_type": "stream",
          "text": [
            "Fib num: 0 fib values: 0\n",
            "Fib num: 1 fib values: 1\n",
            "Fib num: 2 fib values: 1\n",
            "Fib num: 3 fib values: 2\n",
            "Fib num: 0 fib values: 0\n",
            "Fib num: 1 fib values: 1\n",
            "Fib num: 2 fib values: 1\n",
            "Fib num: 3 fib values: 2\n",
            "Fib num: 0 fib values: 0\n",
            "Fib num: 1 fib values: 1\n",
            "Fib num: 2 fib values: 1\n",
            "Fib num: 3 fib values: 2\n"
          ],
          "name": "stdout"
        }
      ]
    },
    {
      "cell_type": "markdown",
      "metadata": {
        "id": "T-NkFiVVLonI"
      },
      "source": [
        "А вот так уже нельзя."
      ]
    },
    {
      "cell_type": "code",
      "metadata": {
        "id": "yBij3nYALonI",
        "outputId": "11bd9419-fcbc-4420-fe31-2c346c4fccfc",
        "colab": {
          "base_uri": "https://localhost:8080/"
        }
      },
      "source": [
        "new_generator = fib()\n",
        "for i in range(0, 3):\n",
        "    for j, fib_val in enumerate(new_generator):\n",
        "        print (\"Fib num: \" + str(j) + \" fib values: \" + str(fib_val))"
      ],
      "execution_count": null,
      "outputs": [
        {
          "output_type": "stream",
          "text": [
            "Fib num: 0 fib values: 0\n",
            "Fib num: 1 fib values: 1\n",
            "Fib num: 2 fib values: 1\n",
            "Fib num: 3 fib values: 2\n"
          ],
          "name": "stdout"
        }
      ]
    },
    {
      "cell_type": "markdown",
      "metadata": {
        "id": "HcImbQepLonL"
      },
      "source": [
        "Концепция крайне удобная для обучения  моделей $-$ у Вас есть некий источник данных, который Вам выдает их кусками, и Вам совершенно все равно откуда он их берет. Под ним может скрывать как массив в оперативной памяти, как файл на жестком диске, так и SQL база данных. Вы сами данные никуда не сохраняете, оперативную память экономите."
      ]
    },
    {
      "cell_type": "markdown",
      "metadata": {
        "id": "1BMZIKqpLonL"
      },
      "source": [
        "Если Вам понравилась идея с генераторами, то Вы можете реализовать свой, используя прототип batch_generator. В нем Вам нужно выдавать батчи признаков и ответов для каждой новой итерации спуска. Если не понравилась идея, то можете реализовывать SGD или mini-batch GD без генераторов."
      ]
    },
    {
      "cell_type": "code",
      "metadata": {
        "id": "oopbz87DLonM"
      },
      "source": [
        "def batch_generator(X, y, shuffle=True, batch_size=1):\n",
        "    \"\"\"\n",
        "    Гератор новых батчей для обучения\n",
        "    X          - матрица объекты-признаки\n",
        "    y_batch    - вектор ответов\n",
        "    shuffle    - нужно ли случайно перемешивать выборку\n",
        "    batch_size - размер батча ( 1 это SGD, > 1 mini-batch GD)\n",
        "    Генерирует подвыборку для итерации спуска (X_batch, y_batch)\n",
        "    \"\"\"\n",
        "\n",
        "    indices = np.arange(y.shape[0])\n",
        "    if shuffle:\n",
        "        np.random.shuffle(indices)\n",
        "\n",
        "    X = np.asarray(X)\n",
        "    y = np.asarray(y)\n",
        "    for i in range(0, y.shape[0], batch_size):\n",
        "        X_batch = X[indices[i:i + batch_size]]\n",
        "        y_batch = y[indices[i:i + batch_size]]\n",
        "        yield (X_batch, y_batch)\n",
        "\n",
        "# Теперь можно сделать генератор по данным ()\n",
        "# my_batch_generator = batch_generator(X, y, shuffle=True, batch_size=1):"
      ],
      "execution_count": 79,
      "outputs": []
    },
    {
      "cell_type": "code",
      "metadata": {
        "id": "ji8SAPmtLonO"
      },
      "source": [
        "from sklearn.base import BaseEstimator, ClassifierMixin\n",
        "\n",
        "\n",
        "def sigmoid(x):\n",
        "    \"\"\"\n",
        "    Вычисляем значение сигмоида.\n",
        "    X - выход линейной модели\n",
        "    \"\"\"\n",
        "    sigm_value_x = 1 / (1 + np.exp(-x))\n",
        "\n",
        "    return sigm_value_x\n",
        "\n",
        "\n",
        "class MySGDClassifier(BaseEstimator, ClassifierMixin):\n",
        "\n",
        "    def __init__(self, batch_generator, C=1, alpha=0.01, max_epoch=10,\n",
        "                 model_type='lin_reg', threshold=0.5):\n",
        "        \"\"\"\n",
        "        batch_generator -- функция генератор, которой будем создавать батчи\n",
        "        C - коэф. регуляризации\n",
        "        alpha - скорость спуска\n",
        "        max_epoch - максимальное количество эпох\n",
        "        model_type - тим модели, lin_reg или log_reg\n",
        "        \"\"\"\n",
        "\n",
        "        self.C = C\n",
        "        self.alpha = alpha\n",
        "        self.max_epoch = max_epoch\n",
        "        self.batch_generator = batch_generator\n",
        "        self.errors_log = {'iter': [], 'loss': []}\n",
        "        self.model_type = model_type\n",
        "        self.threshold = threshold\n",
        "\n",
        "    def calc_loss(self, X_batch, y_batch):\n",
        "        \"\"\"\n",
        "        Считаем функцию потерь по батчу\n",
        "        X_batch - матрица объекты-признаки по батчу\n",
        "        y_batch - вектор ответов по батчу\n",
        "        Не забудте тип модели (линейная или логистическая регрессия)!\n",
        "        \"\"\"\n",
        "\n",
        "        Xw = np.dot(X_batch, self.weights)\n",
        "        if self.model_type == 'lin_reg':\n",
        "            y_batch[y_batch == 0] = -1\n",
        "            loss = np.mean((y_batch - Xw) ** 2)\n",
        "        else:\n",
        "            a = sigmoid(Xw)\n",
        "            log_a = np.log(a)\n",
        "            loss = -np.mean(y_batch * log_a + (1 - y_batch) * np.log(1 - a))\n",
        "        loss += np.sum(self.weights[1:] ** 2) / self.C\n",
        "\n",
        "        return loss\n",
        "\n",
        "    def calc_loss_grad(self, X_batch, y_batch):\n",
        "        \"\"\"\n",
        "        Считаем  градиент функции потерь\n",
        "        по батчу (то что Вы вывели в задании 1)\n",
        "        X_batch - матрица объекты-признаки по батчу\n",
        "        y_batch - вектор ответов по батчу\n",
        "        Не забудте тип модели (линейная или логистическая регрессия)!\n",
        "        \"\"\"\n",
        "        n = X_batch.shape[0]\n",
        "\n",
        "        Xw = np.dot(X_batch, self.weights)\n",
        "        if self.model_type == 'lin_reg':\n",
        "            y_batch[y_batch == 0] = -1\n",
        "            loss_grad = - 2 * np.dot(y_batch - Xw, X_batch) / n\n",
        "        else:\n",
        "            loss_grad = - np.dot(y_batch - sigmoid(Xw), X_batch) / n\n",
        "        loss_grad += 2 * self.weights / self.C\n",
        "\n",
        "        return loss_grad\n",
        "\n",
        "    def update_weights(self, new_grad):\n",
        "        \"\"\"\n",
        "        Обновляем вектор весов\n",
        "        new_grad - градиент по батчу\n",
        "        \"\"\"\n",
        "        self.weights -= self.alpha * new_grad\n",
        "\n",
        "    def fit(self, X, y, batch_size=1):\n",
        "        '''\n",
        "        Обучение модели\n",
        "        X - матрица объекты-признаки\n",
        "        y - вектор ответов\n",
        "        '''\n",
        "\n",
        "        X = np.concatenate((np.ones(X.shape[0]).reshape(-1, 1), X), axis=1)\n",
        "\n",
        "        # Нужно инициализровать случайно веса\n",
        "        self.weights = np.random.rand(X.shape[1])\n",
        "        for n in range(0, self.max_epoch):\n",
        "            new_epoch_generator = self.batch_generator(X, y,\n",
        "                                                       batch_size=batch_size)\n",
        "            for batch_num, new_batch in enumerate(new_epoch_generator):\n",
        "                X_batch = new_batch[0]\n",
        "                y_batch = new_batch[1]\n",
        "                batch_grad = self.calc_loss_grad(X_batch, y_batch)\n",
        "                self.update_weights(batch_grad)\n",
        "                # Подумайте в каком месте стоит посчитать ошибку\n",
        "                # для отладки модели\n",
        "                # До градиентного шага или после\n",
        "                batch_loss = self.calc_loss(X_batch, y_batch)\n",
        "                self.errors_log['iter'].append(batch_num)\n",
        "                self.errors_log['loss'].append(batch_loss)\n",
        "\n",
        "        return self\n",
        "\n",
        "    def predict(self, X):\n",
        "        '''\n",
        "        Предсказание класса\n",
        "        X - матрица объекты-признаки\n",
        "        Не забудте тип модели (линейная или логистическая регрессия)!\n",
        "        '''\n",
        "\n",
        "        # Желательно здесь использовать матричные операции между X и весами,\n",
        "        # например, numpy.dot\n",
        "\n",
        "        X = np.concatenate((np.ones(X.shape[0]).reshape(-1, 1), X), axis=1)\n",
        "        y_hat = np.dot(X, self.weights)\n",
        "        if self.model_type == 'lin_reg':\n",
        "            y_hat = (y_hat > 0).astype(int)\n",
        "        else:\n",
        "            y_hat = sigmoid(y_hat)\n",
        "            y_hat = (y_hat > self.threshold).astype(int)\n",
        "        return y_hat"
      ],
      "execution_count": 80,
      "outputs": []
    },
    {
      "cell_type": "markdown",
      "metadata": {
        "id": "lDCEdZZLLonR"
      },
      "source": [
        "Запустите обе регрессии на синтетических данных. \n",
        "\n",
        "\n",
        "Выведите полученные веса и нарисуйте разделяющую границу между классами (используйте только первых два веса для первых двух признаков X[:,0], X[:,1] для отображения в 2d пространство ).  "
      ]
    },
    {
      "cell_type": "code",
      "metadata": {
        "id": "MOFt5DjzLonS"
      },
      "source": [
        "def plot_decision_boundary(clf, label='Model'):\n",
        "    x = np.linspace(-3, 3)\n",
        "    plt.plot(x, (- clf.weights[0] - x * clf.weights[1]) / clf.weights[2],\n",
        "             label=label)\n",
        "\n",
        "    plt.legend()"
      ],
      "execution_count": 81,
      "outputs": []
    },
    {
      "cell_type": "code",
      "metadata": {
        "id": "jyV9l8o8LonV",
        "outputId": "bc1fd04c-0ae1-43bd-a45b-9093e312c75d",
        "colab": {
          "base_uri": "https://localhost:8080/",
          "height": 370
        }
      },
      "source": [
        "np.random.seed(0)\n",
        "\n",
        "C1 = np.array([[0., -0.8], [1.5, 0.8]])\n",
        "C2 = np.array([[1., -0.7], [2., 0.7]])\n",
        "gauss1 = np.dot(np.random.randn(200, 2) + np.array([5, 3]), C1)\n",
        "gauss2 = np.dot(np.random.randn(200, 2) + np.array([1.5, 0]), C2)\n",
        "\n",
        "X = np.vstack([gauss1, gauss2])\n",
        "y = np.r_[np.ones(200), np.zeros(200)]\n",
        "\n",
        "X = (X - X.mean(axis=0)) / X.std(axis=0)\n",
        "\n",
        "model_lin = MySGDClassifier(batch_generator)\n",
        "model_lin.fit(X, y)\n",
        "plot_decision_boundary(model_lin, 'lin_reg')\n",
        "\n",
        "print(model_lin.weights)\n",
        "\n",
        "model_log = MySGDClassifier(batch_generator, model_type='log_reg')\n",
        "model_log.fit(X, y)\n",
        "plot_decision_boundary(model_log, 'log_reg')\n",
        "\n",
        "print(model_log.weights)\n",
        "\n",
        "\n",
        "plt.scatter(X[:, 0], X[:, 1], c=y)"
      ],
      "execution_count": 83,
      "outputs": [
        {
          "output_type": "stream",
          "text": [
            "[ 0.00247782  0.34927606 -0.12349791]\n",
            "[-0.01530272  0.14150492 -0.09295401]\n"
          ],
          "name": "stdout"
        },
        {
          "output_type": "execute_result",
          "data": {
            "text/plain": [
              "<matplotlib.collections.PathCollection at 0x7fc6167517b8>"
            ]
          },
          "metadata": {
            "tags": []
          },
          "execution_count": 83
        },
        {
          "output_type": "display_data",
          "data": {
            "image/png": "[encoded data removed]",
            "text/plain": [
              "<Figure size 864x360 with 1 Axes>"
            ]
          },
          "metadata": {
            "tags": []
          }
        }
      ]
    },
    {
      "cell_type": "markdown",
      "metadata": {
        "id": "YaotLuBLLonX"
      },
      "source": [
        "Далее будем анализировать Ваш алгоритм. \n",
        "Для этих заданий используйте датасет ниже."
      ]
    },
    {
      "cell_type": "code",
      "metadata": {
        "id": "dlB0yfr7LonX"
      },
      "source": [
        "from sklearn.datasets import make_classification"
      ],
      "execution_count": 84,
      "outputs": []
    },
    {
      "cell_type": "code",
      "metadata": {
        "id": "AxTcsNKuLonZ"
      },
      "source": [
        "X, y = make_classification(n_samples=100000, n_features=10, \n",
        "                           n_informative=4, n_redundant=0, \n",
        "                           random_state=123, class_sep=1.0,\n",
        "                           n_clusters_per_class=1)"
      ],
      "execution_count": 85,
      "outputs": []
    },
    {
      "cell_type": "markdown",
      "metadata": {
        "id": "Z2DJ0trTLonc"
      },
      "source": [
        "Покажите сходимости обеих регрессией на этом датасете: изобразите график  функции потерь, усредненной по $N$ шагам градиентого спуска, для разных `alpha` (размеров шага). Разные `alpha` расположите на одном графике. \n",
        "\n",
        "$N$ можно брать 10, 50, 100 и т.д. "
      ]
    },
    {
      "cell_type": "code",
      "metadata": {
        "id": "H7MyPynxnBiX"
      },
      "source": [
        "def plot_model_alpha(model_type, N=50, array_alpha=None):\n",
        "    if array_alpha is None:\n",
        "        array_alpha = [0.1, 0.05, 0.01, 0.001, 0.0005, 0.0001]\n",
        "    for alpha in array_alpha:\n",
        "        model = MySGDClassifier(batch_generator, alpha=alpha,\n",
        "                                model_type=model_type, max_epoch=10)\n",
        "        model.fit(X, y, batch_size=200)\n",
        "\n",
        "        loss = np.asarray(model.errors_log['loss']).reshape(-1, N).mean(axis=1)\n",
        "        plt.plot(N * np.arange(loss.shape[0]), loss, label=alpha)\n",
        "\n",
        "    plt.title(f'{model_type} {N}')\n",
        "    plt.ylabel(\"mean loss\")\n",
        "    plt.legend()\n",
        "    plt.show()"
      ],
      "execution_count": null,
      "outputs": []
    },
    {
      "cell_type": "code",
      "metadata": {
        "id": "ueMTFO6bLonc",
        "outputId": "7c543c6b-9e45-4818-a757-fd7739ca8be6",
        "colab": {
          "base_uri": "https://localhost:8080/",
          "height": 337
        }
      },
      "source": [
        "plot_model_alpha('lin_reg')"
      ],
      "execution_count": null,
      "outputs": [
        {
          "output_type": "display_data",
          "data": {
            "image/png": "[encoded data removed]",
            "text/plain": [
              "<Figure size 864x360 with 1 Axes>"
            ]
          },
          "metadata": {
            "tags": []
          }
        }
      ]
    },
    {
      "cell_type": "code",
      "metadata": {
        "id": "2SYCnuoviv3V",
        "outputId": "3adc27a1-4de1-4623-9640-eb10e64a7e2c",
        "colab": {
          "base_uri": "https://localhost:8080/",
          "height": 337
        }
      },
      "source": [
        "plot_model_alpha('log_reg')"
      ],
      "execution_count": null,
      "outputs": [
        {
          "output_type": "display_data",
          "data": {
            "image/png": "[encoded data removed]",
            "text/plain": [
              "<Figure size 864x360 with 1 Axes>"
            ]
          },
          "metadata": {
            "tags": []
          }
        }
      ]
    },
    {
      "cell_type": "markdown",
      "metadata": {
        "id": "kdUhwqXPLonh"
      },
      "source": [
        "Что Вы можете сказать про сходимость метода при различных `alpha`? Какое значение стоит выбирать для лучшей сходимости?"
      ]
    },
    {
      "cell_type": "markdown",
      "metadata": {
        "id": "AzbbfTT3Lonh"
      },
      "source": [
        "Изобразите график среднего значения весов для обеих регрессий в зависимости от коеф. регуляризации С из `np.logspace(3, -3, 10)` "
      ]
    },
    {
      "cell_type": "code",
      "metadata": {
        "id": "ihB47jJPUmuv"
      },
      "source": [
        "def plot_model_c(model_type):\n",
        "    array_c = np.logspace(3, -3, 10)\n",
        "    mean_w = []\n",
        "    for C in array_c:\n",
        "        model = MySGDClassifier(batch_generator, C=C, alpha=0.00001)\n",
        "        model.fit(X, y, batch_size=200)\n",
        "        mean_w.append(model.weights.mean())\n",
        "    plt.xscale(\"log\")\n",
        "    plt.plot(array_c, mean_w)"
      ],
      "execution_count": 122,
      "outputs": []
    },
    {
      "cell_type": "code",
      "metadata": {
        "id": "pA7EnK_ZLoni",
        "outputId": "aeffb453-9b3b-4639-c050-5234ca164fa6",
        "colab": {
          "base_uri": "https://localhost:8080/",
          "height": 324
        }
      },
      "source": [
        "plot_model_c('lin_reg')"
      ],
      "execution_count": 123,
      "outputs": [
        {
          "output_type": "display_data",
          "data": {
            "image/png": "[encoded data removed]",
            "text/plain": [
              "<Figure size 864x360 with 1 Axes>"
            ]
          },
          "metadata": {
            "tags": []
          }
        }
      ]
    },
    {
      "cell_type": "code",
      "metadata": {
        "id": "AZUuxoDZVTKi",
        "outputId": "4d38e63f-a3dd-461d-a9ae-da980c8790e1",
        "colab": {
          "base_uri": "https://localhost:8080/",
          "height": 324
        }
      },
      "source": [
        "plot_model_c('log_reg')"
      ],
      "execution_count": 124,
      "outputs": [
        {
          "output_type": "display_data",
          "data": {
            "image/png": "[encoded data removed]",
            "text/plain": [
              "<Figure size 864x360 with 1 Axes>"
            ]
          },
          "metadata": {
            "tags": []
          }
        }
      ]
    },
    {
      "cell_type": "markdown",
      "metadata": {
        "id": "3lhoE_RjLonl"
      },
      "source": [
        "Довольны ли Вы, насколько сильно уменьшились Ваши веса? "
      ]
    },
    {
      "cell_type": "markdown",
      "metadata": {
        "id": "dQeXqQ5ALonm"
      },
      "source": [
        "# Боевое применение (4  балла)\n",
        "\n",
        "**Защита данной части возможна только при преодолении в проекте бейзлайна Handmade baseline.**"
      ]
    },
    {
      "cell_type": "markdown",
      "metadata": {
        "id": "fH3eNTP9Lonm"
      },
      "source": [
        "Давайте применим модель на итоговом проекте! Датасет сделаем точно таким же образом, как было показано в project_overview.ipynb\n",
        "\n",
        "Применим обе регрессии, подберем для них параметры и сравним качество. Может быть Вы еще одновременно с решением домашней работы подрастете на лидерборде!"
      ]
    },
    {
      "cell_type": "code",
      "metadata": {
        "id": "tL99CSMjLonm",
        "outputId": "b5fad911-d7f6-4a44-96f1-917031b8fddf",
        "colab": {
          "base_uri": "https://localhost:8080/"
        }
      },
      "source": [
        "doc_to_title = {}\n",
        "with open('docs_titles.tsv') as f:\n",
        "    for num_line, line in enumerate(f):\n",
        "        if num_line == 0:\n",
        "            continue\n",
        "        data = line.strip().split('\\t', 1)\n",
        "        doc_id = int(data[0])\n",
        "        if len(data) == 1:\n",
        "            title = ''\n",
        "        else:\n",
        "            title = data[1]\n",
        "        doc_to_title[doc_id] = title\n",
        "print (len(doc_to_title))\n"
      ],
      "execution_count": 90,
      "outputs": [
        {
          "output_type": "stream",
          "text": [
            "28026\n"
          ],
          "name": "stdout"
        }
      ]
    },
    {
      "cell_type": "code",
      "metadata": {
        "id": "J0CQETOkLono"
      },
      "source": [
        "import pandas as pd\n",
        "train_data = pd.read_csv('train_groups.csv')\n",
        "traingroups_titledata = {}\n",
        "for i in range(len(train_data)):\n",
        "    new_doc = train_data.iloc[i]\n",
        "    doc_group = new_doc['group_id']\n",
        "    doc_id = new_doc['doc_id']\n",
        "    target = new_doc['target']\n",
        "    title = doc_to_title[doc_id]\n",
        "    if doc_group not in traingroups_titledata:\n",
        "        traingroups_titledata[doc_group] = []\n",
        "    traingroups_titledata[doc_group].append((doc_id, title, target))"
      ],
      "execution_count": 91,
      "outputs": []
    },
    {
      "cell_type": "code",
      "metadata": {
        "id": "6h064KylLonq",
        "outputId": "5ec74aba-de37-486d-f350-ce6411aa16ce",
        "colab": {
          "base_uri": "https://localhost:8080/"
        }
      },
      "source": [
        "import numpy as np\n",
        "y_train = []\n",
        "X_train = []\n",
        "groups_train = []\n",
        "for new_group in traingroups_titledata:\n",
        "    docs = traingroups_titledata[new_group]\n",
        "    for k, (doc_id, title, target_id) in enumerate(docs):\n",
        "        y_train.append(target_id)\n",
        "        groups_train.append(new_group)\n",
        "        all_dist = []\n",
        "        words = set(title.strip().split())\n",
        "        for j in range(0, len(docs)):\n",
        "            if k == j:\n",
        "                continue\n",
        "            doc_id_j, title_j, target_j = docs[j]\n",
        "            words_j = set(title_j.strip().split())\n",
        "            all_dist.append(len(words.intersection(words_j)))\n",
        "        X_train.append(sorted(all_dist, reverse=True)[0:15]    )\n",
        "X_train = np.array(X_train)\n",
        "y_train = np.array(y_train)\n",
        "groups_train = np.array(groups_train)\n",
        "print (X_train.shape, y_train.shape, groups_train.shape)"
      ],
      "execution_count": 92,
      "outputs": [
        {
          "output_type": "stream",
          "text": [
            "(11690, 15) (11690,) (11690,)\n"
          ],
          "name": "stdout"
        }
      ]
    },
    {
      "cell_type": "markdown",
      "metadata": {
        "id": "CckEJSo9Lont"
      },
      "source": [
        "Подберите размер батча для обучения. Линейная модель не должна учиться дольше нескольких минут. \n",
        "\n",
        "Не забывайте использовать скейлер!"
      ]
    },
    {
      "cell_type": "code",
      "metadata": {
        "id": "MzgDydTrLonu"
      },
      "source": [
        "from sklearn.metrics import f1_score\n",
        "from sklearn.linear_model import LinearRegression\n",
        "from sklearn.preprocessing import StandardScaler\n",
        "from sklearn.model_selection import cross_val_score, cross_val_predict"
      ],
      "execution_count": 93,
      "outputs": []
    },
    {
      "cell_type": "code",
      "metadata": {
        "id": "_XKBRWiyLonw"
      },
      "source": [
        "scaler = StandardScaler()\n",
        "X_train = scaler.fit_transform(X_train)"
      ],
      "execution_count": 94,
      "outputs": []
    },
    {
      "cell_type": "code",
      "metadata": {
        "id": "VUn4U-ZdLony",
        "outputId": "9fea6dcb-fb4b-4c5c-a604-518e99e026b5",
        "colab": {
          "base_uri": "https://localhost:8080/",
          "height": 374
        }
      },
      "source": [
        "%%time\n",
        "import time\n",
        "fit_time = []\n",
        "array_batch_size = list(map(int, np.logspace(0, 4, 5)))\n",
        "\n",
        "for batch_size in array_batch_size:\n",
        "    start_time = time.time()\n",
        "    model = MySGDClassifier(batch_generator, max_epoch=100)\n",
        "    model.fit(X_train, y_train, batch_size=batch_size)\n",
        "    fit_time.append(time.time() - start_time)\n",
        "\n",
        "fit_time = np.asarray(fit_time)\n",
        "batch_size = array_batch_size[np.argmin(fit_time)]\n",
        "print(f'Best is {batch_size}')\n",
        "\n",
        "plt.xscale(\"log\")\n",
        "plt.plot(array_batch_size, fit_time)"
      ],
      "execution_count": 68,
      "outputs": [
        {
          "output_type": "stream",
          "text": [
            "Best is 10000\n",
            "CPU times: user 58.4 s, sys: 627 ms, total: 59 s\n",
            "Wall time: 58.6 s\n"
          ],
          "name": "stdout"
        },
        {
          "output_type": "display_data",
          "data": {
            "image/png": "[encoded data removed]",
            "text/plain": [
              "<Figure size 864x360 with 1 Axes>"
            ]
          },
          "metadata": {
            "tags": []
          }
        }
      ]
    },
    {
      "cell_type": "markdown",
      "metadata": {
        "id": "pcR6tBmvLon0"
      },
      "source": [
        "Разбейте данные на обучение и валидацию. Подберите параметры C, alpha, max_epoch, model_type на валидации (Вы же помните, как правильно в этой задаче делать валидацию?)"
      ]
    },
    {
      "cell_type": "code",
      "metadata": {
        "id": "1MU2O-QVE-xG"
      },
      "source": [
        "def plot_by_alpha(scores):\n",
        "    for model_type in scores:\n",
        "        for C in scores[model_type]:\n",
        "            for max_epoch in scores[model_type][C]:\n",
        "                p = scores[model_type][C][max_epoch]\n",
        "                plt.plot(list(p.keys()), list(p.values()),\n",
        "                         label=f'{model_type},\n",
        "                         C={C}, ep={max_epoch}')\n",
        "    plt.xlabel('Alpha')\n",
        "    plt.ylabel('Score')\n",
        "    plt.legend()\n",
        "    plt.show()"
      ],
      "execution_count": 95,
      "outputs": []
    },
    {
      "cell_type": "code",
      "metadata": {
        "id": "h2a8BsMxLon1",
        "outputId": "221eb8d8-49f8-4c10-be09-f5f985292382",
        "colab": {
          "base_uri": "https://localhost:8080/",
          "height": 1000
        }
      },
      "source": [
        "# Тут я забыл поставить метрику f1\n",
        "\n",
        "# %%time\n",
        "# from itertools import product\n",
        "# import time\n",
        "\n",
        "# params = product(\n",
        "#     ['lin_reg', 'log_reg'], # model_type\n",
        "#     np.logspace(0, 3, 5), # C\n",
        "#     np.logspace(-5, -2, 5), # alpha\n",
        "#     [10, 50, 100] # max_epoch\n",
        "# )\n",
        "\n",
        "# best_model = None\n",
        "# best_score = 0\n",
        "# scores = {}\n",
        "\n",
        "# for model_type, C, alpha, max_epoch in list(params):\n",
        "#     start_time = time.time()\n",
        "#     model = MySGDClassifier(batch_generator, C=C, alpha=alpha, max_epoch=max_epoch, model_type=model_type)\n",
        "#     model.fit(X_train, y_train, batch_size=batch_size)\n",
        "#     score = cross_val_score(model, X_train, y_train, cv=3, groups=groups_train).mean()\n",
        "#     print(f'Model: {model}\\nScore: {score}\\nTime: {time.time() - start_time}')\n",
        "#     print()\n",
        "    \n",
        "#     if model_type not in scores:\n",
        "#         scores[model_type] = {}\n",
        "#     if C not in scores[model_type]:\n",
        "#         scores[model_type][C] = {}\n",
        "#     if max_epoch not in scores[model_type][C]:\n",
        "#         scores[model_type][C][max_epoch] = {}\n",
        "#     scores[model_type][C][max_epoch][alpha] = score\n",
        "\n",
        "#     if score > best_score:\n",
        "#         best_score = score\n",
        "#         best_model = model\n",
        "\n",
        "# plot_by_alpha(scores)\n",
        "# print(f'Best model is {best_model}\\nBest score is {best_score}')"
      ],
      "execution_count": 72,
      "outputs": [
        {
          "output_type": "stream",
          "text": [
            "Model: MySGDClassifier(C=1.0, alpha=1e-05,\n",
            "                batch_generator=<function batch_generator at 0x7fc62699bd08>,\n",
            "                max_epoch=10, model_type='lin_reg', threshold=0.5)\n",
            "Score: 0.7818664192975976\n",
            "Time: 10.857009887695312\n",
            "\n",
            "Model: MySGDClassifier(C=1.0, alpha=1e-05,\n",
            "                batch_generator=<function batch_generator at 0x7fc62699bd08>,\n",
            "                max_epoch=50, model_type='lin_reg', threshold=0.5)\n",
            "Score: 0.7876830788421287\n",
            "Time: 54.18609595298767\n",
            "\n",
            "Model: MySGDClassifier(C=1.0, alpha=1e-05,\n",
            "                batch_generator=<function batch_generator at 0x7fc62699bd08>,\n",
            "                max_epoch=100, model_type='lin_reg', threshold=0.5)\n",
            "Score: 0.7874263833760398\n",
            "Time: 108.1538474559784\n",
            "\n",
            "Model: MySGDClassifier(C=1.0, alpha=5.623413251903491e-05,\n",
            "                batch_generator=<function batch_generator at 0x7fc62699bd08>,\n",
            "                max_epoch=10, model_type='lin_reg', threshold=0.5)\n",
            "Score: 0.7889662707602348\n",
            "Time: 10.861574172973633\n",
            "\n",
            "Model: MySGDClassifier(C=1.0, alpha=5.623413251903491e-05,\n",
            "                batch_generator=<function batch_generator at 0x7fc62699bd08>,\n",
            "                max_epoch=50, model_type='lin_reg', threshold=0.5)\n",
            "Score: 0.7877686805888171\n",
            "Time: 53.63069295883179\n",
            "\n",
            "Model: MySGDClassifier(C=1.0, alpha=5.623413251903491e-05,\n",
            "                batch_generator=<function batch_generator at 0x7fc62699bd08>,\n",
            "                max_epoch=100, model_type='lin_reg', threshold=0.5)\n",
            "Score: 0.7876830788421287\n",
            "Time: 107.6850790977478\n",
            "\n",
            "Model: MySGDClassifier(C=1.0, alpha=0.00031622776601683794,\n",
            "                batch_generator=<function batch_generator at 0x7fc62699bd08>,\n",
            "                max_epoch=10, model_type='lin_reg', threshold=0.5)\n",
            "Score: 0.7866566043449067\n",
            "Time: 10.896610260009766\n",
            "\n",
            "Model: MySGDClassifier(C=1.0, alpha=0.00031622776601683794,\n",
            "                batch_generator=<function batch_generator at 0x7fc62699bd08>,\n",
            "                max_epoch=50, model_type='lin_reg', threshold=0.5)\n",
            "Score: 0.7889661829410538\n",
            "Time: 57.720515727996826\n",
            "\n",
            "Model: MySGDClassifier(C=1.0, alpha=0.00031622776601683794,\n",
            "                batch_generator=<function batch_generator at 0x7fc62699bd08>,\n",
            "                max_epoch=100, model_type='lin_reg', threshold=0.5)\n",
            "Score: 0.7867420963176187\n",
            "Time: 108.11457633972168\n",
            "\n",
            "Model: MySGDClassifier(C=1.0, alpha=0.0017782794100389228,\n",
            "                batch_generator=<function batch_generator at 0x7fc62699bd08>,\n",
            "                max_epoch=10, model_type='lin_reg', threshold=0.5)\n",
            "Score: 0.7854591019926699\n",
            "Time: 10.983313798904419\n",
            "\n",
            "Model: MySGDClassifier(C=1.0, alpha=0.0017782794100389228,\n",
            "                batch_generator=<function batch_generator at 0x7fc62699bd08>,\n",
            "                max_epoch=50, model_type='lin_reg', threshold=0.5)\n",
            "Score: 0.7834063725461783\n",
            "Time: 53.755260944366455\n",
            "\n",
            "Model: MySGDClassifier(C=1.0, alpha=0.0017782794100389228,\n",
            "                batch_generator=<function batch_generator at 0x7fc62699bd08>,\n",
            "                max_epoch=100, model_type='lin_reg', threshold=0.5)\n",
            "Score: 0.7825506404916328\n",
            "Time: 108.00779271125793\n",
            "\n",
            "Model: MySGDClassifier(C=1.0, alpha=0.01,\n",
            "                batch_generator=<function batch_generator at 0x7fc62699bd08>,\n",
            "                max_epoch=10, model_type='lin_reg', threshold=0.5)\n",
            "Score: 0.7742533525411446\n",
            "Time: 10.865168333053589\n",
            "\n",
            "Model: MySGDClassifier(C=1.0, alpha=0.01,\n",
            "                batch_generator=<function batch_generator at 0x7fc62699bd08>,\n",
            "                max_epoch=50, model_type='lin_reg', threshold=0.5)\n",
            "Score: 0.65723962886209\n",
            "Time: 53.4611918926239\n",
            "\n",
            "Model: MySGDClassifier(C=1.0, alpha=0.01,\n",
            "                batch_generator=<function batch_generator at 0x7fc62699bd08>,\n",
            "                max_epoch=100, model_type='lin_reg', threshold=0.5)\n",
            "Score: 0.7180400752294233\n",
            "Time: 106.7027587890625\n",
            "\n",
            "Model: MySGDClassifier(C=5.623413251903491, alpha=1e-05,\n",
            "                batch_generator=<function batch_generator at 0x7fc62699bd08>,\n",
            "                max_epoch=10, model_type='lin_reg', threshold=0.5)\n",
            "Score: 0.7735668919579938\n",
            "Time: 10.804648637771606\n",
            "\n",
            "Model: MySGDClassifier(C=5.623413251903491, alpha=1e-05,\n",
            "                batch_generator=<function batch_generator at 0x7fc62699bd08>,\n",
            "                max_epoch=50, model_type='lin_reg', threshold=0.5)\n",
            "Score: 0.7843465646980592\n",
            "Time: 53.49487566947937\n",
            "\n",
            "Model: MySGDClassifier(C=5.623413251903491, alpha=1e-05,\n",
            "                batch_generator=<function batch_generator at 0x7fc62699bd08>,\n",
            "                max_epoch=100, model_type='lin_reg', threshold=0.5)\n",
            "Score: 0.7862284199731028\n",
            "Time: 111.42306971549988\n",
            "\n",
            "Model: MySGDClassifier(C=5.623413251903491, alpha=5.623413251903491e-05,\n",
            "                batch_generator=<function batch_generator at 0x7fc62699bd08>,\n",
            "                max_epoch=10, model_type='lin_reg', threshold=0.5)\n",
            "Score: 0.7863143729965151\n",
            "Time: 10.97926378250122\n",
            "\n",
            "Model: MySGDClassifier(C=5.623413251903491, alpha=5.623413251903491e-05,\n",
            "                batch_generator=<function batch_generator at 0x7fc62699bd08>,\n",
            "                max_epoch=50, model_type='lin_reg', threshold=0.5)\n",
            "Score: 0.7869128826698857\n",
            "Time: 53.89941692352295\n",
            "\n",
            "Model: MySGDClassifier(C=5.623413251903491, alpha=5.623413251903491e-05,\n",
            "                batch_generator=<function batch_generator at 0x7fc62699bd08>,\n",
            "                max_epoch=100, model_type='lin_reg', threshold=0.5)\n",
            "Score: 0.7854584213940171\n",
            "Time: 107.71019959449768\n",
            "\n",
            "Model: MySGDClassifier(C=5.623413251903491, alpha=0.00031622776601683794,\n",
            "                batch_generator=<function batch_generator at 0x7fc62699bd08>,\n",
            "                max_epoch=10, model_type='lin_reg', threshold=0.5)\n",
            "Score: 0.7869130363534526\n",
            "Time: 10.828612804412842\n",
            "\n",
            "Model: MySGDClassifier(C=5.623413251903491, alpha=0.00031622776601683794,\n",
            "                batch_generator=<function batch_generator at 0x7fc62699bd08>,\n",
            "                max_epoch=50, model_type='lin_reg', threshold=0.5)\n",
            "Score: 0.784517680372255\n",
            "Time: 53.8969190120697\n",
            "\n",
            "Model: MySGDClassifier(C=5.623413251903491, alpha=0.00031622776601683794,\n",
            "                batch_generator=<function batch_generator at 0x7fc62699bd08>,\n",
            "                max_epoch=100, model_type='lin_reg', threshold=0.5)\n",
            "Score: 0.7851162339552161\n",
            "Time: 107.83139276504517\n",
            "\n",
            "Model: MySGDClassifier(C=5.623413251903491, alpha=0.0017782794100389228,\n",
            "                batch_generator=<function batch_generator at 0x7fc62699bd08>,\n",
            "                max_epoch=10, model_type='lin_reg', threshold=0.5)\n",
            "Score: 0.7851156631305395\n",
            "Time: 10.855661153793335\n",
            "\n",
            "Model: MySGDClassifier(C=5.623413251903491, alpha=0.0017782794100389228,\n",
            "                batch_generator=<function batch_generator at 0x7fc62699bd08>,\n",
            "                max_epoch=50, model_type='lin_reg', threshold=0.5)\n",
            "Score: 0.7615947884233946\n",
            "Time: 54.44301652908325\n",
            "\n",
            "Model: MySGDClassifier(C=5.623413251903491, alpha=0.0017782794100389228,\n",
            "                batch_generator=<function batch_generator at 0x7fc62699bd08>,\n",
            "                max_epoch=100, model_type='lin_reg', threshold=0.5)\n",
            "Score: 0.789051499275404\n",
            "Time: 107.42128992080688\n",
            "\n",
            "Model: MySGDClassifier(C=5.623413251903491, alpha=0.01,\n",
            "                batch_generator=<function batch_generator at 0x7fc62699bd08>,\n",
            "                max_epoch=10, model_type='lin_reg', threshold=0.5)\n",
            "Score: 0.7674967203926851\n",
            "Time: 10.807097673416138\n",
            "\n",
            "Model: MySGDClassifier(C=5.623413251903491, alpha=0.01,\n",
            "                batch_generator=<function batch_generator at 0x7fc62699bd08>,\n",
            "                max_epoch=50, model_type='lin_reg', threshold=0.5)\n",
            "Score: 0.7843470257487595\n",
            "Time: 54.056586265563965\n",
            "\n",
            "Model: MySGDClassifier(C=5.623413251903491, alpha=0.01,\n",
            "                batch_generator=<function batch_generator at 0x7fc62699bd08>,\n",
            "                max_epoch=100, model_type='lin_reg', threshold=0.5)\n",
            "Score: 0.7638983953152332\n",
            "Time: 107.08659076690674\n",
            "\n",
            "Model: MySGDClassifier(C=31.622776601683793, alpha=1e-05,\n",
            "                batch_generator=<function batch_generator at 0x7fc62699bd08>,\n",
            "                max_epoch=10, model_type='lin_reg', threshold=0.5)\n",
            "Score: 0.775963279814568\n",
            "Time: 10.81464171409607\n",
            "\n",
            "Model: MySGDClassifier(C=31.622776601683793, alpha=1e-05,\n",
            "                batch_generator=<function batch_generator at 0x7fc62699bd08>,\n",
            "                max_epoch=50, model_type='lin_reg', threshold=0.5)\n",
            "Score: 0.7809242951237345\n",
            "Time: 53.87760257720947\n",
            "\n",
            "Model: MySGDClassifier(C=31.622776601683793, alpha=1e-05,\n",
            "                batch_generator=<function batch_generator at 0x7fc62699bd08>,\n",
            "                max_epoch=100, model_type='lin_reg', threshold=0.5)\n",
            "Score: 0.7833198267432943\n",
            "Time: 107.01564264297485\n",
            "\n",
            "Model: MySGDClassifier(C=31.622776601683793, alpha=5.623413251903491e-05,\n",
            "                batch_generator=<function batch_generator at 0x7fc62699bd08>,\n",
            "                max_epoch=10, model_type='lin_reg', threshold=0.5)\n",
            "Score: 0.7813524355859481\n",
            "Time: 10.857081651687622\n",
            "\n",
            "Model: MySGDClassifier(C=31.622776601683793, alpha=5.623413251903491e-05,\n",
            "                batch_generator=<function batch_generator at 0x7fc62699bd08>,\n",
            "                max_epoch=50, model_type='lin_reg', threshold=0.5)\n",
            "Score: 0.7836621459108667\n",
            "Time: 54.09646773338318\n",
            "\n",
            "Model: MySGDClassifier(C=31.622776601683793, alpha=5.623413251903491e-05,\n",
            "                batch_generator=<function batch_generator at 0x7fc62699bd08>,\n",
            "                max_epoch=100, model_type='lin_reg', threshold=0.5)\n",
            "Score: 0.783747572019193\n",
            "Time: 111.25582528114319\n",
            "\n",
            "Model: MySGDClassifier(C=31.622776601683793, alpha=0.00031622776601683794,\n",
            "                batch_generator=<function batch_generator at 0x7fc62699bd08>,\n",
            "                max_epoch=10, model_type='lin_reg', threshold=0.5)\n",
            "Score: 0.7836620361368904\n",
            "Time: 10.768627166748047\n",
            "\n",
            "Model: MySGDClassifier(C=31.622776601683793, alpha=0.00031622776601683794,\n",
            "                batch_generator=<function batch_generator at 0x7fc62699bd08>,\n",
            "                max_epoch=50, model_type='lin_reg', threshold=0.5)\n",
            "Score: 0.7816945791151585\n",
            "Time: 53.50701713562012\n",
            "\n",
            "Model: MySGDClassifier(C=31.622776601683793, alpha=0.00031622776601683794,\n",
            "                batch_generator=<function batch_generator at 0x7fc62699bd08>,\n",
            "                max_epoch=100, model_type='lin_reg', threshold=0.5)\n",
            "Score: 0.784346718381626\n",
            "Time: 106.66224384307861\n",
            "\n",
            "Model: MySGDClassifier(C=31.622776601683793, alpha=0.0017782794100389228,\n",
            "                batch_generator=<function batch_generator at 0x7fc62699bd08>,\n",
            "                max_epoch=10, model_type='lin_reg', threshold=0.5)\n",
            "Score: 0.778017172865208\n",
            "Time: 10.90212631225586\n",
            "\n",
            "Model: MySGDClassifier(C=31.622776601683793, alpha=0.0017782794100389228,\n",
            "                batch_generator=<function batch_generator at 0x7fc62699bd08>,\n",
            "                max_epoch=50, model_type='lin_reg', threshold=0.5)\n",
            "Score: 0.7694629918554735\n",
            "Time: 53.6641845703125\n",
            "\n",
            "Model: MySGDClassifier(C=31.622776601683793, alpha=0.0017782794100389228,\n",
            "                batch_generator=<function batch_generator at 0x7fc62699bd08>,\n",
            "                max_epoch=100, model_type='lin_reg', threshold=0.5)\n",
            "Score: 0.7782732096874393\n",
            "Time: 107.80103421211243\n",
            "\n",
            "Model: MySGDClassifier(C=31.622776601683793, alpha=0.01,\n",
            "                batch_generator=<function batch_generator at 0x7fc62699bd08>,\n",
            "                max_epoch=10, model_type='lin_reg', threshold=0.5)\n",
            "Score: 0.7646728726725502\n",
            "Time: 10.882251739501953\n",
            "\n",
            "Model: MySGDClassifier(C=31.622776601683793, alpha=0.01,\n",
            "                batch_generator=<function batch_generator at 0x7fc62699bd08>,\n",
            "                max_epoch=50, model_type='lin_reg', threshold=0.5)\n",
            "Score: 0.7539805361079979\n",
            "Time: 53.82814145088196\n",
            "\n",
            "Model: MySGDClassifier(C=31.622776601683793, alpha=0.01,\n",
            "                batch_generator=<function batch_generator at 0x7fc62699bd08>,\n",
            "                max_epoch=100, model_type='lin_reg', threshold=0.5)\n",
            "Score: 0.7482458557689387\n",
            "Time: 107.18353700637817\n",
            "\n",
            "Model: MySGDClassifier(C=177.82794100389228, alpha=1e-05,\n",
            "                batch_generator=<function batch_generator at 0x7fc62699bd08>,\n",
            "                max_epoch=10, model_type='lin_reg', threshold=0.5)\n",
            "Score: 0.7658679160877186\n",
            "Time: 10.87924575805664\n",
            "\n",
            "Model: MySGDClassifier(C=177.82794100389228, alpha=1e-05,\n",
            "                batch_generator=<function batch_generator at 0x7fc62699bd08>,\n",
            "                max_epoch=50, model_type='lin_reg', threshold=0.5)\n",
            "Score: 0.7804111896038951\n",
            "Time: 53.304091930389404\n",
            "\n",
            "Model: MySGDClassifier(C=177.82794100389228, alpha=1e-05,\n",
            "                batch_generator=<function batch_generator at 0x7fc62699bd08>,\n",
            "                max_epoch=100, model_type='lin_reg', threshold=0.5)\n",
            "Score: 0.7807535307262629\n",
            "Time: 106.9867889881134\n",
            "\n",
            "Model: MySGDClassifier(C=177.82794100389228, alpha=5.623413251903491e-05,\n",
            "                batch_generator=<function batch_generator at 0x7fc62699bd08>,\n",
            "                max_epoch=10, model_type='lin_reg', threshold=0.5)\n",
            "Score: 0.7791282391885367\n",
            "Time: 10.906007528305054\n",
            "\n",
            "Model: MySGDClassifier(C=177.82794100389228, alpha=5.623413251903491e-05,\n",
            "                batch_generator=<function batch_generator at 0x7fc62699bd08>,\n",
            "                max_epoch=50, model_type='lin_reg', threshold=0.5)\n",
            "Score: 0.7837475939739883\n",
            "Time: 53.68085527420044\n",
            "\n",
            "Model: MySGDClassifier(C=177.82794100389228, alpha=5.623413251903491e-05,\n",
            "                batch_generator=<function batch_generator at 0x7fc62699bd08>,\n",
            "                max_epoch=100, model_type='lin_reg', threshold=0.5)\n",
            "Score: 0.7826353860013063\n",
            "Time: 107.56082105636597\n",
            "\n",
            "Model: MySGDClassifier(C=177.82794100389228, alpha=0.00031622776601683794,\n",
            "                batch_generator=<function batch_generator at 0x7fc62699bd08>,\n",
            "                max_epoch=10, model_type='lin_reg', threshold=0.5)\n",
            "Score: 0.7829773758469502\n",
            "Time: 10.816758394241333\n",
            "\n",
            "Model: MySGDClassifier(C=177.82794100389228, alpha=0.00031622776601683794,\n",
            "                batch_generator=<function batch_generator at 0x7fc62699bd08>,\n",
            "                max_epoch=50, model_type='lin_reg', threshold=0.5)\n",
            "Score: 0.7844321444899524\n",
            "Time: 54.09106135368347\n",
            "\n",
            "Model: MySGDClassifier(C=177.82794100389228, alpha=0.00031622776601683794,\n",
            "                batch_generator=<function batch_generator at 0x7fc62699bd08>,\n",
            "                max_epoch=100, model_type='lin_reg', threshold=0.5)\n",
            "Score: 0.7782720899928814\n",
            "Time: 111.44224166870117\n",
            "\n",
            "Model: MySGDClassifier(C=177.82794100389228, alpha=0.0017782794100389228,\n",
            "                batch_generator=<function batch_generator at 0x7fc62699bd08>,\n",
            "                max_epoch=10, model_type='lin_reg', threshold=0.5)\n",
            "Score: 0.7629631210374889\n",
            "Time: 10.905833721160889\n",
            "\n",
            "Model: MySGDClassifier(C=177.82794100389228, alpha=0.0017782794100389228,\n",
            "                batch_generator=<function batch_generator at 0x7fc62699bd08>,\n",
            "                max_epoch=50, model_type='lin_reg', threshold=0.5)\n",
            "Score: 0.7664698507091486\n",
            "Time: 54.712403297424316\n",
            "\n",
            "Model: MySGDClassifier(C=177.82794100389228, alpha=0.0017782794100389228,\n",
            "                batch_generator=<function batch_generator at 0x7fc62699bd08>,\n",
            "                max_epoch=100, model_type='lin_reg', threshold=0.5)\n",
            "Score: 0.782550486808066\n",
            "Time: 107.3078601360321\n",
            "\n",
            "Model: MySGDClassifier(C=177.82794100389228, alpha=0.01,\n",
            "                batch_generator=<function batch_generator at 0x7fc62699bd08>,\n",
            "                max_epoch=10, model_type='lin_reg', threshold=0.5)\n",
            "Score: 0.770404633023841\n",
            "Time: 10.980804681777954\n",
            "\n",
            "Model: MySGDClassifier(C=177.82794100389228, alpha=0.01,\n",
            "                batch_generator=<function batch_generator at 0x7fc62699bd08>,\n",
            "                max_epoch=50, model_type='lin_reg', threshold=0.5)\n",
            "Score: 0.7743389323330377\n",
            "Time: 53.13025212287903\n",
            "\n",
            "Model: MySGDClassifier(C=177.82794100389228, alpha=0.01,\n",
            "                batch_generator=<function batch_generator at 0x7fc62699bd08>,\n",
            "                max_epoch=100, model_type='lin_reg', threshold=0.5)\n",
            "Score: 0.7556917148047507\n",
            "Time: 107.07708358764648\n",
            "\n",
            "Model: MySGDClassifier(C=1000.0, alpha=1e-05,\n",
            "                batch_generator=<function batch_generator at 0x7fc62699bd08>,\n",
            "                max_epoch=10, model_type='lin_reg', threshold=0.5)\n",
            "Score: 0.7661251604236888\n",
            "Time: 10.865772724151611\n",
            "\n",
            "Model: MySGDClassifier(C=1000.0, alpha=1e-05,\n",
            "                batch_generator=<function batch_generator at 0x7fc62699bd08>,\n",
            "                max_epoch=50, model_type='lin_reg', threshold=0.5)\n",
            "Score: 0.7771605845736476\n",
            "Time: 54.23503279685974\n",
            "\n",
            "Model: MySGDClassifier(C=1000.0, alpha=1e-05,\n",
            "                batch_generator=<function batch_generator at 0x7fc62699bd08>,\n",
            "                max_epoch=100, model_type='lin_reg', threshold=0.5)\n",
            "Score: 0.7798981499484414\n",
            "Time: 107.01958155632019\n",
            "\n",
            "Model: MySGDClassifier(C=1000.0, alpha=5.623413251903491e-05,\n",
            "                batch_generator=<function batch_generator at 0x7fc62699bd08>,\n",
            "                max_epoch=10, model_type='lin_reg', threshold=0.5)\n",
            "Score: 0.7801550649624828\n",
            "Time: 10.85048222541809\n",
            "\n",
            "Model: MySGDClassifier(C=1000.0, alpha=5.623413251903491e-05,\n",
            "                batch_generator=<function batch_generator at 0x7fc62699bd08>,\n",
            "                max_epoch=50, model_type='lin_reg', threshold=0.5)\n",
            "Score: 0.7822930009693482\n",
            "Time: 53.54251790046692\n",
            "\n",
            "Model: MySGDClassifier(C=1000.0, alpha=5.623413251903491e-05,\n",
            "                batch_generator=<function batch_generator at 0x7fc62699bd08>,\n",
            "                max_epoch=100, model_type='lin_reg', threshold=0.5)\n",
            "Score: 0.781694798663111\n",
            "Time: 106.76227235794067\n",
            "\n",
            "Model: MySGDClassifier(C=1000.0, alpha=0.00031622776601683794,\n",
            "                batch_generator=<function batch_generator at 0x7fc62699bd08>,\n",
            "                max_epoch=10, model_type='lin_reg', threshold=0.5)\n",
            "Score: 0.7807535746358534\n",
            "Time: 10.83964490890503\n",
            "\n",
            "Model: MySGDClassifier(C=1000.0, alpha=0.00031622776601683794,\n",
            "                batch_generator=<function batch_generator at 0x7fc62699bd08>,\n",
            "                max_epoch=50, model_type='lin_reg', threshold=0.5)\n",
            "Score: 0.7842605897198515\n",
            "Time: 53.612324953079224\n",
            "\n",
            "Model: MySGDClassifier(C=1000.0, alpha=0.00031622776601683794,\n",
            "                batch_generator=<function batch_generator at 0x7fc62699bd08>,\n",
            "                max_epoch=100, model_type='lin_reg', threshold=0.5)\n",
            "Score: 0.78178044431939\n",
            "Time: 107.24675416946411\n",
            "\n",
            "Model: MySGDClassifier(C=1000.0, alpha=0.0017782794100389228,\n",
            "                batch_generator=<function batch_generator at 0x7fc62699bd08>,\n",
            "                max_epoch=10, model_type='lin_reg', threshold=0.5)\n",
            "Score: 0.7877685269052503\n",
            "Time: 10.833808898925781\n",
            "\n",
            "Model: MySGDClassifier(C=1000.0, alpha=0.0017782794100389228,\n",
            "                batch_generator=<function batch_generator at 0x7fc62699bd08>,\n",
            "                max_epoch=50, model_type='lin_reg', threshold=0.5)\n",
            "Score: 0.785885991031554\n",
            "Time: 53.677167892456055\n",
            "\n",
            "Model: MySGDClassifier(C=1000.0, alpha=0.0017782794100389228,\n",
            "                batch_generator=<function batch_generator at 0x7fc62699bd08>,\n",
            "                max_epoch=100, model_type='lin_reg', threshold=0.5)\n",
            "Score: 0.7822071357651167\n",
            "Time: 107.22231674194336\n",
            "\n",
            "Model: MySGDClassifier(C=1000.0, alpha=0.01,\n",
            "                batch_generator=<function batch_generator at 0x7fc62699bd08>,\n",
            "                max_epoch=10, model_type='lin_reg', threshold=0.5)\n",
            "Score: 0.7419205475280042\n",
            "Time: 10.72547698020935\n",
            "\n",
            "Model: MySGDClassifier(C=1000.0, alpha=0.01,\n",
            "                batch_generator=<function batch_generator at 0x7fc62699bd08>,\n",
            "                max_epoch=50, model_type='lin_reg', threshold=0.5)\n",
            "Score: 0.749697858107739\n",
            "Time: 57.340733766555786\n",
            "\n",
            "Model: MySGDClassifier(C=1000.0, alpha=0.01,\n",
            "                batch_generator=<function batch_generator at 0x7fc62699bd08>,\n",
            "                max_epoch=100, model_type='lin_reg', threshold=0.5)\n",
            "Score: 0.7834918864736858\n",
            "Time: 106.65552735328674\n",
            "\n"
          ],
          "name": "stdout"
        },
        {
          "output_type": "stream",
          "text": [
            "/usr/local/lib/python3.6/dist-packages/ipykernel_launcher.py:48: RuntimeWarning: divide by zero encountered in log\n",
            "/usr/local/lib/python3.6/dist-packages/ipykernel_launcher.py:48: RuntimeWarning: invalid value encountered in multiply\n",
            "/usr/local/lib/python3.6/dist-packages/ipykernel_launcher.py:48: RuntimeWarning: divide by zero encountered in log\n",
            "/usr/local/lib/python3.6/dist-packages/ipykernel_launcher.py:48: RuntimeWarning: invalid value encountered in multiply\n"
          ],
          "name": "stderr"
        },
        {
          "output_type": "stream",
          "text": [
            "Model: MySGDClassifier(C=1.0, alpha=1e-05,\n",
            "                batch_generator=<function batch_generator at 0x7fc62699bd08>,\n",
            "                max_epoch=10, model_type='log_reg', threshold=0.5)\n",
            "Score: 0.7443992439119792\n",
            "Time: 13.292614459991455\n",
            "\n"
          ],
          "name": "stdout"
        },
        {
          "output_type": "stream",
          "text": [
            "/usr/local/lib/python3.6/dist-packages/ipykernel_launcher.py:48: RuntimeWarning: divide by zero encountered in log\n",
            "/usr/local/lib/python3.6/dist-packages/ipykernel_launcher.py:48: RuntimeWarning: invalid value encountered in multiply\n"
          ],
          "name": "stderr"
        },
        {
          "output_type": "stream",
          "text": [
            "Model: MySGDClassifier(C=1.0, alpha=1e-05,\n",
            "                batch_generator=<function batch_generator at 0x7fc62699bd08>,\n",
            "                max_epoch=50, model_type='log_reg', threshold=0.5)\n",
            "Score: 0.7612505811434304\n",
            "Time: 65.70193815231323\n",
            "\n"
          ],
          "name": "stdout"
        },
        {
          "output_type": "stream",
          "text": [
            "/usr/local/lib/python3.6/dist-packages/ipykernel_launcher.py:48: RuntimeWarning: divide by zero encountered in log\n",
            "/usr/local/lib/python3.6/dist-packages/ipykernel_launcher.py:48: RuntimeWarning: invalid value encountered in multiply\n"
          ],
          "name": "stderr"
        },
        {
          "output_type": "stream",
          "text": [
            "Model: MySGDClassifier(C=1.0, alpha=1e-05,\n",
            "                batch_generator=<function batch_generator at 0x7fc62699bd08>,\n",
            "                max_epoch=100, model_type='log_reg', threshold=0.5)\n",
            "Score: 0.761336117025733\n",
            "Time: 131.0001084804535\n",
            "\n"
          ],
          "name": "stdout"
        },
        {
          "output_type": "stream",
          "text": [
            "/usr/local/lib/python3.6/dist-packages/ipykernel_launcher.py:48: RuntimeWarning: divide by zero encountered in log\n"
          ],
          "name": "stderr"
        },
        {
          "output_type": "stream",
          "text": [
            "Model: MySGDClassifier(C=1.0, alpha=5.623413251903491e-05,\n",
            "                batch_generator=<function batch_generator at 0x7fc62699bd08>,\n",
            "                max_epoch=10, model_type='log_reg', threshold=0.5)\n",
            "Score: 0.7611650452611277\n",
            "Time: 13.25301742553711\n",
            "\n"
          ],
          "name": "stdout"
        },
        {
          "output_type": "stream",
          "text": [
            "/usr/local/lib/python3.6/dist-packages/ipykernel_launcher.py:48: RuntimeWarning: invalid value encountered in multiply\n",
            "/usr/local/lib/python3.6/dist-packages/ipykernel_launcher.py:48: RuntimeWarning: divide by zero encountered in log\n",
            "/usr/local/lib/python3.6/dist-packages/ipykernel_launcher.py:48: RuntimeWarning: invalid value encountered in multiply\n"
          ],
          "name": "stderr"
        },
        {
          "output_type": "stream",
          "text": [
            "Model: MySGDClassifier(C=1.0, alpha=5.623413251903491e-05,\n",
            "                batch_generator=<function batch_generator at 0x7fc62699bd08>,\n",
            "                max_epoch=50, model_type='log_reg', threshold=0.5)\n",
            "Score: 0.761336117025733\n",
            "Time: 65.88322043418884\n",
            "\n"
          ],
          "name": "stdout"
        },
        {
          "output_type": "stream",
          "text": [
            "/usr/local/lib/python3.6/dist-packages/ipykernel_launcher.py:48: RuntimeWarning: divide by zero encountered in log\n",
            "/usr/local/lib/python3.6/dist-packages/ipykernel_launcher.py:48: RuntimeWarning: invalid value encountered in multiply\n"
          ],
          "name": "stderr"
        },
        {
          "output_type": "stream",
          "text": [
            "Model: MySGDClassifier(C=1.0, alpha=5.623413251903491e-05,\n",
            "                batch_generator=<function batch_generator at 0x7fc62699bd08>,\n",
            "                max_epoch=100, model_type='log_reg', threshold=0.5)\n",
            "Score: 0.761079509378825\n",
            "Time: 130.27282118797302\n",
            "\n",
            "Model: MySGDClassifier(C=1.0, alpha=0.00031622776601683794,\n",
            "                batch_generator=<function batch_generator at 0x7fc62699bd08>,\n",
            "                max_epoch=10, model_type='log_reg', threshold=0.5)\n",
            "Score: 0.7612506250530208\n",
            "Time: 13.348935604095459\n",
            "\n"
          ],
          "name": "stdout"
        },
        {
          "output_type": "stream",
          "text": [
            "/usr/local/lib/python3.6/dist-packages/ipykernel_launcher.py:48: RuntimeWarning: divide by zero encountered in log\n",
            "/usr/local/lib/python3.6/dist-packages/ipykernel_launcher.py:48: RuntimeWarning: invalid value encountered in multiply\n"
          ],
          "name": "stderr"
        },
        {
          "output_type": "stream",
          "text": [
            "Model: MySGDClassifier(C=1.0, alpha=0.00031622776601683794,\n",
            "                batch_generator=<function batch_generator at 0x7fc62699bd08>,\n",
            "                max_epoch=50, model_type='log_reg', threshold=0.5)\n",
            "Score: 0.7640735726265505\n",
            "Time: 65.18290758132935\n",
            "\n"
          ],
          "name": "stdout"
        },
        {
          "output_type": "stream",
          "text": [
            "/usr/local/lib/python3.6/dist-packages/ipykernel_launcher.py:48: RuntimeWarning: divide by zero encountered in log\n",
            "/usr/local/lib/python3.6/dist-packages/ipykernel_launcher.py:48: RuntimeWarning: invalid value encountered in multiply\n",
            "/usr/local/lib/python3.6/dist-packages/ipykernel_launcher.py:48: RuntimeWarning: divide by zero encountered in log\n",
            "/usr/local/lib/python3.6/dist-packages/ipykernel_launcher.py:48: RuntimeWarning: invalid value encountered in multiply\n"
          ],
          "name": "stderr"
        },
        {
          "output_type": "stream",
          "text": [
            "Model: MySGDClassifier(C=1.0, alpha=0.00031622776601683794,\n",
            "                batch_generator=<function batch_generator at 0x7fc62699bd08>,\n",
            "                max_epoch=100, model_type='log_reg', threshold=0.5)\n",
            "Score: 0.7620204260389492\n",
            "Time: 130.18947458267212\n",
            "\n",
            "Model: MySGDClassifier(C=1.0, alpha=0.0017782794100389228,\n",
            "                batch_generator=<function batch_generator at 0x7fc62699bd08>,\n",
            "                max_epoch=10, model_type='log_reg', threshold=0.5)\n",
            "Score: 0.7615925051246882\n",
            "Time: 13.236020565032959\n",
            "\n",
            "Model: MySGDClassifier(C=1.0, alpha=0.0017782794100389228,\n",
            "                batch_generator=<function batch_generator at 0x7fc62699bd08>,\n",
            "                max_epoch=50, model_type='log_reg', threshold=0.5)\n",
            "Score: 0.7601383951255437\n",
            "Time: 65.90085196495056\n",
            "\n",
            "Model: MySGDClassifier(C=1.0, alpha=0.0017782794100389228,\n",
            "                batch_generator=<function batch_generator at 0x7fc62699bd08>,\n",
            "                max_epoch=100, model_type='log_reg', threshold=0.5)\n",
            "Score: 0.7616780849165815\n",
            "Time: 137.31039953231812\n",
            "\n",
            "Model: MySGDClassifier(C=1.0, alpha=0.01,\n",
            "                batch_generator=<function batch_generator at 0x7fc62699bd08>,\n",
            "                max_epoch=10, model_type='log_reg', threshold=0.5)\n",
            "Score: 0.7565455587469047\n",
            "Time: 13.441367149353027\n",
            "\n"
          ],
          "name": "stdout"
        },
        {
          "output_type": "stream",
          "text": [
            "/usr/local/lib/python3.6/dist-packages/ipykernel_launcher.py:48: RuntimeWarning: divide by zero encountered in log\n",
            "/usr/local/lib/python3.6/dist-packages/ipykernel_launcher.py:48: RuntimeWarning: invalid value encountered in multiply\n"
          ],
          "name": "stderr"
        },
        {
          "output_type": "stream",
          "text": [
            "Model: MySGDClassifier(C=1.0, alpha=0.01,\n",
            "                batch_generator=<function batch_generator at 0x7fc62699bd08>,\n",
            "                max_epoch=50, model_type='log_reg', threshold=0.5)\n",
            "Score: 0.7608232090990508\n",
            "Time: 65.93238353729248\n",
            "\n",
            "Model: MySGDClassifier(C=1.0, alpha=0.01,\n",
            "                batch_generator=<function batch_generator at 0x7fc62699bd08>,\n",
            "                max_epoch=100, model_type='log_reg', threshold=0.5)\n",
            "Score: 0.7556044664484184\n",
            "Time: 131.9010944366455\n",
            "\n"
          ],
          "name": "stdout"
        },
        {
          "output_type": "stream",
          "text": [
            "/usr/local/lib/python3.6/dist-packages/ipykernel_launcher.py:48: RuntimeWarning: divide by zero encountered in log\n",
            "/usr/local/lib/python3.6/dist-packages/ipykernel_launcher.py:48: RuntimeWarning: invalid value encountered in multiply\n",
            "/usr/local/lib/python3.6/dist-packages/ipykernel_launcher.py:48: RuntimeWarning: divide by zero encountered in log\n",
            "/usr/local/lib/python3.6/dist-packages/ipykernel_launcher.py:48: RuntimeWarning: invalid value encountered in multiply\n"
          ],
          "name": "stderr"
        },
        {
          "output_type": "stream",
          "text": [
            "Model: MySGDClassifier(C=5.623413251903491, alpha=1e-05,\n",
            "                batch_generator=<function batch_generator at 0x7fc62699bd08>,\n",
            "                max_epoch=10, model_type='log_reg', threshold=0.5)\n",
            "Score: 0.7373846648741016\n",
            "Time: 13.497323989868164\n",
            "\n"
          ],
          "name": "stdout"
        },
        {
          "output_type": "stream",
          "text": [
            "/usr/local/lib/python3.6/dist-packages/ipykernel_launcher.py:48: RuntimeWarning: divide by zero encountered in log\n",
            "/usr/local/lib/python3.6/dist-packages/ipykernel_launcher.py:48: RuntimeWarning: invalid value encountered in multiply\n"
          ],
          "name": "stderr"
        },
        {
          "output_type": "stream",
          "text": [
            "Model: MySGDClassifier(C=5.623413251903491, alpha=1e-05,\n",
            "                batch_generator=<function batch_generator at 0x7fc62699bd08>,\n",
            "                max_epoch=50, model_type='log_reg', threshold=0.5)\n",
            "Score: 0.7689497326520672\n",
            "Time: 65.31980443000793\n",
            "\n"
          ],
          "name": "stdout"
        },
        {
          "output_type": "stream",
          "text": [
            "/usr/local/lib/python3.6/dist-packages/ipykernel_launcher.py:48: RuntimeWarning: divide by zero encountered in log\n",
            "/usr/local/lib/python3.6/dist-packages/ipykernel_launcher.py:48: RuntimeWarning: invalid value encountered in multiply\n"
          ],
          "name": "stderr"
        },
        {
          "output_type": "stream",
          "text": [
            "Model: MySGDClassifier(C=5.623413251903491, alpha=1e-05,\n",
            "                batch_generator=<function batch_generator at 0x7fc62699bd08>,\n",
            "                max_epoch=100, model_type='log_reg', threshold=0.5)\n",
            "Score: 0.7825505307176566\n",
            "Time: 131.52185559272766\n",
            "\n"
          ],
          "name": "stdout"
        },
        {
          "output_type": "stream",
          "text": [
            "/usr/local/lib/python3.6/dist-packages/ipykernel_launcher.py:48: RuntimeWarning: divide by zero encountered in log\n",
            "/usr/local/lib/python3.6/dist-packages/ipykernel_launcher.py:48: RuntimeWarning: invalid value encountered in multiply\n"
          ],
          "name": "stderr"
        },
        {
          "output_type": "stream",
          "text": [
            "Model: MySGDClassifier(C=5.623413251903491, alpha=5.623413251903491e-05,\n",
            "                batch_generator=<function batch_generator at 0x7fc62699bd08>,\n",
            "                max_epoch=10, model_type='log_reg', threshold=0.5)\n",
            "Score: 0.7748513133446339\n",
            "Time: 13.195152044296265\n",
            "\n"
          ],
          "name": "stdout"
        },
        {
          "output_type": "stream",
          "text": [
            "/usr/local/lib/python3.6/dist-packages/ipykernel_launcher.py:48: RuntimeWarning: divide by zero encountered in log\n",
            "/usr/local/lib/python3.6/dist-packages/ipykernel_launcher.py:48: RuntimeWarning: invalid value encountered in multiply\n"
          ],
          "name": "stderr"
        },
        {
          "output_type": "stream",
          "text": [
            "Model: MySGDClassifier(C=5.623413251903491, alpha=5.623413251903491e-05,\n",
            "                batch_generator=<function batch_generator at 0x7fc62699bd08>,\n",
            "                max_epoch=50, model_type='log_reg', threshold=0.5)\n",
            "Score: 0.7839191267892938\n",
            "Time: 66.08253908157349\n",
            "\n",
            "Model: MySGDClassifier(C=5.623413251903491, alpha=5.623413251903491e-05,\n",
            "                batch_generator=<function batch_generator at 0x7fc62699bd08>,\n",
            "                max_epoch=100, model_type='log_reg', threshold=0.5)\n",
            "Score: 0.7842613361828902\n",
            "Time: 132.2876787185669\n",
            "\n"
          ],
          "name": "stdout"
        },
        {
          "output_type": "stream",
          "text": [
            "/usr/local/lib/python3.6/dist-packages/ipykernel_launcher.py:48: RuntimeWarning: divide by zero encountered in log\n"
          ],
          "name": "stderr"
        },
        {
          "output_type": "stream",
          "text": [
            "Model: MySGDClassifier(C=5.623413251903491, alpha=0.00031622776601683794,\n",
            "                batch_generator=<function batch_generator at 0x7fc62699bd08>,\n",
            "                max_epoch=10, model_type='log_reg', threshold=0.5)\n",
            "Score: 0.7836625850067717\n",
            "Time: 13.208844661712646\n",
            "\n"
          ],
          "name": "stdout"
        },
        {
          "output_type": "stream",
          "text": [
            "/usr/local/lib/python3.6/dist-packages/ipykernel_launcher.py:48: RuntimeWarning: divide by zero encountered in log\n",
            "/usr/local/lib/python3.6/dist-packages/ipykernel_launcher.py:48: RuntimeWarning: invalid value encountered in multiply\n",
            "/usr/local/lib/python3.6/dist-packages/ipykernel_launcher.py:48: RuntimeWarning: divide by zero encountered in log\n",
            "/usr/local/lib/python3.6/dist-packages/ipykernel_launcher.py:48: RuntimeWarning: invalid value encountered in multiply\n"
          ],
          "name": "stderr"
        },
        {
          "output_type": "stream",
          "text": [
            "Model: MySGDClassifier(C=5.623413251903491, alpha=0.00031622776601683794,\n",
            "                batch_generator=<function batch_generator at 0x7fc62699bd08>,\n",
            "                max_epoch=50, model_type='log_reg', threshold=0.5)\n",
            "Score: 0.7840047065811871\n",
            "Time: 65.70201468467712\n",
            "\n"
          ],
          "name": "stdout"
        },
        {
          "output_type": "stream",
          "text": [
            "/usr/local/lib/python3.6/dist-packages/ipykernel_launcher.py:48: RuntimeWarning: divide by zero encountered in log\n"
          ],
          "name": "stderr"
        },
        {
          "output_type": "stream",
          "text": [
            "Model: MySGDClassifier(C=5.623413251903491, alpha=0.00031622776601683794,\n",
            "                batch_generator=<function batch_generator at 0x7fc62699bd08>,\n",
            "                max_epoch=100, model_type='log_reg', threshold=0.5)\n",
            "Score: 0.7842613581376853\n",
            "Time: 132.0806815624237\n",
            "\n",
            "Model: MySGDClassifier(C=5.623413251903491, alpha=0.0017782794100389228,\n",
            "                batch_generator=<function batch_generator at 0x7fc62699bd08>,\n",
            "                max_epoch=10, model_type='log_reg', threshold=0.5)\n",
            "Score: 0.7818661997496451\n",
            "Time: 13.18662166595459\n",
            "\n",
            "Model: MySGDClassifier(C=5.623413251903491, alpha=0.0017782794100389228,\n",
            "                batch_generator=<function batch_generator at 0x7fc62699bd08>,\n",
            "                max_epoch=50, model_type='log_reg', threshold=0.5)\n",
            "Score: 0.7835768076217212\n",
            "Time: 65.87298655509949\n",
            "\n"
          ],
          "name": "stdout"
        },
        {
          "output_type": "stream",
          "text": [
            "/usr/local/lib/python3.6/dist-packages/ipykernel_launcher.py:48: RuntimeWarning: divide by zero encountered in log\n",
            "/usr/local/lib/python3.6/dist-packages/ipykernel_launcher.py:48: RuntimeWarning: invalid value encountered in multiply\n"
          ],
          "name": "stderr"
        },
        {
          "output_type": "stream",
          "text": [
            "Model: MySGDClassifier(C=5.623413251903491, alpha=0.0017782794100389228,\n",
            "                batch_generator=<function batch_generator at 0x7fc62699bd08>,\n",
            "                max_epoch=100, model_type='log_reg', threshold=0.5)\n",
            "Score: 0.7826364178766833\n",
            "Time: 131.59050607681274\n",
            "\n"
          ],
          "name": "stdout"
        },
        {
          "output_type": "stream",
          "text": [
            "/usr/local/lib/python3.6/dist-packages/ipykernel_launcher.py:48: RuntimeWarning: divide by zero encountered in log\n",
            "/usr/local/lib/python3.6/dist-packages/ipykernel_launcher.py:48: RuntimeWarning: invalid value encountered in multiply\n"
          ],
          "name": "stderr"
        },
        {
          "output_type": "stream",
          "text": [
            "Model: MySGDClassifier(C=5.623413251903491, alpha=0.01,\n",
            "                batch_generator=<function batch_generator at 0x7fc62699bd08>,\n",
            "                max_epoch=10, model_type='log_reg', threshold=0.5)\n",
            "Score: 0.7784439082205252\n",
            "Time: 13.222279787063599\n",
            "\n",
            "Model: MySGDClassifier(C=5.623413251903491, alpha=0.01,\n",
            "                batch_generator=<function batch_generator at 0x7fc62699bd08>,\n",
            "                max_epoch=50, model_type='log_reg', threshold=0.5)\n",
            "Score: 0.7846034797121005\n",
            "Time: 65.55024552345276\n",
            "\n"
          ],
          "name": "stdout"
        },
        {
          "output_type": "stream",
          "text": [
            "/usr/local/lib/python3.6/dist-packages/ipykernel_launcher.py:48: RuntimeWarning: divide by zero encountered in log\n",
            "/usr/local/lib/python3.6/dist-packages/ipykernel_launcher.py:48: RuntimeWarning: invalid value encountered in multiply\n"
          ],
          "name": "stderr"
        },
        {
          "output_type": "stream",
          "text": [
            "Model: MySGDClassifier(C=5.623413251903491, alpha=0.01,\n",
            "                batch_generator=<function batch_generator at 0x7fc62699bd08>,\n",
            "                max_epoch=100, model_type='log_reg', threshold=0.5)\n",
            "Score: 0.7781883104941989\n",
            "Time: 134.89476561546326\n",
            "\n"
          ],
          "name": "stdout"
        },
        {
          "output_type": "stream",
          "text": [
            "/usr/local/lib/python3.6/dist-packages/ipykernel_launcher.py:48: RuntimeWarning: divide by zero encountered in log\n",
            "/usr/local/lib/python3.6/dist-packages/ipykernel_launcher.py:48: RuntimeWarning: invalid value encountered in multiply\n"
          ],
          "name": "stderr"
        },
        {
          "output_type": "stream",
          "text": [
            "Model: MySGDClassifier(C=31.622776601683793, alpha=1e-05,\n",
            "                batch_generator=<function batch_generator at 0x7fc62699bd08>,\n",
            "                max_epoch=10, model_type='log_reg', threshold=0.5)\n",
            "Score: 0.7365286913168081\n",
            "Time: 13.415908813476562\n",
            "\n"
          ],
          "name": "stdout"
        },
        {
          "output_type": "stream",
          "text": [
            "/usr/local/lib/python3.6/dist-packages/ipykernel_launcher.py:48: RuntimeWarning: divide by zero encountered in log\n",
            "/usr/local/lib/python3.6/dist-packages/ipykernel_launcher.py:48: RuntimeWarning: invalid value encountered in multiply\n"
          ],
          "name": "stderr"
        },
        {
          "output_type": "stream",
          "text": [
            "Model: MySGDClassifier(C=31.622776601683793, alpha=1e-05,\n",
            "                batch_generator=<function batch_generator at 0x7fc62699bd08>,\n",
            "                max_epoch=50, model_type='log_reg', threshold=0.5)\n",
            "Score: 0.749787170214825\n",
            "Time: 65.45923256874084\n",
            "\n"
          ],
          "name": "stdout"
        },
        {
          "output_type": "stream",
          "text": [
            "/usr/local/lib/python3.6/dist-packages/ipykernel_launcher.py:48: RuntimeWarning: divide by zero encountered in log\n",
            "/usr/local/lib/python3.6/dist-packages/ipykernel_launcher.py:48: RuntimeWarning: invalid value encountered in multiply\n"
          ],
          "name": "stderr"
        },
        {
          "output_type": "stream",
          "text": [
            "Model: MySGDClassifier(C=31.622776601683793, alpha=1e-05,\n",
            "                batch_generator=<function batch_generator at 0x7fc62699bd08>,\n",
            "                max_epoch=100, model_type='log_reg', threshold=0.5)\n",
            "Score: 0.7849458866988542\n",
            "Time: 130.75171184539795\n",
            "\n"
          ],
          "name": "stdout"
        },
        {
          "output_type": "stream",
          "text": [
            "/usr/local/lib/python3.6/dist-packages/ipykernel_launcher.py:48: RuntimeWarning: divide by zero encountered in log\n",
            "/usr/local/lib/python3.6/dist-packages/ipykernel_launcher.py:48: RuntimeWarning: invalid value encountered in multiply\n"
          ],
          "name": "stderr"
        },
        {
          "output_type": "stream",
          "text": [
            "Model: MySGDClassifier(C=31.622776601683793, alpha=5.623413251903491e-05,\n",
            "                batch_generator=<function batch_generator at 0x7fc62699bd08>,\n",
            "                max_epoch=10, model_type='log_reg', threshold=0.5)\n",
            "Score: 0.7715160286690986\n",
            "Time: 13.198104619979858\n",
            "\n"
          ],
          "name": "stdout"
        },
        {
          "output_type": "stream",
          "text": [
            "/usr/local/lib/python3.6/dist-packages/ipykernel_launcher.py:48: RuntimeWarning: divide by zero encountered in log\n",
            "/usr/local/lib/python3.6/dist-packages/ipykernel_launcher.py:48: RuntimeWarning: invalid value encountered in multiply\n"
          ],
          "name": "stderr"
        },
        {
          "output_type": "stream",
          "text": [
            "Model: MySGDClassifier(C=31.622776601683793, alpha=5.623413251903491e-05,\n",
            "                batch_generator=<function batch_generator at 0x7fc62699bd08>,\n",
            "                max_epoch=50, model_type='log_reg', threshold=0.5)\n",
            "Score: 0.788965853619125\n",
            "Time: 65.03539800643921\n",
            "\n"
          ],
          "name": "stdout"
        },
        {
          "output_type": "stream",
          "text": [
            "/usr/local/lib/python3.6/dist-packages/ipykernel_launcher.py:48: RuntimeWarning: divide by zero encountered in log\n",
            "/usr/local/lib/python3.6/dist-packages/ipykernel_launcher.py:48: RuntimeWarning: invalid value encountered in multiply\n"
          ],
          "name": "stderr"
        },
        {
          "output_type": "stream",
          "text": [
            "Model: MySGDClassifier(C=31.622776601683793, alpha=5.623413251903491e-05,\n",
            "                batch_generator=<function batch_generator at 0x7fc62699bd08>,\n",
            "                max_epoch=100, model_type='log_reg', threshold=0.5)\n",
            "Score: 0.7886237320447097\n",
            "Time: 130.84463024139404\n",
            "\n",
            "Model: MySGDClassifier(C=31.622776601683793, alpha=0.00031622776601683794,\n",
            "                batch_generator=<function batch_generator at 0x7fc62699bd08>,\n",
            "                max_epoch=10, model_type='log_reg', threshold=0.5)\n",
            "Score: 0.7881960745879919\n",
            "Time: 13.175942420959473\n",
            "\n"
          ],
          "name": "stdout"
        },
        {
          "output_type": "stream",
          "text": [
            "/usr/local/lib/python3.6/dist-packages/ipykernel_launcher.py:48: RuntimeWarning: divide by zero encountered in log\n",
            "/usr/local/lib/python3.6/dist-packages/ipykernel_launcher.py:48: RuntimeWarning: invalid value encountered in multiply\n"
          ],
          "name": "stderr"
        },
        {
          "output_type": "stream",
          "text": [
            "Model: MySGDClassifier(C=31.622776601683793, alpha=0.00031622776601683794,\n",
            "                batch_generator=<function batch_generator at 0x7fc62699bd08>,\n",
            "                max_epoch=50, model_type='log_reg', threshold=0.5)\n",
            "Score: 0.788281566560704\n",
            "Time: 65.52228116989136\n",
            "\n"
          ],
          "name": "stdout"
        },
        {
          "output_type": "stream",
          "text": [
            "/usr/local/lib/python3.6/dist-packages/ipykernel_launcher.py:48: RuntimeWarning: divide by zero encountered in log\n",
            "/usr/local/lib/python3.6/dist-packages/ipykernel_launcher.py:48: RuntimeWarning: invalid value encountered in multiply\n",
            "/usr/local/lib/python3.6/dist-packages/ipykernel_launcher.py:48: RuntimeWarning: divide by zero encountered in log\n",
            "/usr/local/lib/python3.6/dist-packages/ipykernel_launcher.py:48: RuntimeWarning: invalid value encountered in multiply\n"
          ],
          "name": "stderr"
        },
        {
          "output_type": "stream",
          "text": [
            "Model: MySGDClassifier(C=31.622776601683793, alpha=0.00031622776601683794,\n",
            "                batch_generator=<function batch_generator at 0x7fc62699bd08>,\n",
            "                max_epoch=100, model_type='log_reg', threshold=0.5)\n",
            "Score: 0.7905058507772963\n",
            "Time: 130.37082529067993\n",
            "\n",
            "Model: MySGDClassifier(C=31.622776601683793, alpha=0.0017782794100389228,\n",
            "                batch_generator=<function batch_generator at 0x7fc62699bd08>,\n",
            "                max_epoch=10, model_type='log_reg', threshold=0.5)\n",
            "Score: 0.7867417889504852\n",
            "Time: 13.043926477432251\n",
            "\n"
          ],
          "name": "stdout"
        },
        {
          "output_type": "stream",
          "text": [
            "/usr/local/lib/python3.6/dist-packages/ipykernel_launcher.py:48: RuntimeWarning: divide by zero encountered in log\n",
            "/usr/local/lib/python3.6/dist-packages/ipykernel_launcher.py:48: RuntimeWarning: invalid value encountered in multiply\n",
            "/usr/local/lib/python3.6/dist-packages/ipykernel_launcher.py:48: RuntimeWarning: divide by zero encountered in log\n"
          ],
          "name": "stderr"
        },
        {
          "output_type": "stream",
          "text": [
            "Model: MySGDClassifier(C=31.622776601683793, alpha=0.0017782794100389228,\n",
            "                batch_generator=<function batch_generator at 0x7fc62699bd08>,\n",
            "                max_epoch=50, model_type='log_reg', threshold=0.5)\n",
            "Score: 0.7890517188233565\n",
            "Time: 65.50020551681519\n",
            "\n",
            "Model: MySGDClassifier(C=31.622776601683793, alpha=0.0017782794100389228,\n",
            "                batch_generator=<function batch_generator at 0x7fc62699bd08>,\n",
            "                max_epoch=100, model_type='log_reg', threshold=0.5)\n",
            "Score: 0.7870845252591675\n",
            "Time: 134.1935315132141\n",
            "\n"
          ],
          "name": "stdout"
        },
        {
          "output_type": "stream",
          "text": [
            "/usr/local/lib/python3.6/dist-packages/ipykernel_launcher.py:48: RuntimeWarning: divide by zero encountered in log\n",
            "/usr/local/lib/python3.6/dist-packages/ipykernel_launcher.py:48: RuntimeWarning: invalid value encountered in multiply\n"
          ],
          "name": "stderr"
        },
        {
          "output_type": "stream",
          "text": [
            "Model: MySGDClassifier(C=31.622776601683793, alpha=0.01,\n",
            "                batch_generator=<function batch_generator at 0x7fc62699bd08>,\n",
            "                max_epoch=10, model_type='log_reg', threshold=0.5)\n",
            "Score: 0.7876828373393808\n",
            "Time: 13.113504648208618\n",
            "\n"
          ],
          "name": "stdout"
        },
        {
          "output_type": "stream",
          "text": [
            "/usr/local/lib/python3.6/dist-packages/ipykernel_launcher.py:48: RuntimeWarning: divide by zero encountered in log\n",
            "/usr/local/lib/python3.6/dist-packages/ipykernel_launcher.py:48: RuntimeWarning: invalid value encountered in multiply\n"
          ],
          "name": "stderr"
        },
        {
          "output_type": "stream",
          "text": [
            "Model: MySGDClassifier(C=31.622776601683793, alpha=0.01,\n",
            "                batch_generator=<function batch_generator at 0x7fc62699bd08>,\n",
            "                max_epoch=50, model_type='log_reg', threshold=0.5)\n",
            "Score: 0.7876832983900813\n",
            "Time: 65.61129236221313\n",
            "\n"
          ],
          "name": "stdout"
        },
        {
          "output_type": "stream",
          "text": [
            "/usr/local/lib/python3.6/dist-packages/ipykernel_launcher.py:48: RuntimeWarning: divide by zero encountered in log\n",
            "/usr/local/lib/python3.6/dist-packages/ipykernel_launcher.py:48: RuntimeWarning: invalid value encountered in multiply\n"
          ],
          "name": "stderr"
        },
        {
          "output_type": "stream",
          "text": [
            "Model: MySGDClassifier(C=31.622776601683793, alpha=0.01,\n",
            "                batch_generator=<function batch_generator at 0x7fc62699bd08>,\n",
            "                max_epoch=100, model_type='log_reg', threshold=0.5)\n",
            "Score: 0.7917034189939188\n",
            "Time: 130.83608150482178\n",
            "\n"
          ],
          "name": "stdout"
        },
        {
          "output_type": "stream",
          "text": [
            "/usr/local/lib/python3.6/dist-packages/ipykernel_launcher.py:48: RuntimeWarning: divide by zero encountered in log\n",
            "/usr/local/lib/python3.6/dist-packages/ipykernel_launcher.py:48: RuntimeWarning: invalid value encountered in multiply\n"
          ],
          "name": "stderr"
        },
        {
          "output_type": "stream",
          "text": [
            "Model: MySGDClassifier(C=177.82794100389228, alpha=1e-05,\n",
            "                batch_generator=<function batch_generator at 0x7fc62699bd08>,\n",
            "                max_epoch=10, model_type='log_reg', threshold=0.5)\n",
            "Score: 0.7236117851233254\n",
            "Time: 13.234315633773804\n",
            "\n"
          ],
          "name": "stdout"
        },
        {
          "output_type": "stream",
          "text": [
            "/usr/local/lib/python3.6/dist-packages/ipykernel_launcher.py:48: RuntimeWarning: divide by zero encountered in log\n",
            "/usr/local/lib/python3.6/dist-packages/ipykernel_launcher.py:48: RuntimeWarning: invalid value encountered in multiply\n"
          ],
          "name": "stderr"
        },
        {
          "output_type": "stream",
          "text": [
            "Model: MySGDClassifier(C=177.82794100389228, alpha=1e-05,\n",
            "                batch_generator=<function batch_generator at 0x7fc62699bd08>,\n",
            "                max_epoch=50, model_type='log_reg', threshold=0.5)\n",
            "Score: 0.753979943328526\n",
            "Time: 65.99462890625\n",
            "\n"
          ],
          "name": "stdout"
        },
        {
          "output_type": "stream",
          "text": [
            "/usr/local/lib/python3.6/dist-packages/ipykernel_launcher.py:48: RuntimeWarning: divide by zero encountered in log\n",
            "/usr/local/lib/python3.6/dist-packages/ipykernel_launcher.py:48: RuntimeWarning: invalid value encountered in multiply\n"
          ],
          "name": "stderr"
        },
        {
          "output_type": "stream",
          "text": [
            "Model: MySGDClassifier(C=177.82794100389228, alpha=1e-05,\n",
            "                batch_generator=<function batch_generator at 0x7fc62699bd08>,\n",
            "                max_epoch=100, model_type='log_reg', threshold=0.5)\n",
            "Score: 0.7773325125752676\n",
            "Time: 133.1008517742157\n",
            "\n"
          ],
          "name": "stdout"
        },
        {
          "output_type": "stream",
          "text": [
            "/usr/local/lib/python3.6/dist-packages/ipykernel_launcher.py:48: RuntimeWarning: divide by zero encountered in log\n",
            "/usr/local/lib/python3.6/dist-packages/ipykernel_launcher.py:48: RuntimeWarning: invalid value encountered in multiply\n"
          ],
          "name": "stderr"
        },
        {
          "output_type": "stream",
          "text": [
            "Model: MySGDClassifier(C=177.82794100389228, alpha=5.623413251903491e-05,\n",
            "                batch_generator=<function batch_generator at 0x7fc62699bd08>,\n",
            "                max_epoch=10, model_type='log_reg', threshold=0.5)\n",
            "Score: 0.750046741759092\n",
            "Time: 13.322150945663452\n",
            "\n"
          ],
          "name": "stdout"
        },
        {
          "output_type": "stream",
          "text": [
            "/usr/local/lib/python3.6/dist-packages/ipykernel_launcher.py:48: RuntimeWarning: divide by zero encountered in log\n",
            "/usr/local/lib/python3.6/dist-packages/ipykernel_launcher.py:48: RuntimeWarning: invalid value encountered in multiply\n"
          ],
          "name": "stderr"
        },
        {
          "output_type": "stream",
          "text": [
            "Model: MySGDClassifier(C=177.82794100389228, alpha=5.623413251903491e-05,\n",
            "                batch_generator=<function batch_generator at 0x7fc62699bd08>,\n",
            "                max_epoch=50, model_type='log_reg', threshold=0.5)\n",
            "Score: 0.7868275443807405\n",
            "Time: 66.70706081390381\n",
            "\n"
          ],
          "name": "stdout"
        },
        {
          "output_type": "stream",
          "text": [
            "/usr/local/lib/python3.6/dist-packages/ipykernel_launcher.py:48: RuntimeWarning: divide by zero encountered in log\n",
            "/usr/local/lib/python3.6/dist-packages/ipykernel_launcher.py:48: RuntimeWarning: invalid value encountered in multiply\n"
          ],
          "name": "stderr"
        },
        {
          "output_type": "stream",
          "text": [
            "Model: MySGDClassifier(C=177.82794100389228, alpha=5.623413251903491e-05,\n",
            "                batch_generator=<function batch_generator at 0x7fc62699bd08>,\n",
            "                max_epoch=100, model_type='log_reg', threshold=0.5)\n",
            "Score: 0.7858861447151207\n",
            "Time: 136.50593376159668\n",
            "\n"
          ],
          "name": "stdout"
        },
        {
          "output_type": "stream",
          "text": [
            "/usr/local/lib/python3.6/dist-packages/ipykernel_launcher.py:48: RuntimeWarning: divide by zero encountered in log\n",
            "/usr/local/lib/python3.6/dist-packages/ipykernel_launcher.py:48: RuntimeWarning: invalid value encountered in multiply\n"
          ],
          "name": "stderr"
        },
        {
          "output_type": "stream",
          "text": [
            "Model: MySGDClassifier(C=177.82794100389228, alpha=0.00031622776601683794,\n",
            "                batch_generator=<function batch_generator at 0x7fc62699bd08>,\n",
            "                max_epoch=10, model_type='log_reg', threshold=0.5)\n",
            "Score: 0.7868273906971736\n",
            "Time: 13.421541452407837\n",
            "\n"
          ],
          "name": "stdout"
        },
        {
          "output_type": "stream",
          "text": [
            "/usr/local/lib/python3.6/dist-packages/ipykernel_launcher.py:48: RuntimeWarning: divide by zero encountered in log\n",
            "/usr/local/lib/python3.6/dist-packages/ipykernel_launcher.py:48: RuntimeWarning: invalid value encountered in multiply\n"
          ],
          "name": "stderr"
        },
        {
          "output_type": "stream",
          "text": [
            "Model: MySGDClassifier(C=177.82794100389228, alpha=0.00031622776601683794,\n",
            "                batch_generator=<function batch_generator at 0x7fc62699bd08>,\n",
            "                max_epoch=50, model_type='log_reg', threshold=0.5)\n",
            "Score: 0.7849453158741776\n",
            "Time: 66.74048185348511\n",
            "\n"
          ],
          "name": "stdout"
        },
        {
          "output_type": "stream",
          "text": [
            "/usr/local/lib/python3.6/dist-packages/ipykernel_launcher.py:48: RuntimeWarning: divide by zero encountered in log\n",
            "/usr/local/lib/python3.6/dist-packages/ipykernel_launcher.py:48: RuntimeWarning: invalid value encountered in multiply\n"
          ],
          "name": "stderr"
        },
        {
          "output_type": "stream",
          "text": [
            "Model: MySGDClassifier(C=177.82794100389228, alpha=0.00031622776601683794,\n",
            "                batch_generator=<function batch_generator at 0x7fc62699bd08>,\n",
            "                max_epoch=100, model_type='log_reg', threshold=0.5)\n",
            "Score: 0.7852019454758806\n",
            "Time: 131.87292408943176\n",
            "\n"
          ],
          "name": "stdout"
        },
        {
          "output_type": "stream",
          "text": [
            "/usr/local/lib/python3.6/dist-packages/ipykernel_launcher.py:48: RuntimeWarning: divide by zero encountered in log\n",
            "/usr/local/lib/python3.6/dist-packages/ipykernel_launcher.py:48: RuntimeWarning: invalid value encountered in multiply\n"
          ],
          "name": "stderr"
        },
        {
          "output_type": "stream",
          "text": [
            "Model: MySGDClassifier(C=177.82794100389228, alpha=0.0017782794100389228,\n",
            "                batch_generator=<function batch_generator at 0x7fc62699bd08>,\n",
            "                max_epoch=10, model_type='log_reg', threshold=0.5)\n",
            "Score: 0.7864852032583727\n",
            "Time: 13.348135709762573\n",
            "\n",
            "Model: MySGDClassifier(C=177.82794100389228, alpha=0.0017782794100389228,\n",
            "                batch_generator=<function batch_generator at 0x7fc62699bd08>,\n",
            "                max_epoch=50, model_type='log_reg', threshold=0.5)\n",
            "Score: 0.7878537773752147\n",
            "Time: 66.23868227005005\n",
            "\n",
            "Model: MySGDClassifier(C=177.82794100389228, alpha=0.0017782794100389228,\n",
            "                batch_generator=<function batch_generator at 0x7fc62699bd08>,\n",
            "                max_epoch=100, model_type='log_reg', threshold=0.5)\n",
            "Score: 0.7804116506545954\n",
            "Time: 131.95908999443054\n",
            "\n"
          ],
          "name": "stdout"
        },
        {
          "output_type": "stream",
          "text": [
            "/usr/local/lib/python3.6/dist-packages/ipykernel_launcher.py:48: RuntimeWarning: divide by zero encountered in log\n",
            "/usr/local/lib/python3.6/dist-packages/ipykernel_launcher.py:48: RuntimeWarning: invalid value encountered in multiply\n"
          ],
          "name": "stderr"
        },
        {
          "output_type": "stream",
          "text": [
            "Model: MySGDClassifier(C=177.82794100389228, alpha=0.01,\n",
            "                batch_generator=<function batch_generator at 0x7fc62699bd08>,\n",
            "                max_epoch=10, model_type='log_reg', threshold=0.5)\n",
            "Score: 0.7835762148422495\n",
            "Time: 13.516152620315552\n",
            "\n",
            "Model: MySGDClassifier(C=177.82794100389228, alpha=0.01,\n",
            "                batch_generator=<function batch_generator at 0x7fc62699bd08>,\n",
            "                max_epoch=50, model_type='log_reg', threshold=0.5)\n",
            "Score: 0.7860569091125925\n",
            "Time: 66.190349817276\n",
            "\n"
          ],
          "name": "stdout"
        },
        {
          "output_type": "stream",
          "text": [
            "/usr/local/lib/python3.6/dist-packages/ipykernel_launcher.py:48: RuntimeWarning: divide by zero encountered in log\n",
            "/usr/local/lib/python3.6/dist-packages/ipykernel_launcher.py:48: RuntimeWarning: invalid value encountered in multiply\n"
          ],
          "name": "stderr"
        },
        {
          "output_type": "stream",
          "text": [
            "Model: MySGDClassifier(C=177.82794100389228, alpha=0.01,\n",
            "                batch_generator=<function batch_generator at 0x7fc62699bd08>,\n",
            "                max_epoch=100, model_type='log_reg', threshold=0.5)\n",
            "Score: 0.7810092162717702\n",
            "Time: 131.60796785354614\n",
            "\n"
          ],
          "name": "stdout"
        },
        {
          "output_type": "stream",
          "text": [
            "/usr/local/lib/python3.6/dist-packages/ipykernel_launcher.py:48: RuntimeWarning: divide by zero encountered in log\n"
          ],
          "name": "stderr"
        },
        {
          "output_type": "stream",
          "text": [
            "Model: MySGDClassifier(C=1000.0, alpha=1e-05,\n",
            "                batch_generator=<function batch_generator at 0x7fc62699bd08>,\n",
            "                max_epoch=10, model_type='log_reg', threshold=0.5)\n",
            "Score: 0.7317383086763419\n",
            "Time: 13.180181503295898\n",
            "\n"
          ],
          "name": "stdout"
        },
        {
          "output_type": "stream",
          "text": [
            "/usr/local/lib/python3.6/dist-packages/ipykernel_launcher.py:48: RuntimeWarning: divide by zero encountered in log\n",
            "/usr/local/lib/python3.6/dist-packages/ipykernel_launcher.py:48: RuntimeWarning: invalid value encountered in multiply\n",
            "/usr/local/lib/python3.6/dist-packages/ipykernel_launcher.py:48: RuntimeWarning: divide by zero encountered in log\n",
            "/usr/local/lib/python3.6/dist-packages/ipykernel_launcher.py:48: RuntimeWarning: invalid value encountered in multiply\n"
          ],
          "name": "stderr"
        },
        {
          "output_type": "stream",
          "text": [
            "Model: MySGDClassifier(C=1000.0, alpha=1e-05,\n",
            "                batch_generator=<function batch_generator at 0x7fc62699bd08>,\n",
            "                max_epoch=50, model_type='log_reg', threshold=0.5)\n",
            "Score: 0.7529509440298501\n",
            "Time: 65.90419864654541\n",
            "\n"
          ],
          "name": "stdout"
        },
        {
          "output_type": "stream",
          "text": [
            "/usr/local/lib/python3.6/dist-packages/ipykernel_launcher.py:48: RuntimeWarning: divide by zero encountered in log\n",
            "/usr/local/lib/python3.6/dist-packages/ipykernel_launcher.py:48: RuntimeWarning: invalid value encountered in multiply\n"
          ],
          "name": "stderr"
        },
        {
          "output_type": "stream",
          "text": [
            "Model: MySGDClassifier(C=1000.0, alpha=1e-05,\n",
            "                batch_generator=<function batch_generator at 0x7fc62699bd08>,\n",
            "                max_epoch=100, model_type='log_reg', threshold=0.5)\n",
            "Score: 0.7861434110058863\n",
            "Time: 132.46995663642883\n",
            "\n"
          ],
          "name": "stdout"
        },
        {
          "output_type": "stream",
          "text": [
            "/usr/local/lib/python3.6/dist-packages/ipykernel_launcher.py:48: RuntimeWarning: divide by zero encountered in log\n",
            "/usr/local/lib/python3.6/dist-packages/ipykernel_launcher.py:48: RuntimeWarning: invalid value encountered in multiply\n"
          ],
          "name": "stderr"
        },
        {
          "output_type": "stream",
          "text": [
            "Model: MySGDClassifier(C=1000.0, alpha=5.623413251903491e-05,\n",
            "                batch_generator=<function batch_generator at 0x7fc62699bd08>,\n",
            "                max_epoch=10, model_type='log_reg', threshold=0.5)\n",
            "Score: 0.7638171625728\n",
            "Time: 13.321074724197388\n",
            "\n"
          ],
          "name": "stdout"
        },
        {
          "output_type": "stream",
          "text": [
            "/usr/local/lib/python3.6/dist-packages/ipykernel_launcher.py:48: RuntimeWarning: divide by zero encountered in log\n",
            "/usr/local/lib/python3.6/dist-packages/ipykernel_launcher.py:48: RuntimeWarning: invalid value encountered in multiply\n"
          ],
          "name": "stderr"
        },
        {
          "output_type": "stream",
          "text": [
            "Model: MySGDClassifier(C=1000.0, alpha=5.623413251903491e-05,\n",
            "                batch_generator=<function batch_generator at 0x7fc62699bd08>,\n",
            "                max_epoch=50, model_type='log_reg', threshold=0.5)\n",
            "Score: 0.7869982209590312\n",
            "Time: 65.53753614425659\n",
            "\n"
          ],
          "name": "stdout"
        },
        {
          "output_type": "stream",
          "text": [
            "/usr/local/lib/python3.6/dist-packages/ipykernel_launcher.py:48: RuntimeWarning: divide by zero encountered in log\n",
            "/usr/local/lib/python3.6/dist-packages/ipykernel_launcher.py:48: RuntimeWarning: invalid value encountered in multiply\n"
          ],
          "name": "stderr"
        },
        {
          "output_type": "stream",
          "text": [
            "Model: MySGDClassifier(C=1000.0, alpha=5.623413251903491e-05,\n",
            "                batch_generator=<function batch_generator at 0x7fc62699bd08>,\n",
            "                max_epoch=100, model_type='log_reg', threshold=0.5)\n",
            "Score: 0.7845174169147119\n",
            "Time: 131.26724815368652\n",
            "\n"
          ],
          "name": "stdout"
        },
        {
          "output_type": "stream",
          "text": [
            "/usr/local/lib/python3.6/dist-packages/ipykernel_launcher.py:48: RuntimeWarning: divide by zero encountered in log\n"
          ],
          "name": "stderr"
        },
        {
          "output_type": "stream",
          "text": [
            "Model: MySGDClassifier(C=1000.0, alpha=0.00031622776601683794,\n",
            "                batch_generator=<function batch_generator at 0x7fc62699bd08>,\n",
            "                max_epoch=10, model_type='log_reg', threshold=0.5)\n",
            "Score: 0.7820370080567073\n",
            "Time: 13.11007046699524\n",
            "\n"
          ],
          "name": "stdout"
        },
        {
          "output_type": "stream",
          "text": [
            "/usr/local/lib/python3.6/dist-packages/ipykernel_launcher.py:48: RuntimeWarning: invalid value encountered in multiply\n",
            "/usr/local/lib/python3.6/dist-packages/ipykernel_launcher.py:48: RuntimeWarning: divide by zero encountered in log\n"
          ],
          "name": "stderr"
        },
        {
          "output_type": "stream",
          "text": [
            "Model: MySGDClassifier(C=1000.0, alpha=0.00031622776601683794,\n",
            "                batch_generator=<function batch_generator at 0x7fc62699bd08>,\n",
            "                max_epoch=50, model_type='log_reg', threshold=0.5)\n",
            "Score: 0.7851163656839876\n",
            "Time: 65.33205318450928\n",
            "\n"
          ],
          "name": "stdout"
        },
        {
          "output_type": "stream",
          "text": [
            "/usr/local/lib/python3.6/dist-packages/ipykernel_launcher.py:48: RuntimeWarning: invalid value encountered in multiply\n",
            "/usr/local/lib/python3.6/dist-packages/ipykernel_launcher.py:48: RuntimeWarning: divide by zero encountered in log\n",
            "/usr/local/lib/python3.6/dist-packages/ipykernel_launcher.py:48: RuntimeWarning: invalid value encountered in multiply\n"
          ],
          "name": "stderr"
        },
        {
          "output_type": "stream",
          "text": [
            "Model: MySGDClassifier(C=1000.0, alpha=0.00031622776601683794,\n",
            "                batch_generator=<function batch_generator at 0x7fc62699bd08>,\n",
            "                max_epoch=100, model_type='log_reg', threshold=0.5)\n",
            "Score: 0.7843464768788783\n",
            "Time: 131.27139449119568\n",
            "\n",
            "Model: MySGDClassifier(C=1000.0, alpha=0.0017782794100389228,\n",
            "                batch_generator=<function batch_generator at 0x7fc62699bd08>,\n",
            "                max_epoch=10, model_type='log_reg', threshold=0.5)\n",
            "Score: 0.7868273687423782\n",
            "Time: 13.19609785079956\n",
            "\n"
          ],
          "name": "stdout"
        },
        {
          "output_type": "stream",
          "text": [
            "/usr/local/lib/python3.6/dist-packages/ipykernel_launcher.py:48: RuntimeWarning: divide by zero encountered in log\n",
            "/usr/local/lib/python3.6/dist-packages/ipykernel_launcher.py:48: RuntimeWarning: invalid value encountered in multiply\n"
          ],
          "name": "stderr"
        },
        {
          "output_type": "stream",
          "text": [
            "Model: MySGDClassifier(C=1000.0, alpha=0.0017782794100389228,\n",
            "                batch_generator=<function batch_generator at 0x7fc62699bd08>,\n",
            "                max_epoch=50, model_type='log_reg', threshold=0.5)\n",
            "Score: 0.7847742660643675\n",
            "Time: 65.74381828308105\n",
            "\n"
          ],
          "name": "stdout"
        },
        {
          "output_type": "stream",
          "text": [
            "/usr/local/lib/python3.6/dist-packages/ipykernel_launcher.py:48: RuntimeWarning: divide by zero encountered in log\n"
          ],
          "name": "stderr"
        },
        {
          "output_type": "stream",
          "text": [
            "Model: MySGDClassifier(C=1000.0, alpha=0.0017782794100389228,\n",
            "                batch_generator=<function batch_generator at 0x7fc62699bd08>,\n",
            "                max_epoch=100, model_type='log_reg', threshold=0.5)\n",
            "Score: 0.7834910521914663\n",
            "Time: 130.99827527999878\n",
            "\n",
            "Model: MySGDClassifier(C=1000.0, alpha=0.01,\n",
            "                batch_generator=<function batch_generator at 0x7fc62699bd08>,\n",
            "                max_epoch=10, model_type='log_reg', threshold=0.5)\n",
            "Score: 0.7843468720651927\n",
            "Time: 13.35168194770813\n",
            "\n"
          ],
          "name": "stdout"
        },
        {
          "output_type": "stream",
          "text": [
            "/usr/local/lib/python3.6/dist-packages/ipykernel_launcher.py:48: RuntimeWarning: divide by zero encountered in log\n"
          ],
          "name": "stderr"
        },
        {
          "output_type": "stream",
          "text": [
            "Model: MySGDClassifier(C=1000.0, alpha=0.01,\n",
            "                batch_generator=<function batch_generator at 0x7fc62699bd08>,\n",
            "                max_epoch=50, model_type='log_reg', threshold=0.5)\n",
            "Score: 0.7863145047252867\n",
            "Time: 65.17149329185486\n",
            "\n",
            "Model: MySGDClassifier(C=1000.0, alpha=0.01,\n",
            "                batch_generator=<function batch_generator at 0x7fc62699bd08>,\n",
            "                max_epoch=100, model_type='log_reg', threshold=0.5)\n",
            "Score: 0.7799838395143107\n",
            "Time: 130.58829426765442\n",
            "\n"
          ],
          "name": "stdout"
        },
        {
          "output_type": "display_data",
          "data": {
            "image/png": "[encoded data removed]",
            "text/plain": [
              "<Figure size 864x360 with 1 Axes>"
            ]
          },
          "metadata": {
            "tags": []
          }
        },
        {
          "output_type": "stream",
          "text": [
            "Best model is MySGDClassifier(C=31.622776601683793, alpha=0.01,\n",
            "                batch_generator=<function batch_generator at 0x7fc62699bd08>,\n",
            "                max_epoch=100, model_type='log_reg', threshold=0.5)\n",
            "Best score is 0.7917034189939188\n",
            "CPU times: user 2h 39min 46s, sys: 1min 27s, total: 2h 41min 14s\n",
            "Wall time: 2h 39min 57s\n"
          ],
          "name": "stdout"
        }
      ]
    },
    {
      "cell_type": "code",
      "metadata": {
        "id": "V2w2SOQxT0qk"
      },
      "source": [
        "best_model = MySGDClassifier(C=31.622776601683793, alpha=0.01,\n",
        "                batch_generator=batch_generator,\n",
        "                max_epoch=100, model_type='log_reg', threshold=0.5)\n",
        "best_score = 0.7917034189939188"
      ],
      "execution_count": null,
      "outputs": []
    },
    {
      "cell_type": "code",
      "metadata": {
        "id": "qFbUoZdqYd3f"
      },
      "source": [
        "import time\n",
        "\n",
        "\n",
        "def cross_validate(params):\n",
        "    best_model = None\n",
        "    best_score = 0\n",
        "    scores = {}\n",
        "    for model_type, C, alpha, max_epoch in list(params):\n",
        "        start_time = time.time()\n",
        "        model = MySGDClassifier(batch_generator, C=C, alpha=alpha,\n",
        "                                max_epoch=max_epoch, model_type=model_type)\n",
        "        model.fit(X_train, y_train, batch_size=batch_size)\n",
        "        score = cross_val_score(model, X_train, y_train, cv=3,\n",
        "                                groups=groups_train, scoring='f1').mean()\n",
        "        print(f'Model: {model}\\nScore: {score}')\n",
        "        print(f'Time: {time.time() - start_time}')\n",
        "        print()\n",
        "\n",
        "        if model_type not in scores:\n",
        "            scores[model_type] = {}\n",
        "        if C not in scores[model_type]:\n",
        "            scores[model_type][C] = {}\n",
        "        if max_epoch not in scores[model_type][C]:\n",
        "            scores[model_type][C][max_epoch] = {}\n",
        "        scores[model_type][C][max_epoch][alpha] = score\n",
        "\n",
        "        if score > best_score:\n",
        "            best_score = score\n",
        "            best_model = model\n",
        "\n",
        "    plot_by_alpha(scores)\n",
        "    print(f'Best model is {best_model}\\nBest score is {best_score}')\n",
        "    return best_model"
      ],
      "execution_count": 151,
      "outputs": []
    },
    {
      "cell_type": "code",
      "metadata": {
        "id": "96sO4QbGP1ha",
        "outputId": "825cc837-0b5e-441b-baf5-50bf382d4154",
        "colab": {
          "base_uri": "https://localhost:8080/",
          "height": 841
        }
      },
      "source": [
        "%%time\n",
        "from itertools import product\n",
        "import warnings\n",
        "warnings.filterwarnings('ignore')\n",
        "\n",
        "params = product(\n",
        "    ['log_reg'],  # model_type\n",
        "    np.logspace(-2, 2, 2),  # C\n",
        "    np.linspace(1e-5, 1e-2 - 1e-3, 2),  # alpha\n",
        "    [100]  # max_epoch\n",
        ")\n",
        "\n",
        "cross_validate(params)"
      ],
      "execution_count": 153,
      "outputs": [
        {
          "output_type": "stream",
          "text": [
            "Model: MySGDClassifier(C=0.01, alpha=1e-05,\n",
            "                batch_generator=<function batch_generator at 0x7fc614fb9d90>,\n",
            "                max_epoch=100, model_type='log_reg', threshold=0.5)\n",
            "Score: 0.6182078273450832\n",
            "Time: 132.5424885749817\n",
            "\n",
            "Model: MySGDClassifier(C=0.01, alpha=0.009000000000000001,\n",
            "                batch_generator=<function batch_generator at 0x7fc614fb9d90>,\n",
            "                max_epoch=100, model_type='log_reg', threshold=0.5)\n",
            "Score: 0.24470164459551288\n",
            "Time: 137.49470281600952\n",
            "\n",
            "Model: MySGDClassifier(C=100.0, alpha=1e-05,\n",
            "                batch_generator=<function batch_generator at 0x7fc614fb9d90>,\n",
            "                max_epoch=100, model_type='log_reg', threshold=0.5)\n",
            "Score: 0.5697130137782748\n",
            "Time: 134.49115824699402\n",
            "\n",
            "Model: MySGDClassifier(C=100.0, alpha=0.009000000000000001,\n",
            "                batch_generator=<function batch_generator at 0x7fc614fb9d90>,\n",
            "                max_epoch=100, model_type='log_reg', threshold=0.5)\n",
            "Score: 0.5381158125041822\n",
            "Time: 132.8510069847107\n",
            "\n"
          ],
          "name": "stdout"
        },
        {
          "output_type": "display_data",
          "data": {
            "image/png": "[encoded data removed]",
            "text/plain": [
              "<Figure size 864x360 with 1 Axes>"
            ]
          },
          "metadata": {
            "tags": []
          }
        },
        {
          "output_type": "stream",
          "text": [
            "Best model is MySGDClassifier(C=0.01, alpha=1e-05,\n",
            "                batch_generator=<function batch_generator at 0x7fc614fb9d90>,\n",
            "                max_epoch=100, model_type='log_reg', threshold=0.5)\n",
            "Best score is 0.6182078273450832\n",
            "CPU times: user 8min 56s, sys: 3.77 s, total: 9min\n",
            "Wall time: 8min 57s\n"
          ],
          "name": "stdout"
        }
      ]
    },
    {
      "cell_type": "code",
      "metadata": {
        "id": "7JgBgQ9Ob16i",
        "outputId": "c4e824c1-3628-46f4-874f-c9d3f9a82a3c",
        "colab": {
          "base_uri": "https://localhost:8080/",
          "height": 1000
        }
      },
      "source": [
        "%%time\n",
        "from itertools import product\n",
        "import warnings\n",
        "warnings.filterwarnings('ignore')\n",
        "\n",
        "params = product(\n",
        "    ['log_reg'],  # model_type\n",
        "    [1e-2, 31],  # C\n",
        "    [1e-2, 1e-3, 1e-5],  # alpha\n",
        "    [100]  # max_epoch\n",
        ")\n",
        "\n",
        "best_model = cross_validate(params)"
      ],
      "execution_count": 159,
      "outputs": [
        {
          "output_type": "stream",
          "text": [
            "Model: MySGDClassifier(C=0.01, alpha=0.01,\n",
            "                batch_generator=<function batch_generator at 0x7fc614fb9d90>,\n",
            "                max_epoch=100, model_type='log_reg', threshold=0.5)\n",
            "Score: 0.6153308451623904\n",
            "Time: 144.55531430244446\n",
            "\n",
            "Model: MySGDClassifier(C=0.01, alpha=0.001,\n",
            "                batch_generator=<function batch_generator at 0x7fc614fb9d90>,\n",
            "                max_epoch=100, model_type='log_reg', threshold=0.5)\n",
            "Score: 0.612415343251294\n",
            "Time: 126.91260027885437\n",
            "\n",
            "Model: MySGDClassifier(C=0.01, alpha=1e-05,\n",
            "                batch_generator=<function batch_generator at 0x7fc614fb9d90>,\n",
            "                max_epoch=100, model_type='log_reg', threshold=0.5)\n",
            "Score: 0.6179317252441511\n",
            "Time: 129.47361755371094\n",
            "\n",
            "Model: MySGDClassifier(C=31, alpha=0.01,\n",
            "                batch_generator=<function batch_generator at 0x7fc614fb9d90>,\n",
            "                max_epoch=100, model_type='log_reg', threshold=0.5)\n",
            "Score: 0.5711355982292248\n",
            "Time: 126.8317723274231\n",
            "\n",
            "Model: MySGDClassifier(C=31, alpha=0.001,\n",
            "                batch_generator=<function batch_generator at 0x7fc614fb9d90>,\n",
            "                max_epoch=100, model_type='log_reg', threshold=0.5)\n",
            "Score: 0.5520062189131768\n",
            "Time: 127.598557472229\n",
            "\n",
            "Model: MySGDClassifier(C=31, alpha=1e-05,\n",
            "                batch_generator=<function batch_generator at 0x7fc614fb9d90>,\n",
            "                max_epoch=100, model_type='log_reg', threshold=0.5)\n",
            "Score: 0.5859740360544735\n",
            "Time: 127.41769480705261\n",
            "\n"
          ],
          "name": "stdout"
        },
        {
          "output_type": "display_data",
          "data": {
            "image/png": "[encoded data removed]",
            "text/plain": [
              "<Figure size 864x360 with 1 Axes>"
            ]
          },
          "metadata": {
            "tags": []
          }
        },
        {
          "output_type": "stream",
          "text": [
            "Best model is MySGDClassifier(C=0.01, alpha=1e-05,\n",
            "                batch_generator=<function batch_generator at 0x7fc614fb9d90>,\n",
            "                max_epoch=100, model_type='log_reg', threshold=0.5)\n",
            "Best score is 0.6179317252441511\n",
            "CPU times: user 13min 1s, sys: 5.72 s, total: 13min 7s\n",
            "Wall time: 13min 2s\n"
          ],
          "name": "stdout"
        }
      ]
    },
    {
      "cell_type": "code",
      "metadata": {
        "id": "FDzseYucgc7T"
      },
      "source": [
        "best_model = MySGDClassifier(C=0.01, alpha=1e-05,\n",
        "                batch_generator=batch_generator,\n",
        "                max_epoch=100, model_type='log_reg', threshold=0.5)"
      ],
      "execution_count": 163,
      "outputs": []
    },
    {
      "cell_type": "markdown",
      "metadata": {
        "collapsed": true,
        "id": "MZ-i5uE_Lon4"
      },
      "source": [
        "Подберите порог линейной модели, по достижении которого, Вы будете относить объект к классу 1. Вспомните, какую метрику мы оптимизируем в соревновании.  Как тогда правильно подобрать порог?"
      ]
    },
    {
      "cell_type": "code",
      "metadata": {
        "id": "pQZzm6zhLon6",
        "outputId": "b6a877bb-916a-45ee-eedf-e37692021e68",
        "colab": {
          "base_uri": "https://localhost:8080/",
          "height": 454
        }
      },
      "source": [
        "# К сожалению, ячейка с кодом и выводом стерлась, а запустить ее заново я не успеваю\n",
        "\n",
        "%%time\n",
        "f1_scores = []\n",
        "thresholds = []\n",
        "\n",
        "for threshold in np.linspace(0.0, 0.5, 5):\n",
        "    best_model.threshold = threshold\n",
        "    predict = cross_val_predict(best_model, X_train, y_train, cv=3,\n",
        "                                groups=groups_train)\n",
        "    score = f1_score(y_train, predict)\n",
        "    print(f'Threshold: {threshold}\\nF1-Score: {score}')\n",
        "    print()\n",
        "    f1_scores.append(score)\n",
        "    thresholds.append(threshold)\n",
        "\n",
        "thresholds = np.asarray(thresholds)\n",
        "best_threshold = thresholds[np.argmax(f1_scores)]\n",
        "print(f'Best is {best_threshold}')\n",
        "best_model.threshold = best_threshold\n",
        "\n",
        "plt.plot(thresholds, f1_scores)\n",
        "plt.xlabel(\"Threshold\")\n",
        "plt.ylabel(\"F1-score\")\n",
        "plt.show()"
      ],
      "execution_count": 160,
      "outputs": [
        {
          "output_type": "error",
          "ename": "KeyboardInterrupt",
          "evalue": "ignored",
          "traceback": [
            "\u001b[0;31m---------------------------------------------------------------------------\u001b[0m",
            "\u001b[0;31mKeyboardInterrupt\u001b[0m                         Traceback (most recent call last)",
            "\u001b[0;32m<ipython-input-160-873141080b29>\u001b[0m in \u001b[0;36m<module>\u001b[0;34m()\u001b[0m\n\u001b[0;32m----> 1\u001b[0;31m \u001b[0mget_ipython\u001b[0m\u001b[0;34m(\u001b[0m\u001b[0;34m)\u001b[0m\u001b[0;34m.\u001b[0m\u001b[0mrun_cell_magic\u001b[0m\u001b[0;34m(\u001b[0m\u001b[0;34m'time'\u001b[0m\u001b[0;34m,\u001b[0m \u001b[0;34m''\u001b[0m\u001b[0;34m,\u001b[0m \u001b[0;34m'f1_scores = []\\nthresholds = []\\n\\nfor threshold in np.linspace(0.0, 0.5, 5):\\n    best_model.threshold = threshold\\n    predict = cross_val_predict(best_model, X_train, y_train, cv=3,\\n                                groups=groups_train)\\n    score = f1_score(y_train, predict)\\n    print(f\\'Threshold: {threshold}\\\\nF1-Score: {score}\\')\\n    print()\\n    f1_scores.append(score)\\n    thresholds.append(threshold)\\n\\nthresholds = np.asarray(thresholds)\\nbest_threshold = thresholds[np.argmax(f1_scores)]\\nprint(f\\'Best is {best_threshold}\\')\\nbest_model.threshold = best_threshold\\n\\nplt.plot(thresholds, f1_scores)\\nplt.xlabel(\"Threshold\")\\nplt.ylabel(\"F1-score\")\\nplt.show()'\u001b[0m\u001b[0;34m)\u001b[0m\u001b[0;34m\u001b[0m\u001b[0;34m\u001b[0m\u001b[0m\n\u001b[0m",
            "\u001b[0;32m/usr/local/lib/python3.6/dist-packages/IPython/core/interactiveshell.py\u001b[0m in \u001b[0;36mrun_cell_magic\u001b[0;34m(self, magic_name, line, cell)\u001b[0m\n\u001b[1;32m   2115\u001b[0m             \u001b[0mmagic_arg_s\u001b[0m \u001b[0;34m=\u001b[0m \u001b[0mself\u001b[0m\u001b[0;34m.\u001b[0m\u001b[0mvar_expand\u001b[0m\u001b[0;34m(\u001b[0m\u001b[0mline\u001b[0m\u001b[0;34m,\u001b[0m \u001b[0mstack_depth\u001b[0m\u001b[0;34m)\u001b[0m\u001b[0;34m\u001b[0m\u001b[0;34m\u001b[0m\u001b[0m\n\u001b[1;32m   2116\u001b[0m             \u001b[0;32mwith\u001b[0m \u001b[0mself\u001b[0m\u001b[0;34m.\u001b[0m\u001b[0mbuiltin_trap\u001b[0m\u001b[0;34m:\u001b[0m\u001b[0;34m\u001b[0m\u001b[0;34m\u001b[0m\u001b[0m\n\u001b[0;32m-> 2117\u001b[0;31m                 \u001b[0mresult\u001b[0m \u001b[0;34m=\u001b[0m \u001b[0mfn\u001b[0m\u001b[0;34m(\u001b[0m\u001b[0mmagic_arg_s\u001b[0m\u001b[0;34m,\u001b[0m \u001b[0mcell\u001b[0m\u001b[0;34m)\u001b[0m\u001b[0;34m\u001b[0m\u001b[0;34m\u001b[0m\u001b[0m\n\u001b[0m\u001b[1;32m   2118\u001b[0m             \u001b[0;32mreturn\u001b[0m \u001b[0mresult\u001b[0m\u001b[0;34m\u001b[0m\u001b[0;34m\u001b[0m\u001b[0m\n\u001b[1;32m   2119\u001b[0m \u001b[0;34m\u001b[0m\u001b[0m\n",
            "\u001b[0;32m<decorator-gen-60>\u001b[0m in \u001b[0;36mtime\u001b[0;34m(self, line, cell, local_ns)\u001b[0m\n",
            "\u001b[0;32m/usr/local/lib/python3.6/dist-packages/IPython/core/magic.py\u001b[0m in \u001b[0;36m<lambda>\u001b[0;34m(f, *a, **k)\u001b[0m\n\u001b[1;32m    186\u001b[0m     \u001b[0;31m# but it's overkill for just that one bit of state.\u001b[0m\u001b[0;34m\u001b[0m\u001b[0;34m\u001b[0m\u001b[0;34m\u001b[0m\u001b[0m\n\u001b[1;32m    187\u001b[0m     \u001b[0;32mdef\u001b[0m \u001b[0mmagic_deco\u001b[0m\u001b[0;34m(\u001b[0m\u001b[0marg\u001b[0m\u001b[0;34m)\u001b[0m\u001b[0;34m:\u001b[0m\u001b[0;34m\u001b[0m\u001b[0;34m\u001b[0m\u001b[0m\n\u001b[0;32m--> 188\u001b[0;31m         \u001b[0mcall\u001b[0m \u001b[0;34m=\u001b[0m \u001b[0;32mlambda\u001b[0m \u001b[0mf\u001b[0m\u001b[0;34m,\u001b[0m \u001b[0;34m*\u001b[0m\u001b[0ma\u001b[0m\u001b[0;34m,\u001b[0m \u001b[0;34m**\u001b[0m\u001b[0mk\u001b[0m\u001b[0;34m:\u001b[0m \u001b[0mf\u001b[0m\u001b[0;34m(\u001b[0m\u001b[0;34m*\u001b[0m\u001b[0ma\u001b[0m\u001b[0;34m,\u001b[0m \u001b[0;34m**\u001b[0m\u001b[0mk\u001b[0m\u001b[0;34m)\u001b[0m\u001b[0;34m\u001b[0m\u001b[0;34m\u001b[0m\u001b[0m\n\u001b[0m\u001b[1;32m    189\u001b[0m \u001b[0;34m\u001b[0m\u001b[0m\n\u001b[1;32m    190\u001b[0m         \u001b[0;32mif\u001b[0m \u001b[0mcallable\u001b[0m\u001b[0;34m(\u001b[0m\u001b[0marg\u001b[0m\u001b[0;34m)\u001b[0m\u001b[0;34m:\u001b[0m\u001b[0;34m\u001b[0m\u001b[0;34m\u001b[0m\u001b[0m\n",
            "\u001b[0;32m/usr/local/lib/python3.6/dist-packages/IPython/core/magics/execution.py\u001b[0m in \u001b[0;36mtime\u001b[0;34m(self, line, cell, local_ns)\u001b[0m\n\u001b[1;32m   1191\u001b[0m         \u001b[0;32melse\u001b[0m\u001b[0;34m:\u001b[0m\u001b[0;34m\u001b[0m\u001b[0;34m\u001b[0m\u001b[0m\n\u001b[1;32m   1192\u001b[0m             \u001b[0mst\u001b[0m \u001b[0;34m=\u001b[0m \u001b[0mclock2\u001b[0m\u001b[0;34m(\u001b[0m\u001b[0;34m)\u001b[0m\u001b[0;34m\u001b[0m\u001b[0;34m\u001b[0m\u001b[0m\n\u001b[0;32m-> 1193\u001b[0;31m             \u001b[0mexec\u001b[0m\u001b[0;34m(\u001b[0m\u001b[0mcode\u001b[0m\u001b[0;34m,\u001b[0m \u001b[0mglob\u001b[0m\u001b[0;34m,\u001b[0m \u001b[0mlocal_ns\u001b[0m\u001b[0;34m)\u001b[0m\u001b[0;34m\u001b[0m\u001b[0;34m\u001b[0m\u001b[0m\n\u001b[0m\u001b[1;32m   1194\u001b[0m             \u001b[0mend\u001b[0m \u001b[0;34m=\u001b[0m \u001b[0mclock2\u001b[0m\u001b[0;34m(\u001b[0m\u001b[0;34m)\u001b[0m\u001b[0;34m\u001b[0m\u001b[0;34m\u001b[0m\u001b[0m\n\u001b[1;32m   1195\u001b[0m             \u001b[0mout\u001b[0m \u001b[0;34m=\u001b[0m \u001b[0;32mNone\u001b[0m\u001b[0;34m\u001b[0m\u001b[0;34m\u001b[0m\u001b[0m\n",
            "\u001b[0;32m<timed exec>\u001b[0m in \u001b[0;36m<module>\u001b[0;34m()\u001b[0m\n",
            "\u001b[0;32m/usr/local/lib/python3.6/dist-packages/sklearn/model_selection/_validation.py\u001b[0m in \u001b[0;36mcross_val_predict\u001b[0;34m(estimator, X, y, groups, cv, n_jobs, verbose, fit_params, pre_dispatch, method)\u001b[0m\n\u001b[1;32m    753\u001b[0m     prediction_blocks = parallel(delayed(_fit_and_predict)(\n\u001b[1;32m    754\u001b[0m         clone(estimator), X, y, train, test, verbose, fit_params, method)\n\u001b[0;32m--> 755\u001b[0;31m         for train, test in cv.split(X, y, groups))\n\u001b[0m\u001b[1;32m    756\u001b[0m \u001b[0;34m\u001b[0m\u001b[0m\n\u001b[1;32m    757\u001b[0m     \u001b[0;31m# Concatenate the predictions\u001b[0m\u001b[0;34m\u001b[0m\u001b[0;34m\u001b[0m\u001b[0;34m\u001b[0m\u001b[0m\n",
            "\u001b[0;32m/usr/local/lib/python3.6/dist-packages/joblib/parallel.py\u001b[0m in \u001b[0;36m__call__\u001b[0;34m(self, iterable)\u001b[0m\n\u001b[1;32m   1049\u001b[0m                 \u001b[0mself\u001b[0m\u001b[0;34m.\u001b[0m\u001b[0m_iterating\u001b[0m \u001b[0;34m=\u001b[0m \u001b[0mself\u001b[0m\u001b[0;34m.\u001b[0m\u001b[0m_original_iterator\u001b[0m \u001b[0;32mis\u001b[0m \u001b[0;32mnot\u001b[0m \u001b[0;32mNone\u001b[0m\u001b[0;34m\u001b[0m\u001b[0;34m\u001b[0m\u001b[0m\n\u001b[1;32m   1050\u001b[0m \u001b[0;34m\u001b[0m\u001b[0m\n\u001b[0;32m-> 1051\u001b[0;31m             \u001b[0;32mwhile\u001b[0m \u001b[0mself\u001b[0m\u001b[0;34m.\u001b[0m\u001b[0mdispatch_one_batch\u001b[0m\u001b[0;34m(\u001b[0m\u001b[0miterator\u001b[0m\u001b[0;34m)\u001b[0m\u001b[0;34m:\u001b[0m\u001b[0;34m\u001b[0m\u001b[0;34m\u001b[0m\u001b[0m\n\u001b[0m\u001b[1;32m   1052\u001b[0m                 \u001b[0;32mpass\u001b[0m\u001b[0;34m\u001b[0m\u001b[0;34m\u001b[0m\u001b[0m\n\u001b[1;32m   1053\u001b[0m \u001b[0;34m\u001b[0m\u001b[0m\n",
            "\u001b[0;32m/usr/local/lib/python3.6/dist-packages/joblib/parallel.py\u001b[0m in \u001b[0;36mdispatch_one_batch\u001b[0;34m(self, iterator)\u001b[0m\n\u001b[1;32m    864\u001b[0m                 \u001b[0;32mreturn\u001b[0m \u001b[0;32mFalse\u001b[0m\u001b[0;34m\u001b[0m\u001b[0;34m\u001b[0m\u001b[0m\n\u001b[1;32m    865\u001b[0m             \u001b[0;32melse\u001b[0m\u001b[0;34m:\u001b[0m\u001b[0;34m\u001b[0m\u001b[0;34m\u001b[0m\u001b[0m\n\u001b[0;32m--> 866\u001b[0;31m                 \u001b[0mself\u001b[0m\u001b[0;34m.\u001b[0m\u001b[0m_dispatch\u001b[0m\u001b[0;34m(\u001b[0m\u001b[0mtasks\u001b[0m\u001b[0;34m)\u001b[0m\u001b[0;34m\u001b[0m\u001b[0;34m\u001b[0m\u001b[0m\n\u001b[0m\u001b[1;32m    867\u001b[0m                 \u001b[0;32mreturn\u001b[0m \u001b[0;32mTrue\u001b[0m\u001b[0;34m\u001b[0m\u001b[0;34m\u001b[0m\u001b[0m\n\u001b[1;32m    868\u001b[0m \u001b[0;34m\u001b[0m\u001b[0m\n",
            "\u001b[0;32m/usr/local/lib/python3.6/dist-packages/joblib/parallel.py\u001b[0m in \u001b[0;36m_dispatch\u001b[0;34m(self, batch)\u001b[0m\n\u001b[1;32m    782\u001b[0m         \u001b[0;32mwith\u001b[0m \u001b[0mself\u001b[0m\u001b[0;34m.\u001b[0m\u001b[0m_lock\u001b[0m\u001b[0;34m:\u001b[0m\u001b[0;34m\u001b[0m\u001b[0;34m\u001b[0m\u001b[0m\n\u001b[1;32m    783\u001b[0m             \u001b[0mjob_idx\u001b[0m \u001b[0;34m=\u001b[0m \u001b[0mlen\u001b[0m\u001b[0;34m(\u001b[0m\u001b[0mself\u001b[0m\u001b[0;34m.\u001b[0m\u001b[0m_jobs\u001b[0m\u001b[0;34m)\u001b[0m\u001b[0;34m\u001b[0m\u001b[0;34m\u001b[0m\u001b[0m\n\u001b[0;32m--> 784\u001b[0;31m             \u001b[0mjob\u001b[0m \u001b[0;34m=\u001b[0m \u001b[0mself\u001b[0m\u001b[0;34m.\u001b[0m\u001b[0m_backend\u001b[0m\u001b[0;34m.\u001b[0m\u001b[0mapply_async\u001b[0m\u001b[0;34m(\u001b[0m\u001b[0mbatch\u001b[0m\u001b[0;34m,\u001b[0m \u001b[0mcallback\u001b[0m\u001b[0;34m=\u001b[0m\u001b[0mcb\u001b[0m\u001b[0;34m)\u001b[0m\u001b[0;34m\u001b[0m\u001b[0;34m\u001b[0m\u001b[0m\n\u001b[0m\u001b[1;32m    785\u001b[0m             \u001b[0;31m# A job can complete so quickly than its callback is\u001b[0m\u001b[0;34m\u001b[0m\u001b[0;34m\u001b[0m\u001b[0;34m\u001b[0m\u001b[0m\n\u001b[1;32m    786\u001b[0m             \u001b[0;31m# called before we get here, causing self._jobs to\u001b[0m\u001b[0;34m\u001b[0m\u001b[0;34m\u001b[0m\u001b[0;34m\u001b[0m\u001b[0m\n",
            "\u001b[0;32m/usr/local/lib/python3.6/dist-packages/joblib/_parallel_backends.py\u001b[0m in \u001b[0;36mapply_async\u001b[0;34m(self, func, callback)\u001b[0m\n\u001b[1;32m    206\u001b[0m     \u001b[0;32mdef\u001b[0m \u001b[0mapply_async\u001b[0m\u001b[0;34m(\u001b[0m\u001b[0mself\u001b[0m\u001b[0;34m,\u001b[0m \u001b[0mfunc\u001b[0m\u001b[0;34m,\u001b[0m \u001b[0mcallback\u001b[0m\u001b[0;34m=\u001b[0m\u001b[0;32mNone\u001b[0m\u001b[0;34m)\u001b[0m\u001b[0;34m:\u001b[0m\u001b[0;34m\u001b[0m\u001b[0;34m\u001b[0m\u001b[0m\n\u001b[1;32m    207\u001b[0m         \u001b[0;34m\"\"\"Schedule a func to be run\"\"\"\u001b[0m\u001b[0;34m\u001b[0m\u001b[0;34m\u001b[0m\u001b[0m\n\u001b[0;32m--> 208\u001b[0;31m         \u001b[0mresult\u001b[0m \u001b[0;34m=\u001b[0m \u001b[0mImmediateResult\u001b[0m\u001b[0;34m(\u001b[0m\u001b[0mfunc\u001b[0m\u001b[0;34m)\u001b[0m\u001b[0;34m\u001b[0m\u001b[0;34m\u001b[0m\u001b[0m\n\u001b[0m\u001b[1;32m    209\u001b[0m         \u001b[0;32mif\u001b[0m \u001b[0mcallback\u001b[0m\u001b[0;34m:\u001b[0m\u001b[0;34m\u001b[0m\u001b[0;34m\u001b[0m\u001b[0m\n\u001b[1;32m    210\u001b[0m             \u001b[0mcallback\u001b[0m\u001b[0;34m(\u001b[0m\u001b[0mresult\u001b[0m\u001b[0;34m)\u001b[0m\u001b[0;34m\u001b[0m\u001b[0;34m\u001b[0m\u001b[0m\n",
            "\u001b[0;32m/usr/local/lib/python3.6/dist-packages/joblib/_parallel_backends.py\u001b[0m in \u001b[0;36m__init__\u001b[0;34m(self, batch)\u001b[0m\n\u001b[1;32m    570\u001b[0m         \u001b[0;31m# Don't delay the application, to avoid keeping the input\u001b[0m\u001b[0;34m\u001b[0m\u001b[0;34m\u001b[0m\u001b[0;34m\u001b[0m\u001b[0m\n\u001b[1;32m    571\u001b[0m         \u001b[0;31m# arguments in memory\u001b[0m\u001b[0;34m\u001b[0m\u001b[0;34m\u001b[0m\u001b[0;34m\u001b[0m\u001b[0m\n\u001b[0;32m--> 572\u001b[0;31m         \u001b[0mself\u001b[0m\u001b[0;34m.\u001b[0m\u001b[0mresults\u001b[0m \u001b[0;34m=\u001b[0m \u001b[0mbatch\u001b[0m\u001b[0;34m(\u001b[0m\u001b[0;34m)\u001b[0m\u001b[0;34m\u001b[0m\u001b[0;34m\u001b[0m\u001b[0m\n\u001b[0m\u001b[1;32m    573\u001b[0m \u001b[0;34m\u001b[0m\u001b[0m\n\u001b[1;32m    574\u001b[0m     \u001b[0;32mdef\u001b[0m \u001b[0mget\u001b[0m\u001b[0;34m(\u001b[0m\u001b[0mself\u001b[0m\u001b[0;34m)\u001b[0m\u001b[0;34m:\u001b[0m\u001b[0;34m\u001b[0m\u001b[0;34m\u001b[0m\u001b[0m\n",
            "\u001b[0;32m/usr/local/lib/python3.6/dist-packages/joblib/parallel.py\u001b[0m in \u001b[0;36m__call__\u001b[0;34m(self)\u001b[0m\n\u001b[1;32m    261\u001b[0m         \u001b[0;32mwith\u001b[0m \u001b[0mparallel_backend\u001b[0m\u001b[0;34m(\u001b[0m\u001b[0mself\u001b[0m\u001b[0;34m.\u001b[0m\u001b[0m_backend\u001b[0m\u001b[0;34m,\u001b[0m \u001b[0mn_jobs\u001b[0m\u001b[0;34m=\u001b[0m\u001b[0mself\u001b[0m\u001b[0;34m.\u001b[0m\u001b[0m_n_jobs\u001b[0m\u001b[0;34m)\u001b[0m\u001b[0;34m:\u001b[0m\u001b[0;34m\u001b[0m\u001b[0;34m\u001b[0m\u001b[0m\n\u001b[1;32m    262\u001b[0m             return [func(*args, **kwargs)\n\u001b[0;32m--> 263\u001b[0;31m                     for func, args, kwargs in self.items]\n\u001b[0m\u001b[1;32m    264\u001b[0m \u001b[0;34m\u001b[0m\u001b[0m\n\u001b[1;32m    265\u001b[0m     \u001b[0;32mdef\u001b[0m \u001b[0m__reduce__\u001b[0m\u001b[0;34m(\u001b[0m\u001b[0mself\u001b[0m\u001b[0;34m)\u001b[0m\u001b[0;34m:\u001b[0m\u001b[0;34m\u001b[0m\u001b[0;34m\u001b[0m\u001b[0m\n",
            "\u001b[0;32m/usr/local/lib/python3.6/dist-packages/joblib/parallel.py\u001b[0m in \u001b[0;36m<listcomp>\u001b[0;34m(.0)\u001b[0m\n\u001b[1;32m    261\u001b[0m         \u001b[0;32mwith\u001b[0m \u001b[0mparallel_backend\u001b[0m\u001b[0;34m(\u001b[0m\u001b[0mself\u001b[0m\u001b[0;34m.\u001b[0m\u001b[0m_backend\u001b[0m\u001b[0;34m,\u001b[0m \u001b[0mn_jobs\u001b[0m\u001b[0;34m=\u001b[0m\u001b[0mself\u001b[0m\u001b[0;34m.\u001b[0m\u001b[0m_n_jobs\u001b[0m\u001b[0;34m)\u001b[0m\u001b[0;34m:\u001b[0m\u001b[0;34m\u001b[0m\u001b[0;34m\u001b[0m\u001b[0m\n\u001b[1;32m    262\u001b[0m             return [func(*args, **kwargs)\n\u001b[0;32m--> 263\u001b[0;31m                     for func, args, kwargs in self.items]\n\u001b[0m\u001b[1;32m    264\u001b[0m \u001b[0;34m\u001b[0m\u001b[0m\n\u001b[1;32m    265\u001b[0m     \u001b[0;32mdef\u001b[0m \u001b[0m__reduce__\u001b[0m\u001b[0;34m(\u001b[0m\u001b[0mself\u001b[0m\u001b[0;34m)\u001b[0m\u001b[0;34m:\u001b[0m\u001b[0;34m\u001b[0m\u001b[0;34m\u001b[0m\u001b[0m\n",
            "\u001b[0;32m/usr/local/lib/python3.6/dist-packages/sklearn/model_selection/_validation.py\u001b[0m in \u001b[0;36m_fit_and_predict\u001b[0;34m(estimator, X, y, train, test, verbose, fit_params, method)\u001b[0m\n\u001b[1;32m    839\u001b[0m         \u001b[0mestimator\u001b[0m\u001b[0;34m.\u001b[0m\u001b[0mfit\u001b[0m\u001b[0;34m(\u001b[0m\u001b[0mX_train\u001b[0m\u001b[0;34m,\u001b[0m \u001b[0;34m**\u001b[0m\u001b[0mfit_params\u001b[0m\u001b[0;34m)\u001b[0m\u001b[0;34m\u001b[0m\u001b[0;34m\u001b[0m\u001b[0m\n\u001b[1;32m    840\u001b[0m     \u001b[0;32melse\u001b[0m\u001b[0;34m:\u001b[0m\u001b[0;34m\u001b[0m\u001b[0;34m\u001b[0m\u001b[0m\n\u001b[0;32m--> 841\u001b[0;31m         \u001b[0mestimator\u001b[0m\u001b[0;34m.\u001b[0m\u001b[0mfit\u001b[0m\u001b[0;34m(\u001b[0m\u001b[0mX_train\u001b[0m\u001b[0;34m,\u001b[0m \u001b[0my_train\u001b[0m\u001b[0;34m,\u001b[0m \u001b[0;34m**\u001b[0m\u001b[0mfit_params\u001b[0m\u001b[0;34m)\u001b[0m\u001b[0;34m\u001b[0m\u001b[0;34m\u001b[0m\u001b[0m\n\u001b[0m\u001b[1;32m    842\u001b[0m     \u001b[0mfunc\u001b[0m \u001b[0;34m=\u001b[0m \u001b[0mgetattr\u001b[0m\u001b[0;34m(\u001b[0m\u001b[0mestimator\u001b[0m\u001b[0;34m,\u001b[0m \u001b[0mmethod\u001b[0m\u001b[0;34m)\u001b[0m\u001b[0;34m\u001b[0m\u001b[0;34m\u001b[0m\u001b[0m\n\u001b[1;32m    843\u001b[0m     \u001b[0mpredictions\u001b[0m \u001b[0;34m=\u001b[0m \u001b[0mfunc\u001b[0m\u001b[0;34m(\u001b[0m\u001b[0mX_test\u001b[0m\u001b[0;34m)\u001b[0m\u001b[0;34m\u001b[0m\u001b[0;34m\u001b[0m\u001b[0m\n",
            "\u001b[0;32m<ipython-input-80-84b82fe05286>\u001b[0m in \u001b[0;36mfit\u001b[0;34m(self, X, y, batch_size)\u001b[0m\n\u001b[1;32m     93\u001b[0m                 \u001b[0mX_batch\u001b[0m \u001b[0;34m=\u001b[0m \u001b[0mnew_batch\u001b[0m\u001b[0;34m[\u001b[0m\u001b[0;36m0\u001b[0m\u001b[0;34m]\u001b[0m\u001b[0;34m\u001b[0m\u001b[0;34m\u001b[0m\u001b[0m\n\u001b[1;32m     94\u001b[0m                 \u001b[0my_batch\u001b[0m \u001b[0;34m=\u001b[0m \u001b[0mnew_batch\u001b[0m\u001b[0;34m[\u001b[0m\u001b[0;36m1\u001b[0m\u001b[0;34m]\u001b[0m\u001b[0;34m\u001b[0m\u001b[0;34m\u001b[0m\u001b[0m\n\u001b[0;32m---> 95\u001b[0;31m                 \u001b[0mbatch_grad\u001b[0m \u001b[0;34m=\u001b[0m \u001b[0mself\u001b[0m\u001b[0;34m.\u001b[0m\u001b[0mcalc_loss_grad\u001b[0m\u001b[0;34m(\u001b[0m\u001b[0mX_batch\u001b[0m\u001b[0;34m,\u001b[0m \u001b[0my_batch\u001b[0m\u001b[0;34m)\u001b[0m\u001b[0;34m\u001b[0m\u001b[0;34m\u001b[0m\u001b[0m\n\u001b[0m\u001b[1;32m     96\u001b[0m                 \u001b[0mself\u001b[0m\u001b[0;34m.\u001b[0m\u001b[0mupdate_weights\u001b[0m\u001b[0;34m(\u001b[0m\u001b[0mbatch_grad\u001b[0m\u001b[0;34m)\u001b[0m\u001b[0;34m\u001b[0m\u001b[0;34m\u001b[0m\u001b[0m\n\u001b[1;32m     97\u001b[0m                 \u001b[0;31m# Подумайте в каком месте стоит посчитать ошибку для отладки модели\u001b[0m\u001b[0;34m\u001b[0m\u001b[0;34m\u001b[0m\u001b[0;34m\u001b[0m\u001b[0m\n",
            "\u001b[0;32m<ipython-input-80-84b82fe05286>\u001b[0m in \u001b[0;36mcalc_loss_grad\u001b[0;34m(self, X_batch, y_batch)\u001b[0m\n\u001b[1;32m     66\u001b[0m         \u001b[0;32melse\u001b[0m\u001b[0;34m:\u001b[0m\u001b[0;34m\u001b[0m\u001b[0;34m\u001b[0m\u001b[0m\n\u001b[1;32m     67\u001b[0m             \u001b[0mloss_grad\u001b[0m \u001b[0;34m=\u001b[0m \u001b[0;34m-\u001b[0m \u001b[0mnp\u001b[0m\u001b[0;34m.\u001b[0m\u001b[0mdot\u001b[0m\u001b[0;34m(\u001b[0m\u001b[0my_batch\u001b[0m \u001b[0;34m-\u001b[0m \u001b[0msigmoid\u001b[0m\u001b[0;34m(\u001b[0m\u001b[0mXw\u001b[0m\u001b[0;34m)\u001b[0m\u001b[0;34m,\u001b[0m \u001b[0mX_batch\u001b[0m\u001b[0;34m)\u001b[0m \u001b[0;34m/\u001b[0m \u001b[0mn\u001b[0m\u001b[0;34m\u001b[0m\u001b[0;34m\u001b[0m\u001b[0m\n\u001b[0;32m---> 68\u001b[0;31m         \u001b[0mloss_grad\u001b[0m \u001b[0;34m+=\u001b[0m \u001b[0;36m2\u001b[0m \u001b[0;34m*\u001b[0m \u001b[0mself\u001b[0m\u001b[0;34m.\u001b[0m\u001b[0mweights\u001b[0m \u001b[0;34m/\u001b[0m \u001b[0mself\u001b[0m\u001b[0;34m.\u001b[0m\u001b[0mC\u001b[0m\u001b[0;34m\u001b[0m\u001b[0;34m\u001b[0m\u001b[0m\n\u001b[0m\u001b[1;32m     69\u001b[0m \u001b[0;34m\u001b[0m\u001b[0m\n\u001b[1;32m     70\u001b[0m         \u001b[0;32mreturn\u001b[0m \u001b[0mloss_grad\u001b[0m\u001b[0;34m\u001b[0m\u001b[0;34m\u001b[0m\u001b[0m\n",
            "\u001b[0;31mKeyboardInterrupt\u001b[0m: "
          ]
        }
      ]
    },
    {
      "cell_type": "code",
      "metadata": {
        "id": "ElRt5oHtgNBj"
      },
      "source": [
        "best_model.threshold = 0.35"
      ],
      "execution_count": 164,
      "outputs": []
    },
    {
      "cell_type": "markdown",
      "metadata": {
        "id": "sXiIycdMLon8"
      },
      "source": [
        "С лучшими параметрами на валидации сделайте предсказание на тестовом множестве, отправьте его на проверку на платформу kaggle. Убедитесь, что Вы смогли побить public score первого бейзлайна."
      ]
    },
    {
      "cell_type": "markdown",
      "metadata": {
        "collapsed": true,
        "id": "YGc4xm9ELon8"
      },
      "source": [
        "** При сдаче домашки Вам необходимо кроме ссылки на ноутбук показать Ваш ник на kaggle, под которым Вы залили решение, которое побило Handmade baseline. **"
      ]
    },
    {
      "cell_type": "code",
      "metadata": {
        "id": "3ajafFhwLon9",
        "outputId": "03afba7a-f7ad-45c4-8e8d-1736bb6bcdf0",
        "colab": {
          "base_uri": "https://localhost:8080/"
        }
      },
      "source": [
        "test_data = pd.read_csv('test_groups.csv')\n",
        "testgroups_titledata = {}\n",
        "for i in range(len(test_data)):\n",
        "    new_doc = test_data.iloc[i]\n",
        "    doc_group = new_doc['group_id']\n",
        "    doc_id = new_doc['doc_id']\n",
        "    title = doc_to_title[doc_id]\n",
        "    if doc_group not in testgroups_titledata:\n",
        "        testgroups_titledata[doc_group] = []\n",
        "    testgroups_titledata[doc_group].append((doc_id, title))\n",
        "\n",
        "X_test = []\n",
        "y_test = []\n",
        "groups_test = []\n",
        "for new_group in testgroups_titledata:\n",
        "    docs = testgroups_titledata[new_group]\n",
        "    for k, (doc_id, title) in enumerate(docs):\n",
        "        groups_test.append(new_group)\n",
        "        all_dist = []\n",
        "        words = set(title.strip().split())\n",
        "        for j in range(0, len(docs)):\n",
        "            if k == j:\n",
        "                continue\n",
        "            doc_id_j, title_j = docs[j]\n",
        "            words_j = set(title_j.strip().split())\n",
        "            all_dist.append(len(words.intersection(words_j)))\n",
        "        X_test.append(sorted(all_dist, reverse=True)[0:15])\n",
        "X_test = np.array(X_test)\n",
        "y_test = np.array(y_test)\n",
        "groups_test = np.array(groups_test)\n",
        "print (X_test.shape, groups_test.shape)"
      ],
      "execution_count": 155,
      "outputs": [
        {
          "output_type": "stream",
          "text": [
            "(16627, 15) (16627,)\n"
          ],
          "name": "stdout"
        }
      ]
    },
    {
      "cell_type": "code",
      "metadata": {
        "id": "2PyhP8ZYKuvs"
      },
      "source": [
        "X_test = scaler.fit_transform(X_test)"
      ],
      "execution_count": 156,
      "outputs": []
    },
    {
      "cell_type": "code",
      "metadata": {
        "id": "RaHtYsLAKioq",
        "outputId": "19eccbeb-6d75-44e0-fb99-44cfbea89440",
        "colab": {
          "base_uri": "https://localhost:8080/"
        }
      },
      "source": [
        "import time\n",
        "best_model.fit(X_train, y_train, batch_size=batch_size)\n",
        "y_test = np.asarray(best_model.predict(X_test))\n",
        "test_data[\"target\"] = pd.Series(y_test)\n",
        "name = str(time.time()) + \"_predict.csv\"\n",
        "with open(name, \"w\") as f:\n",
        "    f.write(test_data.to_csv(columns=(\"pair_id\", \"target\"), index=False))\n",
        "\n",
        "print(name)\n",
        "print(best_model)"
      ],
      "execution_count": 165,
      "outputs": [
        {
          "output_type": "stream",
          "text": [
            "1604933787.5047076_predict.csv\n",
            "MySGDClassifier(C=0.01, alpha=1e-05,\n",
            "                batch_generator=<function batch_generator at 0x7fc614fb9d90>,\n",
            "                max_epoch=100, model_type='log_reg', threshold=0.35)\n"
          ],
          "name": "stdout"
        }
      ]
    },
    {
      "cell_type": "code",
      "metadata": {
        "id": "WohrMVzBgVDC"
      },
      "source": [
        "# 1604933787.5047076_predict.csv\n",
        "# MySGDClassifier(C=0.01, alpha=1e-05,\n",
        "#                 batch_generator=<function batch_generator at 0x7fc614fb9d90>,\n",
        "#                 max_epoch=100, model_type='log_reg', threshold=0.35)"
      ],
      "execution_count": null,
      "outputs": []
    },
    {
      "cell_type": "code",
      "metadata": {
        "id": "4m9n-ftoc8hy"
      },
      "source": [
        "# 1604932676.1901956_predict.csv\n",
        "# MySGDClassifier(C=31.622776601683793, alpha=0.01,\n",
        "#                 batch_generator=<function batch_generator at 0x7fc614fb9d90>,\n",
        "#                 max_epoch=100, model_type='log_reg', threshold=0.36)"
      ],
      "execution_count": null,
      "outputs": []
    },
    {
      "cell_type": "markdown",
      "metadata": {
        "id": "A0zfUr1pLon_"
      },
      "source": [
        "# Фидбек (бесценно)"
      ]
    },
    {
      "cell_type": "markdown",
      "metadata": {
        "id": "o8V5JnWyLon_"
      },
      "source": [
        "* Какие аспекты обучения линейных моделей Вам показались непонятными? Какое место стоит дополнительно объяснить?"
      ]
    },
    {
      "cell_type": "markdown",
      "metadata": {
        "id": "g9TwyiHPLooA"
      },
      "source": [
        "***Ваше ответ здесь***"
      ]
    },
    {
      "cell_type": "markdown",
      "metadata": {
        "id": "aMIto6BTLooA"
      },
      "source": [
        "* Здесь Вы можете оставить отзыв о этой домашней работе или о всем курсе.   "
      ]
    },
    {
      "cell_type": "markdown",
      "metadata": {
        "id": "EyeE3pdwLooA"
      },
      "source": [
        "*** ВАШ ОТЗЫВ ЗДЕСЬ***"
      ]
    },
    {
      "cell_type": "code",
      "metadata": {
        "id": "7kbHyqYwLooB"
      },
      "source": [
        ""
      ],
      "execution_count": null,
      "outputs": []
    },
    {
      "cell_type": "code",
      "metadata": {
        "id": "gvBv99YDLooD"
      },
      "source": [
        ""
      ],
      "execution_count": null,
      "outputs": []
    }
  ]
}