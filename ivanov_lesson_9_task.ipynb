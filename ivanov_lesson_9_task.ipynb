{
  "nbformat": 4,
  "nbformat_minor": 0,
  "metadata": {
    "anaconda-cloud": {},
    "colab": {
      "name": "seminar_boosting.ipynb",
      "provenance": [],
      "collapsed_sections": [
        "cVxt5S4ISRIb"
      ],
      "toc_visible": true
    },
    "kernelspec": {
      "display_name": "Python [Root]",
      "language": "python",
      "name": "Python [Root]"
    },
    "language_info": {
      "codemirror_mode": {
        "name": "ipython",
        "version": 3
      },
      "file_extension": ".py",
      "mimetype": "text/x-python",
      "name": "python",
      "nbconvert_exporter": "python",
      "pygments_lexer": "ipython3",
      "version": "3.5.4"
    },
    "nav_menu": {},
    "toc": {
      "colors": {
        "hover_highlight": "#DAA520",
        "navigate_num": "#000000",
        "navigate_text": "#333333",
        "running_highlight": "#FF0000",
        "selected_highlight": "#FFD700",
        "sidebar_border": "#EEEEEE",
        "wrapper_background": "#FFFFFF"
      },
      "moveMenuLeft": true,
      "nav_menu": {
        "height": "402px",
        "width": "253px"
      },
      "navigate_menu": true,
      "number_sections": false,
      "sideBar": true,
      "threshold": 4,
      "toc_cell": false,
      "toc_section_display": "block",
      "toc_window_display": true,
      "widenNotebook": false
    },
    "widgets": {
      "application/vnd.jupyter.widget-state+json": {
        "a5facf38a91d4d4d87f6c8a1456fcb91": {
          "model_module": "@jupyter-widgets/controls",
          "model_name": "HBoxModel",
          "state": {
            "_dom_classes": [],
            "_model_module": "@jupyter-widgets/controls",
            "_model_module_version": "1.5.0",
            "_model_name": "HBoxModel",
            "_view_count": null,
            "_view_module": "@jupyter-widgets/controls",
            "_view_module_version": "1.5.0",
            "_view_name": "HBoxView",
            "box_style": "",
            "children": [
              "IPY_MODEL_59b5acc5301449ef94462ac9ac8669d3",
              "IPY_MODEL_0e4c1bc5570a449784a13f7bc6cb63b3"
            ],
            "layout": "IPY_MODEL_02501bf2fc474dd49cb26c8b67f826f9"
          }
        },
        "59b5acc5301449ef94462ac9ac8669d3": {
          "model_module": "@jupyter-widgets/controls",
          "model_name": "FloatProgressModel",
          "state": {
            "_dom_classes": [],
            "_model_module": "@jupyter-widgets/controls",
            "_model_module_version": "1.5.0",
            "_model_name": "FloatProgressModel",
            "_view_count": null,
            "_view_module": "@jupyter-widgets/controls",
            "_view_module_version": "1.5.0",
            "_view_name": "ProgressView",
            "bar_style": "",
            "description": " 11%",
            "description_tooltip": null,
            "layout": "IPY_MODEL_c447c6eafa9141eea1cd0b1831dddadf",
            "max": 1500,
            "min": 0,
            "orientation": "horizontal",
            "style": "IPY_MODEL_0064445f109143faaf2dfcea79096d88",
            "value": 163
          }
        },
        "0e4c1bc5570a449784a13f7bc6cb63b3": {
          "model_module": "@jupyter-widgets/controls",
          "model_name": "HTMLModel",
          "state": {
            "_dom_classes": [],
            "_model_module": "@jupyter-widgets/controls",
            "_model_module_version": "1.5.0",
            "_model_name": "HTMLModel",
            "_view_count": null,
            "_view_module": "@jupyter-widgets/controls",
            "_view_module_version": "1.5.0",
            "_view_name": "HTMLView",
            "description": "",
            "description_tooltip": null,
            "layout": "IPY_MODEL_297db689fc9a48e8a1429c2ce2898907",
            "placeholder": "​",
            "style": "IPY_MODEL_e43c7f98a7214526ba0458cc250d1598",
            "value": " 1500/1500 [1:26:49&lt;00:00,  3.47s/it]"
          }
        },
        "02501bf2fc474dd49cb26c8b67f826f9": {
          "model_module": "@jupyter-widgets/base",
          "model_name": "LayoutModel",
          "state": {
            "_model_module": "@jupyter-widgets/base",
            "_model_module_version": "1.2.0",
            "_model_name": "LayoutModel",
            "_view_count": null,
            "_view_module": "@jupyter-widgets/base",
            "_view_module_version": "1.2.0",
            "_view_name": "LayoutView",
            "align_content": null,
            "align_items": null,
            "align_self": null,
            "border": null,
            "bottom": null,
            "display": null,
            "flex": null,
            "flex_flow": null,
            "grid_area": null,
            "grid_auto_columns": null,
            "grid_auto_flow": null,
            "grid_auto_rows": null,
            "grid_column": null,
            "grid_gap": null,
            "grid_row": null,
            "grid_template_areas": null,
            "grid_template_columns": null,
            "grid_template_rows": null,
            "height": null,
            "justify_content": null,
            "justify_items": null,
            "left": null,
            "margin": null,
            "max_height": null,
            "max_width": null,
            "min_height": null,
            "min_width": null,
            "object_fit": null,
            "object_position": null,
            "order": null,
            "overflow": null,
            "overflow_x": null,
            "overflow_y": null,
            "padding": null,
            "right": null,
            "top": null,
            "visibility": null,
            "width": null
          }
        },
        "c447c6eafa9141eea1cd0b1831dddadf": {
          "model_module": "@jupyter-widgets/base",
          "model_name": "LayoutModel",
          "state": {
            "_model_module": "@jupyter-widgets/base",
            "_model_module_version": "1.2.0",
            "_model_name": "LayoutModel",
            "_view_count": null,
            "_view_module": "@jupyter-widgets/base",
            "_view_module_version": "1.2.0",
            "_view_name": "LayoutView",
            "align_content": null,
            "align_items": null,
            "align_self": null,
            "border": null,
            "bottom": null,
            "display": null,
            "flex": null,
            "flex_flow": null,
            "grid_area": null,
            "grid_auto_columns": null,
            "grid_auto_flow": null,
            "grid_auto_rows": null,
            "grid_column": null,
            "grid_gap": null,
            "grid_row": null,
            "grid_template_areas": null,
            "grid_template_columns": null,
            "grid_template_rows": null,
            "height": null,
            "justify_content": null,
            "justify_items": null,
            "left": null,
            "margin": null,
            "max_height": null,
            "max_width": null,
            "min_height": null,
            "min_width": null,
            "object_fit": null,
            "object_position": null,
            "order": null,
            "overflow": null,
            "overflow_x": null,
            "overflow_y": null,
            "padding": null,
            "right": null,
            "top": null,
            "visibility": null,
            "width": null
          }
        },
        "0064445f109143faaf2dfcea79096d88": {
          "model_module": "@jupyter-widgets/controls",
          "model_name": "ProgressStyleModel",
          "state": {
            "_model_module": "@jupyter-widgets/controls",
            "_model_module_version": "1.5.0",
            "_model_name": "ProgressStyleModel",
            "_view_count": null,
            "_view_module": "@jupyter-widgets/base",
            "_view_module_version": "1.2.0",
            "_view_name": "StyleView",
            "bar_color": null,
            "description_width": "initial"
          }
        },
        "297db689fc9a48e8a1429c2ce2898907": {
          "model_module": "@jupyter-widgets/base",
          "model_name": "LayoutModel",
          "state": {
            "_model_module": "@jupyter-widgets/base",
            "_model_module_version": "1.2.0",
            "_model_name": "LayoutModel",
            "_view_count": null,
            "_view_module": "@jupyter-widgets/base",
            "_view_module_version": "1.2.0",
            "_view_name": "LayoutView",
            "align_content": null,
            "align_items": null,
            "align_self": null,
            "border": null,
            "bottom": null,
            "display": null,
            "flex": null,
            "flex_flow": null,
            "grid_area": null,
            "grid_auto_columns": null,
            "grid_auto_flow": null,
            "grid_auto_rows": null,
            "grid_column": null,
            "grid_gap": null,
            "grid_row": null,
            "grid_template_areas": null,
            "grid_template_columns": null,
            "grid_template_rows": null,
            "height": null,
            "justify_content": null,
            "justify_items": null,
            "left": null,
            "margin": null,
            "max_height": null,
            "max_width": null,
            "min_height": null,
            "min_width": null,
            "object_fit": null,
            "object_position": null,
            "order": null,
            "overflow": null,
            "overflow_x": null,
            "overflow_y": null,
            "padding": null,
            "right": null,
            "top": null,
            "visibility": null,
            "width": null
          }
        },
        "e43c7f98a7214526ba0458cc250d1598": {
          "model_module": "@jupyter-widgets/controls",
          "model_name": "DescriptionStyleModel",
          "state": {
            "_model_module": "@jupyter-widgets/controls",
            "_model_module_version": "1.5.0",
            "_model_name": "DescriptionStyleModel",
            "_view_count": null,
            "_view_module": "@jupyter-widgets/base",
            "_view_module_version": "1.2.0",
            "_view_name": "StyleView",
            "description_width": ""
          }
        },
        "f0c72d8a37dd44ef95c35d9c00f97812": {
          "model_module": "@jupyter-widgets/controls",
          "model_name": "HBoxModel",
          "state": {
            "_view_name": "HBoxView",
            "_dom_classes": [],
            "_model_name": "HBoxModel",
            "_view_module": "@jupyter-widgets/controls",
            "_model_module_version": "1.5.0",
            "_view_count": null,
            "_view_module_version": "1.5.0",
            "box_style": "",
            "layout": "IPY_MODEL_d859eb97b0cf47ad99371b662c3c4a67",
            "_model_module": "@jupyter-widgets/controls",
            "children": [
              "IPY_MODEL_fae47718ae574a62bfb51d9eef1c831b",
              "IPY_MODEL_6f3ccd5a3bcb438c99eb4bc53c44d05d"
            ]
          }
        },
        "d859eb97b0cf47ad99371b662c3c4a67": {
          "model_module": "@jupyter-widgets/base",
          "model_name": "LayoutModel",
          "state": {
            "_view_name": "LayoutView",
            "grid_template_rows": null,
            "right": null,
            "justify_content": null,
            "_view_module": "@jupyter-widgets/base",
            "overflow": null,
            "_model_module_version": "1.2.0",
            "_view_count": null,
            "flex_flow": null,
            "width": null,
            "min_width": null,
            "border": null,
            "align_items": null,
            "bottom": null,
            "_model_module": "@jupyter-widgets/base",
            "top": null,
            "grid_column": null,
            "overflow_y": null,
            "overflow_x": null,
            "grid_auto_flow": null,
            "grid_area": null,
            "grid_template_columns": null,
            "flex": null,
            "_model_name": "LayoutModel",
            "justify_items": null,
            "grid_row": null,
            "max_height": null,
            "align_content": null,
            "visibility": null,
            "align_self": null,
            "height": null,
            "min_height": null,
            "padding": null,
            "grid_auto_rows": null,
            "grid_gap": null,
            "max_width": null,
            "order": null,
            "_view_module_version": "1.2.0",
            "grid_template_areas": null,
            "object_position": null,
            "object_fit": null,
            "grid_auto_columns": null,
            "margin": null,
            "display": null,
            "left": null
          }
        },
        "fae47718ae574a62bfb51d9eef1c831b": {
          "model_module": "@jupyter-widgets/controls",
          "model_name": "FloatProgressModel",
          "state": {
            "_view_name": "ProgressView",
            "style": "IPY_MODEL_bcbb33b387b348698738b12d7c3cfd1e",
            "_dom_classes": [],
            "description": "100%",
            "_model_name": "FloatProgressModel",
            "bar_style": "success",
            "max": 21,
            "_view_module": "@jupyter-widgets/controls",
            "_model_module_version": "1.5.0",
            "value": 21,
            "_view_count": null,
            "_view_module_version": "1.5.0",
            "orientation": "horizontal",
            "min": 0,
            "description_tooltip": null,
            "_model_module": "@jupyter-widgets/controls",
            "layout": "IPY_MODEL_3a334ffda6b54bc3b265872e3cf15070"
          }
        },
        "6f3ccd5a3bcb438c99eb4bc53c44d05d": {
          "model_module": "@jupyter-widgets/controls",
          "model_name": "HTMLModel",
          "state": {
            "_view_name": "HTMLView",
            "style": "IPY_MODEL_fc8f39e3956a425895e60a642139df5f",
            "_dom_classes": [],
            "description": "",
            "_model_name": "HTMLModel",
            "placeholder": "​",
            "_view_module": "@jupyter-widgets/controls",
            "_model_module_version": "1.5.0",
            "value": " 21/21 [13:31&lt;00:00, 38.62s/it]",
            "_view_count": null,
            "_view_module_version": "1.5.0",
            "description_tooltip": null,
            "_model_module": "@jupyter-widgets/controls",
            "layout": "IPY_MODEL_01820bbb26504581a35b87643749d854"
          }
        },
        "bcbb33b387b348698738b12d7c3cfd1e": {
          "model_module": "@jupyter-widgets/controls",
          "model_name": "ProgressStyleModel",
          "state": {
            "_view_name": "StyleView",
            "_model_name": "ProgressStyleModel",
            "description_width": "initial",
            "_view_module": "@jupyter-widgets/base",
            "_model_module_version": "1.5.0",
            "_view_count": null,
            "_view_module_version": "1.2.0",
            "bar_color": null,
            "_model_module": "@jupyter-widgets/controls"
          }
        },
        "3a334ffda6b54bc3b265872e3cf15070": {
          "model_module": "@jupyter-widgets/base",
          "model_name": "LayoutModel",
          "state": {
            "_view_name": "LayoutView",
            "grid_template_rows": null,
            "right": null,
            "justify_content": null,
            "_view_module": "@jupyter-widgets/base",
            "overflow": null,
            "_model_module_version": "1.2.0",
            "_view_count": null,
            "flex_flow": null,
            "width": null,
            "min_width": null,
            "border": null,
            "align_items": null,
            "bottom": null,
            "_model_module": "@jupyter-widgets/base",
            "top": null,
            "grid_column": null,
            "overflow_y": null,
            "overflow_x": null,
            "grid_auto_flow": null,
            "grid_area": null,
            "grid_template_columns": null,
            "flex": null,
            "_model_name": "LayoutModel",
            "justify_items": null,
            "grid_row": null,
            "max_height": null,
            "align_content": null,
            "visibility": null,
            "align_self": null,
            "height": null,
            "min_height": null,
            "padding": null,
            "grid_auto_rows": null,
            "grid_gap": null,
            "max_width": null,
            "order": null,
            "_view_module_version": "1.2.0",
            "grid_template_areas": null,
            "object_position": null,
            "object_fit": null,
            "grid_auto_columns": null,
            "margin": null,
            "display": null,
            "left": null
          }
        },
        "fc8f39e3956a425895e60a642139df5f": {
          "model_module": "@jupyter-widgets/controls",
          "model_name": "DescriptionStyleModel",
          "state": {
            "_view_name": "StyleView",
            "_model_name": "DescriptionStyleModel",
            "description_width": "",
            "_view_module": "@jupyter-widgets/base",
            "_model_module_version": "1.5.0",
            "_view_count": null,
            "_view_module_version": "1.2.0",
            "_model_module": "@jupyter-widgets/controls"
          }
        },
        "01820bbb26504581a35b87643749d854": {
          "model_module": "@jupyter-widgets/base",
          "model_name": "LayoutModel",
          "state": {
            "_view_name": "LayoutView",
            "grid_template_rows": null,
            "right": null,
            "justify_content": null,
            "_view_module": "@jupyter-widgets/base",
            "overflow": null,
            "_model_module_version": "1.2.0",
            "_view_count": null,
            "flex_flow": null,
            "width": null,
            "min_width": null,
            "border": null,
            "align_items": null,
            "bottom": null,
            "_model_module": "@jupyter-widgets/base",
            "top": null,
            "grid_column": null,
            "overflow_y": null,
            "overflow_x": null,
            "grid_auto_flow": null,
            "grid_area": null,
            "grid_template_columns": null,
            "flex": null,
            "_model_name": "LayoutModel",
            "justify_items": null,
            "grid_row": null,
            "max_height": null,
            "align_content": null,
            "visibility": null,
            "align_self": null,
            "height": null,
            "min_height": null,
            "padding": null,
            "grid_auto_rows": null,
            "grid_gap": null,
            "max_width": null,
            "order": null,
            "_view_module_version": "1.2.0",
            "grid_template_areas": null,
            "object_position": null,
            "object_fit": null,
            "grid_auto_columns": null,
            "margin": null,
            "display": null,
            "left": null
          }
        },
        "f5761d2030fa46b9a0bd4d9892a65263": {
          "model_module": "@jupyter-widgets/controls",
          "model_name": "HBoxModel",
          "state": {
            "_view_name": "HBoxView",
            "_dom_classes": [],
            "_model_name": "HBoxModel",
            "_view_module": "@jupyter-widgets/controls",
            "_model_module_version": "1.5.0",
            "_view_count": null,
            "_view_module_version": "1.5.0",
            "box_style": "",
            "layout": "IPY_MODEL_1ed2d811fa7a405686307be62bfd62b0",
            "_model_module": "@jupyter-widgets/controls",
            "children": [
              "IPY_MODEL_be3a9194306b489e895d999a70896997",
              "IPY_MODEL_f62fd34fcfc8430993fd2d37454c07ca"
            ]
          }
        },
        "1ed2d811fa7a405686307be62bfd62b0": {
          "model_module": "@jupyter-widgets/base",
          "model_name": "LayoutModel",
          "state": {
            "_view_name": "LayoutView",
            "grid_template_rows": null,
            "right": null,
            "justify_content": null,
            "_view_module": "@jupyter-widgets/base",
            "overflow": null,
            "_model_module_version": "1.2.0",
            "_view_count": null,
            "flex_flow": null,
            "width": null,
            "min_width": null,
            "border": null,
            "align_items": null,
            "bottom": null,
            "_model_module": "@jupyter-widgets/base",
            "top": null,
            "grid_column": null,
            "overflow_y": null,
            "overflow_x": null,
            "grid_auto_flow": null,
            "grid_area": null,
            "grid_template_columns": null,
            "flex": null,
            "_model_name": "LayoutModel",
            "justify_items": null,
            "grid_row": null,
            "max_height": null,
            "align_content": null,
            "visibility": null,
            "align_self": null,
            "height": null,
            "min_height": null,
            "padding": null,
            "grid_auto_rows": null,
            "grid_gap": null,
            "max_width": null,
            "order": null,
            "_view_module_version": "1.2.0",
            "grid_template_areas": null,
            "object_position": null,
            "object_fit": null,
            "grid_auto_columns": null,
            "margin": null,
            "display": null,
            "left": null
          }
        },
        "be3a9194306b489e895d999a70896997": {
          "model_module": "@jupyter-widgets/controls",
          "model_name": "FloatProgressModel",
          "state": {
            "_view_name": "ProgressView",
            "style": "IPY_MODEL_92c5678a79284392aac574ad35ae19c8",
            "_dom_classes": [],
            "description": "100%",
            "_model_name": "FloatProgressModel",
            "bar_style": "success",
            "max": 101,
            "_view_module": "@jupyter-widgets/controls",
            "_model_module_version": "1.5.0",
            "value": 101,
            "_view_count": null,
            "_view_module_version": "1.5.0",
            "orientation": "horizontal",
            "min": 0,
            "description_tooltip": null,
            "_model_module": "@jupyter-widgets/controls",
            "layout": "IPY_MODEL_1b70a42d2ebd4ffe9cadd96f980fec70"
          }
        },
        "f62fd34fcfc8430993fd2d37454c07ca": {
          "model_module": "@jupyter-widgets/controls",
          "model_name": "HTMLModel",
          "state": {
            "_view_name": "HTMLView",
            "style": "IPY_MODEL_ceb34d989704423eb8a153cece5e0b73",
            "_dom_classes": [],
            "description": "",
            "_model_name": "HTMLModel",
            "placeholder": "​",
            "_view_module": "@jupyter-widgets/controls",
            "_model_module_version": "1.5.0",
            "value": " 101/101 [12:32&lt;00:00,  7.45s/it]",
            "_view_count": null,
            "_view_module_version": "1.5.0",
            "description_tooltip": null,
            "_model_module": "@jupyter-widgets/controls",
            "layout": "IPY_MODEL_12ec3f62505d42e5928f92d313db86e4"
          }
        },
        "92c5678a79284392aac574ad35ae19c8": {
          "model_module": "@jupyter-widgets/controls",
          "model_name": "ProgressStyleModel",
          "state": {
            "_view_name": "StyleView",
            "_model_name": "ProgressStyleModel",
            "description_width": "initial",
            "_view_module": "@jupyter-widgets/base",
            "_model_module_version": "1.5.0",
            "_view_count": null,
            "_view_module_version": "1.2.0",
            "bar_color": null,
            "_model_module": "@jupyter-widgets/controls"
          }
        },
        "1b70a42d2ebd4ffe9cadd96f980fec70": {
          "model_module": "@jupyter-widgets/base",
          "model_name": "LayoutModel",
          "state": {
            "_view_name": "LayoutView",
            "grid_template_rows": null,
            "right": null,
            "justify_content": null,
            "_view_module": "@jupyter-widgets/base",
            "overflow": null,
            "_model_module_version": "1.2.0",
            "_view_count": null,
            "flex_flow": null,
            "width": null,
            "min_width": null,
            "border": null,
            "align_items": null,
            "bottom": null,
            "_model_module": "@jupyter-widgets/base",
            "top": null,
            "grid_column": null,
            "overflow_y": null,
            "overflow_x": null,
            "grid_auto_flow": null,
            "grid_area": null,
            "grid_template_columns": null,
            "flex": null,
            "_model_name": "LayoutModel",
            "justify_items": null,
            "grid_row": null,
            "max_height": null,
            "align_content": null,
            "visibility": null,
            "align_self": null,
            "height": null,
            "min_height": null,
            "padding": null,
            "grid_auto_rows": null,
            "grid_gap": null,
            "max_width": null,
            "order": null,
            "_view_module_version": "1.2.0",
            "grid_template_areas": null,
            "object_position": null,
            "object_fit": null,
            "grid_auto_columns": null,
            "margin": null,
            "display": null,
            "left": null
          }
        },
        "ceb34d989704423eb8a153cece5e0b73": {
          "model_module": "@jupyter-widgets/controls",
          "model_name": "DescriptionStyleModel",
          "state": {
            "_view_name": "StyleView",
            "_model_name": "DescriptionStyleModel",
            "description_width": "",
            "_view_module": "@jupyter-widgets/base",
            "_model_module_version": "1.5.0",
            "_view_count": null,
            "_view_module_version": "1.2.0",
            "_model_module": "@jupyter-widgets/controls"
          }
        },
        "12ec3f62505d42e5928f92d313db86e4": {
          "model_module": "@jupyter-widgets/base",
          "model_name": "LayoutModel",
          "state": {
            "_view_name": "LayoutView",
            "grid_template_rows": null,
            "right": null,
            "justify_content": null,
            "_view_module": "@jupyter-widgets/base",
            "overflow": null,
            "_model_module_version": "1.2.0",
            "_view_count": null,
            "flex_flow": null,
            "width": null,
            "min_width": null,
            "border": null,
            "align_items": null,
            "bottom": null,
            "_model_module": "@jupyter-widgets/base",
            "top": null,
            "grid_column": null,
            "overflow_y": null,
            "overflow_x": null,
            "grid_auto_flow": null,
            "grid_area": null,
            "grid_template_columns": null,
            "flex": null,
            "_model_name": "LayoutModel",
            "justify_items": null,
            "grid_row": null,
            "max_height": null,
            "align_content": null,
            "visibility": null,
            "align_self": null,
            "height": null,
            "min_height": null,
            "padding": null,
            "grid_auto_rows": null,
            "grid_gap": null,
            "max_width": null,
            "order": null,
            "_view_module_version": "1.2.0",
            "grid_template_areas": null,
            "object_position": null,
            "object_fit": null,
            "grid_auto_columns": null,
            "margin": null,
            "display": null,
            "left": null
          }
        },
        "1b4f1f74fdf4491ea1b1b0187f2848d4": {
          "model_module": "@jupyter-widgets/controls",
          "model_name": "HBoxModel",
          "state": {
            "_view_name": "HBoxView",
            "_dom_classes": [],
            "_model_name": "HBoxModel",
            "_view_module": "@jupyter-widgets/controls",
            "_model_module_version": "1.5.0",
            "_view_count": null,
            "_view_module_version": "1.5.0",
            "box_style": "",
            "layout": "IPY_MODEL_048d5aa224204364a0112717bf16c0f9",
            "_model_module": "@jupyter-widgets/controls",
            "children": [
              "IPY_MODEL_6411bf3c56824d23b3d8606cdb9334d7",
              "IPY_MODEL_9d603b5c29554930ae2d3718cca1de19"
            ]
          }
        },
        "048d5aa224204364a0112717bf16c0f9": {
          "model_module": "@jupyter-widgets/base",
          "model_name": "LayoutModel",
          "state": {
            "_view_name": "LayoutView",
            "grid_template_rows": null,
            "right": null,
            "justify_content": null,
            "_view_module": "@jupyter-widgets/base",
            "overflow": null,
            "_model_module_version": "1.2.0",
            "_view_count": null,
            "flex_flow": null,
            "width": null,
            "min_width": null,
            "border": null,
            "align_items": null,
            "bottom": null,
            "_model_module": "@jupyter-widgets/base",
            "top": null,
            "grid_column": null,
            "overflow_y": null,
            "overflow_x": null,
            "grid_auto_flow": null,
            "grid_area": null,
            "grid_template_columns": null,
            "flex": null,
            "_model_name": "LayoutModel",
            "justify_items": null,
            "grid_row": null,
            "max_height": null,
            "align_content": null,
            "visibility": null,
            "align_self": null,
            "height": null,
            "min_height": null,
            "padding": null,
            "grid_auto_rows": null,
            "grid_gap": null,
            "max_width": null,
            "order": null,
            "_view_module_version": "1.2.0",
            "grid_template_areas": null,
            "object_position": null,
            "object_fit": null,
            "grid_auto_columns": null,
            "margin": null,
            "display": null,
            "left": null
          }
        },
        "6411bf3c56824d23b3d8606cdb9334d7": {
          "model_module": "@jupyter-widgets/controls",
          "model_name": "FloatProgressModel",
          "state": {
            "_view_name": "ProgressView",
            "style": "IPY_MODEL_2f7b3ed6eb0144f882f389b798c4bcf8",
            "_dom_classes": [],
            "description": "100%",
            "_model_name": "FloatProgressModel",
            "bar_style": "success",
            "max": 21,
            "_view_module": "@jupyter-widgets/controls",
            "_model_module_version": "1.5.0",
            "value": 21,
            "_view_count": null,
            "_view_module_version": "1.5.0",
            "orientation": "horizontal",
            "min": 0,
            "description_tooltip": null,
            "_model_module": "@jupyter-widgets/controls",
            "layout": "IPY_MODEL_c27309274217446d8ad20252101f1b8a"
          }
        },
        "9d603b5c29554930ae2d3718cca1de19": {
          "model_module": "@jupyter-widgets/controls",
          "model_name": "HTMLModel",
          "state": {
            "_view_name": "HTMLView",
            "style": "IPY_MODEL_3e86b40a1f804871923767615d00a5ce",
            "_dom_classes": [],
            "description": "",
            "_model_name": "HTMLModel",
            "placeholder": "​",
            "_view_module": "@jupyter-widgets/controls",
            "_model_module_version": "1.5.0",
            "value": " 21/21 [06:22&lt;00:00, 18.23s/it]",
            "_view_count": null,
            "_view_module_version": "1.5.0",
            "description_tooltip": null,
            "_model_module": "@jupyter-widgets/controls",
            "layout": "IPY_MODEL_39610bad6b2d444b90d9bf7394def17d"
          }
        },
        "2f7b3ed6eb0144f882f389b798c4bcf8": {
          "model_module": "@jupyter-widgets/controls",
          "model_name": "ProgressStyleModel",
          "state": {
            "_view_name": "StyleView",
            "_model_name": "ProgressStyleModel",
            "description_width": "initial",
            "_view_module": "@jupyter-widgets/base",
            "_model_module_version": "1.5.0",
            "_view_count": null,
            "_view_module_version": "1.2.0",
            "bar_color": null,
            "_model_module": "@jupyter-widgets/controls"
          }
        },
        "c27309274217446d8ad20252101f1b8a": {
          "model_module": "@jupyter-widgets/base",
          "model_name": "LayoutModel",
          "state": {
            "_view_name": "LayoutView",
            "grid_template_rows": null,
            "right": null,
            "justify_content": null,
            "_view_module": "@jupyter-widgets/base",
            "overflow": null,
            "_model_module_version": "1.2.0",
            "_view_count": null,
            "flex_flow": null,
            "width": null,
            "min_width": null,
            "border": null,
            "align_items": null,
            "bottom": null,
            "_model_module": "@jupyter-widgets/base",
            "top": null,
            "grid_column": null,
            "overflow_y": null,
            "overflow_x": null,
            "grid_auto_flow": null,
            "grid_area": null,
            "grid_template_columns": null,
            "flex": null,
            "_model_name": "LayoutModel",
            "justify_items": null,
            "grid_row": null,
            "max_height": null,
            "align_content": null,
            "visibility": null,
            "align_self": null,
            "height": null,
            "min_height": null,
            "padding": null,
            "grid_auto_rows": null,
            "grid_gap": null,
            "max_width": null,
            "order": null,
            "_view_module_version": "1.2.0",
            "grid_template_areas": null,
            "object_position": null,
            "object_fit": null,
            "grid_auto_columns": null,
            "margin": null,
            "display": null,
            "left": null
          }
        },
        "3e86b40a1f804871923767615d00a5ce": {
          "model_module": "@jupyter-widgets/controls",
          "model_name": "DescriptionStyleModel",
          "state": {
            "_view_name": "StyleView",
            "_model_name": "DescriptionStyleModel",
            "description_width": "",
            "_view_module": "@jupyter-widgets/base",
            "_model_module_version": "1.5.0",
            "_view_count": null,
            "_view_module_version": "1.2.0",
            "_model_module": "@jupyter-widgets/controls"
          }
        },
        "39610bad6b2d444b90d9bf7394def17d": {
          "model_module": "@jupyter-widgets/base",
          "model_name": "LayoutModel",
          "state": {
            "_view_name": "LayoutView",
            "grid_template_rows": null,
            "right": null,
            "justify_content": null,
            "_view_module": "@jupyter-widgets/base",
            "overflow": null,
            "_model_module_version": "1.2.0",
            "_view_count": null,
            "flex_flow": null,
            "width": null,
            "min_width": null,
            "border": null,
            "align_items": null,
            "bottom": null,
            "_model_module": "@jupyter-widgets/base",
            "top": null,
            "grid_column": null,
            "overflow_y": null,
            "overflow_x": null,
            "grid_auto_flow": null,
            "grid_area": null,
            "grid_template_columns": null,
            "flex": null,
            "_model_name": "LayoutModel",
            "justify_items": null,
            "grid_row": null,
            "max_height": null,
            "align_content": null,
            "visibility": null,
            "align_self": null,
            "height": null,
            "min_height": null,
            "padding": null,
            "grid_auto_rows": null,
            "grid_gap": null,
            "max_width": null,
            "order": null,
            "_view_module_version": "1.2.0",
            "grid_template_areas": null,
            "object_position": null,
            "object_fit": null,
            "grid_auto_columns": null,
            "margin": null,
            "display": null,
            "left": null
          }
        },
        "8be257242bf44beabc27107570cea3f5": {
          "model_module": "@jupyter-widgets/controls",
          "model_name": "HBoxModel",
          "state": {
            "_view_name": "HBoxView",
            "_dom_classes": [],
            "_model_name": "HBoxModel",
            "_view_module": "@jupyter-widgets/controls",
            "_model_module_version": "1.5.0",
            "_view_count": null,
            "_view_module_version": "1.5.0",
            "box_style": "",
            "layout": "IPY_MODEL_72c9403ae85b4ca49ee31b5b5cf3c08c",
            "_model_module": "@jupyter-widgets/controls",
            "children": [
              "IPY_MODEL_fcd96937b5e94450b8d9c371afbe8829",
              "IPY_MODEL_96336a7e5103446680142f9814a162fc"
            ]
          }
        },
        "72c9403ae85b4ca49ee31b5b5cf3c08c": {
          "model_module": "@jupyter-widgets/base",
          "model_name": "LayoutModel",
          "state": {
            "_view_name": "LayoutView",
            "grid_template_rows": null,
            "right": null,
            "justify_content": null,
            "_view_module": "@jupyter-widgets/base",
            "overflow": null,
            "_model_module_version": "1.2.0",
            "_view_count": null,
            "flex_flow": null,
            "width": null,
            "min_width": null,
            "border": null,
            "align_items": null,
            "bottom": null,
            "_model_module": "@jupyter-widgets/base",
            "top": null,
            "grid_column": null,
            "overflow_y": null,
            "overflow_x": null,
            "grid_auto_flow": null,
            "grid_area": null,
            "grid_template_columns": null,
            "flex": null,
            "_model_name": "LayoutModel",
            "justify_items": null,
            "grid_row": null,
            "max_height": null,
            "align_content": null,
            "visibility": null,
            "align_self": null,
            "height": null,
            "min_height": null,
            "padding": null,
            "grid_auto_rows": null,
            "grid_gap": null,
            "max_width": null,
            "order": null,
            "_view_module_version": "1.2.0",
            "grid_template_areas": null,
            "object_position": null,
            "object_fit": null,
            "grid_auto_columns": null,
            "margin": null,
            "display": null,
            "left": null
          }
        },
        "fcd96937b5e94450b8d9c371afbe8829": {
          "model_module": "@jupyter-widgets/controls",
          "model_name": "FloatProgressModel",
          "state": {
            "_view_name": "ProgressView",
            "style": "IPY_MODEL_6f1b38ab60aa4087b60ac993bd021e02",
            "_dom_classes": [],
            "description": "100%",
            "_model_name": "FloatProgressModel",
            "bar_style": "success",
            "max": 121,
            "_view_module": "@jupyter-widgets/controls",
            "_model_module_version": "1.5.0",
            "value": 121,
            "_view_count": null,
            "_view_module_version": "1.5.0",
            "orientation": "horizontal",
            "min": 0,
            "description_tooltip": null,
            "_model_module": "@jupyter-widgets/controls",
            "layout": "IPY_MODEL_006d97e901764f0c87790da19510851d"
          }
        },
        "96336a7e5103446680142f9814a162fc": {
          "model_module": "@jupyter-widgets/controls",
          "model_name": "HTMLModel",
          "state": {
            "_view_name": "HTMLView",
            "style": "IPY_MODEL_0962df1ca2dc4021b6101e6463c424ae",
            "_dom_classes": [],
            "description": "",
            "_model_name": "HTMLModel",
            "placeholder": "​",
            "_view_module": "@jupyter-widgets/controls",
            "_model_module_version": "1.5.0",
            "value": " 121/121 [06:10&lt;00:00,  3.06s/it]",
            "_view_count": null,
            "_view_module_version": "1.5.0",
            "description_tooltip": null,
            "_model_module": "@jupyter-widgets/controls",
            "layout": "IPY_MODEL_4023e2ed833f4801a7e2b9a728c64991"
          }
        },
        "6f1b38ab60aa4087b60ac993bd021e02": {
          "model_module": "@jupyter-widgets/controls",
          "model_name": "ProgressStyleModel",
          "state": {
            "_view_name": "StyleView",
            "_model_name": "ProgressStyleModel",
            "description_width": "initial",
            "_view_module": "@jupyter-widgets/base",
            "_model_module_version": "1.5.0",
            "_view_count": null,
            "_view_module_version": "1.2.0",
            "bar_color": null,
            "_model_module": "@jupyter-widgets/controls"
          }
        },
        "006d97e901764f0c87790da19510851d": {
          "model_module": "@jupyter-widgets/base",
          "model_name": "LayoutModel",
          "state": {
            "_view_name": "LayoutView",
            "grid_template_rows": null,
            "right": null,
            "justify_content": null,
            "_view_module": "@jupyter-widgets/base",
            "overflow": null,
            "_model_module_version": "1.2.0",
            "_view_count": null,
            "flex_flow": null,
            "width": null,
            "min_width": null,
            "border": null,
            "align_items": null,
            "bottom": null,
            "_model_module": "@jupyter-widgets/base",
            "top": null,
            "grid_column": null,
            "overflow_y": null,
            "overflow_x": null,
            "grid_auto_flow": null,
            "grid_area": null,
            "grid_template_columns": null,
            "flex": null,
            "_model_name": "LayoutModel",
            "justify_items": null,
            "grid_row": null,
            "max_height": null,
            "align_content": null,
            "visibility": null,
            "align_self": null,
            "height": null,
            "min_height": null,
            "padding": null,
            "grid_auto_rows": null,
            "grid_gap": null,
            "max_width": null,
            "order": null,
            "_view_module_version": "1.2.0",
            "grid_template_areas": null,
            "object_position": null,
            "object_fit": null,
            "grid_auto_columns": null,
            "margin": null,
            "display": null,
            "left": null
          }
        },
        "0962df1ca2dc4021b6101e6463c424ae": {
          "model_module": "@jupyter-widgets/controls",
          "model_name": "DescriptionStyleModel",
          "state": {
            "_view_name": "StyleView",
            "_model_name": "DescriptionStyleModel",
            "description_width": "",
            "_view_module": "@jupyter-widgets/base",
            "_model_module_version": "1.5.0",
            "_view_count": null,
            "_view_module_version": "1.2.0",
            "_model_module": "@jupyter-widgets/controls"
          }
        },
        "4023e2ed833f4801a7e2b9a728c64991": {
          "model_module": "@jupyter-widgets/base",
          "model_name": "LayoutModel",
          "state": {
            "_view_name": "LayoutView",
            "grid_template_rows": null,
            "right": null,
            "justify_content": null,
            "_view_module": "@jupyter-widgets/base",
            "overflow": null,
            "_model_module_version": "1.2.0",
            "_view_count": null,
            "flex_flow": null,
            "width": null,
            "min_width": null,
            "border": null,
            "align_items": null,
            "bottom": null,
            "_model_module": "@jupyter-widgets/base",
            "top": null,
            "grid_column": null,
            "overflow_y": null,
            "overflow_x": null,
            "grid_auto_flow": null,
            "grid_area": null,
            "grid_template_columns": null,
            "flex": null,
            "_model_name": "LayoutModel",
            "justify_items": null,
            "grid_row": null,
            "max_height": null,
            "align_content": null,
            "visibility": null,
            "align_self": null,
            "height": null,
            "min_height": null,
            "padding": null,
            "grid_auto_rows": null,
            "grid_gap": null,
            "max_width": null,
            "order": null,
            "_view_module_version": "1.2.0",
            "grid_template_areas": null,
            "object_position": null,
            "object_fit": null,
            "grid_auto_columns": null,
            "margin": null,
            "display": null,
            "left": null
          }
        }
      }
    }
  },
  "cells": [
    {
      "cell_type": "code",
      "metadata": {
        "colab": {
          "base_uri": "https://localhost:8080/"
        },
        "id": "iuHKJPmcO2XY",
        "outputId": "6fa71ffc-38e4-44e8-8d50-eb56c6663839"
      },
      "source": [
        "from google.colab import drive\n",
        "drive.mount('/content/drive')"
      ],
      "execution_count": 19,
      "outputs": [
        {
          "output_type": "stream",
          "text": [
            "Mounted at /content/drive\n"
          ],
          "name": "stdout"
        }
      ]
    },
    {
      "cell_type": "code",
      "metadata": {
        "id": "MAyHCgCSO60z"
      },
      "source": [
        "DIRECTORY = '/content/drive/My Drive/Informatics/Sphere@mail.ru/1_ML/'"
      ],
      "execution_count": 2,
      "outputs": []
    },
    {
      "cell_type": "markdown",
      "metadata": {
        "id": "Hr_26CTyKtRH"
      },
      "source": [
        "# Алгоритмы интеллектуальной обработки больших объемов данных\n",
        "## Семинар, учимся настраивать параметры бустинга\n"
      ]
    },
    {
      "cell_type": "markdown",
      "metadata": {
        "id": "PS-tZkslKtRH"
      },
      "source": [
        "Разберем, например, xgboost:\n",
        "https://xgboost.readthedocs.io/en/latest/parameter.html\n",
        "\n",
        "https://xgboost.readthedocs.io/en/latest/python/python_api.html"
      ]
    },
    {
      "cell_type": "markdown",
      "metadata": {
        "id": "-w6RoClHKtRI"
      },
      "source": [
        "Параметры можно разделить на группы. \n",
        "\n"
      ]
    },
    {
      "cell_type": "markdown",
      "metadata": {
        "id": "-blZZUf4KtRI"
      },
      "source": [
        "1) Общие параметры алгоритма, например, тип бустинга\n",
        "\n",
        "2) Параметры обучения бустинга, например число итераций, learning rate\n",
        "\n",
        "3) Параметры построения деревьев, например, глубина, минимальное число элементов в листе\n",
        "\n",
        "4) Параметры стохастики, subsample, colsample\n",
        "\n",
        "5) Регуляриазция, например, lambda\n"
      ]
    },
    {
      "cell_type": "markdown",
      "metadata": {
        "id": "Glok_Pe4KtRI"
      },
      "source": [
        "ПРАВИЛЬНОГО алгоритма для тюнинга нет, вот один из вариантов, которые часто используют на практике."
      ]
    },
    {
      "cell_type": "markdown",
      "metadata": {
        "id": "lTDSOgfmKtRI"
      },
      "source": [
        "1) Возьмите дефолтное параметры. Поставьте нужные loss и eval функции.  Измените максимальное  число деревьев, чтобы было не долго делать эксперименты"
      ]
    },
    {
      "cell_type": "markdown",
      "metadata": {
        "id": "3y9jrOmuKtRI"
      },
      "source": [
        "2) Подберите для него alpha, чтобы алгоритм не переобучался"
      ]
    },
    {
      "cell_type": "markdown",
      "metadata": {
        "id": "GJiSscDKKtRI"
      },
      "source": [
        "3) Подберите параметры сложности дерева, например,  глубину, мин число объектов в листах, мин значение для расщепления и тд"
      ]
    },
    {
      "cell_type": "markdown",
      "metadata": {
        "id": "FqFCG5jOKtRI"
      },
      "source": [
        "4) Подберите паарметры стохастики"
      ]
    },
    {
      "cell_type": "markdown",
      "metadata": {
        "id": "H-d_Uvx2KtRI"
      },
      "source": [
        "5) Подберите регуляризацию"
      ]
    },
    {
      "cell_type": "markdown",
      "metadata": {
        "id": "5oxaSkEzKtRI"
      },
      "source": [
        "6) Уменьшите leraning rate и обучите максимальное число деревьев, чтобы не переобучалось"
      ]
    },
    {
      "cell_type": "markdown",
      "metadata": {
        "id": "ih5S3RMAKtRI"
      },
      "source": [
        "Давайте настроим параметры бустинга на нашем конкурсе!"
      ]
    },
    {
      "cell_type": "markdown",
      "metadata": {
        "id": "cVxt5S4ISRIb"
      },
      "source": [
        "#### ЗАГРУЗКА ДАННЫХ И ФУНКЦИИ"
      ]
    },
    {
      "cell_type": "code",
      "metadata": {
        "id": "tMNILqVUSPmD"
      },
      "source": [
        "import numpy as np\n",
        "import pandas as pd\n",
        "import time"
      ],
      "execution_count": 3,
      "outputs": []
    },
    {
      "cell_type": "code",
      "metadata": {
        "id": "V1xNkqEGSM1b"
      },
      "source": [
        "from sklearn.preprocessing import StandardScaler\n",
        "from sklearn.model_selection import cross_val_score, cross_val_predict"
      ],
      "execution_count": 4,
      "outputs": []
    },
    {
      "cell_type": "code",
      "metadata": {
        "id": "mRnW0iadR89j"
      },
      "source": [
        "def get_doc_to_title():\n",
        "    doc_to_title = {}\n",
        "    with open(DIRECTORY + 'docs_titles.tsv') as f:\n",
        "        for num_line, line in enumerate(f):\n",
        "            if num_line == 0:\n",
        "                continue\n",
        "            data = line.strip().split('\\t', 1)\n",
        "            doc_id = int(data[0])\n",
        "            if len(data) == 1:\n",
        "                title = ''\n",
        "            else:\n",
        "                title = data[1]\n",
        "            doc_to_title[doc_id] = title\n",
        "    return doc_to_title\n",
        "\n",
        "\n",
        "def get_data_titledata(doc_to_title, test=False):\n",
        "    name = 'test' if test else 'train'\n",
        "\n",
        "    data = pd.read_csv(DIRECTORY + name + '_groups.csv')\n",
        "    groups_titledata = {}\n",
        "    for i in range(len(data)):\n",
        "        new_doc = data.iloc[i]\n",
        "        doc_group = new_doc['group_id']\n",
        "        doc_id = new_doc['doc_id']\n",
        "        if not test:\n",
        "            target = new_doc['target']\n",
        "        title = doc_to_title[doc_id]\n",
        "        if doc_group not in groups_titledata:\n",
        "            groups_titledata[doc_group] = []\n",
        "        to_append = (doc_id, title) if test else (doc_id, title, target)\n",
        "        groups_titledata[doc_group].append(to_append)\n",
        "\n",
        "    return data, groups_titledata\n",
        "\n",
        "\n",
        "def get_x_y_data(test=False):\n",
        "    name = 'test' if test else 'train'\n",
        "\n",
        "    doc_to_title = get_doc_to_title()\n",
        "\n",
        "    data, groups_titledata = get_data_titledata(doc_to_title, test)\n",
        "    \n",
        "    y = []\n",
        "    X = []\n",
        "    groups = []\n",
        "    for new_group in groups_titledata:\n",
        "        docs = groups_titledata[new_group]\n",
        "        for k, tpl in enumerate(docs):\n",
        "            if test:\n",
        "                doc_id, title = tpl\n",
        "            else:\n",
        "                doc_id, title, target_id = tpl\n",
        "                y.append(target_id)\n",
        "            groups.append(new_group)\n",
        "            all_dist = []\n",
        "            words = set(title.strip().split())\n",
        "            for j in range(0, len(docs)):\n",
        "                if k == j:\n",
        "                    continue\n",
        "                if test:\n",
        "                    doc_id_j, title_j = docs[j]\n",
        "                else:\n",
        "                    doc_id_j, title_j, target_j = docs[j]\n",
        "                words_j = set(title_j.strip().split())\n",
        "                all_dist.append(len(words.intersection(words_j)))\n",
        "            X.append(sorted(all_dist, reverse=True)[0:25])\n",
        "    X = np.array(X)\n",
        "    y = np.array(y)\n",
        "    groups = np.array(groups)\n",
        "    print (X.shape, y.shape, groups.shape)\n",
        "    return X, y, groups, data"
      ],
      "execution_count": 5,
      "outputs": []
    },
    {
      "cell_type": "code",
      "metadata": {
        "id": "39nPMIZWfNnp"
      },
      "source": [
        "from sklearn.metrics import f1_score\n",
        "\n",
        "def f1_eval(y_pred, dtrain):\n",
        "    y_true = dtrain.get_label()\n",
        "    err = 1 - f1_score(y_true, np.round(y_pred))\n",
        "    return 'f1_err', err"
      ],
      "execution_count": 6,
      "outputs": []
    },
    {
      "cell_type": "code",
      "metadata": {
        "id": "PSsxwvrTSIg6"
      },
      "source": [
        "def cross_validate(model, fit_params=None):\n",
        "    return cross_val_score(model, X_train, y_train, cv=3,\n",
        "                           groups=groups_train, scoring='f1',\n",
        "                           fit_params=fit_params).mean()"
      ],
      "execution_count": 7,
      "outputs": []
    },
    {
      "cell_type": "code",
      "metadata": {
        "id": "k1cS7DKySm9D"
      },
      "source": [
        "from itertools import product\n",
        "from tqdm.notebook import tqdm\n",
        "from copy import deepcopy"
      ],
      "execution_count": 9,
      "outputs": []
    },
    {
      "cell_type": "code",
      "metadata": {
        "id": "qyWbQbhoSogT"
      },
      "source": [
        "def search_parametrs(clf, parametrs, X_train, y_train, fit_params=None, print_scores=False):\n",
        "    best_model = None\n",
        "    best_score = 0\n",
        "    best_params = None\n",
        "    model = deepcopy(clf)\n",
        "    keys = parametrs.keys()\n",
        "    for cur_param in tqdm(list(product(*parametrs.values()))):\n",
        "        params_to_set = dict()\n",
        "        for i, key in enumerate(keys):\n",
        "            params_to_set[key] = cur_param[i]\n",
        "        model.set_params(**params_to_set)\n",
        "        try:\n",
        "            score = cross_validate(model, fit_params=fit_params)\n",
        "        except Exception:\n",
        "            continue\n",
        "        if print_scores:\n",
        "            print(f'{str(params_to_set)} - SCORE: {score}')\n",
        "        if score > best_score:\n",
        "            best_score = score\n",
        "            best_model = deepcopy(model)\n",
        "            best_params = params_to_set\n",
        "    print(best_params)\n",
        "    print('F1-Score: ', best_score)\n",
        "    print(best_model)\n",
        "    return best_model"
      ],
      "execution_count": 10,
      "outputs": []
    },
    {
      "cell_type": "code",
      "metadata": {
        "id": "GpH06MfESeMa"
      },
      "source": [
        "def make_precision(model, X_test, test_data, to_drive=False, y_test=None):\n",
        "    if y_test is None:\n",
        "        y_test = np.asarray(model.predict(X_test))\n",
        "    y_test = y_test.reshape((-1))\n",
        "    y_test = np.asarray(y_test, dtype=np.int64)\n",
        "    assert y_test.shape[0] == X_test.shape[0]\n",
        "    test_data[\"target\"] = pd.Series(y_test)\n",
        "    name = str(time.time()) + \"_predict.csv\"\n",
        "    if to_drive:\n",
        "        name = DIRECTORY + 'predictions/' + name\n",
        "    with open(name, \"w\") as f:\n",
        "        f.write(test_data.to_csv(columns=(\"pair_id\", \"target\"), index=False))\n",
        "\n",
        "    print(name)\n",
        "    print(model)\n",
        "\n",
        "    return y_test"
      ],
      "execution_count": 34,
      "outputs": []
    },
    {
      "cell_type": "code",
      "metadata": {
        "colab": {
          "base_uri": "https://localhost:8080/"
        },
        "id": "GGfGLi-ESAti",
        "outputId": "2a29a473-421f-4145-b870-67b8a6b9d3bf"
      },
      "source": [
        "X_train, y_train, groups_train, train_data = get_x_y_data()\n",
        "X_test, y_test, groups_test, test_data = get_x_y_data(test=True)\n",
        "scaler = StandardScaler()\n",
        "X_train = scaler.fit_transform(X_train)\n",
        "X_test = scaler.transform(X_test)"
      ],
      "execution_count": 20,
      "outputs": [
        {
          "output_type": "stream",
          "text": [
            "(11690, 25) (11690,) (11690,)\n",
            "(16627, 25) (0,) (16627,)\n"
          ],
          "name": "stdout"
        }
      ]
    },
    {
      "cell_type": "markdown",
      "metadata": {
        "id": "VI4coefGSWoU"
      },
      "source": [
        "#### Работа"
      ]
    },
    {
      "cell_type": "markdown",
      "metadata": {
        "id": "F3b4AZC0KtRK"
      },
      "source": [
        "Подберите размер батча для обучения. Линейная модель не должна учиться дольше нескольких минут. \n",
        "\n",
        "Не забывайте использовать скейлер!"
      ]
    },
    {
      "cell_type": "code",
      "metadata": {
        "id": "HoLJxDY0lPan"
      },
      "source": [
        "import matplotlib.pyplot as plt"
      ],
      "execution_count": 21,
      "outputs": []
    },
    {
      "cell_type": "code",
      "metadata": {
        "id": "6bO1vbosKtRK"
      },
      "source": [
        "#import lightgbm as lgb\n",
        "import xgboost as xgb\n",
        "#from sklearn.ensemble import GradientBoostingClassifier\n",
        "clf = xgb.XGBClassifier(random_state=77)\n",
        "#clf = lgb.LGBMClassifier()"
      ],
      "execution_count": 22,
      "outputs": []
    },
    {
      "cell_type": "code",
      "metadata": {
        "id": "AFLLmA7qi6bi"
      },
      "source": [
        "fit_params = {\n",
        "    'eval_set': [(X_train, y_train)], \n",
        "    'eval_metric': f1_eval,\n",
        "    'verbose': False\n",
        "}"
      ],
      "execution_count": 23,
      "outputs": []
    },
    {
      "cell_type": "code",
      "metadata": {
        "colab": {
          "base_uri": "https://localhost:8080/"
        },
        "id": "x-RIa8tEKtRK",
        "outputId": "cdf369d9-29a3-4377-8eec-8607c48fd2d5"
      },
      "source": [
        "%%time\n",
        "\n",
        "clf = xgb.XGBClassifier(random_state=77, n_estimators=25, objective='binary:logistic', eval_metric='rmse')\n",
        "clf.fit(X_train, y_train, eval_set=[(X_train, y_train)], eval_metric=f1_eval, verbose=False)"
      ],
      "execution_count": null,
      "outputs": [
        {
          "output_type": "stream",
          "text": [
            "CPU times: user 459 ms, sys: 999 µs, total: 460 ms\n",
            "Wall time: 464 ms\n"
          ],
          "name": "stdout"
        }
      ]
    },
    {
      "cell_type": "code",
      "metadata": {
        "colab": {
          "base_uri": "https://localhost:8080/",
          "height": 482
        },
        "id": "4fy3o3IWkm6a",
        "outputId": "f5aa3984-3f80-4320-8fcf-aa05cc064a06"
      },
      "source": [
        "plt.figure(figsize=(20,10))\n",
        "for lr in np.linspace(1e-5, 1, 21):\n",
        "    clf.learning_rate = lr\n",
        "    clf.fit(X_train, y_train, **fit_params)\n",
        "    res = clf.evals_result()['validation_0']['f1_err']\n",
        "    if res[-1] == min(res):\n",
        "        plt.plot(clf.evals_result()['validation_0']['f1_err'], label=lr)\n",
        "\n",
        "plt.legend()\n",
        "plt.show()"
      ],
      "execution_count": null,
      "outputs": [
        {
          "output_type": "display_data",
          "data": {
            "image/png": "[encoded data removed]",
            "text/plain": [
              "<Figure size 1440x720 with 1 Axes>"
            ]
          },
          "metadata": {
            "tags": []
          }
        }
      ]
    },
    {
      "cell_type": "code",
      "metadata": {
        "id": "fUx-6brWnrCp"
      },
      "source": [
        "clf.learning_rate = 0.75"
      ],
      "execution_count": null,
      "outputs": []
    },
    {
      "cell_type": "code",
      "metadata": {
        "id": "kMwl_m6vnjrq"
      },
      "source": [
        "# parametrs = {\n",
        "#     'learning_rate': np.linspace(1e-7, 1, 50),\n",
        "# }\n",
        "\n",
        "# clf = search_parametrs(clf, parametrs, X_train, y_train, fit_params=fit_params, print_scores=True)"
      ],
      "execution_count": null,
      "outputs": []
    },
    {
      "cell_type": "code",
      "metadata": {
        "colab": {
          "background_save": true,
          "base_uri": "https://localhost:8080/",
          "height": 49,
          "referenced_widgets": [
            "a5facf38a91d4d4d87f6c8a1456fcb91",
            "59b5acc5301449ef94462ac9ac8669d3",
            "0e4c1bc5570a449784a13f7bc6cb63b3",
            "02501bf2fc474dd49cb26c8b67f826f9",
            "c447c6eafa9141eea1cd0b1831dddadf",
            "0064445f109143faaf2dfcea79096d88",
            "297db689fc9a48e8a1429c2ce2898907",
            "e43c7f98a7214526ba0458cc250d1598"
          ]
        },
        "id": "58Gx8fvJoYZP",
        "outputId": "9b3d231f-c94a-468b-cb2b-0fb822fd64ff"
      },
      "source": [
        "%%time\n",
        "\n",
        "parametrs = {\n",
        "    'min_split_loss': np.linspace(0, 100, 5),\n",
        "    'max_depth': np.linspace(1, 15, 6, dtype=int),\n",
        "    'min_child_weight': np.linspace(0, 100, 5),\n",
        "    'sampling_method': ['uniform', 'gradient_based'],\n",
        "    'scale_pos_weight': np.linspace(2, 3, 5),\n",
        "}\n",
        "\n",
        "clf = search_parametrs(clf, parametrs, X_train, y_train, fit_params=fit_params)"
      ],
      "execution_count": null,
      "outputs": [
        {
          "output_type": "display_data",
          "data": {
            "application/vnd.jupyter.widget-view+json": {
              "model_id": "a5facf38a91d4d4d87f6c8a1456fcb91",
              "version_major": 2,
              "version_minor": 0
            },
            "text/plain": [
              "HBox(children=(FloatProgress(value=0.0, max=1500.0), HTML(value='')))"
            ]
          },
          "metadata": {
            "tags": []
          }
        },
        {
          "output_type": "stream",
          "text": [
            "\n",
            "{'min_split_loss': 25.0, 'max_depth': 6, 'min_child_weight': 100.0, 'sampling_method': 'uniform', 'scale_pos_weight': 2.25}\n",
            "F1-Score:  0.6360854528940073\n",
            "XGBClassifier(base_score=0.5, booster='gbtree', colsample_bylevel=1,\n",
            "              colsample_bynode=1, colsample_bytree=1, eval_metric='rmse',\n",
            "              gamma=0, learning_rate=0.75, max_delta_step=0, max_depth=6,\n",
            "              min_child_weight=100.0, min_split_loss=25.0, missing=None,\n",
            "              n_estimators=25, n_jobs=1, nthread=None,\n",
            "              objective='binary:logistic', random_state=77, reg_alpha=0,\n",
            "              reg_lambda=1, sampling_method='uniform', scale_pos_weight=2.25,\n",
            "              seed=None, silent=None, subsample=1, verbosity=1)\n",
            "CPU times: user 39min 54s, sys: 7.14 s, total: 40min 1s\n",
            "Wall time: 40min 5s\n"
          ],
          "name": "stdout"
        }
      ]
    },
    {
      "cell_type": "code",
      "metadata": {
        "colab": {
          "base_uri": "https://localhost:8080/",
          "height": 627,
          "referenced_widgets": [
            "f0c72d8a37dd44ef95c35d9c00f97812",
            "d859eb97b0cf47ad99371b662c3c4a67",
            "fae47718ae574a62bfb51d9eef1c831b",
            "6f3ccd5a3bcb438c99eb4bc53c44d05d",
            "bcbb33b387b348698738b12d7c3cfd1e",
            "3a334ffda6b54bc3b265872e3cf15070",
            "fc8f39e3956a425895e60a642139df5f",
            "01820bbb26504581a35b87643749d854"
          ]
        },
        "id": "Bz2esQrMHLpZ",
        "outputId": "3f4120e7-6341-47ac-a3d0-45cae9566497"
      },
      "source": [
        "%%time\n",
        "\n",
        "parametrs = {\n",
        "    'scale_pos_weight': np.linspace(2.2, 2.3, 21),\n",
        "}\n",
        "\n",
        "clf = search_parametrs(clf, parametrs, X_train, y_train, fit_params=fit_params, print_scores=True)"
      ],
      "execution_count": null,
      "outputs": [
        {
          "output_type": "display_data",
          "data": {
            "application/vnd.jupyter.widget-view+json": {
              "model_id": "f0c72d8a37dd44ef95c35d9c00f97812",
              "version_minor": 0,
              "version_major": 2
            },
            "text/plain": [
              "HBox(children=(FloatProgress(value=0.0, max=21.0), HTML(value='')))"
            ]
          },
          "metadata": {
            "tags": []
          }
        },
        {
          "output_type": "stream",
          "text": [
            "{'scale_pos_weight': 2.2} - SCORE: 0.6325399880753783\n",
            "{'scale_pos_weight': 2.205} - SCORE: 0.6325399880753783\n",
            "{'scale_pos_weight': 2.21} - SCORE: 0.6327366489008575\n",
            "{'scale_pos_weight': 2.2150000000000003} - SCORE: 0.6327366489008575\n",
            "{'scale_pos_weight': 2.22} - SCORE: 0.6327366489008575\n",
            "{'scale_pos_weight': 2.225} - SCORE: 0.6327366489008575\n",
            "{'scale_pos_weight': 2.23} - SCORE: 0.6360854528940073\n",
            "{'scale_pos_weight': 2.235} - SCORE: 0.6360854528940073\n",
            "{'scale_pos_weight': 2.24} - SCORE: 0.6360854528940073\n",
            "{'scale_pos_weight': 2.245} - SCORE: 0.6360854528940073\n",
            "{'scale_pos_weight': 2.25} - SCORE: 0.6360854528940073\n",
            "{'scale_pos_weight': 2.255} - SCORE: 0.6352703397371219\n",
            "{'scale_pos_weight': 2.26} - SCORE: 0.6352703397371219\n",
            "{'scale_pos_weight': 2.265} - SCORE: 0.6352703397371219\n",
            "{'scale_pos_weight': 2.27} - SCORE: 0.6352703397371219\n",
            "{'scale_pos_weight': 2.275} - SCORE: 0.6352703397371219\n",
            "{'scale_pos_weight': 2.28} - SCORE: 0.6352703397371219\n",
            "{'scale_pos_weight': 2.2849999999999997} - SCORE: 0.6352703397371219\n",
            "{'scale_pos_weight': 2.29} - SCORE: 0.6352703397371219\n",
            "{'scale_pos_weight': 2.295} - SCORE: 0.6352703397371219\n",
            "{'scale_pos_weight': 2.3} - SCORE: 0.6352703397371219\n",
            "\n",
            "{'scale_pos_weight': 2.23}\n",
            "F1-Score:  0.6360854528940073\n",
            "XGBClassifier(base_score=0.5, booster='gbtree', colsample_bylevel=1,\n",
            "              colsample_bynode=1, colsample_bytree=1, eval_metric='rmse',\n",
            "              gamma=0, learning_rate=0.75, max_delta_step=0, max_depth=6,\n",
            "              min_child_weight=100.0, min_split_loss=25.0, missing=None,\n",
            "              n_estimators=25, n_jobs=1, nthread=None,\n",
            "              objective='binary:logistic', random_state=77, reg_alpha=0,\n",
            "              reg_lambda=1, sampling_method='uniform', scale_pos_weight=2.23,\n",
            "              seed=None, silent=None, subsample=1, verbosity=1)\n",
            "CPU times: user 30.3 s, sys: 115 ms, total: 30.4 s\n",
            "Wall time: 30.5 s\n"
          ],
          "name": "stdout"
        }
      ]
    },
    {
      "cell_type": "code",
      "metadata": {
        "colab": {
          "base_uri": "https://localhost:8080/",
          "height": 270,
          "referenced_widgets": [
            "f5761d2030fa46b9a0bd4d9892a65263",
            "1ed2d811fa7a405686307be62bfd62b0",
            "be3a9194306b489e895d999a70896997",
            "f62fd34fcfc8430993fd2d37454c07ca",
            "92c5678a79284392aac574ad35ae19c8",
            "1b70a42d2ebd4ffe9cadd96f980fec70",
            "ceb34d989704423eb8a153cece5e0b73",
            "12ec3f62505d42e5928f92d313db86e4"
          ]
        },
        "id": "NG8BNqh9pRcY",
        "outputId": "acc942ce-7ccb-4dfc-d5e6-6f9db18c8cc6"
      },
      "source": [
        "%%time\n",
        "\n",
        "parametrs = {\n",
        "    'subsample': np.linspace(1e-10, 1, 101),\n",
        "}\n",
        "\n",
        "clf = search_parametrs(clf, parametrs, X_train, y_train, fit_params=fit_params)"
      ],
      "execution_count": null,
      "outputs": [
        {
          "output_type": "display_data",
          "data": {
            "application/vnd.jupyter.widget-view+json": {
              "model_id": "f5761d2030fa46b9a0bd4d9892a65263",
              "version_minor": 0,
              "version_major": 2
            },
            "text/plain": [
              "HBox(children=(FloatProgress(value=0.0, max=101.0), HTML(value='')))"
            ]
          },
          "metadata": {
            "tags": []
          }
        },
        {
          "output_type": "stream",
          "text": [
            "\n",
            "{'subsample': 0.940000000006}\n",
            "F1-Score:  0.6395916707679302\n",
            "XGBClassifier(base_score=0.5, booster='gbtree', colsample_bylevel=1,\n",
            "              colsample_bynode=1, colsample_bytree=1, eval_metric='rmse',\n",
            "              gamma=0, learning_rate=0.75, max_delta_step=0, max_depth=6,\n",
            "              min_child_weight=100.0, min_split_loss=25.0, missing=None,\n",
            "              n_estimators=25, n_jobs=1, nthread=None,\n",
            "              objective='binary:logistic', random_state=77, reg_alpha=0,\n",
            "              reg_lambda=1, sampling_method='uniform', scale_pos_weight=2.23,\n",
            "              seed=None, silent=None, subsample=0.940000000006, verbosity=1)\n",
            "CPU times: user 2min 15s, sys: 455 ms, total: 2min 15s\n",
            "Wall time: 2min 16s\n"
          ],
          "name": "stdout"
        }
      ]
    },
    {
      "cell_type": "code",
      "metadata": {
        "colab": {
          "base_uri": "https://localhost:8080/",
          "height": 627,
          "referenced_widgets": [
            "1b4f1f74fdf4491ea1b1b0187f2848d4",
            "048d5aa224204364a0112717bf16c0f9",
            "6411bf3c56824d23b3d8606cdb9334d7",
            "9d603b5c29554930ae2d3718cca1de19",
            "2f7b3ed6eb0144f882f389b798c4bcf8",
            "c27309274217446d8ad20252101f1b8a",
            "3e86b40a1f804871923767615d00a5ce",
            "39610bad6b2d444b90d9bf7394def17d"
          ]
        },
        "id": "5cnqkNltc_MW",
        "outputId": "4f150a2a-8d90-426b-9979-5c1be81d8a40"
      },
      "source": [
        "%%time\n",
        "\n",
        "parametrs = {\n",
        "    'subsample': np.linspace(0.9385, 0.9405, 21),\n",
        "}\n",
        "\n",
        "clf = search_parametrs(clf, parametrs, X_train, y_train, fit_params=fit_params, print_scores=True)"
      ],
      "execution_count": null,
      "outputs": [
        {
          "output_type": "display_data",
          "data": {
            "application/vnd.jupyter.widget-view+json": {
              "model_id": "1b4f1f74fdf4491ea1b1b0187f2848d4",
              "version_minor": 0,
              "version_major": 2
            },
            "text/plain": [
              "HBox(children=(FloatProgress(value=0.0, max=21.0), HTML(value='')))"
            ]
          },
          "metadata": {
            "tags": []
          }
        },
        {
          "output_type": "stream",
          "text": [
            "{'subsample': 0.9385} - SCORE: 0.639517684724933\n",
            "{'subsample': 0.9386} - SCORE: 0.6395919777406939\n",
            "{'subsample': 0.9387} - SCORE: 0.6395919777406939\n",
            "{'subsample': 0.9388} - SCORE: 0.6395919777406939\n",
            "{'subsample': 0.9389} - SCORE: 0.6395919777406939\n",
            "{'subsample': 0.9390000000000001} - SCORE: 0.6395919777406939\n",
            "{'subsample': 0.9391} - SCORE: 0.6395919777406939\n",
            "{'subsample': 0.9392} - SCORE: 0.6395919777406939\n",
            "{'subsample': 0.9393} - SCORE: 0.6395919777406939\n",
            "{'subsample': 0.9394} - SCORE: 0.6395916707679302\n",
            "{'subsample': 0.9395} - SCORE: 0.639764751532753\n",
            "{'subsample': 0.9396} - SCORE: 0.639764751532753\n",
            "{'subsample': 0.9397} - SCORE: 0.639764751532753\n",
            "{'subsample': 0.9398} - SCORE: 0.639764751532753\n",
            "{'subsample': 0.9399} - SCORE: 0.639764751532753\n",
            "{'subsample': 0.94} - SCORE: 0.6395916707679302\n",
            "{'subsample': 0.9401} - SCORE: 0.6395916707679302\n",
            "{'subsample': 0.9402} - SCORE: 0.6395916707679302\n",
            "{'subsample': 0.9403} - SCORE: 0.639517684724933\n",
            "{'subsample': 0.9404} - SCORE: 0.6377474185169768\n",
            "{'subsample': 0.9405} - SCORE: 0.637821404559974\n",
            "\n",
            "{'subsample': 0.9395}\n",
            "F1-Score:  0.639764751532753\n",
            "XGBClassifier(base_score=0.5, booster='gbtree', colsample_bylevel=1,\n",
            "              colsample_bynode=1, colsample_bytree=1, eval_metric='rmse',\n",
            "              gamma=0, learning_rate=0.75, max_delta_step=0, max_depth=6,\n",
            "              min_child_weight=100.0, min_split_loss=25.0, missing=None,\n",
            "              n_estimators=25, n_jobs=1, nthread=None,\n",
            "              objective='binary:logistic', random_state=77, reg_alpha=0,\n",
            "              reg_lambda=1, sampling_method='uniform', scale_pos_weight=2.23,\n",
            "              seed=None, silent=None, subsample=0.9395, verbosity=1)\n",
            "CPU times: user 30.7 s, sys: 98 ms, total: 30.8 s\n",
            "Wall time: 30.8 s\n"
          ],
          "name": "stdout"
        }
      ]
    },
    {
      "cell_type": "code",
      "metadata": {
        "colab": {
          "base_uri": "https://localhost:8080/",
          "height": 270,
          "referenced_widgets": [
            "8be257242bf44beabc27107570cea3f5",
            "72c9403ae85b4ca49ee31b5b5cf3c08c",
            "fcd96937b5e94450b8d9c371afbe8829",
            "96336a7e5103446680142f9814a162fc",
            "6f1b38ab60aa4087b60ac993bd021e02",
            "006d97e901764f0c87790da19510851d",
            "0962df1ca2dc4021b6101e6463c424ae",
            "4023e2ed833f4801a7e2b9a728c64991"
          ]
        },
        "id": "F7zqFLOApR9O",
        "outputId": "f7cf55f6-a0e1-4f71-dc9c-f1470eae9251"
      },
      "source": [
        "%%time\n",
        "\n",
        "parametrs = {\n",
        "    'reg_lambda': np.linspace(0, 10, 11),\n",
        "    'reg_alpha': np.linspace(0, 10, 11),\n",
        "}\n",
        "\n",
        "clf = search_parametrs(clf, parametrs, X_train, y_train, fit_params=fit_params, print_scores=False)"
      ],
      "execution_count": null,
      "outputs": [
        {
          "output_type": "display_data",
          "data": {
            "application/vnd.jupyter.widget-view+json": {
              "model_id": "8be257242bf44beabc27107570cea3f5",
              "version_minor": 0,
              "version_major": 2
            },
            "text/plain": [
              "HBox(children=(FloatProgress(value=0.0, max=121.0), HTML(value='')))"
            ]
          },
          "metadata": {
            "tags": []
          }
        },
        {
          "output_type": "stream",
          "text": [
            "\n",
            "{'reg_lambda': 0.0, 'reg_alpha': 0.0}\n",
            "F1-Score:  0.639764751532753\n",
            "XGBClassifier(base_score=0.5, booster='gbtree', colsample_bylevel=1,\n",
            "              colsample_bynode=1, colsample_bytree=1, eval_metric='rmse',\n",
            "              gamma=0, learning_rate=0.75, max_delta_step=0, max_depth=6,\n",
            "              min_child_weight=100.0, min_split_loss=25.0, missing=None,\n",
            "              n_estimators=25, n_jobs=1, nthread=None,\n",
            "              objective='binary:logistic', random_state=77, reg_alpha=0.0,\n",
            "              reg_lambda=0.0, sampling_method='uniform', scale_pos_weight=2.23,\n",
            "              seed=None, silent=None, subsample=0.9395, verbosity=1)\n",
            "CPU times: user 2min 54s, sys: 516 ms, total: 2min 55s\n",
            "Wall time: 2min 55s\n"
          ],
          "name": "stdout"
        }
      ]
    },
    {
      "cell_type": "code",
      "metadata": {
        "colab": {
          "base_uri": "https://localhost:8080/"
        },
        "id": "6HpbIw1Jg-nr",
        "outputId": "a9a78d61-50e1-424d-ab88-631df9c70d31"
      },
      "source": [
        "cur_lr = clf.learning_rate\n",
        "cur_lr"
      ],
      "execution_count": null,
      "outputs": [
        {
          "output_type": "execute_result",
          "data": {
            "text/plain": [
              "0.75"
            ]
          },
          "metadata": {
            "tags": []
          },
          "execution_count": 153
        }
      ]
    },
    {
      "cell_type": "code",
      "metadata": {
        "id": "iOkwSFRw8Yz5"
      },
      "source": [
        "# %%time\n",
        "# for est in tqdm([25, 50, 100, 200, 300, 400, 500]):\n",
        "#     plt.figure(figsize=(20,10))\n",
        "#     for lr in tqdm(np.linspace(1e-5, cur_lr, 10)):\n",
        "#         clf.learning_rate = lr\n",
        "#         clf.n_estimators = est\n",
        "#         clf.fit(X_train, y_train, **fit_params)\n",
        "#         res = clf.evals_result()['validation_0']['f1_err']\n",
        "#         if res[-1] == min(res):\n",
        "#             plt.plot(clf.evals_result()['validation_0']['f1_err'], label=lr)\n",
        "\n",
        "#     plt.title(est)\n",
        "#     plt.legend()\n",
        "#     plt.show()"
      ],
      "execution_count": 36,
      "outputs": []
    },
    {
      "cell_type": "code",
      "metadata": {
        "id": "oWiawV-fVcmb"
      },
      "source": [
        "parametrs = {\n",
        "    'learning_rate': np.linspace(1e-7, cur_lr, 5),\n",
        "    'n_estimators': [25, 50, 100, 200, 300, 400, 500]\n",
        "}\n",
        "\n",
        "clf = search_parametrs(clf, parametrs, X_train, y_train, fit_params=fit_params, print_scores=True)"
      ],
      "execution_count": null,
      "outputs": []
    },
    {
      "cell_type": "markdown",
      "metadata": {
        "id": "twGIAlc4enFc"
      },
      "source": [
        "#### Precision"
      ]
    },
    {
      "cell_type": "markdown",
      "metadata": {
        "id": "IHBYdIgCKtRK"
      },
      "source": [
        "Задача: обучите на этих фичах (число фичей рассатриваем как гипераматр) бустинг, подберите параметры, засабмитьте на кагл. Побейте 0.62 паблик скор за сутки.  Удачи!"
      ]
    },
    {
      "cell_type": "code",
      "metadata": {
        "colab": {
          "base_uri": "https://localhost:8080/"
        },
        "id": "NcCDy6rQrvk1",
        "outputId": "bc1823aa-0fdf-4dde-f6dd-bc1b31d46832"
      },
      "source": [
        "clf.fit(X_train, y_train)"
      ],
      "execution_count": 26,
      "outputs": [
        {
          "output_type": "execute_result",
          "data": {
            "text/plain": [
              "XGBClassifier(base_score=0.5, booster='gbtree', colsample_bylevel=1,\n",
              "              colsample_bynode=1, colsample_bytree=1, eval_metric='rmse',\n",
              "              gamma=0.0, learning_rate=0.5, max_delta_step=0, max_depth=1,\n",
              "              max_leaves=0, min_child_weight=100.0, missing=None,\n",
              "              n_estimators=500, n_jobs=1, nthread=None,\n",
              "              objective='binary:logistic', random_state=77, reg_alpha=0.5,\n",
              "              reg_lambda=0.5, sampling_method='uniform',\n",
              "              scale_pos_weight=2.4725, seed=None, silent=None, subsample=0.6295,\n",
              "              tree_method='auto', verbosity=1)"
            ]
          },
          "metadata": {
            "tags": []
          },
          "execution_count": 26
        }
      ]
    },
    {
      "cell_type": "code",
      "metadata": {
        "colab": {
          "base_uri": "https://localhost:8080/"
        },
        "id": "3lqBEjS0rzMe",
        "outputId": "11cb98b5-4cb6-4546-ac77-9a7924223b72"
      },
      "source": [
        "y = make_precision(clf, X_test, test_data)"
      ],
      "execution_count": 35,
      "outputs": [
        {
          "output_type": "stream",
          "text": [
            "1606842975.7948892_predict.csv\n",
            "XGBClassifier(base_score=0.5, booster='gbtree', colsample_bylevel=1,\n",
            "              colsample_bynode=1, colsample_bytree=1, eval_metric='rmse',\n",
            "              gamma=0.0, learning_rate=0.5, max_delta_step=0, max_depth=1,\n",
            "              max_leaves=0, min_child_weight=100.0, missing=None,\n",
            "              n_estimators=500, n_jobs=1, nthread=None,\n",
            "              objective='binary:logistic', random_state=77, reg_alpha=0.5,\n",
            "              reg_lambda=0.5, sampling_method='uniform',\n",
            "              scale_pos_weight=2.4725, seed=None, silent=None, subsample=0.6295,\n",
            "              tree_method='auto', verbosity=1)\n"
          ],
          "name": "stdout"
        }
      ]
    },
    {
      "cell_type": "code",
      "metadata": {
        "id": "8T_E64HvkECG"
      },
      "source": [
        ""
      ],
      "execution_count": null,
      "outputs": []
    }
  ]
}