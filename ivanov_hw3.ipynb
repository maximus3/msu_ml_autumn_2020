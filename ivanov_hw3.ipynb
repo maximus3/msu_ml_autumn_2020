{
  "nbformat": 4,
  "nbformat_minor": 0,
  "metadata": {
    "anaconda-cloud": {},
    "kernelspec": {
      "display_name": "Python [anaconda]",
      "language": "python",
      "name": "Python [anaconda]"
    },
    "language_info": {
      "codemirror_mode": {
        "name": "ipython",
        "version": 3
      },
      "file_extension": ".py",
      "mimetype": "text/x-python",
      "name": "python",
      "nbconvert_exporter": "python",
      "pygments_lexer": "ipython3",
      "version": "3.5.4"
    },
    "colab": {
      "name": "ivanov_hw3.ipynb",
      "provenance": [],
      "collapsed_sections": [],
      "toc_visible": true
    },
    "widgets": {
      "application/vnd.jupyter.widget-state+json": {
        "aacad7de139e4856993329b8d7ebe903": {
          "model_module": "@jupyter-widgets/controls",
          "model_name": "HBoxModel",
          "state": {
            "_view_name": "HBoxView",
            "_dom_classes": [],
            "_model_name": "HBoxModel",
            "_view_module": "@jupyter-widgets/controls",
            "_model_module_version": "1.5.0",
            "_view_count": null,
            "_view_module_version": "1.5.0",
            "box_style": "",
            "layout": "IPY_MODEL_d6376720190e462c985003ddff005b12",
            "_model_module": "@jupyter-widgets/controls",
            "children": [
              "IPY_MODEL_0f1d534348a741d4a44e41cc27d20682",
              "IPY_MODEL_7f8f30ca12fe4dbe95fe401a08696d44"
            ]
          }
        },
        "d6376720190e462c985003ddff005b12": {
          "model_module": "@jupyter-widgets/base",
          "model_name": "LayoutModel",
          "state": {
            "_view_name": "LayoutView",
            "grid_template_rows": null,
            "right": null,
            "justify_content": null,
            "_view_module": "@jupyter-widgets/base",
            "overflow": null,
            "_model_module_version": "1.2.0",
            "_view_count": null,
            "flex_flow": null,
            "width": null,
            "min_width": null,
            "border": null,
            "align_items": null,
            "bottom": null,
            "_model_module": "@jupyter-widgets/base",
            "top": null,
            "grid_column": null,
            "overflow_y": null,
            "overflow_x": null,
            "grid_auto_flow": null,
            "grid_area": null,
            "grid_template_columns": null,
            "flex": null,
            "_model_name": "LayoutModel",
            "justify_items": null,
            "grid_row": null,
            "max_height": null,
            "align_content": null,
            "visibility": null,
            "align_self": null,
            "height": null,
            "min_height": null,
            "padding": null,
            "grid_auto_rows": null,
            "grid_gap": null,
            "max_width": null,
            "order": null,
            "_view_module_version": "1.2.0",
            "grid_template_areas": null,
            "object_position": null,
            "object_fit": null,
            "grid_auto_columns": null,
            "margin": null,
            "display": null,
            "left": null
          }
        },
        "0f1d534348a741d4a44e41cc27d20682": {
          "model_module": "@jupyter-widgets/controls",
          "model_name": "FloatProgressModel",
          "state": {
            "_view_name": "ProgressView",
            "style": "IPY_MODEL_69b5a19c788c4b0a8a7b9cb4c9c45ec7",
            "_dom_classes": [],
            "description": "100%",
            "_model_name": "FloatProgressModel",
            "bar_style": "success",
            "max": 75,
            "_view_module": "@jupyter-widgets/controls",
            "_model_module_version": "1.5.0",
            "value": 75,
            "_view_count": null,
            "_view_module_version": "1.5.0",
            "orientation": "horizontal",
            "min": 0,
            "description_tooltip": null,
            "_model_module": "@jupyter-widgets/controls",
            "layout": "IPY_MODEL_ca0818cb2b2b474aabb96bb89d87eedd"
          }
        },
        "7f8f30ca12fe4dbe95fe401a08696d44": {
          "model_module": "@jupyter-widgets/controls",
          "model_name": "HTMLModel",
          "state": {
            "_view_name": "HTMLView",
            "style": "IPY_MODEL_18cf9ac685034510b72a204e9536521f",
            "_dom_classes": [],
            "description": "",
            "_model_name": "HTMLModel",
            "placeholder": "​",
            "_view_module": "@jupyter-widgets/controls",
            "_model_module_version": "1.5.0",
            "value": " 75/75 [01:00&lt;00:00,  1.23it/s]",
            "_view_count": null,
            "_view_module_version": "1.5.0",
            "description_tooltip": null,
            "_model_module": "@jupyter-widgets/controls",
            "layout": "IPY_MODEL_1a426cc10e3148d0a8ab294657a4001c"
          }
        },
        "69b5a19c788c4b0a8a7b9cb4c9c45ec7": {
          "model_module": "@jupyter-widgets/controls",
          "model_name": "ProgressStyleModel",
          "state": {
            "_view_name": "StyleView",
            "_model_name": "ProgressStyleModel",
            "description_width": "initial",
            "_view_module": "@jupyter-widgets/base",
            "_model_module_version": "1.5.0",
            "_view_count": null,
            "_view_module_version": "1.2.0",
            "bar_color": null,
            "_model_module": "@jupyter-widgets/controls"
          }
        },
        "ca0818cb2b2b474aabb96bb89d87eedd": {
          "model_module": "@jupyter-widgets/base",
          "model_name": "LayoutModel",
          "state": {
            "_view_name": "LayoutView",
            "grid_template_rows": null,
            "right": null,
            "justify_content": null,
            "_view_module": "@jupyter-widgets/base",
            "overflow": null,
            "_model_module_version": "1.2.0",
            "_view_count": null,
            "flex_flow": null,
            "width": null,
            "min_width": null,
            "border": null,
            "align_items": null,
            "bottom": null,
            "_model_module": "@jupyter-widgets/base",
            "top": null,
            "grid_column": null,
            "overflow_y": null,
            "overflow_x": null,
            "grid_auto_flow": null,
            "grid_area": null,
            "grid_template_columns": null,
            "flex": null,
            "_model_name": "LayoutModel",
            "justify_items": null,
            "grid_row": null,
            "max_height": null,
            "align_content": null,
            "visibility": null,
            "align_self": null,
            "height": null,
            "min_height": null,
            "padding": null,
            "grid_auto_rows": null,
            "grid_gap": null,
            "max_width": null,
            "order": null,
            "_view_module_version": "1.2.0",
            "grid_template_areas": null,
            "object_position": null,
            "object_fit": null,
            "grid_auto_columns": null,
            "margin": null,
            "display": null,
            "left": null
          }
        },
        "18cf9ac685034510b72a204e9536521f": {
          "model_module": "@jupyter-widgets/controls",
          "model_name": "DescriptionStyleModel",
          "state": {
            "_view_name": "StyleView",
            "_model_name": "DescriptionStyleModel",
            "description_width": "",
            "_view_module": "@jupyter-widgets/base",
            "_model_module_version": "1.5.0",
            "_view_count": null,
            "_view_module_version": "1.2.0",
            "_model_module": "@jupyter-widgets/controls"
          }
        },
        "1a426cc10e3148d0a8ab294657a4001c": {
          "model_module": "@jupyter-widgets/base",
          "model_name": "LayoutModel",
          "state": {
            "_view_name": "LayoutView",
            "grid_template_rows": null,
            "right": null,
            "justify_content": null,
            "_view_module": "@jupyter-widgets/base",
            "overflow": null,
            "_model_module_version": "1.2.0",
            "_view_count": null,
            "flex_flow": null,
            "width": null,
            "min_width": null,
            "border": null,
            "align_items": null,
            "bottom": null,
            "_model_module": "@jupyter-widgets/base",
            "top": null,
            "grid_column": null,
            "overflow_y": null,
            "overflow_x": null,
            "grid_auto_flow": null,
            "grid_area": null,
            "grid_template_columns": null,
            "flex": null,
            "_model_name": "LayoutModel",
            "justify_items": null,
            "grid_row": null,
            "max_height": null,
            "align_content": null,
            "visibility": null,
            "align_self": null,
            "height": null,
            "min_height": null,
            "padding": null,
            "grid_auto_rows": null,
            "grid_gap": null,
            "max_width": null,
            "order": null,
            "_view_module_version": "1.2.0",
            "grid_template_areas": null,
            "object_position": null,
            "object_fit": null,
            "grid_auto_columns": null,
            "margin": null,
            "display": null,
            "left": null
          }
        }
      }
    }
  },
  "cells": [
    {
      "cell_type": "markdown",
      "metadata": {
        "id": "H0lnsgnGkjkL"
      },
      "source": [
        "### Алгоритмы интеллектуальной обработки больших объемов данных\n",
        "## Домашнее задание №3 - Дерево решений\n"
      ]
    },
    {
      "cell_type": "markdown",
      "metadata": {
        "id": "dKButfqkkjkM"
      },
      "source": [
        "**Общая информация**\n",
        "\n",
        "**Срок сдачи:** 08 декабря 2020, 08:30   \n",
        "**Штраф за опоздание:** -2 балла после 08:30 08 декабря, -4 балла после 08:30 15 декабря, -6 баллов после 08:30 22 декабря, -8 баллов после 08:30 29 декабря.\n",
        "\n",
        "При отправлении ДЗ указывайте фамилию в названии файла Присылать ДЗ необходимо в виде ссылки на свой github репозиторий на почту ml1.sphere@mail.ru с указанием темы в следующем формате:\n",
        "[ML0220, Задание 3] Фамилия Имя. \n",
        "\n",
        "\n",
        "Используйте данный Ipython Notebook при оформлении домашнего задания."
      ]
    },
    {
      "cell_type": "markdown",
      "metadata": {
        "id": "zS6eskOFkjkM"
      },
      "source": [
        "##  Реализуем дерево решений (3 балла)"
      ]
    },
    {
      "cell_type": "markdown",
      "metadata": {
        "id": "JYwXpmBRkjkM"
      },
      "source": [
        "Допишите недостающие части дерева решений. Ваша реализация дерева должна работать по точности не хуже DecisionTreeClassifier из sklearn.\n",
        "Внимание: если Вас не устраивает предложенная структура хранения дерева, Вы без потери баллов можете сделать свой класс DecisionTreeClassifier, в котором сами полностью воспроизведете алгоритм дерева решений. Обязательно в нем иметь только функции fit, predict"
      ]
    },
    {
      "cell_type": "code",
      "metadata": {
        "id": "5CH9IDvTkjkM"
      },
      "source": [
        "import matplotlib.pyplot as plt\n",
        "import numpy as np\n",
        "import pandas as pd\n",
        "\n",
        "from sklearn.datasets import load_wine\n",
        "from sklearn.ensemble import RandomForestClassifier\n",
        "from sklearn.metrics import accuracy_score\n",
        "from sklearn.model_selection import KFold, train_test_split, GridSearchCV, RandomizedSearchCV\n",
        "from sklearn.tree import DecisionTreeClassifier\n",
        "\n",
        "from tqdm.notebook import tqdm\n",
        "\n",
        "plt.style.use('ggplot')\n",
        "plt.rcParams['figure.figsize'] = (12,8)"
      ],
      "execution_count": null,
      "outputs": []
    },
    {
      "cell_type": "code",
      "metadata": {
        "id": "z5uAniqtkjkM"
      },
      "source": [
        "class MyDecisionTreeClassifier:\n",
        "    NON_LEAF_TYPE = 0\n",
        "    LEAF_TYPE = 1\n",
        "\n",
        "    def __init__(self, min_samples_split=2, max_depth=None, criterion='gini',\n",
        "                 max_features=None, random_state=None):\n",
        "        \"\"\"\n",
        "        criterion -- критерий расщепления. необходимо релизовать три:\n",
        "        Ошибка классификации, Индекс Джини, Энтропийный критерий\n",
        "        max_depth -- максимальная глубина дерева\n",
        "        min_samples_split -- минимальное число объектов в листе, чтобы сделать новый сплит\n",
        "        \"\"\"\n",
        "        self.random_state = random_state\n",
        "        if self.random_state is not None:\n",
        "            np.random.seed(random_state)\n",
        "        self.min_samples_split = min_samples_split\n",
        "        self.max_depth = max_depth\n",
        "        self.num_class = -1\n",
        "        self.feature_importances_ = None\n",
        "        self.criterion = criterion\n",
        "        self.max_features = max_features\n",
        "        # Структура, которая описывает дерево\n",
        "        # Представляет словарь, где для  node_id (айдишник узла дерева) храним\n",
        "        # (тип_узла, айдишник признака сплита, порог сплита) если тип NON_LEAF_TYPE\n",
        "        # (тип_узла, предсказание класса, вероятность класса) если тип LEAF_TYPE\n",
        "        # Подразумевается, что у каждого node_id в дереве слева \n",
        "        # узел с айди 2 * node_id + 1, а справа 2 * node_id + 2\n",
        "        self.tree = dict()\n",
        "\n",
        "        if max_features == 'sqrt' or max_features == 'auto':\n",
        "            self.get_feature_ids = self.__get_feature_ids_sqrt\n",
        "        elif max_features == 'log2':\n",
        "            self.get_feature_ids = self.__get_feature_ids_log2\n",
        "        elif max_features is None:\n",
        "            self.get_feature_ids = self.__get_feature_ids_N\n",
        "        elif not isinstance(max_features, int) or max_features <= 0:\n",
        "            raise RuntimeError(f'Invalid max_features argument - {self.max_features}')\n",
        "        \n",
        "        if criterion == 'gini':\n",
        "            self.__impurity_Q = self.__gini_Q\n",
        "            self.__F = self.__gini_F\n",
        "        elif criterion == 'entropy':\n",
        "            self.__impurity_Q = self.__entropy_Q\n",
        "            self.__F = self.__entropy_F\n",
        "        elif criterion == 'misclass':\n",
        "            self.__impurity_Q = self.__misclass_Q\n",
        "            self.__F = self.__misclass_F\n",
        "        else:\n",
        "            raise RuntimeError(f'Invalid criterion argument - {self.max_features}')\n",
        "\n",
        "    def __gini_Q(self, y):\n",
        "        return 1 - np.sum((np.bincount(y) / y.size) ** 2)\n",
        "    \n",
        "    def __entropy_Q(self, y):\n",
        "        _, p = np.unique(y, return_counts=True)\n",
        "        return -np.sum((p / y.size) * np.log2(p / y.size))\n",
        "\n",
        "    def __misclass_Q(self, y):\n",
        "        return 1 - np.max(np.bincount(y) / y.size)\n",
        "    \n",
        "    def __gini_F(self, y_left, y_right):\n",
        "        return np.sum(np.bincount(y_left) ** 2) / y_left.size + np.sum(np.bincount(y_right) ** 2) / y_right.size\n",
        "    \n",
        "    def __entropy_F(self, y_left, y_right):\n",
        "        left_size = y_left.size\n",
        "        right_size = y_right.size\n",
        "        _, y_left = np.unique(y_left, return_counts=True)\n",
        "        _, y_right = np.unique(y_right, return_counts=True)\n",
        "        return left_size + right_size + np.sum(y_left * (np.log(y_left / left_size))) + np.sum(y_right * (np.log(y_right / right_size)))\n",
        "    \n",
        "    def __misclass_F(self, y_left, y_right):\n",
        "        return np.max(np.bincount(y_left)) + np.max(np.bincount(y_right))\n",
        "\n",
        "    def __get_feature_ids_N(self, features_count):\n",
        "        indices = np.arange(features_count)\n",
        "        np.random.shuffle(indices)\n",
        "        features_count = min(features_count, self.max_features) if self.max_features else features_count\n",
        "        return indices[:features_count]\n",
        "    \n",
        "    def __get_feature_ids_log2(self, features_count):\n",
        "        indices = np.arange(features_count)\n",
        "        np.random.shuffle(indices)\n",
        "        return indices[:int(np.log2(features_count))]\n",
        "    \n",
        "    def __get_feature_ids_sqrt(self, features_count):\n",
        "        indices = np.arange(features_count)\n",
        "        np.random.shuffle(indices)\n",
        "        return indices[:int(np.sqrt(features_count))]\n",
        "\n",
        "    def __div_samples(self, x, y, feature_id, threshold):\n",
        "        \"\"\"\n",
        "        Разделяет объекты на 2 множества\n",
        "        x -- матрица объектов\n",
        "        y -- вектор ответов\n",
        "        feature_id -- айдишник признака, по которому делаем сплит\n",
        "        threshold -- порог, по которому делаем сплит\n",
        "        \"\"\"\n",
        "        left_mask = x[:, feature_id] > threshold\n",
        "        right_mask = ~left_mask\n",
        "        return x[left_mask], x[right_mask], y[left_mask], y[right_mask]\n",
        "\n",
        "    def __find_threshold(self, x, y):\n",
        "        \"\"\"\n",
        "        Находим оптимальный признак и порог для сплита\n",
        "        Здесь используемые разные impurity в зависимости от self.criterion\n",
        "        \"\"\"\n",
        "        best_id = np.nan\n",
        "        best_score = -np.inf\n",
        "        best_threshold = np.nan\n",
        "\n",
        "        feature_ids = self.get_feature_ids(x.shape[1])\n",
        "\n",
        "        x_all_sorted = np.sort(x, axis=0)\n",
        "        y_all_sorted = y[np.argsort(x, axis=0)]\n",
        "\n",
        "        for i in feature_ids:\n",
        "            x_sorted, y_sorted = x_all_sorted[:, i], y_all_sorted[:, i]\n",
        "            \n",
        "            idx = np.where((y_sorted[:-1] != y_sorted[1:]) & (x_sorted[1:] != x_sorted[:-1]))[0]\n",
        "            idx += 1\n",
        "            idx = idx[(idx >= self.min_samples_split) & (idx <= y_sorted.size - self.min_samples_split)]\n",
        "            if idx.size == 0:\n",
        "                continue\n",
        "            \n",
        "            scores = np.array([self.__F(y_sorted[j:], y_sorted[:j]) for j in idx])\n",
        "            best_j = np.argmax(scores)\n",
        "            score = scores[best_j]\n",
        "\n",
        "            if score > best_score:\n",
        "                best_score = score\n",
        "                best_id = i\n",
        "                best_threshold = (x_sorted[idx[best_j]] + x_sorted[idx[best_j] - 1]) / 2.0 if idx[best_j] > 0 else np.nan\n",
        "\n",
        "        return best_id, best_threshold\n",
        "\n",
        "    def __fit_node(self, x, y, node_id, depth):\n",
        "        \"\"\"\n",
        "        Делаем новый узел в дереве\n",
        "        Решаем, терминальный он или нет\n",
        "        Если нет, то строим левый узел  с айди 2 * node_id + 1\n",
        "        И правый узел с  айди 2 * node_id + 2\n",
        "        \"\"\"\n",
        "        unique_y, class_count = np.unique(y, return_counts=True)\n",
        "        bincount_y = np.bincount(y)\n",
        "        \n",
        "        if self.max_depth is not None and depth == self.max_depth or \\\n",
        "           self.min_samples_split is not None and x.shape[0] < self.min_samples_split or \\\n",
        "           unique_y.size == 1:\n",
        "           # Листовой узел, предсказание - класс с максимальной долей вхождения\n",
        "\n",
        "           self.tree[node_id] = (self.LEAF_TYPE,\n",
        "                                 np.argmax(bincount_y), \n",
        "                                 bincount_y / y.size)\n",
        "           return\n",
        "        \n",
        "        feature_id, threshold = self.__find_threshold(x, y)\n",
        "        if np.isnan(threshold):\n",
        "           self.tree[node_id] = (self.LEAF_TYPE,\n",
        "                                 np.argmax(bincount_y), \n",
        "                                 bincount_y / y.size)\n",
        "           return\n",
        "        \n",
        "        x_left, x_right, y_left, y_right = self.__div_samples(x, y, feature_id, threshold)\n",
        "\n",
        "        self.feature_importances_[feature_id] += self.__impurity_Q(y) -\\\n",
        "            (y_left.size * self.__impurity_Q(y_left) + y_right.size * self.__impurity_Q(y_right)) / y.size\n",
        "\n",
        "        self.tree[node_id] = (self.NON_LEAF_TYPE, feature_id, threshold)\n",
        "\n",
        "        self.__fit_node(x_left, y_left, 2 * node_id + 1, depth + 1)\n",
        "        self.__fit_node(x_right, y_right, 2 * node_id + 2, depth + 1)\n",
        "    \n",
        "    def fit(self, x, y):\n",
        "        \"\"\"\n",
        "        Рекурсивно строим дерево решений\n",
        "        Начинаем с корня node_id 0\n",
        "        \"\"\"\n",
        "        self.feature_importances_ = np.zeros(x.shape[1])\n",
        "        self.num_class = np.unique(y).size\n",
        "        self.__fit_node(x, y, 0, 0)\n",
        "        return self\n",
        "\n",
        "    def __predict_class(self, x, node_id):\n",
        "        \"\"\"\n",
        "        Рекурсивно обходим дерево по всем узлам,\n",
        "        пока не дойдем до терминального\n",
        "        \"\"\"\n",
        "        node = self.tree[node_id]\n",
        "        if node[0] == self.__class__.NON_LEAF_TYPE:\n",
        "            _, feature_id, threshold = node\n",
        "            if x[feature_id] > threshold:\n",
        "                return self.__predict_class(x, 2 * node_id + 1)\n",
        "            else:\n",
        "                return self.__predict_class(x, 2 * node_id + 2)\n",
        "        else:\n",
        "            return node[1]\n",
        "        \n",
        "    def predict(self, X):\n",
        "        \"\"\"\n",
        "        Вызывает predict для всех объектов из матрицы X\n",
        "        \"\"\"\n",
        "        return np.array([self.__predict_class(x, 0) for x in X])\n",
        "    \n",
        "    def fit_predict(self, x_train, y_train, predicted_x):\n",
        "        self.fit(x_train, y_train)\n",
        "        return self.predict(predicted_x)\n",
        "    \n",
        "    def get_feature_importance(self):\n",
        "        \"\"\"\n",
        "        Возвращает важность признаков\n",
        "        \"\"\"\n",
        "        return self.feature_importances_\n",
        "\n",
        "    def __repr__(self):\n",
        "        return f'MyDecisionTreeClassifier(min_samples_split={self.min_samples_split}, max_depth={self.max_depth}, criterion={self.criterion}, max_features={self.max_features}, random_state={self.random_state})'"
      ],
      "execution_count": null,
      "outputs": []
    },
    {
      "cell_type": "code",
      "metadata": {
        "id": "m851wsS9kjkM"
      },
      "source": [
        "my_clf = MyDecisionTreeClassifier(min_samples_split=2)\n",
        "clf = DecisionTreeClassifier(min_samples_split=2)"
      ],
      "execution_count": null,
      "outputs": []
    },
    {
      "cell_type": "code",
      "metadata": {
        "id": "diiK1zVpkjkN"
      },
      "source": [
        "wine = load_wine()\n",
        "X_train, X_test, y_train, y_test = train_test_split(wine.data, wine.target, test_size=0.1, stratify=wine.target)"
      ],
      "execution_count": null,
      "outputs": []
    },
    {
      "cell_type": "code",
      "metadata": {
        "colab": {
          "base_uri": "https://localhost:8080/"
        },
        "id": "gp7yoHwKLJL2",
        "outputId": "d843e89b-714a-476b-ed4e-b3b81bc12912"
      },
      "source": [
        "clf.fit(X_train, y_train)\n",
        "print(accuracy_score(y_pred=clf.predict(X_test), y_true=y_test))"
      ],
      "execution_count": null,
      "outputs": [
        {
          "output_type": "stream",
          "text": [
            "0.9444444444444444\n"
          ],
          "name": "stdout"
        }
      ]
    },
    {
      "cell_type": "code",
      "metadata": {
        "id": "CEhJ4anokjkN",
        "colab": {
          "base_uri": "https://localhost:8080/"
        },
        "outputId": "784dd666-e943-4a0a-9d3b-9fb2019371af"
      },
      "source": [
        "my_clf.fit(X_train, y_train)\n",
        "print(accuracy_score(y_pred=my_clf.predict(X_test), y_true=y_test))"
      ],
      "execution_count": null,
      "outputs": [
        {
          "output_type": "stream",
          "text": [
            "0.9444444444444444\n"
          ],
          "name": "stdout"
        }
      ]
    },
    {
      "cell_type": "markdown",
      "metadata": {
        "id": "6k0wzdsZkjkN"
      },
      "source": [
        "## Ускоряем дерево решений (2 балла)\n",
        "Добиться скорости работы на fit не медленнее чем в 10 раз sklearn на данных wine. \n",
        "Для этого используем numpy."
      ]
    },
    {
      "cell_type": "code",
      "metadata": {
        "scrolled": true,
        "id": "T5d7IgdhkjkN",
        "colab": {
          "base_uri": "https://localhost:8080/"
        },
        "outputId": "f638bc7d-6b26-4808-c07c-40542532fc62"
      },
      "source": [
        "%time clf.fit(X_train, y_train)"
      ],
      "execution_count": null,
      "outputs": [
        {
          "output_type": "stream",
          "text": [
            "CPU times: user 2.15 ms, sys: 40 µs, total: 2.19 ms\n",
            "Wall time: 6.18 ms\n"
          ],
          "name": "stdout"
        },
        {
          "output_type": "execute_result",
          "data": {
            "text/plain": [
              "DecisionTreeClassifier(ccp_alpha=0.0, class_weight=None, criterion='gini',\n",
              "                       max_depth=None, max_features=None, max_leaf_nodes=None,\n",
              "                       min_impurity_decrease=0.0, min_impurity_split=None,\n",
              "                       min_samples_leaf=1, min_samples_split=2,\n",
              "                       min_weight_fraction_leaf=0.0, presort='deprecated',\n",
              "                       random_state=None, splitter='best')"
            ]
          },
          "metadata": {
            "tags": []
          },
          "execution_count": 1203
        }
      ]
    },
    {
      "cell_type": "code",
      "metadata": {
        "id": "CHu4MsfskjkN",
        "colab": {
          "base_uri": "https://localhost:8080/"
        },
        "outputId": "8decfbd4-8e18-4a27-b216-0c038d9089ab"
      },
      "source": [
        "%time my_clf.fit(X_train, y_train)"
      ],
      "execution_count": null,
      "outputs": [
        {
          "output_type": "stream",
          "text": [
            "CPU times: user 27.5 ms, sys: 0 ns, total: 27.5 ms\n",
            "Wall time: 29.5 ms\n"
          ],
          "name": "stdout"
        },
        {
          "output_type": "execute_result",
          "data": {
            "text/plain": [
              "MyDecisionTreeClassifier(min_samples_split=2, max_depth=None, criterion=gini, max_features=None, random_state=None)"
            ]
          },
          "metadata": {
            "tags": []
          },
          "execution_count": 46
        }
      ]
    },
    {
      "cell_type": "markdown",
      "metadata": {
        "id": "emjk0YOGkjkN"
      },
      "source": [
        "## Боевое применение (3 балла)\n",
        "\n",
        "На практике Вы познакомились с датасетом Speed Dating Data. В нем каждая пара в быстрых свиданиях характеризуется определенным набором признаков. Задача -- предсказать, произойдет ли матч пары (колонка match). \n",
        "\n",
        "Пример работы с датасетом можете найти в практике пункт 2\n",
        "https://github.com/VVVikulin/ml1.sphere/blob/master/2019-09/lecture_06/pract-trees.ipynb\n",
        "\n",
        "Данные и описания колонок лежат тут\n",
        "https://cloud.mail.ru/public/8nHV/p6J7wY1y1/speed-dating-experiment/"
      ]
    },
    {
      "cell_type": "markdown",
      "metadata": {
        "id": "ypaMJrkzkjkN"
      },
      "source": [
        "Скачайте датасет, обработайте данные, как показано на семинаре или своим собственным способом. Обучите дерево классифкации. В качестве таргета возьмите колонку 'match'. Постарайтесь хорошо обработать признаки, чтобы выбить максимальную точность. Если точность будет близка к случайному гаданию, задание не будет защитано. \n"
      ]
    },
    {
      "cell_type": "code",
      "metadata": {
        "id": "x4G7PkDMkjkN"
      },
      "source": [
        "df = pd.read_csv('Speed Dating Data.csv', encoding='latin1')"
      ],
      "execution_count": null,
      "outputs": []
    },
    {
      "cell_type": "code",
      "metadata": {
        "id": "NdAHbiSBkjkN",
        "colab": {
          "base_uri": "https://localhost:8080/"
        },
        "outputId": "e405cd96-6a95-4803-c060-1b131f3c5f27"
      },
      "source": [
        "df.shape"
      ],
      "execution_count": null,
      "outputs": [
        {
          "output_type": "execute_result",
          "data": {
            "text/plain": [
              "(8378, 195)"
            ]
          },
          "metadata": {
            "tags": []
          },
          "execution_count": 8
        }
      ]
    },
    {
      "cell_type": "code",
      "metadata": {
        "id": "X0UGd4_9Jg_l"
      },
      "source": [
        "df = df.iloc[:, :97]\n",
        "\n",
        "df = df.drop(['id'], axis = 1)\n",
        "df = df.drop(['from'], axis = 1)\n",
        "df = df.drop(['idg'], axis = 1)\n",
        "df = df.drop(['condtn'], axis = 1)\n",
        "df = df.drop(['round'], axis = 1)\n",
        "df = df.drop(['wave'], axis = 1)\n",
        "df = df.drop(['position', 'positin1'], axis = 1)\n",
        "df = df.drop(['order'], axis = 1)\n",
        "df = df.drop(['partner'], axis = 1)\n",
        "df = df.drop(['age_o', 'race_o', 'pf_o_att', \n",
        "              'pf_o_sin', 'pf_o_int',\n",
        "              'pf_o_fun', 'pf_o_amb', 'pf_o_sha',\n",
        "              'dec_o', 'attr_o', 'sinc_o', 'intel_o', 'fun_o',\n",
        "              'amb_o', 'shar_o', 'like_o', 'prob_o','met_o'], axis = 1)\n",
        "\n",
        "df = df.dropna(subset = ['age', 'imprelig', 'imprace'])\n",
        "df = df.drop(['field'], axis = 1)\n",
        "df = df.drop(['undergra'], axis = 1)\n",
        "\n",
        "df.loc[:, 'field_cd'] = df.loc[:, 'field_cd'].fillna(19)\n",
        "df.loc[:, 'mn_sat'] = df.loc[:, 'mn_sat'].str.replace(',', '').astype(np.float)\n",
        "df.loc[:, 'tuition'] = df.loc[:, 'tuition'].str.replace(',', '').astype(np.float)\n",
        "df.loc[:, 'zipcode'] = df.loc[:, 'zipcode'].str.replace(',', '').astype(np.float) # df = df.drop(['zipcode'], axis=1)\n",
        "df.loc[:, 'income'] = df.loc[:, 'income'].str.replace(',', '').astype(np.float)\n",
        "\n",
        "df['mn_sat'] = df['mn_sat'].fillna(0.0)\n",
        "df['tuition'] = df['tuition'].fillna(0.0)\n",
        "df['income'] = df['income'].fillna(0.0)\n",
        "df['career_c'] = df['career_c'].fillna(0.0)\n",
        "\n",
        "df = df.dropna(subset=['date'])\n",
        "df = df.drop(['career'], axis = 1)\n",
        "df = df.drop(['sports','tvsports','exercise','dining',\n",
        "              'museums','art','hiking','gaming',\n",
        "              'clubbing','reading','tv','theater','movies',\n",
        "              'concerts','music','shopping','yoga'], axis = 1)\n",
        "df = df.drop(['expnum'], axis = 1)\n",
        "\n",
        "df.loc[:, 'temp_totalsum'] = df.loc[:, ['attr1_1', 'sinc1_1', \n",
        "                                        'intel1_1', 'fun1_1', \n",
        "                                        'amb1_1', 'shar1_1']].sum(axis = 1)\n",
        "df.loc[:, ['attr1_1', 'sinc1_1', 'intel1_1', 'fun1_1', 'amb1_1', 'shar1_1']] = \\\n",
        "(df.loc[:, ['attr1_1', 'sinc1_1', 'intel1_1', 'fun1_1', \n",
        "            'amb1_1', 'shar1_1']].T/df.loc[:, 'temp_totalsum'].T).T * 100\n",
        "df.loc[:, 'temp_totalsum'] = df.loc[:, ['attr2_1', 'sinc2_1',\n",
        "                                        'intel2_1', 'fun2_1',\n",
        "                                        'amb2_1', 'shar2_1']].sum(axis=1)\n",
        "df.loc[:, ['attr2_1', 'sinc2_1', 'intel2_1', 'fun2_1', 'amb2_1', 'shar2_1']] = \\\n",
        "(df.loc[:, ['attr2_1', 'sinc2_1', 'intel2_1', 'fun2_1',\n",
        "            'amb2_1', 'shar2_1']].T/df.loc[:, 'temp_totalsum'].T).T * 100\n",
        "df = df.drop(['temp_totalsum'], axis = 1)\n",
        "\n",
        "df = df.dropna()\n",
        "for i in [4, 5]:\n",
        "    feat = ['attr{}_1'.format(i), 'sinc{}_1'.format(i), \n",
        "            'intel{}_1'.format(i), 'fun{}_1'.format(i), \n",
        "            'amb{}_1'.format(i), 'shar{}_1'.format(i)]\n",
        "    \n",
        "    if i != 4:\n",
        "        feat.remove('shar{}_1'.format(i))\n",
        "    \n",
        "    df = df.drop(feat, axis=1)\n",
        "\n",
        "df_male = df.query('gender == 1').drop_duplicates(subset = ['iid', 'pid'])\\\n",
        "                                 .drop(['gender'], axis = 1)\\\n",
        "                                 .dropna()\n",
        "df_female = df.query('gender == 0').drop_duplicates(subset = ['iid'])\\\n",
        "                                   .drop(['gender', 'match', 'int_corr', 'samerace'], axis = 1)\\\n",
        "                                   .dropna()\n",
        "        \n",
        "df_female.columns = df_female.columns + '_f'\n",
        "df = df_male.join(df_female)\n",
        "df = df.fillna(value = 0)\n",
        "\n",
        "X = np.array(df.drop(['match'], axis = 1))\n",
        "y = np.array(df['match'])"
      ],
      "execution_count": null,
      "outputs": []
    },
    {
      "cell_type": "markdown",
      "metadata": {
        "id": "rM291rWekjkN"
      },
      "source": [
        "Разбейте датасет на трейн и валидацию. Подберите на валидации оптимальный критерий  информативности. \n",
        "Постройте графики зависимости точности на валидации от глубины дерева, от минимального числа объектов для сплита. \n",
        "Какой максимальной точности удалось достигнуть?"
      ]
    },
    {
      "cell_type": "code",
      "metadata": {
        "id": "a38SNaBpTJja"
      },
      "source": [
        "from itertools import product"
      ],
      "execution_count": null,
      "outputs": []
    },
    {
      "cell_type": "code",
      "metadata": {
        "id": "bQJ9JTjEViRo"
      },
      "source": [
        "cv = KFold(n_splits = 3, shuffle = True)"
      ],
      "execution_count": null,
      "outputs": []
    },
    {
      "cell_type": "code",
      "metadata": {
        "colab": {
          "base_uri": "https://localhost:8080/",
          "height": 1000,
          "referenced_widgets": [
            "aacad7de139e4856993329b8d7ebe903",
            "d6376720190e462c985003ddff005b12",
            "0f1d534348a741d4a44e41cc27d20682",
            "7f8f30ca12fe4dbe95fe401a08696d44",
            "69b5a19c788c4b0a8a7b9cb4c9c45ec7",
            "ca0818cb2b2b474aabb96bb89d87eedd",
            "18cf9ac685034510b72a204e9536521f",
            "1a426cc10e3148d0a8ab294657a4001c"
          ]
        },
        "id": "KeF0mUzEPRWj",
        "outputId": "c6fc0e22-a5cc-4625-bdba-ad952fc130e5"
      },
      "source": [
        "parametrs = {\n",
        "    'min_samples_split': np.linspace(2, 20, 5, dtype=int),\n",
        "    'max_depth': np.linspace(2, 20, 5, dtype=int),\n",
        "    'criterion': ['gini', 'entropy', 'misclass'],\n",
        "}\n",
        "\n",
        "best_score = 0\n",
        "best_params = None\n",
        "\n",
        "scores = {}\n",
        "\n",
        "for min_samples_split, max_depth, criterion in tqdm(list(product(*parametrs.values()))):\n",
        "    if criterion not in scores:\n",
        "        scores[criterion] = {}\n",
        "    if max_depth not in scores[criterion]:\n",
        "        scores[criterion][max_depth] = []\n",
        "    \n",
        "    clf = MyDecisionTreeClassifier(min_samples_split=min_samples_split, max_depth=max_depth, criterion=criterion)\n",
        "\n",
        "    idx = cv.split(X)\n",
        "    cv_scores = []\n",
        "    for train_idx, test_idx in idx:\n",
        "        clf.fit(X[train_idx], y[train_idx])\n",
        "        cv_scores.append(accuracy_score(y[test_idx], clf.predict(X[test_idx])))\n",
        "    \n",
        "    score = np.mean(cv_scores)\n",
        "\n",
        "    if score > best_score:\n",
        "        best_params = (min_samples_split, max_depth, criterion)\n",
        "        best_score = score\n",
        "            \n",
        "    scores[criterion][max_depth].append(score)\n",
        "            \n",
        "print(f\"Best score is {score}, params\\n{best_params}\")\n",
        "\n",
        "for criterion in parametrs['criterion']:\n",
        "    for max_depth in parametrs['max_depth']:\n",
        "        plt.plot(parametrs['min_samples_split'], scores[criterion][max_depth], label=f'max_depth = {max_depth}')\n",
        "    \n",
        "    plt.xlabel('min_samples_split')\n",
        "    plt.ylabel('Accuracy')\n",
        "    plt.title(criterion)\n",
        "    plt.legend()\n",
        "    plt.show()"
      ],
      "execution_count": null,
      "outputs": [
        {
          "output_type": "display_data",
          "data": {
            "application/vnd.jupyter.widget-view+json": {
              "model_id": "aacad7de139e4856993329b8d7ebe903",
              "version_minor": 0,
              "version_major": 2
            },
            "text/plain": [
              "HBox(children=(FloatProgress(value=0.0, max=75.0), HTML(value='')))"
            ]
          },
          "metadata": {
            "tags": []
          }
        },
        {
          "output_type": "stream",
          "text": [
            "\n",
            "Best score is 0.8490929720714687, params\n",
            "(20, 11, 'misclass')\n"
          ],
          "name": "stdout"
        },
        {
          "output_type": "display_data",
          "data": {
            "image/png": "[encoded data removed]",
            "text/plain": [
              "<Figure size 864x576 with 1 Axes>"
            ]
          },
          "metadata": {
            "tags": []
          }
        },
        {
          "output_type": "display_data",
          "data": {
            "image/png": "[encoded data removed]",
            "text/plain": [
              "<Figure size 864x576 with 1 Axes>"
            ]
          },
          "metadata": {
            "tags": []
          }
        },
        {
          "output_type": "display_data",
          "data": {
            "image/png": "[encoded data removed]",
            "text/plain": [
              "<Figure size 864x576 with 1 Axes>"
            ]
          },
          "metadata": {
            "tags": []
          }
        }
      ]
    },
    {
      "cell_type": "markdown",
      "metadata": {
        "id": "GPmxHtwhkjkN"
      },
      "source": [
        "## Находим самые важные признаки (2 балла)\n",
        "\n"
      ]
    },
    {
      "cell_type": "markdown",
      "metadata": {
        "id": "-nqoH1TPkjkN"
      },
      "source": [
        "По построенному дереву  легко понять, какие признаки лучше всего помогли решить задачу. Часто это бывает нужно  не только  для сокращения размерности в данных, но и для лучшего понимания прикладной задачи. Например, Вы хотите понять, какие признаки стоит еще конструировать -- для этого нужно понимать, какие из текущих лучше всего работают в дереве. "
      ]
    },
    {
      "cell_type": "markdown",
      "metadata": {
        "id": "wQ_rPIeWkjkN"
      },
      "source": [
        "Самый простой метод -- посчитать число сплитов, где использовался данные признак. Это не лучший вариант, так как по признаку который принимает всего 2 значения, но который почти точно разделяет выборку, число сплитов будет очень 1, но при этом признак сам очень хороший. \n",
        "В этом задании предлагается для каждого признака считать суммарный gain (в лекции обозначено как Q) при использовании этого признака в сплите. Тогда даже у очень хороших признаков с маленьким число сплитов это значение должно быть довольно высоким.  "
      ]
    },
    {
      "cell_type": "markdown",
      "metadata": {
        "id": "hkhaMV5mkjkN"
      },
      "source": [
        "Реализовать это довольно просто: создаете словарь номер фичи : суммарный гейн и добавляете в нужную фичу каждый раз, когда используете ее при построении дерева. "
      ]
    },
    {
      "cell_type": "markdown",
      "metadata": {
        "id": "k60AS8yDkjkO"
      },
      "source": [
        "Добавьте функционал, который определяет значения feature importance. Обучите дерево на датасете Speed Dating Data.\n",
        "Выведите 10 главных фичей по важности."
      ]
    },
    {
      "cell_type": "code",
      "metadata": {
        "id": "vYV5BRkakjkO",
        "colab": {
          "base_uri": "https://localhost:8080/"
        },
        "outputId": "fed9d977-fc62-4955-af07-4afa4b50270c"
      },
      "source": [
        "clf = MyDecisionTreeClassifier(min_samples_split=best_params[0], max_depth=best_params[1])\n",
        "print(clf.fit(X, y))\n",
        "feature_importance = clf.get_feature_importance()\n",
        "\n",
        "indices = np.argsort(feature_importance)[::-1]\n",
        "feature_importance[indices]"
      ],
      "execution_count": null,
      "outputs": [
        {
          "output_type": "stream",
          "text": [
            "MyDecisionTreeClassifier(min_samples_split=20, max_depth=11, criterion=gini, max_features=None, random_state=None)\n"
          ],
          "name": "stdout"
        },
        {
          "output_type": "execute_result",
          "data": {
            "text/plain": [
              "array([1.51446819e-01, 8.51052686e-02, 5.33229506e-02, 5.03293344e-02,\n",
              "       3.96974952e-02, 3.04687402e-02, 2.44207703e-02, 1.77977286e-02,\n",
              "       1.17028862e-02, 1.08127797e-02, 9.63099167e-03, 7.49720925e-03,\n",
              "       6.06822737e-03, 5.19996992e-03, 4.93882463e-03, 4.30438941e-03,\n",
              "       2.10558705e-03, 1.92286635e-03, 1.49310328e-03, 1.03031232e-03,\n",
              "       7.17231486e-05, 0.00000000e+00, 0.00000000e+00, 0.00000000e+00,\n",
              "       0.00000000e+00, 0.00000000e+00, 0.00000000e+00, 0.00000000e+00,\n",
              "       0.00000000e+00, 0.00000000e+00, 0.00000000e+00, 0.00000000e+00,\n",
              "       0.00000000e+00, 0.00000000e+00, 0.00000000e+00, 0.00000000e+00,\n",
              "       0.00000000e+00, 0.00000000e+00, 0.00000000e+00, 0.00000000e+00,\n",
              "       0.00000000e+00, 0.00000000e+00, 0.00000000e+00, 0.00000000e+00,\n",
              "       0.00000000e+00, 0.00000000e+00, 0.00000000e+00, 0.00000000e+00,\n",
              "       0.00000000e+00, 0.00000000e+00, 0.00000000e+00, 0.00000000e+00,\n",
              "       0.00000000e+00, 0.00000000e+00, 0.00000000e+00, 0.00000000e+00,\n",
              "       0.00000000e+00, 0.00000000e+00, 0.00000000e+00, 0.00000000e+00,\n",
              "       0.00000000e+00, 0.00000000e+00, 0.00000000e+00, 0.00000000e+00,\n",
              "       0.00000000e+00, 0.00000000e+00, 0.00000000e+00, 0.00000000e+00])"
            ]
          },
          "metadata": {
            "tags": []
          },
          "execution_count": 40
        }
      ]
    },
    {
      "cell_type": "code",
      "metadata": {
        "colab": {
          "base_uri": "https://localhost:8080/"
        },
        "id": "AMn8BpRjXb1E",
        "outputId": "e8ae867c-2e02-4151-f485-269bda5ec03a"
      },
      "source": [
        "features = df.drop(['match'], axis = 1).columns.values\n",
        "print(*features[indices[:10]], sep='\\n')"
      ],
      "execution_count": null,
      "outputs": [
        {
          "output_type": "stream",
          "text": [
            "int_corr\n",
            "pid\n",
            "samerace\n",
            "amb1_1\n",
            "iid\n",
            "amb2_1\n",
            "goal\n",
            "fun3_1\n",
            "attr3_1\n",
            "attr2_1\n"
          ],
          "name": "stdout"
        }
      ]
    },
    {
      "cell_type": "markdown",
      "metadata": {
        "id": "Hg8aB7KjkjkO"
      },
      "source": [
        "## Фидбек (бесценно)"
      ]
    },
    {
      "cell_type": "markdown",
      "metadata": {
        "id": "KRLfB9_ZkjkO"
      },
      "source": [
        "* Какие аспекты обучения деревьев решений Вам показались непонятными? Какое место стоит дополнительно объяснить?"
      ]
    },
    {
      "cell_type": "markdown",
      "metadata": {
        "id": "CI7n5AfmkjkO"
      },
      "source": [
        "### Ваш ответ здесь"
      ]
    },
    {
      "cell_type": "markdown",
      "metadata": {
        "id": "RrJHXY1wkjkO"
      },
      "source": [
        "* Здесь Вы можете оставить отзыв о этой домашней работе или о всем курсе.\n",
        "\n",
        "\n",
        "Дольше всего я разбирался с тем, как считать функцию потерь, по которой мы считаем признак, по которому брать разделение (и как это потом ускорять)."
      ]
    },
    {
      "cell_type": "markdown",
      "metadata": {
        "id": "Ibt-bDt6kjkO"
      },
      "source": [
        "### ВАШ ОТЗЫВ ЗДЕСЬ\n",
        "\n"
      ]
    },
    {
      "cell_type": "code",
      "metadata": {
        "id": "Ch47Q7rHkjkO"
      },
      "source": [
        ""
      ],
      "execution_count": null,
      "outputs": []
    },
    {
      "cell_type": "code",
      "metadata": {
        "id": "njwmoRcekjkO"
      },
      "source": [
        ""
      ],
      "execution_count": null,
      "outputs": []
    }
  ]
}